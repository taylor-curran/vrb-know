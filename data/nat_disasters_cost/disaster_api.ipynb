{
 "cells": [
  {
   "cell_type": "code",
   "execution_count": 10,
   "id": "dutch-arctic",
   "metadata": {},
   "outputs": [],
   "source": [
    "import requests\n",
    "import pandas as pd"
   ]
  },
  {
   "cell_type": "code",
   "execution_count": 36,
   "id": "through-refrigerator",
   "metadata": {},
   "outputs": [],
   "source": [
    "# OK so, API is not up to date\n",
    "# Only has data from 1953-1967 roughly"
   ]
  },
  {
   "cell_type": "code",
   "execution_count": 5,
   "id": "possible-turkish",
   "metadata": {},
   "outputs": [],
   "source": [
    "# Data Source\n",
    "# https://www.fema.gov/openfema-data-page/disaster-declarations-summaries-v2"
   ]
  },
  {
   "cell_type": "code",
   "execution_count": 6,
   "id": "behind-vietnam",
   "metadata": {},
   "outputs": [],
   "source": [
    "url_base = 'https://www.fema.gov/api/open/v2/DisasterDeclarationsSummaries'"
   ]
  },
  {
   "cell_type": "code",
   "execution_count": 7,
   "id": "fundamental-manor",
   "metadata": {},
   "outputs": [],
   "source": [
    "response = requests.request(method='get', url=url_base)"
   ]
  },
  {
   "cell_type": "code",
   "execution_count": 20,
   "id": "progressive-retrieval",
   "metadata": {},
   "outputs": [],
   "source": [
    "dis_reported = pd.DataFrame(response.json()['DisasterDeclarationsSummaries'])"
   ]
  },
  {
   "cell_type": "code",
   "execution_count": 21,
   "id": "fundamental-treasure",
   "metadata": {},
   "outputs": [
    {
     "name": "stdout",
     "output_type": "stream",
     "text": [
      "(1000, 23)\n"
     ]
    },
    {
     "data": {
      "text/html": [
       "<div>\n",
       "<style scoped>\n",
       "    .dataframe tbody tr th:only-of-type {\n",
       "        vertical-align: middle;\n",
       "    }\n",
       "\n",
       "    .dataframe tbody tr th {\n",
       "        vertical-align: top;\n",
       "    }\n",
       "\n",
       "    .dataframe thead th {\n",
       "        text-align: right;\n",
       "    }\n",
       "</style>\n",
       "<table border=\"1\" class=\"dataframe\">\n",
       "  <thead>\n",
       "    <tr style=\"text-align: right;\">\n",
       "      <th></th>\n",
       "      <th>femaDeclarationString</th>\n",
       "      <th>disasterNumber</th>\n",
       "      <th>state</th>\n",
       "      <th>declarationType</th>\n",
       "      <th>declarationDate</th>\n",
       "      <th>fyDeclared</th>\n",
       "      <th>incidentType</th>\n",
       "      <th>declarationTitle</th>\n",
       "      <th>ihProgramDeclared</th>\n",
       "      <th>iaProgramDeclared</th>\n",
       "      <th>...</th>\n",
       "      <th>incidentEndDate</th>\n",
       "      <th>disasterCloseoutDate</th>\n",
       "      <th>fipsStateCode</th>\n",
       "      <th>fipsCountyCode</th>\n",
       "      <th>placeCode</th>\n",
       "      <th>designatedArea</th>\n",
       "      <th>declarationRequestNumber</th>\n",
       "      <th>hash</th>\n",
       "      <th>lastRefresh</th>\n",
       "      <th>id</th>\n",
       "    </tr>\n",
       "  </thead>\n",
       "  <tbody>\n",
       "    <tr>\n",
       "      <th>0</th>\n",
       "      <td>DR-1-GA</td>\n",
       "      <td>1</td>\n",
       "      <td>GA</td>\n",
       "      <td>DR</td>\n",
       "      <td>1953-05-02T00:00:00.000Z</td>\n",
       "      <td>1953</td>\n",
       "      <td>Tornado</td>\n",
       "      <td>TORNADO</td>\n",
       "      <td>False</td>\n",
       "      <td>True</td>\n",
       "      <td>...</td>\n",
       "      <td>1953-05-02T00:00:00.000Z</td>\n",
       "      <td>1954-06-01T00:00:00.000Z</td>\n",
       "      <td>13</td>\n",
       "      <td>000</td>\n",
       "      <td>0</td>\n",
       "      <td>Statewide</td>\n",
       "      <td>53013</td>\n",
       "      <td>bbe78045bc2c18eabea13bd70bdd3fc8</td>\n",
       "      <td>2021-02-05T19:01:21.734Z</td>\n",
       "      <td>5f7b2be031a8c6681cfb4342</td>\n",
       "    </tr>\n",
       "    <tr>\n",
       "      <th>1</th>\n",
       "      <td>DR-2-TX</td>\n",
       "      <td>2</td>\n",
       "      <td>TX</td>\n",
       "      <td>DR</td>\n",
       "      <td>1953-05-15T00:00:00.000Z</td>\n",
       "      <td>1953</td>\n",
       "      <td>Tornado</td>\n",
       "      <td>TORNADO &amp; HEAVY RAINFALL</td>\n",
       "      <td>False</td>\n",
       "      <td>True</td>\n",
       "      <td>...</td>\n",
       "      <td>1953-05-15T00:00:00.000Z</td>\n",
       "      <td>1958-01-01T00:00:00.000Z</td>\n",
       "      <td>48</td>\n",
       "      <td>000</td>\n",
       "      <td>0</td>\n",
       "      <td>Statewide</td>\n",
       "      <td>53003</td>\n",
       "      <td>fa79c2a0c1dd09facb9729ead357b422</td>\n",
       "      <td>2021-02-05T19:01:21.736Z</td>\n",
       "      <td>5f7b2be031a8c6681cfb4345</td>\n",
       "    </tr>\n",
       "    <tr>\n",
       "      <th>2</th>\n",
       "      <td>DR-5-MT</td>\n",
       "      <td>5</td>\n",
       "      <td>MT</td>\n",
       "      <td>DR</td>\n",
       "      <td>1953-06-06T00:00:00.000Z</td>\n",
       "      <td>1953</td>\n",
       "      <td>Flood</td>\n",
       "      <td>FLOODS</td>\n",
       "      <td>False</td>\n",
       "      <td>True</td>\n",
       "      <td>...</td>\n",
       "      <td>1953-06-06T00:00:00.000Z</td>\n",
       "      <td>1955-12-01T00:00:00.000Z</td>\n",
       "      <td>30</td>\n",
       "      <td>000</td>\n",
       "      <td>0</td>\n",
       "      <td>Statewide</td>\n",
       "      <td>53006</td>\n",
       "      <td>f044c01fd5da9d437f5ddd208ed59126</td>\n",
       "      <td>2021-02-05T19:01:21.737Z</td>\n",
       "      <td>5f7b2be031a8c6681cfb4348</td>\n",
       "    </tr>\n",
       "    <tr>\n",
       "      <th>3</th>\n",
       "      <td>DR-7-MA</td>\n",
       "      <td>7</td>\n",
       "      <td>MA</td>\n",
       "      <td>DR</td>\n",
       "      <td>1953-06-11T00:00:00.000Z</td>\n",
       "      <td>1953</td>\n",
       "      <td>Tornado</td>\n",
       "      <td>TORNADO</td>\n",
       "      <td>False</td>\n",
       "      <td>True</td>\n",
       "      <td>...</td>\n",
       "      <td>1953-06-11T00:00:00.000Z</td>\n",
       "      <td>1956-06-01T00:00:00.000Z</td>\n",
       "      <td>25</td>\n",
       "      <td>000</td>\n",
       "      <td>0</td>\n",
       "      <td>Statewide</td>\n",
       "      <td>53009</td>\n",
       "      <td>2689d48c5b648a64a2960d740f8a0c0f</td>\n",
       "      <td>2021-02-05T19:01:21.737Z</td>\n",
       "      <td>5f7b2be031a8c6681cfb434b</td>\n",
       "    </tr>\n",
       "    <tr>\n",
       "      <th>4</th>\n",
       "      <td>DR-8-IA</td>\n",
       "      <td>8</td>\n",
       "      <td>IA</td>\n",
       "      <td>DR</td>\n",
       "      <td>1953-06-11T00:00:00.000Z</td>\n",
       "      <td>1953</td>\n",
       "      <td>Flood</td>\n",
       "      <td>FLOOD</td>\n",
       "      <td>False</td>\n",
       "      <td>True</td>\n",
       "      <td>...</td>\n",
       "      <td>1953-06-11T00:00:00.000Z</td>\n",
       "      <td>1955-11-01T00:00:00.000Z</td>\n",
       "      <td>19</td>\n",
       "      <td>000</td>\n",
       "      <td>0</td>\n",
       "      <td>Statewide</td>\n",
       "      <td>53008</td>\n",
       "      <td>0272b5fe94beed25334abef8adb43896</td>\n",
       "      <td>2021-02-05T19:01:21.737Z</td>\n",
       "      <td>5f7b2be031a8c6681cfb434e</td>\n",
       "    </tr>\n",
       "  </tbody>\n",
       "</table>\n",
       "<p>5 rows × 23 columns</p>\n",
       "</div>"
      ],
      "text/plain": [
       "  femaDeclarationString  disasterNumber state declarationType  \\\n",
       "0               DR-1-GA               1    GA              DR   \n",
       "1               DR-2-TX               2    TX              DR   \n",
       "2               DR-5-MT               5    MT              DR   \n",
       "3               DR-7-MA               7    MA              DR   \n",
       "4               DR-8-IA               8    IA              DR   \n",
       "\n",
       "            declarationDate  fyDeclared incidentType  \\\n",
       "0  1953-05-02T00:00:00.000Z        1953      Tornado   \n",
       "1  1953-05-15T00:00:00.000Z        1953      Tornado   \n",
       "2  1953-06-06T00:00:00.000Z        1953        Flood   \n",
       "3  1953-06-11T00:00:00.000Z        1953      Tornado   \n",
       "4  1953-06-11T00:00:00.000Z        1953        Flood   \n",
       "\n",
       "           declarationTitle  ihProgramDeclared  iaProgramDeclared  ...  \\\n",
       "0                   TORNADO              False               True  ...   \n",
       "1  TORNADO & HEAVY RAINFALL              False               True  ...   \n",
       "2                    FLOODS              False               True  ...   \n",
       "3                   TORNADO              False               True  ...   \n",
       "4                     FLOOD              False               True  ...   \n",
       "\n",
       "            incidentEndDate      disasterCloseoutDate fipsStateCode  \\\n",
       "0  1953-05-02T00:00:00.000Z  1954-06-01T00:00:00.000Z            13   \n",
       "1  1953-05-15T00:00:00.000Z  1958-01-01T00:00:00.000Z            48   \n",
       "2  1953-06-06T00:00:00.000Z  1955-12-01T00:00:00.000Z            30   \n",
       "3  1953-06-11T00:00:00.000Z  1956-06-01T00:00:00.000Z            25   \n",
       "4  1953-06-11T00:00:00.000Z  1955-11-01T00:00:00.000Z            19   \n",
       "\n",
       "  fipsCountyCode placeCode designatedArea declarationRequestNumber  \\\n",
       "0            000         0      Statewide                    53013   \n",
       "1            000         0      Statewide                    53003   \n",
       "2            000         0      Statewide                    53006   \n",
       "3            000         0      Statewide                    53009   \n",
       "4            000         0      Statewide                    53008   \n",
       "\n",
       "                               hash               lastRefresh  \\\n",
       "0  bbe78045bc2c18eabea13bd70bdd3fc8  2021-02-05T19:01:21.734Z   \n",
       "1  fa79c2a0c1dd09facb9729ead357b422  2021-02-05T19:01:21.736Z   \n",
       "2  f044c01fd5da9d437f5ddd208ed59126  2021-02-05T19:01:21.737Z   \n",
       "3  2689d48c5b648a64a2960d740f8a0c0f  2021-02-05T19:01:21.737Z   \n",
       "4  0272b5fe94beed25334abef8adb43896  2021-02-05T19:01:21.737Z   \n",
       "\n",
       "                         id  \n",
       "0  5f7b2be031a8c6681cfb4342  \n",
       "1  5f7b2be031a8c6681cfb4345  \n",
       "2  5f7b2be031a8c6681cfb4348  \n",
       "3  5f7b2be031a8c6681cfb434b  \n",
       "4  5f7b2be031a8c6681cfb434e  \n",
       "\n",
       "[5 rows x 23 columns]"
      ]
     },
     "execution_count": 21,
     "metadata": {},
     "output_type": "execute_result"
    }
   ],
   "source": [
    "print(dis_reported.shape)\n",
    "dis_reported.head()"
   ]
  },
  {
   "cell_type": "code",
   "execution_count": 22,
   "id": "underlying-duration",
   "metadata": {},
   "outputs": [
    {
     "name": "stdout",
     "output_type": "stream",
     "text": [
      "<class 'pandas.core.frame.DataFrame'>\n",
      "RangeIndex: 1000 entries, 0 to 999\n",
      "Data columns (total 23 columns):\n",
      " #   Column                    Non-Null Count  Dtype \n",
      "---  ------                    --------------  ----- \n",
      " 0   femaDeclarationString     1000 non-null   object\n",
      " 1   disasterNumber            1000 non-null   int64 \n",
      " 2   state                     1000 non-null   object\n",
      " 3   declarationType           1000 non-null   object\n",
      " 4   declarationDate           1000 non-null   object\n",
      " 5   fyDeclared                1000 non-null   int64 \n",
      " 6   incidentType              1000 non-null   object\n",
      " 7   declarationTitle          1000 non-null   object\n",
      " 8   ihProgramDeclared         1000 non-null   bool  \n",
      " 9   iaProgramDeclared         1000 non-null   bool  \n",
      " 10  paProgramDeclared         1000 non-null   bool  \n",
      " 11  hmProgramDeclared         1000 non-null   bool  \n",
      " 12  incidentBeginDate         1000 non-null   object\n",
      " 13  incidentEndDate           1000 non-null   object\n",
      " 14  disasterCloseoutDate      1000 non-null   object\n",
      " 15  fipsStateCode             1000 non-null   object\n",
      " 16  fipsCountyCode            1000 non-null   object\n",
      " 17  placeCode                 1000 non-null   object\n",
      " 18  designatedArea            1000 non-null   object\n",
      " 19  declarationRequestNumber  1000 non-null   object\n",
      " 20  hash                      1000 non-null   object\n",
      " 21  lastRefresh               1000 non-null   object\n",
      " 22  id                        1000 non-null   object\n",
      "dtypes: bool(4), int64(2), object(17)\n",
      "memory usage: 152.5+ KB\n"
     ]
    }
   ],
   "source": [
    "dis_reported.info()"
   ]
  },
  {
   "cell_type": "code",
   "execution_count": 28,
   "id": "gentle-portland",
   "metadata": {},
   "outputs": [
    {
     "data": {
      "text/plain": [
       "Series([], Name: incidentEndDate, dtype: object)"
      ]
     },
     "execution_count": 28,
     "metadata": {},
     "output_type": "execute_result"
    }
   ],
   "source": [
    "# Very Out of Date\n",
    "# No Data from 2000s or Later\n",
    "dis_reported['incidentEndDate'][dis_reported['incidentEndDate'].str.startswith('20')]"
   ]
  },
  {
   "cell_type": "code",
   "execution_count": 33,
   "id": "opened-hybrid",
   "metadata": {},
   "outputs": [
    {
     "data": {
      "text/plain": [
       "1965    429\n",
       "1967    155\n",
       "1964    136\n",
       "1966    120\n",
       "1962     22\n",
       "Name: year, dtype: int64"
      ]
     },
     "execution_count": 33,
     "metadata": {},
     "output_type": "execute_result"
    }
   ],
   "source": [
    "dis_reported['year'] = [int(date_str[:4]) for date_str in dis_reported['incidentEndDate']]\n",
    "dis_reported['year'].value_counts().nlargest(5)"
   ]
  },
  {
   "cell_type": "code",
   "execution_count": 35,
   "id": "southwest-schedule",
   "metadata": {},
   "outputs": [
    {
     "data": {
      "text/plain": [
       "897    1967\n",
       "898    1967\n",
       "899    1967\n",
       "891    1967\n",
       "999    1967\n",
       "Name: year, dtype: int64"
      ]
     },
     "execution_count": 35,
     "metadata": {},
     "output_type": "execute_result"
    }
   ],
   "source": [
    "dis_reported['year'].sort_values().tail()"
   ]
  },
  {
   "cell_type": "code",
   "execution_count": 24,
   "id": "designing-ballot",
   "metadata": {},
   "outputs": [
    {
     "data": {
      "text/plain": [
       "000    181\n",
       "005     19\n",
       "063     17\n",
       "067     16\n",
       "017     15\n",
       "Name: fipsCountyCode, dtype: int64"
      ]
     },
     "execution_count": 24,
     "metadata": {},
     "output_type": "execute_result"
    }
   ],
   "source": [
    "dis_reported['fipsCountyCode'].value_counts().nlargest(5)"
   ]
  },
  {
   "cell_type": "code",
   "execution_count": null,
   "id": "seasonal-chambers",
   "metadata": {},
   "outputs": [],
   "source": []
  }
 ],
 "metadata": {
  "kernelspec": {
   "display_name": "vrb-know",
   "language": "python",
   "name": "vrb-know"
  },
  "language_info": {
   "codemirror_mode": {
    "name": "ipython",
    "version": 3
   },
   "file_extension": ".py",
   "mimetype": "text/x-python",
   "name": "python",
   "nbconvert_exporter": "python",
   "pygments_lexer": "ipython3",
   "version": "3.8.1"
  }
 },
 "nbformat": 4,
 "nbformat_minor": 5
}
