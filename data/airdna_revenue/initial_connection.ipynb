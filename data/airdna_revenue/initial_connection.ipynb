{
 "cells": [
  {
   "cell_type": "code",
   "execution_count": 3,
   "metadata": {},
   "outputs": [],
   "source": [
    "import os\n",
    "from dotenv import load_dotenv\n",
    "import requests\n",
    "import json\n",
    "import pandas as pd"
   ]
  },
  {
   "cell_type": "code",
   "execution_count": 4,
   "metadata": {},
   "outputs": [],
   "source": [
    "# Accompanying Notion Doc:\n",
    "# https://www.notion.so/AirDNA-API-c4d49bd11c6642adba6cf23470425e66"
   ]
  },
  {
   "cell_type": "code",
   "execution_count": 5,
   "metadata": {},
   "outputs": [],
   "source": [
    "# Load API Key\n",
    "load_dotenv()\n",
    "AIRDNA_TOKEN = os.getenv(\"AIRDNA_TOKEN\")"
   ]
  },
  {
   "cell_type": "code",
   "execution_count": 6,
   "metadata": {},
   "outputs": [],
   "source": [
    "# Same for All API Calls\n",
    "HEADERS = {\"access_token\": AIRDNA_TOKEN}\n",
    "HOST = \"https://api.airdna.co/client/v1/\""
   ]
  },
  {
   "cell_type": "markdown",
   "metadata": {},
   "source": [
    "# Market Data"
   ]
  },
  {
   "cell_type": "markdown",
   "metadata": {},
   "source": [
    "## /MarketSearch"
   ]
  },
  {
   "cell_type": "code",
   "execution_count": 7,
   "metadata": {},
   "outputs": [],
   "source": [
    "# MARKET SEARCH\n",
    "# {{HOST}}/client/{{VERSION_CLIENT}}/market/search?\n",
    "# access_token={{CLIENT_TOKEN}}&term='https://www.airbnb.com/rooms/15807599'\n",
    "# Country\n",
    "# City\n",
    "# Neighbourhood\n",
    "# State (US Only)\n",
    "# Metropolitan Statistical Area (US Only)\n",
    "# Zip Code (US Only)"
   ]
  },
  {
   "cell_type": "code",
   "execution_count": 8,
   "metadata": {},
   "outputs": [],
   "source": [
    "# Test Connection HERE <- Search Calls are Free\n",
    "# API CALL - Market Search - Find Gatlinburg Market ID\n",
    "endpoint = \"market/search\"\n",
    "url = HOST + endpoint\n",
    "\n",
    "params = {\n",
    "    \"access_token\": AIRDNA_TOKEN,\n",
    "    \"term\": \"gatlinburg\"\n",
    "}\n",
    "\n",
    "\n",
    "response = requests.request(\"GET\", url,  \n",
    "                            params=params)"
   ]
  },
  {
   "cell_type": "code",
   "execution_count": 9,
   "metadata": {},
   "outputs": [],
   "source": [
    "# Get Market ID\n",
    "gatlinburg_id = response.json()['items'][0]['city']['id']\n",
    "\n",
    "# Other information Available from This Response:\n",
    "# - name, country, region, state, type, zipcode"
   ]
  },
  {
   "cell_type": "code",
   "execution_count": 10,
   "metadata": {},
   "outputs": [
    {
     "data": {
      "text/plain": [
       "79116"
      ]
     },
     "execution_count": 10,
     "metadata": {},
     "output_type": "execute_result"
    }
   ],
   "source": [
    "gatlinburg_id"
   ]
  },
  {
   "cell_type": "code",
   "execution_count": 11,
   "metadata": {},
   "outputs": [],
   "source": [
    "# Turn this Into Function\n",
    "\n",
    "# Market Search\n",
    "\n",
    "def get_city_id(city_name: str) -> str:\n",
    "    \n",
    "    endpoint = \"market/search\"\n",
    "    url = HOST + endpoint\n",
    "\n",
    "    params = {\n",
    "        \"access_token\": AIRDNA_TOKEN,\n",
    "        \"term\": str(city_name)\n",
    "    }\n",
    "\n",
    "\n",
    "    response = requests.request(\"GET\", url,  \n",
    "                                params=params)\n",
    "\n",
    "    # city_id\n",
    "    city_id = response.json()['items'][0]['city']['id']\n",
    "    \n",
    "    return city_id"
   ]
  },
  {
   "cell_type": "code",
   "execution_count": 12,
   "metadata": {},
   "outputs": [
    {
     "data": {
      "text/plain": [
       "79116"
      ]
     },
     "execution_count": 12,
     "metadata": {},
     "output_type": "execute_result"
    }
   ],
   "source": [
    "city_id = get_city_id(\"gatlinburg\")\n",
    "city_id"
   ]
  },
  {
   "cell_type": "markdown",
   "metadata": {},
   "source": [
    "## /MarketSummary"
   ]
  },
  {
   "cell_type": "code",
   "execution_count": 65,
   "metadata": {},
   "outputs": [],
   "source": [
    "# MARKET SUMMARY\n",
    "# {{HOST}}/client/{{VERSION}}/market/summary?\n",
    "# access_token={{CLIENT_TOKEN}}&city_id=59380&region_id=12341&currency=usd\n",
    "\n",
    "# PARAMS\n",
    "# city_id\n",
    "# region_id\n",
    "# currency"
   ]
  },
  {
   "cell_type": "code",
   "execution_count": 66,
   "metadata": {},
   "outputs": [],
   "source": [
    "# ---- API CALL ----\n",
    "# API CALL - Market Summary - Get Info on Gatlinburg\n",
    "endpoint = \"market/summary\"\n",
    "url = HOST + endpoint\n",
    "\n",
    "params = {\n",
    "    \"access_token\": AIRDNA_TOKEN,\n",
    "    \"city_id\": gatlinburg_id\n",
    "}\n",
    "\n",
    "\n",
    "response = requests.request(\"GET\", url,  \n",
    "                            params=params)\n",
    "# ---- API CALL ----"
   ]
  },
  {
   "cell_type": "code",
   "execution_count": 67,
   "metadata": {},
   "outputs": [],
   "source": [
    "# Jasonify Results\n",
    "json = response.json()"
   ]
  },
  {
   "cell_type": "markdown",
   "metadata": {},
   "source": [
    "### Parcing Through Available Data at /MarketSummary Enpoint"
   ]
  },
  {
   "cell_type": "code",
   "execution_count": 68,
   "metadata": {},
   "outputs": [],
   "source": [
    "# Data Frame Dictionary\n",
    "dfd = {}"
   ]
  },
  {
   "cell_type": "code",
   "execution_count": 69,
   "metadata": {},
   "outputs": [
    {
     "data": {
      "text/plain": [
       "79116"
      ]
     },
     "execution_count": 69,
     "metadata": {},
     "output_type": "execute_result"
    }
   ],
   "source": [
    "# Market - Summary - Request_Info\n",
    "# COLS: city_id\n",
    "city_id = json['request_info']['city_id']\n",
    "dfd.update({'city_id': city_id})\n",
    "city_id"
   ]
  },
  {
   "cell_type": "code",
   "execution_count": 70,
   "metadata": {},
   "outputs": [
    {
     "data": {
      "text/plain": [
       "{'occ': {'50th_percentile': 0.741935483870968},\n",
       " 'adr': {'50th_percentile': 262.958333333333},\n",
       " 'revenue': {'50th_percentile': 4743.5}}"
      ]
     },
     "execution_count": 70,
     "metadata": {},
     "output_type": "execute_result"
    }
   ],
   "source": [
    "# Market - Summary - Data - Calendar Months\n",
    "# adr -> Average Daily Rate\n",
    "# COLS: occ, adr, revenue\n",
    "ent_stats = json['data']['calendar_months']['room_type']['entire_place']\n",
    "ent_stats\n",
    "ent_stats_dict = {\n",
    "    'occ': ent_stats['occ']['50th_percentile'],\n",
    "    'adr': ent_stats['adr']['50th_percentile'],\n",
    "    'revenue': ent_stats['revenue']['50th_percentile']\n",
    "                 }\n",
    "dfd.update(ent_stats_dict)\n",
    "ent_stats"
   ]
  },
  {
   "cell_type": "code",
   "execution_count": 71,
   "metadata": {},
   "outputs": [
    {
     "data": {
      "text/plain": [
       "{'total_hosts': 641,\n",
       " 'superhosts': 340,\n",
       " 'multi_unit_hosts': 198,\n",
       " 'single_unit_hosts': 443}"
      ]
     },
     "execution_count": 71,
     "metadata": {},
     "output_type": "execute_result"
    }
   ],
   "source": [
    "# Market - Summary - Data - Host_Info - Hosts\n",
    "# COLS: total_hosts, superhosts, multi_unit_hosts, single_unit_hosts\n",
    "host_counts = json['data']['host_info']['hosts']\n",
    "dfd.update(host_counts)\n",
    "host_counts"
   ]
  },
  {
   "cell_type": "code",
   "execution_count": 72,
   "metadata": {},
   "outputs": [
    {
     "data": {
      "text/plain": [
       "{'multi_host_properties': 3106,\n",
       " 'total_properties': 3549,\n",
       " 'single_host_properties': 443}"
      ]
     },
     "execution_count": 72,
     "metadata": {},
     "output_type": "execute_result"
    }
   ],
   "source": [
    "# Market - Summary - Data - Host_Info - Host_Properties\n",
    "# COLS: multi_host_properties, total_properties, single_host_properties\n",
    "property_counts = json['data']['host_info']['host_properties']\n",
    "dfd.update(property_counts)\n",
    "property_counts"
   ]
  },
  {
   "cell_type": "code",
   "execution_count": 73,
   "metadata": {},
   "outputs": [
    {
     "data": {
      "text/plain": [
       "{'10-12': 2055, '1-3': 1065, '7-9': 668, '4-6': 816}"
      ]
     },
     "execution_count": 73,
     "metadata": {},
     "output_type": "execute_result"
    }
   ],
   "source": [
    "# Market - Summary - Data - Rental_Activity - Available\n",
    "# COLS:\n",
    "# TODO: ?- What is '10-12', '1-3', and such? -?\n",
    "# They are either length-of-stay or they are n-people\n",
    "available = json['data']['rental_activity']['available']\n",
    "available_dict = {\n",
    "    'available_10_12': available['10-12'],\n",
    "    'available_1_3': available['1-3'],\n",
    "    'available_7_9': available['7-9'],\n",
    "    'available_4_6': available['4-6']\n",
    "                 }\n",
    "\n",
    "dfd.update(available_dict)\n",
    "available"
   ]
  },
  {
   "cell_type": "code",
   "execution_count": 74,
   "metadata": {},
   "outputs": [
    {
     "data": {
      "text/plain": [
       "{'10-12': 435, '1-3': 1763, '7-9': 1231, '4-6': 1175}"
      ]
     },
     "execution_count": 74,
     "metadata": {},
     "output_type": "execute_result"
    }
   ],
   "source": [
    "# Market - Summary - Data - Rental_Activity - Booked\n",
    "# COLS:\n",
    "# TODO: ?- What is '10-12', '1-3', and such? -?\n",
    "# They are either length-of-stay or they are n-people\n",
    "booked = json['data']['rental_activity']['booked']\n",
    "booked_dict = {\n",
    "    'booked_10_12': booked['10-12'],\n",
    "    'booked_1_3': booked['1-3'],\n",
    "    'booked_7_9': booked['7-9'],\n",
    "    'booked_4_6': booked['4-6']\n",
    "                 }\n",
    "dfd.update(booked_dict)\n",
    "booked"
   ]
  },
  {
   "cell_type": "code",
   "execution_count": 75,
   "metadata": {},
   "outputs": [
    {
     "data": {
      "text/plain": [
       "{'0': 14.0, '1': 72.0, '2': 15.0, '3': 2.0, 'all': 103.0}"
      ]
     },
     "execution_count": 75,
     "metadata": {},
     "output_type": "execute_result"
    }
   ],
   "source": [
    "# Market - Summary - Data - Rental Counts - Counts - Private_Room\n",
    "# COLS: n_private_rooms\n",
    "n_private_rooms = json['data']['rental_counts']['counts']['private_room']['all']\n",
    "dfd.update({'n_private_rooms': n_private_rooms})\n",
    "json['data']['rental_counts']['counts']['private_room']"
   ]
  },
  {
   "cell_type": "code",
   "execution_count": 76,
   "metadata": {},
   "outputs": [
    {
     "data": {
      "text/plain": [
       "{'0': 113.0,\n",
       " '1': 816.0,\n",
       " '2': 1214.0,\n",
       " '3': 642.0,\n",
       " '4': 317.0,\n",
       " '5': 343.0,\n",
       " 'all': 3445.0}"
      ]
     },
     "execution_count": 76,
     "metadata": {},
     "output_type": "execute_result"
    }
   ],
   "source": [
    "# Market - Summary - Data - Rental Counts - Counts - Entire Place by n_rooms\n",
    "# COLS: rms0_rntl_cnt, rms1_rntl_cnt, rms3_rntl_cnt\n",
    "#       rms4_rntl_cnt, rms5plus_rntl_cnt, n_entire_place\n",
    "count_by_n_rooms = json['data']['rental_counts']['counts']['entire_place']\n",
    "count_by_n_rooms_dict = {\n",
    "    'n_rooms_0': count_by_n_rooms['0'],\n",
    "    'n_rooms_1': count_by_n_rooms['1'],\n",
    "    'n_rooms_2': count_by_n_rooms['2'],\n",
    "    'n_rooms_3': count_by_n_rooms['3'],\n",
    "    'n_rooms_4': count_by_n_rooms['4'],\n",
    "    'n_rooms_5plus': count_by_n_rooms['5'],\n",
    "    'tot_count_entire_place': count_by_n_rooms['all'],\n",
    "                        }\n",
    "\n",
    "dfd.update(count_by_n_rooms_dict)\n",
    "count_by_n_rooms"
   ]
  },
  {
   "cell_type": "code",
   "execution_count": 77,
   "metadata": {},
   "outputs": [],
   "source": [
    "# Market - Summary - Data - Rental Counts - Average\n",
    "# COLS: average_n_bedrooms, average_accomodates\n",
    "average = json['data']['rental_counts']['average']\n",
    "average_dict = {\n",
    "    'avg_n_rooms': average['bedrooms'],\n",
    "    'avg_accommodates': average['accommodates']\n",
    "}\n",
    "dfd.update(average_dict)"
   ]
  },
  {
   "cell_type": "code",
   "execution_count": 78,
   "metadata": {},
   "outputs": [
    {
     "data": {
      "text/plain": [
       "{'city_id': 79116,\n",
       " 'occ': 0.741935483870968,\n",
       " 'adr': 262.958333333333,\n",
       " 'revenue': 4743.5,\n",
       " 'total_hosts': 641,\n",
       " 'superhosts': 340,\n",
       " 'multi_unit_hosts': 198,\n",
       " 'single_unit_hosts': 443,\n",
       " 'multi_host_properties': 3106,\n",
       " 'total_properties': 3549,\n",
       " 'single_host_properties': 443,\n",
       " 'available_10_12': 2055,\n",
       " 'available_1_3': 1065,\n",
       " 'available_7_9': 668,\n",
       " 'available_4_6': 816,\n",
       " 'booked_10_12': 435,\n",
       " 'booked_1_3': 1763,\n",
       " 'booked_7_9': 1231,\n",
       " 'booked_4_6': 1175,\n",
       " 'n_private_rooms': 103.0,\n",
       " 'n_rooms_0': 113.0,\n",
       " 'n_rooms_1': 816.0,\n",
       " 'n_rooms_2': 1214.0,\n",
       " 'n_rooms_3': 642.0,\n",
       " 'n_rooms_4': 317.0,\n",
       " 'n_rooms_5plus': 343.0,\n",
       " 'tot_count_entire_place': 3445.0,\n",
       " 'avg_n_rooms': 2.5,\n",
       " 'avg_accommodates': 7.6}"
      ]
     },
     "execution_count": 78,
     "metadata": {},
     "output_type": "execute_result"
    }
   ],
   "source": [
    "dfd"
   ]
  },
  {
   "cell_type": "code",
   "execution_count": 79,
   "metadata": {},
   "outputs": [],
   "source": [
    "import pandas as pd"
   ]
  },
  {
   "cell_type": "code",
   "execution_count": 82,
   "metadata": {},
   "outputs": [
    {
     "data": {
      "text/plain": [
       "city_id                   79116.000000\n",
       "occ                           0.741935\n",
       "adr                         262.958333\n",
       "revenue                    4743.500000\n",
       "total_hosts                 641.000000\n",
       "superhosts                  340.000000\n",
       "multi_unit_hosts            198.000000\n",
       "single_unit_hosts           443.000000\n",
       "multi_host_properties      3106.000000\n",
       "total_properties           3549.000000\n",
       "single_host_properties      443.000000\n",
       "available_10_12            2055.000000\n",
       "available_1_3              1065.000000\n",
       "available_7_9               668.000000\n",
       "available_4_6               816.000000\n",
       "booked_10_12                435.000000\n",
       "booked_1_3                 1763.000000\n",
       "booked_7_9                 1231.000000\n",
       "booked_4_6                 1175.000000\n",
       "n_private_rooms             103.000000\n",
       "n_rooms_0                   113.000000\n",
       "n_rooms_1                   816.000000\n",
       "n_rooms_2                  1214.000000\n",
       "n_rooms_3                   642.000000\n",
       "n_rooms_4                   317.000000\n",
       "n_rooms_5plus               343.000000\n",
       "tot_count_entire_place     3445.000000\n",
       "avg_n_rooms                   2.500000\n",
       "avg_accommodates              7.600000\n",
       "dtype: float64"
      ]
     },
     "execution_count": 82,
     "metadata": {},
     "output_type": "execute_result"
    }
   ],
   "source": [
    "gat_df_row = pd.Series(dfd)\n",
    "gat_df_row"
   ]
  },
  {
   "cell_type": "code",
   "execution_count": 103,
   "metadata": {},
   "outputs": [],
   "source": [
    "# Connect to DB\n",
    "import psycopg2\n",
    "import os\n",
    "from dotenv import load_dotenv\n",
    "import os\n",
    "\n",
    "\n",
    "load_dotenv()\n",
    "RDS_HOSTNAME = os.getenv(\"RDS_HOSTNAME\")\n",
    "RDS_PORT = os.getenv(\"RDS_PORT\")\n",
    "RDS_DB_NAME = os.getenv(\"RDS_DB_NAME\")\n",
    "RDS_USERNAME = os.getenv(\"RDS_USERNAME\")\n",
    "RDS_PASSWORD = os.getenv(\"RDS_PASSWORD\")\n",
    "\n",
    "conn = psycopg2.connect(\n",
    "    dbname=RDS_DB_NAME,\n",
    "    user=RDS_USERNAME,\n",
    "    password=RDS_PASSWORD,\n",
    "    host=RDS_HOSTNAME,\n",
    "    port=RDS_PORT\n",
    "    )"
   ]
  },
  {
   "cell_type": "code",
   "execution_count": 108,
   "metadata": {},
   "outputs": [],
   "source": [
    "conn.close()"
   ]
  },
  {
   "cell_type": "code",
   "execution_count": 104,
   "metadata": {},
   "outputs": [],
   "source": [
    "curs = conn.cursor()"
   ]
  },
  {
   "cell_type": "code",
   "execution_count": 105,
   "metadata": {},
   "outputs": [],
   "source": [
    "VALUES = str(tuple(gat_df_row.values))\n",
    "Q_INSERT_COL_NAMES = \"\"\"\n",
    "INSERT INTO market_summary (\n",
    "city_id, occ, adr, revenue,\n",
    "total_hosts, superhosts, \n",
    "multi_unit_hosts, single_unit_hosts,\n",
    "multi_host_properties, total_properties,\n",
    "single_host_properties, available_10_12,\n",
    "available_1_3, available_7_9, available_4_6,\n",
    "booked_10_12, booked_1_3, booked_7_9, \n",
    "booked_4_6, n_private_rooms, n_rooms_0,\n",
    "n_rooms_1, n_rooms_2, n_rooms_3, n_rooms_4,\n",
    "n_rooms_5plus, tot_count_entire_place,\n",
    "avg_n_rooms, avg_accommodates\n",
    ")\n",
    "VALUES \"\"\"\n",
    "Q_INSERT_FINAL = Q_INSERT_COL_NAMES + VALUES + \";\""
   ]
  },
  {
   "cell_type": "code",
   "execution_count": 106,
   "metadata": {},
   "outputs": [],
   "source": [
    "curs.execute(Q_INSERT_FINAL)"
   ]
  },
  {
   "cell_type": "code",
   "execution_count": 107,
   "metadata": {},
   "outputs": [],
   "source": [
    "conn.commit()"
   ]
  },
  {
   "cell_type": "markdown",
   "metadata": {},
   "source": [
    "# Listing Data"
   ]
  },
  {
   "cell_type": "markdown",
   "metadata": {},
   "source": [
    "## /ComparableProperties"
   ]
  },
  {
   "cell_type": "code",
   "execution_count": 28,
   "metadata": {},
   "outputs": [],
   "source": [
    "# ---- API CALL ----\n",
    "# API CALL - Comparable Properties\n",
    "\n",
    "# Get City ID\n",
    "gatlinburg_id = get_city_id(\"gatlinburg\")\n",
    "\n",
    "endpoint = \"market/property/list\"\n",
    "url = HOST + endpoint\n",
    "\n",
    "params = {\n",
    "    \"access_token\": AIRDNA_TOKEN,\n",
    "    \"city_id\": gatlinburg_id,\n",
    "    \"order\": \"revenue\",\n",
    "    \"room_types\": \"entire_home\",\n",
    "    \"show_amenities\": \"True\",\n",
    "    \"show_images\": \"True\",\n",
    "    \"show_location\": \"True\"\n",
    "}\n",
    "\n",
    "\n",
    "response = requests.request(\"GET\", url,  \n",
    "                            params=params)\n",
    "\n",
    "comp_list = response.json()\n",
    "\n",
    "# ---- API CALL ----"
   ]
  },
  {
   "cell_type": "code",
   "execution_count": 29,
   "metadata": {},
   "outputs": [],
   "source": [
    "# Includes 3 Components from the Top:\n",
    "# Request Info -> Lists out the Request Parameters\n",
    "# Properties -> 25 Properties\n",
    "# Area Info -> Name and Location of City\n",
    "comp_list = response.json()"
   ]
  },
  {
   "cell_type": "code",
   "execution_count": 31,
   "metadata": {},
   "outputs": [
    {
     "data": {
      "text/plain": [
       "25"
      ]
     },
     "execution_count": 31,
     "metadata": {},
     "output_type": "execute_result"
    }
   ],
   "source": [
    "# ?- How are these 25 chosen? -?\n",
    "# Answer: I think it is by most recently scraped entries.\n",
    "len(comp_list['properties'])"
   ]
  },
  {
   "cell_type": "code",
   "execution_count": 32,
   "metadata": {},
   "outputs": [
    {
     "data": {
      "text/plain": [
       "{'geom': {'code': {'country': 'us',\n",
       "   'state': 'tennessee',\n",
       "   'city': 'gatlinburg'},\n",
       "  'name': {'country': 'United States',\n",
       "   'state': 'Tennessee',\n",
       "   'city': 'Gatlinburg'},\n",
       "  'id': {'country': 1, 'state': 44, 'city': 79116}}}"
      ]
     },
     "execution_count": 32,
     "metadata": {},
     "output_type": "execute_result"
    }
   ],
   "source": [
    "# Area Info -> Name and Location of City\n",
    "# Market - Property - List - Area_Info\n",
    "# COLS: state, city\n",
    "comp_list['area_info']"
   ]
  },
  {
   "cell_type": "code",
   "execution_count": 33,
   "metadata": {},
   "outputs": [],
   "source": [
    "df = pd.DataFrame(comp_list['properties'])"
   ]
  },
  {
   "cell_type": "code",
   "execution_count": 34,
   "metadata": {},
   "outputs": [
    {
     "name": "stdout",
     "output_type": "stream",
     "text": [
      "(25, 43)\n"
     ]
    },
    {
     "data": {
      "text/html": [
       "<div>\n",
       "<style scoped>\n",
       "    .dataframe tbody tr th:only-of-type {\n",
       "        vertical-align: middle;\n",
       "    }\n",
       "\n",
       "    .dataframe tbody tr th {\n",
       "        vertical-align: top;\n",
       "    }\n",
       "\n",
       "    .dataframe thead th {\n",
       "        text-align: right;\n",
       "    }\n",
       "</style>\n",
       "<table border=\"1\" class=\"dataframe\">\n",
       "  <thead>\n",
       "    <tr style=\"text-align: right;\">\n",
       "      <th></th>\n",
       "      <th>instant_book</th>\n",
       "      <th>rating_overall</th>\n",
       "      <th>bathrooms</th>\n",
       "      <th>revenue</th>\n",
       "      <th>listing_url</th>\n",
       "      <th>longitude</th>\n",
       "      <th>extra_person_charge</th>\n",
       "      <th>property_type</th>\n",
       "      <th>listed_dt</th>\n",
       "      <th>price_monthly</th>\n",
       "      <th>...</th>\n",
       "      <th>days_b_ltm</th>\n",
       "      <th>last_calendar_update</th>\n",
       "      <th>title</th>\n",
       "      <th>location</th>\n",
       "      <th>accommodates</th>\n",
       "      <th>room_type</th>\n",
       "      <th>img_cover</th>\n",
       "      <th>cleaning_fee</th>\n",
       "      <th>response_rate</th>\n",
       "      <th>cancellation</th>\n",
       "    </tr>\n",
       "  </thead>\n",
       "  <tbody>\n",
       "    <tr>\n",
       "      <th>0</th>\n",
       "      <td>True</td>\n",
       "      <td>7.8</td>\n",
       "      <td>7.0</td>\n",
       "      <td>287435</td>\n",
       "      <td>https://www.airbnb.com/rooms/36135973</td>\n",
       "      <td>-83.46441</td>\n",
       "      <td>NaN</td>\n",
       "      <td>House</td>\n",
       "      <td>2019-07-15</td>\n",
       "      <td>NaN</td>\n",
       "      <td>...</td>\n",
       "      <td>9</td>\n",
       "      <td>2019-08-17</td>\n",
       "      <td>Big Sky Lodge II, 7 Bedrooms, Sleeps 28, Theat...</td>\n",
       "      <td>{'city': 'Gatlinburg', 'state': 'Tennessee', '...</td>\n",
       "      <td>16</td>\n",
       "      <td>E</td>\n",
       "      <td>https://a0.muscache.com/im/pictures/397cac0a-2...</td>\n",
       "      <td>295</td>\n",
       "      <td>96</td>\n",
       "      <td>super_strict_30</td>\n",
       "    </tr>\n",
       "    <tr>\n",
       "      <th>1</th>\n",
       "      <td>True</td>\n",
       "      <td>10.0</td>\n",
       "      <td>6.0</td>\n",
       "      <td>277154</td>\n",
       "      <td>https://www.airbnb.com/rooms/29344064</td>\n",
       "      <td>-83.34223</td>\n",
       "      <td>0.0</td>\n",
       "      <td>Cabin</td>\n",
       "      <td>2018-10-29</td>\n",
       "      <td>39816.0</td>\n",
       "      <td>...</td>\n",
       "      <td>0</td>\n",
       "      <td>2019-08-21</td>\n",
       "      <td>Dancing Bear Lodge</td>\n",
       "      <td>{'city': 'Gatlinburg', 'state': 'Tennessee', '...</td>\n",
       "      <td>16</td>\n",
       "      <td>E</td>\n",
       "      <td>https://a0.muscache.com/im/pictures/e789be62-0...</td>\n",
       "      <td>496</td>\n",
       "      <td>100</td>\n",
       "      <td>super_strict_30</td>\n",
       "    </tr>\n",
       "  </tbody>\n",
       "</table>\n",
       "<p>2 rows × 43 columns</p>\n",
       "</div>"
      ],
      "text/plain": [
       "   instant_book  rating_overall  bathrooms  revenue  \\\n",
       "0          True             7.8        7.0   287435   \n",
       "1          True            10.0        6.0   277154   \n",
       "\n",
       "                             listing_url  longitude  extra_person_charge  \\\n",
       "0  https://www.airbnb.com/rooms/36135973  -83.46441                  NaN   \n",
       "1  https://www.airbnb.com/rooms/29344064  -83.34223                  0.0   \n",
       "\n",
       "  property_type   listed_dt  price_monthly  ...  days_b_ltm  \\\n",
       "0         House  2019-07-15            NaN  ...           9   \n",
       "1         Cabin  2018-10-29        39816.0  ...           0   \n",
       "\n",
       "  last_calendar_update                                              title  \\\n",
       "0           2019-08-17  Big Sky Lodge II, 7 Bedrooms, Sleeps 28, Theat...   \n",
       "1           2019-08-21                                 Dancing Bear Lodge   \n",
       "\n",
       "                                            location  accommodates  room_type  \\\n",
       "0  {'city': 'Gatlinburg', 'state': 'Tennessee', '...            16          E   \n",
       "1  {'city': 'Gatlinburg', 'state': 'Tennessee', '...            16          E   \n",
       "\n",
       "                                           img_cover cleaning_fee  \\\n",
       "0  https://a0.muscache.com/im/pictures/397cac0a-2...          295   \n",
       "1  https://a0.muscache.com/im/pictures/e789be62-0...          496   \n",
       "\n",
       "  response_rate     cancellation  \n",
       "0            96  super_strict_30  \n",
       "1           100  super_strict_30  \n",
       "\n",
       "[2 rows x 43 columns]"
      ]
     },
     "execution_count": 34,
     "metadata": {},
     "output_type": "execute_result"
    }
   ],
   "source": [
    "print(df.shape)\n",
    "df.head(2)"
   ]
  },
  {
   "cell_type": "code",
   "execution_count": 35,
   "metadata": {},
   "outputs": [
    {
     "data": {
      "text/plain": [
       "2021-01-18    22\n",
       "2021-01-02     1\n",
       "2021-01-06     1\n",
       "2021-01-03     1\n",
       "Name: scraped_dt, dtype: int64"
      ]
     },
     "execution_count": 35,
     "metadata": {},
     "output_type": "execute_result"
    }
   ],
   "source": [
    "df['scraped_dt'].value_counts()"
   ]
  },
  {
   "cell_type": "code",
   "execution_count": 36,
   "metadata": {},
   "outputs": [
    {
     "name": "stdout",
     "output_type": "stream",
     "text": [
      "<class 'pandas.core.frame.DataFrame'>\n",
      "RangeIndex: 25 entries, 0 to 24\n",
      "Data columns (total 43 columns):\n",
      " #   Column                Non-Null Count  Dtype  \n",
      "---  ------                --------------  -----  \n",
      " 0   instant_book          25 non-null     bool   \n",
      " 1   rating_overall        24 non-null     float64\n",
      " 2   bathrooms             25 non-null     float64\n",
      " 3   revenue               25 non-null     int64  \n",
      " 4   listing_url           25 non-null     object \n",
      " 5   longitude             25 non-null     float64\n",
      " 6   extra_person_charge   14 non-null     float64\n",
      " 7   property_type         25 non-null     object \n",
      " 8   listed_dt             25 non-null     object \n",
      " 9   price_monthly         14 non-null     float64\n",
      " 10  reviews               25 non-null     int64  \n",
      " 11  check_in              25 non-null     object \n",
      " 12  airbnb_host_id        25 non-null     int64  \n",
      " 13  business_ready        25 non-null     bool   \n",
      " 14  price_weekly          14 non-null     float64\n",
      " 15  occ                   25 non-null     float64\n",
      " 16  days_r_ltm            25 non-null     int64  \n",
      " 17  scraped_dt            25 non-null     object \n",
      " 18  img_prop              25 non-null     object \n",
      " 19  amenities             25 non-null     object \n",
      " 20  superhost             25 non-null     bool   \n",
      " 21  price_nightly         24 non-null     float64\n",
      " 22  num_res_ltm           25 non-null     int64  \n",
      " 23  img_count             25 non-null     int64  \n",
      " 24  security_deposit      12 non-null     float64\n",
      " 25  airbnb_property_id    25 non-null     int64  \n",
      " 26  bedrooms              25 non-null     int64  \n",
      " 27  days_a_ltm            25 non-null     int64  \n",
      " 28  latitude              25 non-null     float64\n",
      " 29  minimum_stay          25 non-null     int64  \n",
      " 30  adr                   25 non-null     float64\n",
      " 31  check_out             25 non-null     object \n",
      " 32  response_time         15 non-null     float64\n",
      " 33  days_b_ltm            25 non-null     int64  \n",
      " 34  last_calendar_update  19 non-null     object \n",
      " 35  title                 25 non-null     object \n",
      " 36  location              25 non-null     object \n",
      " 37  accommodates          25 non-null     int64  \n",
      " 38  room_type             25 non-null     object \n",
      " 39  img_cover             25 non-null     object \n",
      " 40  cleaning_fee          25 non-null     int64  \n",
      " 41  response_rate         25 non-null     int64  \n",
      " 42  cancellation          25 non-null     object \n",
      "dtypes: bool(3), float64(12), int64(14), object(14)\n",
      "memory usage: 8.0+ KB\n"
     ]
    }
   ],
   "source": [
    "df.info()"
   ]
  },
  {
   "cell_type": "code",
   "execution_count": 37,
   "metadata": {},
   "outputs": [
    {
     "data": {
      "text/plain": [
       "0     287435\n",
       "1     277154\n",
       "2     267959\n",
       "3     243132\n",
       "4     233808\n",
       "5     226434\n",
       "6     223679\n",
       "7     222552\n",
       "8     215896\n",
       "9     212437\n",
       "10    207241\n",
       "11    206060\n",
       "12    201504\n",
       "13    200053\n",
       "14    197586\n",
       "15    197533\n",
       "16    197055\n",
       "17    191561\n",
       "18    190599\n",
       "19    188342\n",
       "20    180690\n",
       "21    180036\n",
       "22    177814\n",
       "23    171756\n",
       "24    170447\n",
       "Name: revenue, dtype: int64"
      ]
     },
     "execution_count": 37,
     "metadata": {},
     "output_type": "execute_result"
    }
   ],
   "source": [
    "df['revenue']"
   ]
  },
  {
   "cell_type": "code",
   "execution_count": 38,
   "metadata": {},
   "outputs": [
    {
     "data": {
      "text/plain": [
       "instant_book                                                         True\n",
       "rating_overall                                                   9.900000\n",
       "bathrooms                                                        4.000000\n",
       "revenue                                                            171756\n",
       "listing_url                         https://www.airbnb.com/rooms/13028680\n",
       "longitude                                                      -83.497130\n",
       "extra_person_charge                                              0.000000\n",
       "property_type                                                       Cabin\n",
       "listed_dt                                                      2016-05-14\n",
       "price_monthly                                                11200.000000\n",
       "reviews                                                               124\n",
       "check_in                                                    After 4:00 PM\n",
       "airbnb_host_id                                                   22965698\n",
       "business_ready                                                      False\n",
       "price_weekly                                                  2800.000000\n",
       "occ                                                              0.915301\n",
       "days_r_ltm                                                            335\n",
       "scraped_dt                                                     2021-01-18\n",
       "img_prop                [https://a0.muscache.com/im/pictures/9f66ff76-...\n",
       "amenities               [ac, cable, dryer, essentials, fireplace, heat...\n",
       "superhost                                                            True\n",
       "price_nightly                                                  248.000000\n",
       "num_res_ltm                                                            74\n",
       "img_count                                                              55\n",
       "security_deposit                                                 0.000000\n",
       "airbnb_property_id                                               13028680\n",
       "bedrooms                                                                4\n",
       "days_a_ltm                                                             31\n",
       "latitude                                                        35.725120\n",
       "minimum_stay                                                            6\n",
       "adr                                                            512.704000\n",
       "check_out                                                        10:00 AM\n",
       "response_time                                                  118.000000\n",
       "days_b_ltm                                                              0\n",
       "last_calendar_update                                           2019-09-01\n",
       "title                   Private Luxury Cabin Amazing View Hot Tub Down...\n",
       "location                {'city': 'Gatlinburg', 'state': 'Tennessee', '...\n",
       "accommodates                                                           14\n",
       "room_type                                                               E\n",
       "img_cover               https://a0.muscache.com/im/pictures/9f66ff76-1...\n",
       "cleaning_fee                                                          450\n",
       "response_rate                                                         100\n",
       "cancellation                                  strict_14_with_grace_period\n",
       "Name: 23, dtype: object"
      ]
     },
     "execution_count": 38,
     "metadata": {},
     "output_type": "execute_result"
    }
   ],
   "source": [
    "df.iloc[23]"
   ]
  },
  {
   "cell_type": "code",
   "execution_count": 39,
   "metadata": {},
   "outputs": [
    {
     "data": {
      "text/plain": [
       "0     Big Sky Lodge II, 7 Bedrooms, Sleeps 28, Theat...\n",
       "1                                    Dancing Bear Lodge\n",
       "2     $950/nt Oct 11-16~Privacy on 7 Acres, Hiking T...\n",
       "3                              Gatlinburg Amazing Grace\n",
       "4                                      Among The Clouds\n",
       "5     Majestic Mtn Getaway: Game Room, Decks & Hot Tub!\n",
       "6     All About The View, 6 Bedrooms, Theater, Mount...\n",
       "7           Smoky Mountain Ridge Swimming Pool Cabin 21\n",
       "8                                      Splash ''N Views\n",
       "9         Nov 9-13 Open! Stunning 7BR w/Honeymoon Suite\n",
       "10                                   Gatlinburg Mansion\n",
       "11    Feb 19-24 Open! Huge 6BR Cabin, Gorgeous Fire Pit\n",
       "12                           Mountain View POOL Lodge!\"\n",
       "13    Jan 18-26 Open! Huge 6BR Cabin, Mtn View, Fire...\n",
       "14                              Pool And A View Mansion\n",
       "15    Huge Private Luxury Log Lodge On CREEK w Fire Pit\n",
       "16    Brand New! 6 bedroom cabin w/ Indoor heated pool!\n",
       "17    A+Views This 9BR/6BATH Gatlinburg Cabin has it...\n",
       "18    Jan 24-Feb 12 Open! Fabulous 6BR Cabin, Smoky ...\n",
       "19                                       Bearskin Lodge\n",
       "20       Mountain-View Estate on 1.61 Acres - Sleeps 21\n",
       "21    Dec 28-Jan 3 Open! 5 BR Cabin, Fire Pit, Mtn View\n",
       "22     Gorgeous Mountain Views + Hot Tub +Theater Room!\n",
       "23    Private Luxury Cabin Amazing View Hot Tub Down...\n",
       "24    Breathtaking mountain views and private forest...\n",
       "Name: title, dtype: object"
      ]
     },
     "execution_count": 39,
     "metadata": {},
     "output_type": "execute_result"
    }
   ],
   "source": [
    "df['title']"
   ]
  },
  {
   "cell_type": "code",
   "execution_count": 40,
   "metadata": {},
   "outputs": [
    {
     "data": {
      "text/plain": [
       "instant_book                                                         True\n",
       "rating_overall                                                  10.000000\n",
       "bathrooms                                                        4.500000\n",
       "revenue                                                            233808\n",
       "listing_url                         https://www.airbnb.com/rooms/28622510\n",
       "longitude                                                      -83.361650\n",
       "extra_person_charge                                              0.000000\n",
       "property_type                                                       Cabin\n",
       "listed_dt                                                      2018-09-19\n",
       "price_monthly                                                27888.000000\n",
       "reviews                                                                 1\n",
       "check_in                                                    After 4:00 PM\n",
       "airbnb_host_id                                                  197358896\n",
       "business_ready                                                      False\n",
       "price_weekly                                                  6972.000000\n",
       "occ                                                              0.769679\n",
       "days_r_ltm                                                            264\n",
       "scraped_dt                                                     2021-01-18\n",
       "img_prop                [https://a0.muscache.com/im/pictures/70a1a377-...\n",
       "amenities               [dryer, essentials, fireplace, heating, tv, wa...\n",
       "superhost                                                           False\n",
       "price_nightly                                                  636.000000\n",
       "num_res_ltm                                                            84\n",
       "img_count                                                              29\n",
       "security_deposit                                                      NaN\n",
       "airbnb_property_id                                               28622510\n",
       "bedrooms                                                                4\n",
       "days_a_ltm                                                             79\n",
       "latitude                                                        35.768370\n",
       "minimum_stay                                                            1\n",
       "adr                                                            885.638000\n",
       "check_out                                                        10:00 AM\n",
       "response_time                                                         NaN\n",
       "days_b_ltm                                                             23\n",
       "last_calendar_update                                           2019-08-31\n",
       "title                                                    Among The Clouds\n",
       "location                {'city': 'Gatlinburg', 'state': 'Tennessee', '...\n",
       "accommodates                                                           10\n",
       "room_type                                                               E\n",
       "img_cover               https://a0.muscache.com/im/pictures/70a1a377-1...\n",
       "cleaning_fee                                                          449\n",
       "response_rate                                                         100\n",
       "cancellation                                              super_strict_30\n",
       "Name: 4, dtype: object"
      ]
     },
     "execution_count": 40,
     "metadata": {},
     "output_type": "execute_result"
    }
   ],
   "source": [
    "df.iloc[4]"
   ]
  },
  {
   "cell_type": "code",
   "execution_count": 41,
   "metadata": {},
   "outputs": [
    {
     "data": {
      "text/plain": [
       "2021-01-18    22\n",
       "2021-01-02     1\n",
       "2021-01-06     1\n",
       "2021-01-03     1\n",
       "Name: scraped_dt, dtype: int64"
      ]
     },
     "execution_count": 41,
     "metadata": {},
     "output_type": "execute_result"
    }
   ],
   "source": [
    "df['scraped_dt'].value_counts()"
   ]
  },
  {
   "cell_type": "code",
   "execution_count": 55,
   "metadata": {},
   "outputs": [],
   "source": [
    "df['zip_code'] = [d['zipcode'] for d in df['location']]"
   ]
  },
  {
   "cell_type": "code",
   "execution_count": 58,
   "metadata": {},
   "outputs": [],
   "source": [
    "df['city_state'] = [f\"{d['city']}, {d['state']}\" for d in df['location']]"
   ]
  },
  {
   "cell_type": "code",
   "execution_count": 61,
   "metadata": {},
   "outputs": [
    {
     "data": {
      "text/plain": [
       "0    True\n",
       "1    True\n",
       "Name: instant_book, dtype: bool"
      ]
     },
     "execution_count": 61,
     "metadata": {},
     "output_type": "execute_result"
    }
   ],
   "source": [
    "df['instant_book'].head(2)"
   ]
  },
  {
   "cell_type": "code",
   "execution_count": 59,
   "metadata": {},
   "outputs": [
    {
     "name": "stdout",
     "output_type": "stream",
     "text": [
      "<class 'pandas.core.frame.DataFrame'>\n",
      "RangeIndex: 25 entries, 0 to 24\n",
      "Data columns (total 45 columns):\n",
      " #   Column                Non-Null Count  Dtype  \n",
      "---  ------                --------------  -----  \n",
      " 0   instant_book          25 non-null     bool   \n",
      " 1   rating_overall        24 non-null     float64\n",
      " 2   bathrooms             25 non-null     float64\n",
      " 3   revenue               25 non-null     int64  \n",
      " 4   listing_url           25 non-null     object \n",
      " 5   longitude             25 non-null     float64\n",
      " 6   extra_person_charge   14 non-null     float64\n",
      " 7   property_type         25 non-null     object \n",
      " 8   listed_dt             25 non-null     object \n",
      " 9   price_monthly         14 non-null     float64\n",
      " 10  reviews               25 non-null     int64  \n",
      " 11  check_in              25 non-null     object \n",
      " 12  airbnb_host_id        25 non-null     int64  \n",
      " 13  business_ready        25 non-null     bool   \n",
      " 14  price_weekly          14 non-null     float64\n",
      " 15  occ                   25 non-null     float64\n",
      " 16  days_r_ltm            25 non-null     int64  \n",
      " 17  scraped_dt            25 non-null     object \n",
      " 18  img_prop              25 non-null     object \n",
      " 19  amenities             25 non-null     object \n",
      " 20  superhost             25 non-null     bool   \n",
      " 21  price_nightly         24 non-null     float64\n",
      " 22  num_res_ltm           25 non-null     int64  \n",
      " 23  img_count             25 non-null     int64  \n",
      " 24  security_deposit      12 non-null     float64\n",
      " 25  airbnb_property_id    25 non-null     int64  \n",
      " 26  bedrooms              25 non-null     int64  \n",
      " 27  days_a_ltm            25 non-null     int64  \n",
      " 28  latitude              25 non-null     float64\n",
      " 29  minimum_stay          25 non-null     int64  \n",
      " 30  adr                   25 non-null     float64\n",
      " 31  check_out             25 non-null     object \n",
      " 32  response_time         15 non-null     float64\n",
      " 33  days_b_ltm            25 non-null     int64  \n",
      " 34  last_calendar_update  19 non-null     object \n",
      " 35  title                 25 non-null     object \n",
      " 36  location              25 non-null     object \n",
      " 37  accommodates          25 non-null     int64  \n",
      " 38  room_type             25 non-null     object \n",
      " 39  img_cover             25 non-null     object \n",
      " 40  cleaning_fee          25 non-null     int64  \n",
      " 41  response_rate         25 non-null     int64  \n",
      " 42  cancellation          25 non-null     object \n",
      " 43  zip_code              25 non-null     object \n",
      " 44  city_state            25 non-null     object \n",
      "dtypes: bool(3), float64(12), int64(14), object(16)\n",
      "memory usage: 8.4+ KB\n"
     ]
    }
   ],
   "source": [
    "df.info()"
   ]
  },
  {
   "cell_type": "code",
   "execution_count": null,
   "metadata": {},
   "outputs": [],
   "source": []
  }
 ],
 "metadata": {
  "kernelspec": {
   "display_name": "vrb-know",
   "language": "python",
   "name": "vrb-know"
  },
  "language_info": {
   "codemirror_mode": {
    "name": "ipython",
    "version": 3
   },
   "file_extension": ".py",
   "mimetype": "text/x-python",
   "name": "python",
   "nbconvert_exporter": "python",
   "pygments_lexer": "ipython3",
   "version": "3.8.1"
  }
 },
 "nbformat": 4,
 "nbformat_minor": 4
}
