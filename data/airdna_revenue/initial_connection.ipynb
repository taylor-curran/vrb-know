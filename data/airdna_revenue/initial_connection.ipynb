{
 "cells": [
  {
   "cell_type": "code",
   "execution_count": 165,
   "metadata": {},
   "outputs": [],
   "source": [
    "import os\n",
    "from dotenv import load_dotenv\n",
    "import requests\n",
    "import numpy\n",
    "import json\n",
    "import pandas as pd"
   ]
  },
  {
   "cell_type": "code",
   "execution_count": 4,
   "metadata": {},
   "outputs": [],
   "source": [
    "# Accompanying Notion Doc:\n",
    "# https://www.notion.so/AirDNA-API-c4d49bd11c6642adba6cf23470425e66"
   ]
  },
  {
   "cell_type": "code",
   "execution_count": 5,
   "metadata": {},
   "outputs": [],
   "source": [
    "# Load API Key\n",
    "load_dotenv()\n",
    "AIRDNA_TOKEN = os.getenv(\"AIRDNA_TOKEN\")"
   ]
  },
  {
   "cell_type": "code",
   "execution_count": 6,
   "metadata": {},
   "outputs": [],
   "source": [
    "# Same for All API Calls\n",
    "HEADERS = {\"access_token\": AIRDNA_TOKEN}\n",
    "HOST = \"https://api.airdna.co/client/v1/\""
   ]
  },
  {
   "cell_type": "markdown",
   "metadata": {},
   "source": [
    "# Market Data"
   ]
  },
  {
   "cell_type": "markdown",
   "metadata": {},
   "source": [
    "## /MarketSearch"
   ]
  },
  {
   "cell_type": "code",
   "execution_count": 7,
   "metadata": {},
   "outputs": [],
   "source": [
    "# MARKET SEARCH\n",
    "# {{HOST}}/client/{{VERSION_CLIENT}}/market/search?\n",
    "# access_token={{CLIENT_TOKEN}}&term='https://www.airbnb.com/rooms/15807599'\n",
    "# Country\n",
    "# City\n",
    "# Neighbourhood\n",
    "# State (US Only)\n",
    "# Metropolitan Statistical Area (US Only)\n",
    "# Zip Code (US Only)"
   ]
  },
  {
   "cell_type": "code",
   "execution_count": 8,
   "metadata": {},
   "outputs": [],
   "source": [
    "# Test Connection HERE <- Search Calls are Free\n",
    "# API CALL - Market Search - Find Gatlinburg Market ID\n",
    "endpoint = \"market/search\"\n",
    "url = HOST + endpoint\n",
    "\n",
    "params = {\n",
    "    \"access_token\": AIRDNA_TOKEN,\n",
    "    \"term\": \"gatlinburg\"\n",
    "}\n",
    "\n",
    "\n",
    "response = requests.request(\"GET\", url,  \n",
    "                            params=params)"
   ]
  },
  {
   "cell_type": "code",
   "execution_count": 9,
   "metadata": {},
   "outputs": [],
   "source": [
    "# Get Market ID\n",
    "gatlinburg_id = response.json()['items'][0]['city']['id']\n",
    "\n",
    "# Other information Available from This Response:\n",
    "# - name, country, region, state, type, zipcode"
   ]
  },
  {
   "cell_type": "code",
   "execution_count": 10,
   "metadata": {},
   "outputs": [
    {
     "data": {
      "text/plain": [
       "79116"
      ]
     },
     "execution_count": 10,
     "metadata": {},
     "output_type": "execute_result"
    }
   ],
   "source": [
    "gatlinburg_id"
   ]
  },
  {
   "cell_type": "code",
   "execution_count": 11,
   "metadata": {},
   "outputs": [],
   "source": [
    "# Turn this Into Function\n",
    "\n",
    "# Market Search\n",
    "\n",
    "def get_city_id(city_name: str) -> str:\n",
    "    \n",
    "    endpoint = \"market/search\"\n",
    "    url = HOST + endpoint\n",
    "\n",
    "    params = {\n",
    "        \"access_token\": AIRDNA_TOKEN,\n",
    "        \"term\": str(city_name)\n",
    "    }\n",
    "\n",
    "\n",
    "    response = requests.request(\"GET\", url,  \n",
    "                                params=params)\n",
    "\n",
    "    # city_id\n",
    "    city_id = response.json()['items'][0]['city']['id']\n",
    "    \n",
    "    return city_id"
   ]
  },
  {
   "cell_type": "code",
   "execution_count": 12,
   "metadata": {},
   "outputs": [
    {
     "data": {
      "text/plain": [
       "79116"
      ]
     },
     "execution_count": 12,
     "metadata": {},
     "output_type": "execute_result"
    }
   ],
   "source": [
    "city_id = get_city_id(\"gatlinburg\")\n",
    "city_id"
   ]
  },
  {
   "cell_type": "markdown",
   "metadata": {},
   "source": [
    "## /MarketSummary"
   ]
  },
  {
   "cell_type": "code",
   "execution_count": 65,
   "metadata": {},
   "outputs": [],
   "source": [
    "# MARKET SUMMARY\n",
    "# {{HOST}}/client/{{VERSION}}/market/summary?\n",
    "# access_token={{CLIENT_TOKEN}}&city_id=59380&region_id=12341&currency=usd\n",
    "\n",
    "# PARAMS\n",
    "# city_id\n",
    "# region_id\n",
    "# currency"
   ]
  },
  {
   "cell_type": "code",
   "execution_count": 66,
   "metadata": {},
   "outputs": [],
   "source": [
    "# ---- API CALL ----\n",
    "# API CALL - Market Summary - Get Info on Gatlinburg\n",
    "endpoint = \"market/summary\"\n",
    "url = HOST + endpoint\n",
    "\n",
    "params = {\n",
    "    \"access_token\": AIRDNA_TOKEN,\n",
    "    \"city_id\": gatlinburg_id\n",
    "}\n",
    "\n",
    "\n",
    "response = requests.request(\"GET\", url,  \n",
    "                            params=params)\n",
    "# ---- API CALL ----"
   ]
  },
  {
   "cell_type": "code",
   "execution_count": 67,
   "metadata": {},
   "outputs": [],
   "source": [
    "# Jasonify Results\n",
    "json = response.json()"
   ]
  },
  {
   "cell_type": "markdown",
   "metadata": {},
   "source": [
    "### Parcing Through Available Data at /MarketSummary Enpoint"
   ]
  },
  {
   "cell_type": "code",
   "execution_count": 68,
   "metadata": {},
   "outputs": [],
   "source": [
    "# Data Frame Dictionary\n",
    "dfd = {}"
   ]
  },
  {
   "cell_type": "code",
   "execution_count": 69,
   "metadata": {},
   "outputs": [
    {
     "data": {
      "text/plain": [
       "79116"
      ]
     },
     "execution_count": 69,
     "metadata": {},
     "output_type": "execute_result"
    }
   ],
   "source": [
    "# Market - Summary - Request_Info\n",
    "# COLS: city_id\n",
    "city_id = json['request_info']['city_id']\n",
    "dfd.update({'city_id': city_id})\n",
    "city_id"
   ]
  },
  {
   "cell_type": "code",
   "execution_count": 70,
   "metadata": {},
   "outputs": [
    {
     "data": {
      "text/plain": [
       "{'occ': {'50th_percentile': 0.741935483870968},\n",
       " 'adr': {'50th_percentile': 262.958333333333},\n",
       " 'revenue': {'50th_percentile': 4743.5}}"
      ]
     },
     "execution_count": 70,
     "metadata": {},
     "output_type": "execute_result"
    }
   ],
   "source": [
    "# Market - Summary - Data - Calendar Months\n",
    "# adr -> Average Daily Rate\n",
    "# COLS: occ, adr, revenue\n",
    "ent_stats = json['data']['calendar_months']['room_type']['entire_place']\n",
    "ent_stats\n",
    "ent_stats_dict = {\n",
    "    'occ': ent_stats['occ']['50th_percentile'],\n",
    "    'adr': ent_stats['adr']['50th_percentile'],\n",
    "    'revenue': ent_stats['revenue']['50th_percentile']\n",
    "                 }\n",
    "dfd.update(ent_stats_dict)\n",
    "ent_stats"
   ]
  },
  {
   "cell_type": "code",
   "execution_count": 71,
   "metadata": {},
   "outputs": [
    {
     "data": {
      "text/plain": [
       "{'total_hosts': 641,\n",
       " 'superhosts': 340,\n",
       " 'multi_unit_hosts': 198,\n",
       " 'single_unit_hosts': 443}"
      ]
     },
     "execution_count": 71,
     "metadata": {},
     "output_type": "execute_result"
    }
   ],
   "source": [
    "# Market - Summary - Data - Host_Info - Hosts\n",
    "# COLS: total_hosts, superhosts, multi_unit_hosts, single_unit_hosts\n",
    "host_counts = json['data']['host_info']['hosts']\n",
    "dfd.update(host_counts)\n",
    "host_counts"
   ]
  },
  {
   "cell_type": "code",
   "execution_count": 72,
   "metadata": {},
   "outputs": [
    {
     "data": {
      "text/plain": [
       "{'multi_host_properties': 3106,\n",
       " 'total_properties': 3549,\n",
       " 'single_host_properties': 443}"
      ]
     },
     "execution_count": 72,
     "metadata": {},
     "output_type": "execute_result"
    }
   ],
   "source": [
    "# Market - Summary - Data - Host_Info - Host_Properties\n",
    "# COLS: multi_host_properties, total_properties, single_host_properties\n",
    "property_counts = json['data']['host_info']['host_properties']\n",
    "dfd.update(property_counts)\n",
    "property_counts"
   ]
  },
  {
   "cell_type": "code",
   "execution_count": 73,
   "metadata": {},
   "outputs": [
    {
     "data": {
      "text/plain": [
       "{'10-12': 2055, '1-3': 1065, '7-9': 668, '4-6': 816}"
      ]
     },
     "execution_count": 73,
     "metadata": {},
     "output_type": "execute_result"
    }
   ],
   "source": [
    "# Market - Summary - Data - Rental_Activity - Available\n",
    "# COLS:\n",
    "# TODO: ?- What is '10-12', '1-3', and such? -?\n",
    "# They are either length-of-stay or they are n-people\n",
    "available = json['data']['rental_activity']['available']\n",
    "available_dict = {\n",
    "    'available_10_12': available['10-12'],\n",
    "    'available_1_3': available['1-3'],\n",
    "    'available_7_9': available['7-9'],\n",
    "    'available_4_6': available['4-6']\n",
    "                 }\n",
    "\n",
    "dfd.update(available_dict)\n",
    "available"
   ]
  },
  {
   "cell_type": "code",
   "execution_count": 74,
   "metadata": {},
   "outputs": [
    {
     "data": {
      "text/plain": [
       "{'10-12': 435, '1-3': 1763, '7-9': 1231, '4-6': 1175}"
      ]
     },
     "execution_count": 74,
     "metadata": {},
     "output_type": "execute_result"
    }
   ],
   "source": [
    "# Market - Summary - Data - Rental_Activity - Booked\n",
    "# COLS:\n",
    "# TODO: ?- What is '10-12', '1-3', and such? -?\n",
    "# They are either length-of-stay or they are n-people\n",
    "booked = json['data']['rental_activity']['booked']\n",
    "booked_dict = {\n",
    "    'booked_10_12': booked['10-12'],\n",
    "    'booked_1_3': booked['1-3'],\n",
    "    'booked_7_9': booked['7-9'],\n",
    "    'booked_4_6': booked['4-6']\n",
    "                 }\n",
    "dfd.update(booked_dict)\n",
    "booked"
   ]
  },
  {
   "cell_type": "code",
   "execution_count": 75,
   "metadata": {},
   "outputs": [
    {
     "data": {
      "text/plain": [
       "{'0': 14.0, '1': 72.0, '2': 15.0, '3': 2.0, 'all': 103.0}"
      ]
     },
     "execution_count": 75,
     "metadata": {},
     "output_type": "execute_result"
    }
   ],
   "source": [
    "# Market - Summary - Data - Rental Counts - Counts - Private_Room\n",
    "# COLS: n_private_rooms\n",
    "n_private_rooms = json['data']['rental_counts']['counts']['private_room']['all']\n",
    "dfd.update({'n_private_rooms': n_private_rooms})\n",
    "json['data']['rental_counts']['counts']['private_room']"
   ]
  },
  {
   "cell_type": "code",
   "execution_count": 76,
   "metadata": {},
   "outputs": [
    {
     "data": {
      "text/plain": [
       "{'0': 113.0,\n",
       " '1': 816.0,\n",
       " '2': 1214.0,\n",
       " '3': 642.0,\n",
       " '4': 317.0,\n",
       " '5': 343.0,\n",
       " 'all': 3445.0}"
      ]
     },
     "execution_count": 76,
     "metadata": {},
     "output_type": "execute_result"
    }
   ],
   "source": [
    "# Market - Summary - Data - Rental Counts - Counts - Entire Place by n_rooms\n",
    "# COLS: rms0_rntl_cnt, rms1_rntl_cnt, rms3_rntl_cnt\n",
    "#       rms4_rntl_cnt, rms5plus_rntl_cnt, n_entire_place\n",
    "count_by_n_rooms = json['data']['rental_counts']['counts']['entire_place']\n",
    "count_by_n_rooms_dict = {\n",
    "    'n_rooms_0': count_by_n_rooms['0'],\n",
    "    'n_rooms_1': count_by_n_rooms['1'],\n",
    "    'n_rooms_2': count_by_n_rooms['2'],\n",
    "    'n_rooms_3': count_by_n_rooms['3'],\n",
    "    'n_rooms_4': count_by_n_rooms['4'],\n",
    "    'n_rooms_5plus': count_by_n_rooms['5'],\n",
    "    'tot_count_entire_place': count_by_n_rooms['all'],\n",
    "                        }\n",
    "\n",
    "dfd.update(count_by_n_rooms_dict)\n",
    "count_by_n_rooms"
   ]
  },
  {
   "cell_type": "code",
   "execution_count": 77,
   "metadata": {},
   "outputs": [],
   "source": [
    "# Market - Summary - Data - Rental Counts - Average\n",
    "# COLS: average_n_bedrooms, average_accomodates\n",
    "average = json['data']['rental_counts']['average']\n",
    "average_dict = {\n",
    "    'avg_n_rooms': average['bedrooms'],\n",
    "    'avg_accommodates': average['accommodates']\n",
    "}\n",
    "dfd.update(average_dict)"
   ]
  },
  {
   "cell_type": "code",
   "execution_count": 78,
   "metadata": {},
   "outputs": [
    {
     "data": {
      "text/plain": [
       "{'city_id': 79116,\n",
       " 'occ': 0.741935483870968,\n",
       " 'adr': 262.958333333333,\n",
       " 'revenue': 4743.5,\n",
       " 'total_hosts': 641,\n",
       " 'superhosts': 340,\n",
       " 'multi_unit_hosts': 198,\n",
       " 'single_unit_hosts': 443,\n",
       " 'multi_host_properties': 3106,\n",
       " 'total_properties': 3549,\n",
       " 'single_host_properties': 443,\n",
       " 'available_10_12': 2055,\n",
       " 'available_1_3': 1065,\n",
       " 'available_7_9': 668,\n",
       " 'available_4_6': 816,\n",
       " 'booked_10_12': 435,\n",
       " 'booked_1_3': 1763,\n",
       " 'booked_7_9': 1231,\n",
       " 'booked_4_6': 1175,\n",
       " 'n_private_rooms': 103.0,\n",
       " 'n_rooms_0': 113.0,\n",
       " 'n_rooms_1': 816.0,\n",
       " 'n_rooms_2': 1214.0,\n",
       " 'n_rooms_3': 642.0,\n",
       " 'n_rooms_4': 317.0,\n",
       " 'n_rooms_5plus': 343.0,\n",
       " 'tot_count_entire_place': 3445.0,\n",
       " 'avg_n_rooms': 2.5,\n",
       " 'avg_accommodates': 7.6}"
      ]
     },
     "execution_count": 78,
     "metadata": {},
     "output_type": "execute_result"
    }
   ],
   "source": [
    "dfd"
   ]
  },
  {
   "cell_type": "code",
   "execution_count": 79,
   "metadata": {},
   "outputs": [],
   "source": [
    "import pandas as pd"
   ]
  },
  {
   "cell_type": "code",
   "execution_count": 82,
   "metadata": {},
   "outputs": [
    {
     "data": {
      "text/plain": [
       "city_id                   79116.000000\n",
       "occ                           0.741935\n",
       "adr                         262.958333\n",
       "revenue                    4743.500000\n",
       "total_hosts                 641.000000\n",
       "superhosts                  340.000000\n",
       "multi_unit_hosts            198.000000\n",
       "single_unit_hosts           443.000000\n",
       "multi_host_properties      3106.000000\n",
       "total_properties           3549.000000\n",
       "single_host_properties      443.000000\n",
       "available_10_12            2055.000000\n",
       "available_1_3              1065.000000\n",
       "available_7_9               668.000000\n",
       "available_4_6               816.000000\n",
       "booked_10_12                435.000000\n",
       "booked_1_3                 1763.000000\n",
       "booked_7_9                 1231.000000\n",
       "booked_4_6                 1175.000000\n",
       "n_private_rooms             103.000000\n",
       "n_rooms_0                   113.000000\n",
       "n_rooms_1                   816.000000\n",
       "n_rooms_2                  1214.000000\n",
       "n_rooms_3                   642.000000\n",
       "n_rooms_4                   317.000000\n",
       "n_rooms_5plus               343.000000\n",
       "tot_count_entire_place     3445.000000\n",
       "avg_n_rooms                   2.500000\n",
       "avg_accommodates              7.600000\n",
       "dtype: float64"
      ]
     },
     "execution_count": 82,
     "metadata": {},
     "output_type": "execute_result"
    }
   ],
   "source": [
    "gat_df_row = pd.Series(dfd)\n",
    "gat_df_row"
   ]
  },
  {
   "cell_type": "code",
   "execution_count": 103,
   "metadata": {},
   "outputs": [],
   "source": [
    "# Connect to DB\n",
    "import psycopg2\n",
    "import os\n",
    "from dotenv import load_dotenv\n",
    "import os\n",
    "\n",
    "\n",
    "load_dotenv()\n",
    "RDS_HOSTNAME = os.getenv(\"RDS_HOSTNAME\")\n",
    "RDS_PORT = os.getenv(\"RDS_PORT\")\n",
    "RDS_DB_NAME = os.getenv(\"RDS_DB_NAME\")\n",
    "RDS_USERNAME = os.getenv(\"RDS_USERNAME\")\n",
    "RDS_PASSWORD = os.getenv(\"RDS_PASSWORD\")\n",
    "\n",
    "conn = psycopg2.connect(\n",
    "    dbname=RDS_DB_NAME,\n",
    "    user=RDS_USERNAME,\n",
    "    password=RDS_PASSWORD,\n",
    "    host=RDS_HOSTNAME,\n",
    "    port=RDS_PORT\n",
    "    )"
   ]
  },
  {
   "cell_type": "code",
   "execution_count": 108,
   "metadata": {},
   "outputs": [],
   "source": [
    "conn.close()"
   ]
  },
  {
   "cell_type": "code",
   "execution_count": 104,
   "metadata": {},
   "outputs": [],
   "source": [
    "curs = conn.cursor()"
   ]
  },
  {
   "cell_type": "code",
   "execution_count": 105,
   "metadata": {},
   "outputs": [],
   "source": [
    "VALUES = str(tuple(gat_df_row.values))\n",
    "Q_INSERT_COL_NAMES = \"\"\"\n",
    "INSERT INTO market_summary (\n",
    "city_id, occ, adr, revenue,\n",
    "total_hosts, superhosts, \n",
    "multi_unit_hosts, single_unit_hosts,\n",
    "multi_host_properties, total_properties,\n",
    "single_host_properties, available_10_12,\n",
    "available_1_3, available_7_9, available_4_6,\n",
    "booked_10_12, booked_1_3, booked_7_9, \n",
    "booked_4_6, n_private_rooms, n_rooms_0,\n",
    "n_rooms_1, n_rooms_2, n_rooms_3, n_rooms_4,\n",
    "n_rooms_5plus, tot_count_entire_place,\n",
    "avg_n_rooms, avg_accommodates\n",
    ")\n",
    "VALUES \"\"\"\n",
    "Q_INSERT_FINAL = Q_INSERT_COL_NAMES + VALUES + \";\""
   ]
  },
  {
   "cell_type": "code",
   "execution_count": 106,
   "metadata": {},
   "outputs": [],
   "source": [
    "curs.execute(Q_INSERT_FINAL)"
   ]
  },
  {
   "cell_type": "code",
   "execution_count": 107,
   "metadata": {},
   "outputs": [],
   "source": [
    "conn.commit()"
   ]
  },
  {
   "cell_type": "markdown",
   "metadata": {},
   "source": [
    "# Listing Data"
   ]
  },
  {
   "cell_type": "markdown",
   "metadata": {},
   "source": [
    "## /ComparableProperties"
   ]
  },
  {
   "cell_type": "code",
   "execution_count": 421,
   "metadata": {},
   "outputs": [],
   "source": [
    "# ---- API CALL ----\n",
    "# API CALL - Comparable Properties\n",
    "\n",
    "# Get City ID\n",
    "gatlinburg_id = get_city_id(\"gatlinburg\")\n",
    "\n",
    "endpoint = \"market/property/list\"\n",
    "url = HOST + endpoint\n",
    "\n",
    "params = {\n",
    "    \"access_token\": AIRDNA_TOKEN,\n",
    "    \"city_id\": gatlinburg_id,\n",
    "    \"order\": \"revenue\",\n",
    "    \"room_types\": \"entire_home\",\n",
    "    \"show_amenities\": \"True\",\n",
    "    \"show_images\": \"True\",\n",
    "    \"show_location\": \"True\"\n",
    "}\n",
    "\n",
    "\n",
    "response = requests.request(\"GET\", url,  \n",
    "                            params=params)\n",
    "\n",
    "comp_list = response.json()\n",
    "\n",
    "# ---- API CALL ----"
   ]
  },
  {
   "cell_type": "code",
   "execution_count": 479,
   "metadata": {},
   "outputs": [],
   "source": [
    "# Includes 3 Components from the Top:\n",
    "# Request Info -> Lists out the Request Parameters\n",
    "# Properties -> 25 Properties\n",
    "# Area Info -> Name and Location of City\n",
    "comp_list = response.json()"
   ]
  },
  {
   "cell_type": "code",
   "execution_count": 480,
   "metadata": {},
   "outputs": [
    {
     "data": {
      "text/plain": [
       "25"
      ]
     },
     "execution_count": 480,
     "metadata": {},
     "output_type": "execute_result"
    }
   ],
   "source": [
    "# ?- How are these 25 chosen? -?\n",
    "# Answer: I think it is by most recently scraped entries.\n",
    "len(comp_list['properties'])"
   ]
  },
  {
   "cell_type": "code",
   "execution_count": 481,
   "metadata": {},
   "outputs": [],
   "source": [
    "# Area Info -> Name and Location of City\n",
    "# Market - Property - List - Area_Info\n",
    "# COLS: state, city\n",
    "# comp_list['properties']"
   ]
  },
  {
   "cell_type": "code",
   "execution_count": 2,
   "metadata": {},
   "outputs": [
    {
     "ename": "NameError",
     "evalue": "name 'response' is not defined",
     "output_type": "error",
     "traceback": [
      "\u001b[0;31m---------------------------------------------------------------------------\u001b[0m",
      "\u001b[0;31mNameError\u001b[0m                                 Traceback (most recent call last)",
      "\u001b[0;32m<ipython-input-2-1d426f2a72fd>\u001b[0m in \u001b[0;36m<module>\u001b[0;34m\u001b[0m\n\u001b[0;32m----> 1\u001b[0;31m \u001b[0mcomp_list\u001b[0m \u001b[0;34m=\u001b[0m \u001b[0mresponse\u001b[0m\u001b[0;34m.\u001b[0m\u001b[0mjson\u001b[0m\u001b[0;34m(\u001b[0m\u001b[0;34m)\u001b[0m\u001b[0;34m\u001b[0m\u001b[0;34m\u001b[0m\u001b[0m\n\u001b[0m\u001b[1;32m      2\u001b[0m \u001b[0mdf\u001b[0m \u001b[0;34m=\u001b[0m \u001b[0mpd\u001b[0m\u001b[0;34m.\u001b[0m\u001b[0mDataFrame\u001b[0m\u001b[0;34m(\u001b[0m\u001b[0mcomp_list\u001b[0m\u001b[0;34m[\u001b[0m\u001b[0;34m'properties'\u001b[0m\u001b[0;34m]\u001b[0m\u001b[0;34m)\u001b[0m\u001b[0;34m\u001b[0m\u001b[0;34m\u001b[0m\u001b[0m\n\u001b[1;32m      3\u001b[0m \u001b[0mdf\u001b[0m\u001b[0;34m.\u001b[0m\u001b[0mshape\u001b[0m\u001b[0;34m\u001b[0m\u001b[0;34m\u001b[0m\u001b[0m\n",
      "\u001b[0;31mNameError\u001b[0m: name 'response' is not defined"
     ]
    }
   ],
   "source": [
    "comp_list = response.json()\n",
    "df = pd.DataFrame(comp_list['properties'])\n",
    "df.shape"
   ]
  },
  {
   "cell_type": "code",
   "execution_count": 539,
   "metadata": {},
   "outputs": [
    {
     "data": {
      "text/plain": [
       "(25, 46)"
      ]
     },
     "execution_count": 539,
     "metadata": {},
     "output_type": "execute_result"
    }
   ],
   "source": [
    "# df.insert(3, 'new', new)\n",
    "area_ids = [str(comp_list['area_info']['geom']['id'])] * len(comp_list['properties'])\n",
    "df.insert(43, 'area_id', area_ids)\n",
    "zip_codes = [d['zipcode'] for d in df['location']]\n",
    "df.insert(44, 'zip_code', zip_codes)\n",
    "city_states = [f\"{d['city']}, {d['state']}\" for d in df['location']]\n",
    "df.insert(45, 'city_state', city_states)\n",
    "location = [str(i) for i in df['location']]\n",
    "df.shape"
   ]
  },
  {
   "cell_type": "code",
   "execution_count": 540,
   "metadata": {},
   "outputs": [],
   "source": [
    "# # Reformat Bool Cols\n",
    "# assert type(df['instant_book'][0]) == numpy.bool_\n",
    "# assert type(df['business_ready'][0]) == numpy.bool_\n",
    "# assert type(df['superhost'][0]) == numpy.bool_\n",
    "\n",
    "# df['instant_book'] = [str(b).lower() for b in df['instant_book']]\n",
    "# df['business_ready'] = [str(b).lower() for b in df['business_ready']]\n",
    "# df['superhost'] = [str(b).lower() for b in df['superhost']]\n",
    "\n",
    "# assert type(df['instant_book'][0]) == str\n",
    "# assert type(df['business_ready'][0]) == str\n",
    "# assert type(df['superhost'][0]) == str"
   ]
  },
  {
   "cell_type": "code",
   "execution_count": 541,
   "metadata": {},
   "outputs": [
    {
     "data": {
      "text/plain": [
       "numpy.float64"
      ]
     },
     "execution_count": 541,
     "metadata": {},
     "output_type": "execute_result"
    }
   ],
   "source": [
    "type(df['rating_overall'][0])"
   ]
  },
  {
   "cell_type": "code",
   "execution_count": 586,
   "metadata": {},
   "outputs": [],
   "source": [
    "# Connect to DB\n",
    "import psycopg2\n",
    "import os\n",
    "from dotenv import load_dotenv\n",
    "import os\n",
    "\n",
    "\n",
    "load_dotenv()\n",
    "RDS_HOSTNAME = os.getenv(\"RDS_HOSTNAME\")\n",
    "RDS_PORT = os.getenv(\"RDS_PORT\")\n",
    "RDS_DB_NAME = os.getenv(\"RDS_DB_NAME\")\n",
    "RDS_USERNAME = os.getenv(\"RDS_USERNAME\")\n",
    "RDS_PASSWORD = os.getenv(\"RDS_PASSWORD\")\n",
    "\n",
    "conn = psycopg2.connect(\n",
    "    dbname=RDS_DB_NAME,\n",
    "    user=RDS_USERNAME,\n",
    "    password=RDS_PASSWORD,\n",
    "    host=RDS_HOSTNAME,\n",
    "    port=RDS_PORT\n",
    "    )\n",
    "curs = conn.cursor()\n",
    "data_list = [tuple(row) for row in df.itertuples(index=False)] "
   ]
  },
  {
   "cell_type": "code",
   "execution_count": 587,
   "metadata": {},
   "outputs": [
    {
     "ename": "UndefinedColumn",
     "evalue": "column \"house\" does not exist\nLINE 21:                 'nan', House, 2019-07-15,           \n                                ^\n",
     "output_type": "error",
     "traceback": [
      "\u001b[0;31m---------------------------------------------------------------------------\u001b[0m",
      "\u001b[0;31mUndefinedColumn\u001b[0m                           Traceback (most recent call last)",
      "\u001b[0;32m<ipython-input-587-91fe310a1829>\u001b[0m in \u001b[0;36m<module>\u001b[0;34m\u001b[0m\n\u001b[1;32m     36\u001b[0m         \"\"\"\n\u001b[1;32m     37\u001b[0m \u001b[0;34m\u001b[0m\u001b[0m\n\u001b[0;32m---> 38\u001b[0;31m     \u001b[0mcurs\u001b[0m\u001b[0;34m.\u001b[0m\u001b[0mexecute\u001b[0m\u001b[0;34m(\u001b[0m\u001b[0mQ_INSERT_STATEMENT\u001b[0m\u001b[0;34m)\u001b[0m\u001b[0;34m\u001b[0m\u001b[0;34m\u001b[0m\u001b[0m\n\u001b[0m",
      "\u001b[0;31mUndefinedColumn\u001b[0m: column \"house\" does not exist\nLINE 21:                 'nan', House, 2019-07-15,           \n                                ^\n"
     ]
    }
   ],
   "source": [
    "for row in data_list:    \n",
    "    Q_INSERT_STATEMENT = f\"\"\"\n",
    "        INSERT INTO comp_props (\n",
    "        instant_book, rating_overall, bathrooms,\n",
    "        revenue, listing_url, longitude, \n",
    "        extra_person_charge, property_type, listed_dt, \n",
    "        price_monthly, reviews, check_in, \n",
    "        airbnb_host_id, business_ready, price_weekly,\n",
    "        occ, days_r_ltm, scraped_dt, \n",
    "        img_prop, amenities, superhost,\n",
    "        price_nightly, num_res_ltm, img_count, \n",
    "        security_deposit, airbnb_property_id, bedrooms, \n",
    "        days_a_ltm, latitude, minimum_stay,\n",
    "        adr, check_out, response_time,\n",
    "        days_b_lmt, last_calendar_update, title, \n",
    "        loc, accommodates, room_type,  \n",
    "        img_cover, cleaning_fee, response_rate, \n",
    "        cancellation. area_id, zip_code,\n",
    "        city_state)\n",
    "        VALUES ({str(row[0]).lower()}, {float(row[1])}, {float(row[2])}, \n",
    "                {float(row[3])}, {str(row[4])}, {float(row[5])}, \n",
    "                {float(row[6])}, {str(row[7])}, {str(row[8])},           \n",
    "                {float(row[9])}, {int(row[10])}, '{str(row[11])}',          \n",
    "                {int(row[12])}, {str(row[13]).lower()}, {float(row[14])}, \n",
    "                {float(row[15])}, {int(row[16])}, {str(row[17])}, \n",
    "                ARRAY {str(row[18])}, ARRAY {str(row[19])}, '{str(row[20]).lower}', \n",
    "                {float(row[21])}, {int(row[22])}, {int(row[23])}, \n",
    "                {float(row[24])}, {int(row[25])}, {float(row[26])},\n",
    "                {int(row[27])}, {float(row[28])}, {int(row[29])},  \n",
    "                {float(row[30])}, '{str(row[31])}', {float(row[32])}, \n",
    "                {int(row[33])}, {str(row[34])}, '{str(row[35])}',\n",
    "                \"{str(row[36])}\", {int(row[37])}, {str(row[38])},\n",
    "                '{str(row[39])}', {float(row[40])}, {float(row[41])},     \n",
    "                {str(row[42])}, \"{str(row[43])}\", {int(row[44])},\n",
    "                {str(row[45])});\n",
    "        \"\"\"\n",
    "    \n",
    "    curs.execute(Q_INSERT_STATEMENT)"
   ]
  },
  {
   "cell_type": "code",
   "execution_count": 560,
   "metadata": {},
   "outputs": [],
   "source": [
    "#conn.commit()"
   ]
  },
  {
   "cell_type": "code",
   "execution_count": 1,
   "metadata": {},
   "outputs": [
    {
     "ename": "NameError",
     "evalue": "name 'conn' is not defined",
     "output_type": "error",
     "traceback": [
      "\u001b[0;31m---------------------------------------------------------------------------\u001b[0m",
      "\u001b[0;31mNameError\u001b[0m                                 Traceback (most recent call last)",
      "\u001b[0;32m<ipython-input-1-8dd0cd799055>\u001b[0m in \u001b[0;36m<module>\u001b[0;34m\u001b[0m\n\u001b[0;32m----> 1\u001b[0;31m \u001b[0mconn\u001b[0m\u001b[0;34m.\u001b[0m\u001b[0mclose\u001b[0m\u001b[0;34m(\u001b[0m\u001b[0;34m)\u001b[0m\u001b[0;34m\u001b[0m\u001b[0;34m\u001b[0m\u001b[0m\n\u001b[0m",
      "\u001b[0;31mNameError\u001b[0m: name 'conn' is not defined"
     ]
    }
   ],
   "source": [
    "conn.close()"
   ]
  },
  {
   "cell_type": "code",
   "execution_count": 511,
   "metadata": {},
   "outputs": [],
   "source": [
    "# a = 45\n",
    "# b = a + 3\n",
    "# print(f'--{a}-{a+1}-{b-1}--')\n",
    "# print(df.dtypes[a:b])\n",
    "# print('--------------')\n",
    "# print(data_list[0][a:b])"
   ]
  },
  {
   "cell_type": "code",
   "execution_count": 514,
   "metadata": {},
   "outputs": [
    {
     "name": "stdout",
     "output_type": "stream",
     "text": [
      "0\n",
      "True\n",
      "1\n",
      "7.8\n",
      "2\n",
      "7.0\n",
      "3\n",
      "287435\n",
      "4\n",
      "https://www.airbnb.com/rooms/36135973\n",
      "5\n",
      "-83.46441\n",
      "6\n",
      "nan\n",
      "7\n",
      "House\n",
      "8\n",
      "2019-07-15\n",
      "9\n",
      "nan\n",
      "10\n",
      "23\n",
      "11\n",
      "After 4:00 PM\n",
      "12\n",
      "225787808\n",
      "13\n",
      "False\n",
      "14\n",
      "nan\n",
      "15\n",
      "0.736695\n",
      "16\n",
      "263\n",
      "17\n",
      "2021-01-18\n",
      "18\n",
      "['https://a0.muscache.com/im/pictures/397cac0a-2553-4b12-8725-6339f380642f.jpg', 'https://a0.muscache.com/im/pictures/4fd0f059-244e-4e58-9542-2c8f544c7e08.jpg', 'https://a0.muscache.com/im/pictures/46d38823-df76-4624-8162-e56066ded0d8.jpg', 'https://a0.muscache.com/im/pictures/c6ef99ba-8f5b-4b45-81b7-e9dbb43c99e9.jpg', 'https://a0.muscache.com/im/pictures/62a0b984-f3e4-4939-8e19-ff9a35545f0c.jpg', 'https://a0.muscache.com/im/pictures/35787ed3-2c09-4c6d-99da-1ce5bbbaf368.jpg', 'https://a0.muscache.com/im/pictures/8fde0455-debf-4ba8-927c-44a119c73a10.jpg', 'https://a0.muscache.com/im/pictures/4810c511-f738-4f6f-8185-d2e1d65aa41b.jpg', 'https://a0.muscache.com/im/pictures/77566077-4bf4-46e6-8e1a-50ab1276d68d.jpg', 'https://a0.muscache.com/im/pictures/b83667d3-a9c7-4982-934b-fe19dc42a934.jpg', 'https://a0.muscache.com/im/pictures/ccd792dc-b885-4476-a5cb-256b2241a46c.jpg', 'https://a0.muscache.com/im/pictures/8e3e5f25-c50b-4a47-ad98-acaf851dee83.jpg', 'https://a0.muscache.com/im/pictures/e339c135-395a-4da3-b4c6-d6d2e3156b75.jpg', 'https://a0.muscache.com/im/pictures/e4cdeced-9da2-43ca-ab15-72266b739119.jpg', 'https://a0.muscache.com/im/pictures/804c3f3b-fe27-4390-b9f9-32a6abd05969.jpg', 'https://a0.muscache.com/im/pictures/c559e8a1-88e8-43cf-bdb0-76a002ec20c9.jpg', 'https://a0.muscache.com/im/pictures/e5956f91-21cb-4f40-a503-0d73e41c81e3.jpg', 'https://a0.muscache.com/im/pictures/b8c59e1d-a381-4551-841f-74bdc542e002.jpg', 'https://a0.muscache.com/im/pictures/2ad9cd74-5522-4cff-8d86-d94c5a2df2e4.jpg', 'https://a0.muscache.com/im/pictures/bcb04cca-2f4f-4b80-98b7-c2f80314adcc.jpg', 'https://a0.muscache.com/im/pictures/51443ec4-046f-490a-9ca3-61a4dac37b88.jpg', 'https://a0.muscache.com/im/pictures/fc77e540-760b-488e-b092-4991c3951580.jpg', 'https://a0.muscache.com/im/pictures/f744d2ac-bc69-4f69-8d9b-a5f5c6fa90f1.jpg', 'https://a0.muscache.com/im/pictures/4cbb5fe4-1576-49c7-8413-8d910c5c2028.jpg', 'https://a0.muscache.com/im/pictures/20c6d40f-cdf6-4f6d-9f50-d45b4d6a67dd.jpg', 'https://a0.muscache.com/im/pictures/beb005f0-ead3-406c-8b65-e3f83db1d792.jpg', 'https://a0.muscache.com/im/pictures/040e216a-7791-456d-acd5-70350412d26d.jpg', 'https://a0.muscache.com/im/pictures/66dce202-6ddb-461a-96bb-2d23c63fb4a5.jpg', 'https://a0.muscache.com/im/pictures/4c5cfa0c-d15f-49c5-8a31-543a0eb131d1.jpg', 'https://a0.muscache.com/im/pictures/8e46b5b0-c97b-4642-96ec-1da1637a761e.jpg', 'https://a0.muscache.com/im/pictures/afb6591a-aeed-4efe-bf38-4524d712054a.jpg', 'https://a0.muscache.com/im/pictures/0fc14277-e66c-47bd-bb12-c310c7e9124b.jpg', 'https://a0.muscache.com/im/pictures/6fff5036-c8fd-41ea-b67e-134d92691407.jpg', 'https://a0.muscache.com/im/pictures/3f1e9541-7e1b-4dbb-86c7-55b2c9a42ac6.jpg', 'https://a0.muscache.com/im/pictures/80fc1103-0103-4006-a63a-935fcd873f13.jpg', 'https://a0.muscache.com/im/pictures/ef210ddd-e0b5-43ad-b326-19a5811cb3d5.jpg', 'https://a0.muscache.com/im/pictures/a3864efa-a213-42f3-9231-0e2632d57f45.jpg', 'https://a0.muscache.com/im/pictures/6d69dab9-d18f-47d5-99be-0378aacfc47d.jpg', 'https://a0.muscache.com/im/pictures/9aa20cb8-fe0c-4a5b-8d8f-f251c5bd0998.jpg', 'https://a0.muscache.com/im/pictures/bd1b9245-b6ac-4605-ac80-52fd08e281b7.jpg', 'https://a0.muscache.com/im/pictures/0d5e2cdc-2550-499b-9c41-9bd479ba3e66.jpg', 'https://a0.muscache.com/im/pictures/e4499378-027b-417e-a872-8eb5f1ab0ba6.jpg', 'https://a0.muscache.com/im/pictures/e19f7344-c1a0-451b-997b-4350d6403d5a.jpg', 'https://a0.muscache.com/im/pictures/bf000ec2-6336-4d60-9b0e-dbd51f881b25.jpg', 'https://a0.muscache.com/im/pictures/ee6c42ea-07cb-43df-b4ad-1057688d32eb.jpg', 'https://a0.muscache.com/im/pictures/4413b873-4e6f-4792-815a-06f105a0eb56.jpg', 'https://a0.muscache.com/im/pictures/65bb6526-7c16-4b34-973f-7726d48edbab.jpg', 'https://a0.muscache.com/im/pictures/dd904e11-fcfb-4cbe-b1b4-22c59c713f64.jpg', 'https://a0.muscache.com/im/pictures/033c9531-7133-4756-8127-5cc12651bc4f.jpg', 'https://a0.muscache.com/im/pictures/0ce33cc2-4dc3-4879-983f-406aa8d4b05a.jpg', 'https://a0.muscache.com/im/pictures/4bfb83a3-e81c-4461-a333-919ed61531c2.jpg', 'https://a0.muscache.com/im/pictures/47a2f588-0b27-437e-ad5a-4bc62fdd033e.jpg', 'https://a0.muscache.com/im/pictures/641691c2-73a2-4443-b55d-731a22e5e246.jpg', 'https://a0.muscache.com/im/pictures/a487f49d-071d-432a-8b6d-ac3707324013.jpg', 'https://a0.muscache.com/im/pictures/3bf0f3cb-31f3-423d-9b50-9785e54b6b83.jpg', 'https://a0.muscache.com/im/pictures/73cddcfd-7ea6-42b2-bbc0-434d541d12d3.jpg', 'https://a0.muscache.com/im/pictures/5c632d03-6a25-417f-bec7-68a13acc790a.jpg', 'https://a0.muscache.com/im/pictures/967730c7-cfb6-4410-876f-893746538fb0.jpg', 'https://a0.muscache.com/im/pictures/8cffdd2e-d600-459f-95ff-8f0f95f33dc6.jpg', 'https://a0.muscache.com/im/pictures/e88599e3-e1ac-4e59-8c49-9162b9deafca.jpg', 'https://a0.muscache.com/im/pictures/d3656693-9bc2-4c7d-9515-d450c49c6886.jpg', 'https://a0.muscache.com/im/pictures/f536b084-03ab-493e-a7a0-6c3de0162a6b.jpg', 'https://a0.muscache.com/im/pictures/9e433998-442b-4507-a4cd-daf8ef6cb7ca.jpg', 'https://a0.muscache.com/im/pictures/372e93d7-0ec0-4935-bf05-a6f183f9af20.jpg', 'https://a0.muscache.com/im/pictures/6000ef01-af9e-4ca3-b62b-27561f0734e3.jpg', 'https://a0.muscache.com/im/pictures/6031b83b-8111-4438-beab-e575b9bfd89d.jpg', 'https://a0.muscache.com/im/pictures/d2c98e17-5a3e-407b-96e7-fdaccb7ff529.jpg', 'https://a0.muscache.com/im/pictures/d246f3ff-1f78-447c-8299-6fe683d0b209.jpg', 'https://a0.muscache.com/im/pictures/d1873867-406a-4503-9b72-255fa7c3e960.jpg', 'https://a0.muscache.com/im/pictures/ab25f406-9c44-4592-855b-8777f0283917.jpg', 'https://a0.muscache.com/im/pictures/6b14ca16-46b7-439e-965e-335fb95f8646.jpg', 'https://a0.muscache.com/im/pictures/491164d1-de68-4e10-b637-3269ce57c74e.jpg', 'https://a0.muscache.com/im/pictures/8d8c6798-a459-4224-86dd-a86351553344.jpg', 'https://a0.muscache.com/im/pictures/acfa620e-4c8b-4eaa-bc8c-8e026a64015f.jpg', 'https://a0.muscache.com/im/pictures/4ab0ae6a-8b59-4231-b988-2ed74fe41ece.jpg', 'https://a0.muscache.com/im/pictures/9e8913a3-2442-42db-a32d-982a25507a43.jpg', 'https://a0.muscache.com/im/pictures/ac95f045-94c0-4d3b-8fc6-12cdd0e4a28e.jpg', 'https://a0.muscache.com/im/pictures/d0a58746-7cb3-4b76-b95f-2629ad49e629.jpg', 'https://a0.muscache.com/im/pictures/c556173d-76a0-4d11-a4ce-591385370481.jpg', 'https://a0.muscache.com/im/pictures/5d018e47-93fb-46c9-8831-eff0b72be092.jpg', 'https://a0.muscache.com/im/pictures/c0730ae4-9059-479d-ac8f-103126889924.jpg', 'https://a0.muscache.com/im/pictures/eb11791d-d331-4d89-81ed-b625261c6a4a.jpg', 'https://a0.muscache.com/im/pictures/6bd3397f-835a-483d-9f6f-6c8866422ba6.jpg', 'https://a0.muscache.com/im/pictures/5cc0af33-b727-4edc-aac4-8a6952f8e69a.jpg', 'https://a0.muscache.com/im/pictures/a3611cd2-86a0-43bf-9756-c5e4711d72bc.jpg', 'https://a0.muscache.com/im/pictures/48365946-a257-494a-8ed9-b491cfbf053a.jpg', 'https://a0.muscache.com/im/pictures/c1f4be17-f00e-47a2-8348-c139a07a27f1.jpg', 'https://a0.muscache.com/im/pictures/10527b36-30d0-49a5-8a92-0ee5ef9d18c6.jpg', 'https://a0.muscache.com/im/pictures/c6ad6a0b-e217-4587-b2fd-d6c4578cc86a.jpg']\n",
      "19\n",
      "['ac', 'ethernet_connection', 'essentials', 'fireplace', 'heating', 'laptop-friendly', 'tv', 'wireless_internet', 'gym', 'jacuzzi', 'coffee_maker', 'cooking_basics', 'dishes_and_silverware', 'dishwasher', 'kitchen', 'microwave', 'refrigerator', 'oven', 'bed_linens', 'bbq_area', 'fire_extinguisher', 'carbon_monoxide_detector', 'smoke_detector']\n",
      "20\n",
      "False\n",
      "21\n",
      "566.0\n",
      "22\n",
      "67\n",
      "23\n",
      "89\n",
      "24\n",
      "nan\n",
      "25\n",
      "36135973\n",
      "26\n",
      "7\n",
      "27\n",
      "94\n",
      "28\n",
      "35.7411\n",
      "29\n",
      "1\n",
      "30\n",
      "1092.91\n",
      "31\n",
      "10:00 AM\n",
      "32\n",
      "nan\n",
      "33\n",
      "9\n",
      "34\n",
      "2019-08-17\n",
      "35\n",
      "Big Sky Lodge II, 7 Bedrooms, Sleeps 28, Theater, Arcades, Hot Tub, Gazebo\n",
      "36\n",
      "{'city': 'Gatlinburg', 'state': 'Tennessee', 'zipcode': '37738', 'msa': 'Sevierville, TN Micro Area', 'country': 'United States'}\n",
      "37\n",
      "16\n",
      "38\n",
      "E\n",
      "39\n",
      "https://a0.muscache.com/im/pictures/397cac0a-2553-4b12-8725-6339f380642f.jpg?aki_policy=x_large\n",
      "40\n",
      "295\n",
      "41\n",
      "96\n",
      "42\n",
      "super_strict_30\n",
      "43\n",
      "{'country': 1, 'state': 44, 'city': 79116}\n",
      "44\n",
      "37738\n",
      "45\n",
      "Gatlinburg, Tennessee\n"
     ]
    }
   ],
   "source": [
    "for i, value in enumerate(data_list[0]):\n",
    "    print(i)\n",
    "    print(value)"
   ]
  },
  {
   "cell_type": "code",
   "execution_count": null,
   "metadata": {},
   "outputs": [],
   "source": []
  }
 ],
 "metadata": {
  "kernelspec": {
   "display_name": "vrb-know",
   "language": "python",
   "name": "vrb-know"
  },
  "language_info": {
   "codemirror_mode": {
    "name": "ipython",
    "version": 3
   },
   "file_extension": ".py",
   "mimetype": "text/x-python",
   "name": "python",
   "nbconvert_exporter": "python",
   "pygments_lexer": "ipython3",
   "version": "3.8.1"
  }
 },
 "nbformat": 4,
 "nbformat_minor": 4
}
