{
 "cells": [
  {
   "cell_type": "code",
   "execution_count": 1,
   "metadata": {},
   "outputs": [],
   "source": [
    "import os\n",
    "from dotenv import load_dotenv\n",
    "import requests\n",
    "import json"
   ]
  },
  {
   "cell_type": "code",
   "execution_count": 2,
   "metadata": {},
   "outputs": [],
   "source": [
    "# Load API Key\n",
    "load_dotenv()\n",
    "AIRDNA_TOKEN = os.getenv(\"AIRDNA_TOKEN\")"
   ]
  },
  {
   "cell_type": "code",
   "execution_count": 3,
   "metadata": {},
   "outputs": [],
   "source": [
    "# Same for All API Calls\n",
    "HEADERS = {\"access_token\": AIRDNA_TOKEN}\n",
    "HOST = \"https://api.airdna.co/client/v1/\""
   ]
  },
  {
   "cell_type": "code",
   "execution_count": 5,
   "metadata": {},
   "outputs": [],
   "source": [
    "# MARKET SEARCH\n",
    "# {{HOST}}/client/{{VERSION_CLIENT}}/market/search?\n",
    "# access_token={{CLIENT_TOKEN}}&term='https://www.airbnb.com/rooms/15807599'\n",
    "# Country\n",
    "# City\n",
    "# Neighbourhood\n",
    "# State (US Only)\n",
    "# Metropolitan Statistical Area (US Only)\n",
    "# Zip Code (US Only)"
   ]
  },
  {
   "cell_type": "code",
   "execution_count": 23,
   "metadata": {},
   "outputs": [],
   "source": [
    "# Test Connection HERE <- Search Calls are Free\n",
    "# API CALL - Market Search - Find Gatlinburg Market ID\n",
    "endpoint = \"market/search\"\n",
    "url = HOST + endpoint\n",
    "\n",
    "params = {\n",
    "    \"access_token\": AIRDNA_TOKEN,\n",
    "    \"term\": \"gatlinburg\"\n",
    "}\n",
    "\n",
    "\n",
    "response = requests.request(\"GET\", url,  \n",
    "                            params=params)"
   ]
  },
  {
   "cell_type": "code",
   "execution_count": 24,
   "metadata": {},
   "outputs": [],
   "source": [
    "# Get Market ID\n",
    "gatlinburg_id = json['items'][0]['city']['id']\n",
    "\n",
    "# Other information Available from This Response:\n",
    "# - name, country, region, state, type, zipcode"
   ]
  },
  {
   "cell_type": "code",
   "execution_count": 25,
   "metadata": {},
   "outputs": [
    {
     "data": {
      "text/plain": [
       "79116"
      ]
     },
     "execution_count": 25,
     "metadata": {},
     "output_type": "execute_result"
    }
   ],
   "source": [
    "gatlinburg_id"
   ]
  },
  {
   "cell_type": "code",
   "execution_count": 4,
   "metadata": {},
   "outputs": [],
   "source": [
    "# MARKET SUMMARY\n",
    "# {{HOST}}/client/{{VERSION}}/market/summary?\n",
    "# access_token={{CLIENT_TOKEN}}&city_id=59380&region_id=12341&currency=usd\n",
    "\n",
    "# PARAMS\n",
    "# city_id\n",
    "# region_id\n",
    "# currency"
   ]
  },
  {
   "cell_type": "code",
   "execution_count": 28,
   "metadata": {},
   "outputs": [],
   "source": [
    "# API CALL - Market Summary - Get Info on Gatlinburg\n",
    "endpoint = \"market/summary\"\n",
    "url = HOST + endpoint\n",
    "\n",
    "params = {\n",
    "    \"access_token\": AIRDNA_TOKEN,\n",
    "    \"city_id\": gatlinburg_id\n",
    "}\n",
    "\n",
    "\n",
    "response = requests.request(\"GET\", url,  \n",
    "                            params=params)"
   ]
  },
  {
   "cell_type": "code",
   "execution_count": 45,
   "metadata": {},
   "outputs": [],
   "source": [
    "# Jasonify Results\n",
    "json = response.json()"
   ]
  },
  {
   "cell_type": "markdown",
   "metadata": {},
   "source": [
    "## Parcing Through Available Data at Market Summary Enpoint"
   ]
  },
  {
   "cell_type": "code",
   "execution_count": 124,
   "metadata": {},
   "outputs": [],
   "source": [
    "# Data Frame Dictionary\n",
    "dfd = {}"
   ]
  },
  {
   "cell_type": "code",
   "execution_count": 125,
   "metadata": {},
   "outputs": [
    {
     "data": {
      "text/plain": [
       "79116"
      ]
     },
     "execution_count": 125,
     "metadata": {},
     "output_type": "execute_result"
    }
   ],
   "source": [
    "# Market - Summary - Request_Info\n",
    "# COLS: city_id\n",
    "city_id = json['request_info']['city_id']\n",
    "dfd.update({'city_id': city_id})\n",
    "city_id"
   ]
  },
  {
   "cell_type": "code",
   "execution_count": 126,
   "metadata": {},
   "outputs": [
    {
     "data": {
      "text/plain": [
       "{'occ': {'50th_percentile': 0.741935483870968},\n",
       " 'adr': {'50th_percentile': 263.0},\n",
       " 'revenue': {'50th_percentile': 4745.0}}"
      ]
     },
     "execution_count": 126,
     "metadata": {},
     "output_type": "execute_result"
    }
   ],
   "source": [
    "# Market - Summary - Data - Calendar Months\n",
    "# adr -> Average Daily Rate\n",
    "# COLS: occ, adr, revenue\n",
    "ent_stats = json['data']['calendar_months']['room_type']['entire_place']\n",
    "ent_stats\n",
    "ent_stats_dict = {\n",
    "    'occ': ent_stats['occ']['50th_percentile'],\n",
    "    'adr': ent_stats['adr']['50th_percentile'],\n",
    "    'revenue': ent_stats['revenue']['50th_percentile']\n",
    "                 }\n",
    "dfd.update(ent_stats_dict)\n",
    "ent_stats"
   ]
  },
  {
   "cell_type": "code",
   "execution_count": 127,
   "metadata": {},
   "outputs": [
    {
     "data": {
      "text/plain": [
       "{'total_hosts': 642,\n",
       " 'superhosts': 343,\n",
       " 'multi_unit_hosts': 197,\n",
       " 'single_unit_hosts': 445}"
      ]
     },
     "execution_count": 127,
     "metadata": {},
     "output_type": "execute_result"
    }
   ],
   "source": [
    "# Market - Summary - Data - Host_Info - Hosts\n",
    "# COLS: total_hosts, superhosts, multi_unit_hosts, single_unit_hosts\n",
    "host_counts = json['data']['host_info']['hosts']\n",
    "dfd.update(host_counts)\n",
    "host_counts"
   ]
  },
  {
   "cell_type": "code",
   "execution_count": 128,
   "metadata": {},
   "outputs": [
    {
     "data": {
      "text/plain": [
       "{'multi_host_properties': 3104,\n",
       " 'total_properties': 3549,\n",
       " 'single_host_properties': 445}"
      ]
     },
     "execution_count": 128,
     "metadata": {},
     "output_type": "execute_result"
    }
   ],
   "source": [
    "# Market - Summary - Data - Host_Info - Host_Properties\n",
    "# COLS: multi_host_properties, total_properties, single_host_properties\n",
    "property_counts = json['data']['host_info']['host_properties']\n",
    "dfd.update(property_counts)\n",
    "property_counts"
   ]
  },
  {
   "cell_type": "code",
   "execution_count": 129,
   "metadata": {},
   "outputs": [
    {
     "data": {
      "text/plain": [
       "{'10-12': 2054, '1-3': 1066, '7-9': 667, '4-6': 816}"
      ]
     },
     "execution_count": 129,
     "metadata": {},
     "output_type": "execute_result"
    }
   ],
   "source": [
    "# Market - Summary - Data - Rental_Activity - Available\n",
    "# COLS:\n",
    "# TODO: ?- What is '10-12', '1-3', and such? -?\n",
    "# They are either length-of-stay or they are n-people\n",
    "available = json['data']['rental_activity']['available']\n",
    "available_dict = {\n",
    "    '10_12_available': available['10-12'],\n",
    "    '1_3_available': available['1-3'],\n",
    "    '7_9_available': available['7-9'],\n",
    "    '4_6_available': available['4-6']\n",
    "                 }\n",
    "\n",
    "dfd.update(available_dict)\n",
    "available"
   ]
  },
  {
   "cell_type": "code",
   "execution_count": 130,
   "metadata": {},
   "outputs": [
    {
     "data": {
      "text/plain": [
       "{'10-12': 435, '1-3': 1764, '7-9': 1230, '4-6': 1174}"
      ]
     },
     "execution_count": 130,
     "metadata": {},
     "output_type": "execute_result"
    }
   ],
   "source": [
    "# Market - Summary - Data - Rental_Activity - Booked\n",
    "# COLS:\n",
    "# TODO: ?- What is '10-12', '1-3', and such? -?\n",
    "# They are either length-of-stay or they are n-people\n",
    "booked = json['data']['rental_activity']['booked']\n",
    "booked_dict = {\n",
    "    '10_12_booked': booked['10-12'],\n",
    "    '1_3_booked': booked['1-3'],\n",
    "    '7_9_booked': booked['7-9'],\n",
    "    '4_6_booked': booked['4-6']\n",
    "                 }\n",
    "dfd.update(booked_dict)\n",
    "booked"
   ]
  },
  {
   "cell_type": "code",
   "execution_count": 131,
   "metadata": {},
   "outputs": [
    {
     "data": {
      "text/plain": [
       "{'0': 14.0, '1': 73.0, '2': 15.0, '3': 2.0, 'all': 104.0}"
      ]
     },
     "execution_count": 131,
     "metadata": {},
     "output_type": "execute_result"
    }
   ],
   "source": [
    "# Market - Summary - Data - Rental Counts - Counts - Private_Room\n",
    "# COLS: n_private_rooms\n",
    "n_private_rooms = json['data']['rental_counts']['counts']['private_room']['all']\n",
    "dfd.update({'n_private_rooms': n_private_rooms})\n",
    "json['data']['rental_counts']['counts']['private_room']"
   ]
  },
  {
   "cell_type": "code",
   "execution_count": 132,
   "metadata": {},
   "outputs": [
    {
     "data": {
      "text/plain": [
       "{'0': 112.0,\n",
       " '1': 815.0,\n",
       " '2': 1213.0,\n",
       " '3': 643.0,\n",
       " '4': 317.0,\n",
       " '5': 344.0,\n",
       " 'all': 3444.0}"
      ]
     },
     "execution_count": 132,
     "metadata": {},
     "output_type": "execute_result"
    }
   ],
   "source": [
    "# Market - Summary - Data - Rental Counts - Counts - Entire Place by n_rooms\n",
    "# COLS: rms0_rntl_cnt, rms1_rntl_cnt, rms3_rntl_cnt\n",
    "#       rms4_rntl_cnt, rms5plus_rntl_cnt, n_entire_place\n",
    "count_by_n_rooms = json['data']['rental_counts']['counts']['entire_place']\n",
    "count_by_n_rooms_dict = {\n",
    "    'n_rooms_0': count_by_n_rooms['0'],\n",
    "    'n_rooms_1': count_by_n_rooms['1'],\n",
    "    'n_rooms_2': count_by_n_rooms['2'],\n",
    "    'n_rooms_3': count_by_n_rooms['3'],\n",
    "    'n_rooms_4': count_by_n_rooms['4'],\n",
    "    'n_rooms_5plus': count_by_n_rooms['5'],\n",
    "    'tot_count_entire_place': count_by_n_rooms['all'],\n",
    "                        }\n",
    "\n",
    "dfd.update(count_by_n_rooms_dict)\n",
    "count_by_n_rooms"
   ]
  },
  {
   "cell_type": "code",
   "execution_count": 133,
   "metadata": {},
   "outputs": [],
   "source": [
    "# Market - Summary - Data - Rental Counts - Average\n",
    "# COLS: average_n_bedrooms, average_accomodates\n",
    "average = json['data']['rental_counts']['average']\n",
    "average_dict = {\n",
    "    'avg_n_rooms': average['bedrooms'],\n",
    "    'avg_accommodates': average['accommodates']\n",
    "}\n",
    "dfd.update(average_dict)"
   ]
  },
  {
   "cell_type": "code",
   "execution_count": 134,
   "metadata": {},
   "outputs": [
    {
     "data": {
      "text/plain": [
       "{'city_id': 79116,\n",
       " 'occ': 0.741935483870968,\n",
       " 'adr': 263.0,\n",
       " 'revenue': 4745.0,\n",
       " 'total_hosts': 642,\n",
       " 'superhosts': 343,\n",
       " 'multi_unit_hosts': 197,\n",
       " 'single_unit_hosts': 445,\n",
       " 'multi_host_properties': 3104,\n",
       " 'total_properties': 3549,\n",
       " 'single_host_properties': 445,\n",
       " '10_12_available': 2054,\n",
       " '1_3_available': 1066,\n",
       " '7_9_available': 667,\n",
       " '4_6_available': 816,\n",
       " '10_12_booked': 435,\n",
       " '1_3_booked': 1764,\n",
       " '7_9_booked': 1230,\n",
       " '4_6_booked': 1174,\n",
       " 'n_private_rooms': 104.0,\n",
       " 'n_rooms_0': 112.0,\n",
       " 'n_rooms_1': 815.0,\n",
       " 'n_rooms_2': 1213.0,\n",
       " 'n_rooms_3': 643.0,\n",
       " 'n_rooms_4': 317.0,\n",
       " 'n_rooms_5plus': 344.0,\n",
       " 'tot_count_entire_place': 3444.0,\n",
       " 'avg_n_rooms': 2.5,\n",
       " 'avg_accommodates': 7.6}"
      ]
     },
     "execution_count": 134,
     "metadata": {},
     "output_type": "execute_result"
    }
   ],
   "source": [
    "dfd"
   ]
  },
  {
   "cell_type": "code",
   "execution_count": 135,
   "metadata": {},
   "outputs": [],
   "source": [
    "import pandas as pd"
   ]
  },
  {
   "cell_type": "code",
   "execution_count": 139,
   "metadata": {},
   "outputs": [
    {
     "data": {
      "text/plain": [
       "city_id                   79116.000000\n",
       "occ                           0.741935\n",
       "adr                         263.000000\n",
       "revenue                    4745.000000\n",
       "total_hosts                 642.000000\n",
       "superhosts                  343.000000\n",
       "multi_unit_hosts            197.000000\n",
       "single_unit_hosts           445.000000\n",
       "multi_host_properties      3104.000000\n",
       "total_properties           3549.000000\n",
       "single_host_properties      445.000000\n",
       "10_12_available            2054.000000\n",
       "1_3_available              1066.000000\n",
       "7_9_available               667.000000\n",
       "4_6_available               816.000000\n",
       "10_12_booked                435.000000\n",
       "1_3_booked                 1764.000000\n",
       "7_9_booked                 1230.000000\n",
       "4_6_booked                 1174.000000\n",
       "n_private_rooms             104.000000\n",
       "n_rooms_0                   112.000000\n",
       "n_rooms_1                   815.000000\n",
       "n_rooms_2                  1213.000000\n",
       "n_rooms_3                   643.000000\n",
       "n_rooms_4                   317.000000\n",
       "n_rooms_5plus               344.000000\n",
       "tot_count_entire_place     3444.000000\n",
       "avg_n_rooms                   2.500000\n",
       "avg_accommodates              7.600000\n",
       "dtype: float64"
      ]
     },
     "execution_count": 139,
     "metadata": {},
     "output_type": "execute_result"
    }
   ],
   "source": [
    "gat_df_row = pd.Series(dfd)\n",
    "gat_df_row"
   ]
  },
  {
   "cell_type": "code",
   "execution_count": null,
   "metadata": {},
   "outputs": [],
   "source": []
  }
 ],
 "metadata": {
  "kernelspec": {
   "display_name": "vrb-know",
   "language": "python",
   "name": "vrb-know"
  },
  "language_info": {
   "codemirror_mode": {
    "name": "ipython",
    "version": 3
   },
   "file_extension": ".py",
   "mimetype": "text/x-python",
   "name": "python",
   "nbconvert_exporter": "python",
   "pygments_lexer": "ipython3",
   "version": "3.8.1"
  }
 },
 "nbformat": 4,
 "nbformat_minor": 4
}
