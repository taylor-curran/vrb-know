{
 "cells": [
  {
   "cell_type": "code",
   "execution_count": 1,
   "id": "micro-protest",
   "metadata": {},
   "outputs": [],
   "source": [
    "import pandas as pd"
   ]
  },
  {
   "cell_type": "code",
   "execution_count": 2,
   "id": "literary-textbook",
   "metadata": {},
   "outputs": [],
   "source": [
    "df = pd.read_csv('18_revenue_state_and_local_summary.csv')\n",
    "# Data Found At:\n",
    "# https://www.lincolninst.edu/research-data/data-toolkits/significant-features-property-tax/government-finance-data/summary-27\n",
    "# More Notes:\n",
    "# https://www.notion.so/Lincoln-Institute-Data-024b8bdbc77a4b85bc4524faa0ce5a6e"
   ]
  },
  {
   "cell_type": "code",
   "execution_count": 3,
   "id": "based-analyst",
   "metadata": {},
   "outputs": [
    {
     "name": "stdout",
     "output_type": "stream",
     "text": [
      "(52, 5)\n"
     ]
    },
    {
     "data": {
      "text/html": [
       "<div>\n",
       "<style scoped>\n",
       "    .dataframe tbody tr th:only-of-type {\n",
       "        vertical-align: middle;\n",
       "    }\n",
       "\n",
       "    .dataframe tbody tr th {\n",
       "        vertical-align: top;\n",
       "    }\n",
       "\n",
       "    .dataframe thead th {\n",
       "        text-align: right;\n",
       "    }\n",
       "</style>\n",
       "<table border=\"1\" class=\"dataframe\">\n",
       "  <thead>\n",
       "    <tr style=\"text-align: right;\">\n",
       "      <th></th>\n",
       "      <th>State</th>\n",
       "      <th>Total (millions of dollars)</th>\n",
       "      <th>Per Capita (dollars)</th>\n",
       "      <th>Percentage of General Revenue</th>\n",
       "      <th>Percentage of Personal Income</th>\n",
       "    </tr>\n",
       "  </thead>\n",
       "  <tbody>\n",
       "    <tr>\n",
       "      <th>0</th>\n",
       "      <td>United States</td>\n",
       "      <td>$547,039</td>\n",
       "      <td>$1,667</td>\n",
       "      <td>16.6%</td>\n",
       "      <td>3.1%</td>\n",
       "    </tr>\n",
       "    <tr>\n",
       "      <th>1</th>\n",
       "      <td>Alabama</td>\n",
       "      <td>2921</td>\n",
       "      <td>596</td>\n",
       "      <td>7.0%</td>\n",
       "      <td>1.4%</td>\n",
       "    </tr>\n",
       "    <tr>\n",
       "      <th>2</th>\n",
       "      <td>Alaska</td>\n",
       "      <td>1614</td>\n",
       "      <td>2206</td>\n",
       "      <td>14.0%</td>\n",
       "      <td>3.6%</td>\n",
       "    </tr>\n",
       "    <tr>\n",
       "      <th>3</th>\n",
       "      <td>Arizona</td>\n",
       "      <td>8053</td>\n",
       "      <td>1106</td>\n",
       "      <td>14.7%</td>\n",
       "      <td>2.5%</td>\n",
       "    </tr>\n",
       "    <tr>\n",
       "      <th>4</th>\n",
       "      <td>Arkansas</td>\n",
       "      <td>2334</td>\n",
       "      <td>774</td>\n",
       "      <td>9.0%</td>\n",
       "      <td>1.8%</td>\n",
       "    </tr>\n",
       "  </tbody>\n",
       "</table>\n",
       "</div>"
      ],
      "text/plain": [
       "           State Total (millions of dollars) Per Capita (dollars)  \\\n",
       "0  United States                    $547,039               $1,667   \n",
       "1        Alabama                        2921                  596   \n",
       "2         Alaska                        1614                 2206   \n",
       "3        Arizona                        8053                 1106   \n",
       "4       Arkansas                        2334                  774   \n",
       "\n",
       "  Percentage of General Revenue Percentage of Personal Income  \n",
       "0                         16.6%                          3.1%  \n",
       "1                          7.0%                          1.4%  \n",
       "2                         14.0%                          3.6%  \n",
       "3                         14.7%                          2.5%  \n",
       "4                          9.0%                          1.8%  "
      ]
     },
     "execution_count": 3,
     "metadata": {},
     "output_type": "execute_result"
    }
   ],
   "source": [
    "print(df.shape)\n",
    "df.head()"
   ]
  },
  {
   "cell_type": "code",
   "execution_count": null,
   "id": "informed-belly",
   "metadata": {},
   "outputs": [],
   "source": []
  },
  {
   "cell_type": "code",
   "execution_count": null,
   "id": "practical-absence",
   "metadata": {},
   "outputs": [],
   "source": []
  }
 ],
 "metadata": {
  "kernelspec": {
   "display_name": "vrb-know",
   "language": "python",
   "name": "vrb-know"
  },
  "language_info": {
   "codemirror_mode": {
    "name": "ipython",
    "version": 3
   },
   "file_extension": ".py",
   "mimetype": "text/x-python",
   "name": "python",
   "nbconvert_exporter": "python",
   "pygments_lexer": "ipython3",
   "version": "3.8.1"
  }
 },
 "nbformat": 4,
 "nbformat_minor": 5
}
