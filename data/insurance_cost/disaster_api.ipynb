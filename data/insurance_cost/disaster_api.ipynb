{
 "cells": [
  {
   "cell_type": "code",
   "execution_count": 1,
   "id": "planned-excitement",
   "metadata": {},
   "outputs": [],
   "source": [
    "import requests"
   ]
  },
  {
   "cell_type": "code",
   "execution_count": 2,
   "id": "precious-typing",
   "metadata": {},
   "outputs": [],
   "source": [
    "# Data Source\n",
    "# https://www.fema.gov/openfema-data-page/disaster-declarations-summaries-v2"
   ]
  },
  {
   "cell_type": "code",
   "execution_count": 3,
   "id": "fleet-radio",
   "metadata": {},
   "outputs": [],
   "source": [
    "url_base = 'https://www.fema.gov/api/open/v2/DisasterDeclarationsSummaries'"
   ]
  },
  {
   "cell_type": "code",
   "execution_count": 4,
   "id": "correct-place",
   "metadata": {},
   "outputs": [],
   "source": [
    "# response = requests.request(method='get', url=url_base)"
   ]
  },
  {
   "cell_type": "code",
   "execution_count": 5,
   "id": "composite-music",
   "metadata": {},
   "outputs": [],
   "source": [
    "# response.json()"
   ]
  },
  {
   "cell_type": "code",
   "execution_count": null,
   "id": "understood-technician",
   "metadata": {},
   "outputs": [],
   "source": []
  }
 ],
 "metadata": {
  "kernelspec": {
   "display_name": "vrb-know",
   "language": "python",
   "name": "vrb-know"
  },
  "language_info": {
   "codemirror_mode": {
    "name": "ipython",
    "version": 3
   },
   "file_extension": ".py",
   "mimetype": "text/x-python",
   "name": "python",
   "nbconvert_exporter": "python",
   "pygments_lexer": "ipython3",
   "version": "3.8.1"
  }
 },
 "nbformat": 4,
 "nbformat_minor": 5
}
