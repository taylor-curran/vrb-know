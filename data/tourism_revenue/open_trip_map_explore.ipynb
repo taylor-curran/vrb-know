{
 "cells": [
  {
   "cell_type": "code",
   "execution_count": 1,
   "id": "developmental-longer",
   "metadata": {},
   "outputs": [],
   "source": [
    "import os\n",
    "from dotenv import load_dotenv\n",
    "import requests\n",
    "import json"
   ]
  },
  {
   "cell_type": "code",
   "execution_count": null,
   "id": "seeing-prize",
   "metadata": {},
   "outputs": [],
   "source": [
    "# This is Some Information that Might be Useful To Us ->\n",
    "# Pertaining to TYPE of tourism.... it is lacking in tourist stats or numbers."
   ]
  },
  {
   "cell_type": "code",
   "execution_count": 14,
   "id": "pacific-cologne",
   "metadata": {},
   "outputs": [],
   "source": [
    "# Docs:\n",
    "# https://opentripmap.io/docs"
   ]
  },
  {
   "cell_type": "code",
   "execution_count": 2,
   "id": "electric-problem",
   "metadata": {},
   "outputs": [],
   "source": [
    "import pandas as pd"
   ]
  },
  {
   "cell_type": "code",
   "execution_count": 3,
   "id": "supported-charge",
   "metadata": {},
   "outputs": [],
   "source": [
    "load_dotenv()\n",
    "api_key = os.getenv(\"OPEN_TRIP_MAP_TOKEN\")"
   ]
  },
  {
   "cell_type": "markdown",
   "id": "conservative-norway",
   "metadata": {},
   "source": [
    "### Geoname -> To Find Lat and Lon Given City Name"
   ]
  },
  {
   "cell_type": "code",
   "execution_count": 4,
   "id": "apart-massage",
   "metadata": {},
   "outputs": [
    {
     "data": {
      "text/plain": [
       "{'name': 'Gatlinburg',\n",
       " 'country': 'US',\n",
       " 'lat': 35.71453,\n",
       " 'lon': -83.51189,\n",
       " 'population': 4184,\n",
       " 'timezone': 'America/New_York',\n",
       " 'status': 'OK'}"
      ]
     },
     "execution_count": 4,
     "metadata": {},
     "output_type": "execute_result"
    }
   ],
   "source": [
    "# Geoname\n",
    "# COLS: Population, Timezone, Lat, Lon\n",
    "url = 'https://api.opentripmap.com/0.1/en/places/geoname'\n",
    "    \n",
    "params = {\n",
    "\t\"apikey\": api_key,\n",
    "    \"name\": 'Gatlinburg',\n",
    "    \"country\": \"US\"     # Must Be 2 Characters\n",
    "\t}\n",
    "\n",
    "response = requests.request(\"GET\", url, params=params)\n",
    "json = response.json()\n",
    "json"
   ]
  },
  {
   "cell_type": "markdown",
   "id": "thirty-guatemala",
   "metadata": {},
   "source": [
    "### BBBox -> Attraction Names and Types"
   ]
  },
  {
   "cell_type": "code",
   "execution_count": 5,
   "id": "becoming-fellowship",
   "metadata": {},
   "outputs": [],
   "source": [
    "url = 'https://api.opentripmap.com/0.1/en/places/bbox'\n",
    "    \n",
    "params = {\n",
    "\t\"apikey\": api_key,\n",
    "    \"lon_min\": -88, \n",
    "    \"lon_max\": -80,   \n",
    "\t\"lat_min\": 34,\n",
    "    \"lat_max\": 36\n",
    "    }\n",
    "\n",
    "response = requests.request(\"GET\", url, params=params)\n",
    "json = response.json()"
   ]
  },
  {
   "cell_type": "code",
   "execution_count": 6,
   "id": "verified-raleigh",
   "metadata": {},
   "outputs": [
    {
     "data": {
      "text/plain": [
       "0    {'type': 'Feature', 'id': '138328', 'geometry'...\n",
       "1    {'type': 'Feature', 'id': '169259', 'geometry'...\n",
       "2    {'type': 'Feature', 'id': '202071', 'geometry'...\n",
       "3    {'type': 'Feature', 'id': '236467', 'geometry'...\n",
       "4    {'type': 'Feature', 'id': '268037', 'geometry'...\n",
       "Name: features, dtype: object"
      ]
     },
     "execution_count": 6,
     "metadata": {},
     "output_type": "execute_result"
    }
   ],
   "source": [
    "df = pd.DataFrame(json)\n",
    "feature_array = df['features']\n",
    "feature_array.head()"
   ]
  },
  {
   "cell_type": "code",
   "execution_count": 7,
   "id": "artificial-editing",
   "metadata": {},
   "outputs": [
    {
     "data": {
      "text/plain": [
       "'Oconaluftee Visitor Center'"
      ]
     },
     "execution_count": 7,
     "metadata": {},
     "output_type": "execute_result"
    }
   ],
   "source": [
    "first_name = feature_array[0]['properties']['name']\n",
    "first_name"
   ]
  },
  {
   "cell_type": "code",
   "execution_count": 8,
   "id": "continent-worthy",
   "metadata": {},
   "outputs": [
    {
     "name": "stdout",
     "output_type": "stream",
     "text": [
      "historic,museums,archaeology,cultural,interesting_places,other_museums,other_archaeological_sites\n",
      "religion,churches,interesting_places,other_churches\n",
      "religion,churches,interesting_places,other_churches\n",
      "historic_architecture,architecture,interesting_places,other_buildings_and_structures\n",
      "historic_architecture,architecture,accomodations,interesting_places,other_hotels,other_buildings_and_structures\n",
      "historic_architecture,architecture,interesting_places,other_buildings_and_structures\n",
      "historic_architecture,architecture,interesting_places,other_buildings_and_structures\n",
      "historic_architecture,architecture,interesting_places,other_buildings_and_structures\n",
      "historic_architecture,architecture,interesting_places,other_buildings_and_structures\n",
      "religion,churches,interesting_places,other_churches\n",
      "historic_architecture,architecture,interesting_places,other_buildings_and_structures\n",
      "industrial_facilities,dams,interesting_places\n",
      "historic_architecture,architecture,interesting_places,farms\n",
      "historic_architecture,architecture,interesting_places,other_buildings_and_structures\n",
      "historic_architecture,architecture,interesting_places,other_buildings_and_structures\n",
      "historic_architecture,architecture,interesting_places,other_buildings_and_structures\n",
      "historic_architecture,architecture,interesting_places,other_buildings_and_structures\n",
      "historic_architecture,architecture,interesting_places,other_buildings_and_structures\n",
      "industrial_facilities,dams,historical_places,historic,interesting_places,historic_districts\n",
      "historic_architecture,architecture,interesting_places,other_buildings_and_structures\n"
     ]
    }
   ],
   "source": [
    "# Properties Keys: ['xid', 'name', 'rate', 'osm', 'wikidata', 'kinds']\n",
    "for dic in feature_array[:20]:\n",
    "    print(dic['properties']['kinds'])"
   ]
  },
  {
   "cell_type": "code",
   "execution_count": 9,
   "id": "public-tender",
   "metadata": {},
   "outputs": [
    {
     "name": "stdout",
     "output_type": "stream",
     "text": [
      "Oconaluftee Visitor Center\n",
      "First Presbyterian Church\n",
      "First Baptist Church\n",
      "Marysville School\n",
      "Cornwell Inn\n",
      "Tapp's Art Center\n",
      "Bouchier Building\n",
      "Strom Thurmond Federal Building and United States Courthouse\n",
      "Hagood-Mauldin House\n",
      "Fairview Presbyterian Church\n",
      "Fountain Inn Elementary School\n",
      "Wheeler Dam\n",
      "Forks of Cypress\n",
      "Rogers Department Store\n",
      "Boxwood Plantation Slave Quarter\n",
      "Laurens County Courthouse\n",
      "Chattanooga School for the Arts and Sciences\n",
      "Redstone Test Stand\n",
      "Great Falls Dam\n",
      "Tennessee School for Deaf\n"
     ]
    }
   ],
   "source": [
    "for dic in feature_array[:20]:\n",
    "    print(dic['properties']['name'])"
   ]
  },
  {
   "cell_type": "code",
   "execution_count": 10,
   "id": "painted-interaction",
   "metadata": {},
   "outputs": [
    {
     "name": "stdout",
     "output_type": "stream",
     "text": [
      "W237614621\n",
      "W256472770\n",
      "W283893869\n",
      "W305799031\n",
      "W325833291\n",
      "W330002629\n",
      "W330010798\n",
      "W330018868\n",
      "W360000385\n",
      "W375773905\n",
      "W402217213\n",
      "W442442533\n",
      "W445113111\n",
      "W452138281\n",
      "W460559405\n",
      "W492881341\n",
      "W498075226\n",
      "W512688320\n",
      "N356806256\n",
      "N356852158\n"
     ]
    }
   ],
   "source": [
    "for dic in feature_array[:20]:\n",
    "    print(dic['properties']['xid'])"
   ]
  },
  {
   "cell_type": "markdown",
   "id": "comparative-intelligence",
   "metadata": {},
   "source": [
    "### Detailed Information by XID Found Above"
   ]
  },
  {
   "cell_type": "code",
   "execution_count": 11,
   "id": "fancy-association",
   "metadata": {},
   "outputs": [],
   "source": [
    "# Smokey Mountains\n",
    "smokey_mountains_json_response = {'type': 'Feature',\n",
    "   'id': '3435372',\n",
    "   'geometry': {'type': 'Point', 'coordinates': [-83.402199, 35.634521]},\n",
    "   'properties': {'xid': 'R2131838',\n",
    "    'name': 'Great Smoky Mountains National Park',\n",
    "    'rate': 7,\n",
    "    'osm': 'relation/2131838',\n",
    "    'wikidata': 'Q464004',\n",
    "    'kinds': 'gardens_and_parks,urban_environment,cultural,interesting_places,natural,nature_reserves,national_parks'}}\n",
    "\n",
    "# R2131838"
   ]
  },
  {
   "cell_type": "code",
   "execution_count": 12,
   "id": "italian-coaching",
   "metadata": {},
   "outputs": [
    {
     "data": {
      "text/plain": [
       "{'xid': 'R2131838',\n",
       " 'name': 'Great Smoky Mountains National Park',\n",
       " 'address': {'path': 'Boulevard Trail',\n",
       "  'state': 'Tennessee',\n",
       "  'county': 'Sevier County',\n",
       "  'hamlet': 'Fort Harry',\n",
       "  'country': 'United States of America',\n",
       "  'country_code': 'us'},\n",
       " 'rate': '3h',\n",
       " 'osm': 'relation/2131838',\n",
       " 'bbox': {'lon_min': -84.013892,\n",
       "  'lon_max': -82.998041,\n",
       "  'lat_min': 35.4269,\n",
       "  'lat_max': 35.841393},\n",
       " 'wikidata': 'Q464004',\n",
       " 'kinds': 'gardens_and_parks,urban_environment,cultural,interesting_places,natural,nature_reserves,national_parks',\n",
       " 'voyage': 'https://en.wikivoyage.org/wiki/Great%20Smoky%20Mountains%20National%20Park',\n",
       " 'url': 'https://www.nps.gov/grsm;https://www.nps.gov/grsm/index.htm',\n",
       " 'sources': {'geometry': 'osm', 'attributes': ['osm', 'wikidata']},\n",
       " 'otm': 'https://opentripmap.com/en/card/R2131838',\n",
       " 'wikipedia': 'https://en.wikipedia.org/wiki/Great%20Smoky%20Mountains%20National%20Park',\n",
       " 'image': 'https://commons.wikimedia.org/wiki/File:Great_Smoky_Mountains_Overlook.JPG',\n",
       " 'preview': {'source': 'https://upload.wikimedia.org/wikipedia/commons/thumb/f/fc/Great_Smoky_Mountains_Overlook.JPG/400px-Great_Smoky_Mountains_Overlook.JPG',\n",
       "  'height': 300,\n",
       "  'width': 400},\n",
       " 'wikipedia_extracts': {'title': 'en:Great Smoky Mountains National Park',\n",
       "  'text': 'Great Smoky Mountains National Park is an American national park and a UNESCO World Heritage Site that straddles the ridgeline of the Great Smoky Mountains, part of the Blue Ridge Mountains, which are a division of the larger Appalachian Mountain chain. The border between Tennessee and North Carolina runs northeast to southwest through the centerline of the park. Great Smoky Mountains is the most visited national park in the United States with over 11.3 million recreational visitors in 2016. The Appalachian Trail passes through the center of the park on its route from Maine to Georgia. The park was chartered by the United States Congress in 1934 and officially dedicated by President Franklin D. Roosevelt in 1940.',\n",
       "  'html': '<p><b>Great Smoky Mountains National Park</b> is an American national park and a UNESCO World Heritage Site that straddles the ridgeline of the Great Smoky Mountains, part of the Blue Ridge Mountains, which are a division of the larger Appalachian Mountain chain. The border between Tennessee and North Carolina runs northeast to southwest through the centerline of the park. Great Smoky Mountains is the most visited national park in the United States with over 11.3 million recreational visitors in 2016. The Appalachian Trail passes through the center of the park on its route from Maine to Georgia. The park was chartered by the United States Congress in 1934 and officially dedicated by President Franklin D. Roosevelt in 1940.</p>'},\n",
       " 'point': {'lon': -83.402199, 'lat': 35.634521}}"
      ]
     },
     "execution_count": 12,
     "metadata": {},
     "output_type": "execute_result"
    }
   ],
   "source": [
    "url = 'https://api.opentripmap.com/0.1/en/places/xid/' + \"R2131838\"\n",
    "\n",
    "params = {\n",
    "\t\"apikey\": api_key\n",
    "    }\n",
    "\n",
    "response = requests.request(\"GET\", url, params=params)\n",
    "json = response.json()\n",
    "json"
   ]
  },
  {
   "cell_type": "code",
   "execution_count": null,
   "id": "accessible-thumb",
   "metadata": {},
   "outputs": [],
   "source": []
  }
 ],
 "metadata": {
  "kernelspec": {
   "display_name": "vrb-know",
   "language": "python",
   "name": "vrb-know"
  },
  "language_info": {
   "codemirror_mode": {
    "name": "ipython",
    "version": 3
   },
   "file_extension": ".py",
   "mimetype": "text/x-python",
   "name": "python",
   "nbconvert_exporter": "python",
   "pygments_lexer": "ipython3",
   "version": "3.8.1"
  }
 },
 "nbformat": 4,
 "nbformat_minor": 5
}
