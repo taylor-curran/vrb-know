{
 "cells": [
  {
   "cell_type": "markdown",
   "id": "documented-insurance",
   "metadata": {},
   "source": [
    "### Data Could be Interesting on Account of Seasonal Trends?\n",
    "#### Might not be worth the work of decoding the col names\n",
    "# Non_Bus_Travel is good to go and highly informative\n",
    "\n",
    "I think..."
   ]
  },
  {
   "cell_type": "code",
   "execution_count": 143,
   "id": "adaptive-bonus",
   "metadata": {},
   "outputs": [],
   "source": [
    "import pandas as pd"
   ]
  },
  {
   "cell_type": "code",
   "execution_count": null,
   "id": "possible-driving",
   "metadata": {},
   "outputs": [],
   "source": [
    "# Data Source\n",
    "# https://www.fhwa.dot.gov/policyinformation/tables/trafficmonitoring/"
   ]
  },
  {
   "cell_type": "code",
   "execution_count": 135,
   "id": "ideal-physics",
   "metadata": {},
   "outputs": [
    {
     "name": "stdout",
     "output_type": "stream",
     "text": [
      "(7429, 22)\n"
     ]
    },
    {
     "data": {
      "text/html": [
       "<div>\n",
       "<style scoped>\n",
       "    .dataframe tbody tr th:only-of-type {\n",
       "        vertical-align: middle;\n",
       "    }\n",
       "\n",
       "    .dataframe tbody tr th {\n",
       "        vertical-align: top;\n",
       "    }\n",
       "\n",
       "    .dataframe thead th {\n",
       "        text-align: right;\n",
       "    }\n",
       "</style>\n",
       "<table border=\"1\" class=\"dataframe\">\n",
       "  <thead>\n",
       "    <tr style=\"text-align: right;\">\n",
       "      <th></th>\n",
       "      <th>id</th>\n",
       "      <th>big_neg_int</th>\n",
       "      <th>lrs_location_point</th>\n",
       "      <th>big_neg_float</th>\n",
       "      <th>trailing_float</th>\n",
       "      <th>state_code</th>\n",
       "      <th>id2</th>\n",
       "      <th>one_d</th>\n",
       "      <th>one_d2</th>\n",
       "      <th>small_int2</th>\n",
       "      <th>...</th>\n",
       "      <th>longitude</th>\n",
       "      <th>small_float</th>\n",
       "      <th>a_code</th>\n",
       "      <th>small_float2</th>\n",
       "      <th>small_float3</th>\n",
       "      <th>zero</th>\n",
       "      <th>small_int3</th>\n",
       "      <th>lt1_float</th>\n",
       "      <th>small_int4</th>\n",
       "      <th>On NHS</th>\n",
       "    </tr>\n",
       "  </thead>\n",
       "  <tbody>\n",
       "    <tr>\n",
       "      <th>0</th>\n",
       "      <td>3327</td>\n",
       "      <td>-159393066</td>\n",
       "      <td>21968091</td>\n",
       "      <td>-159.3931</td>\n",
       "      <td>21.9681</td>\n",
       "      <td>15</td>\n",
       "      <td>50015</td>\n",
       "      <td>2</td>\n",
       "      <td>1</td>\n",
       "      <td>13</td>\n",
       "      <td>...</td>\n",
       "      <td>-159.3931</td>\n",
       "      <td>2</td>\n",
       "      <td>WIM</td>\n",
       "      <td>2</td>\n",
       "      <td>2</td>\n",
       "      <td>2</td>\n",
       "      <td>12</td>\n",
       "      <td>0.0</td>\n",
       "      <td>7</td>\n",
       "      <td>Y</td>\n",
       "    </tr>\n",
       "    <tr>\n",
       "      <th>1</th>\n",
       "      <td>5596</td>\n",
       "      <td>-159413420</td>\n",
       "      <td>22209603</td>\n",
       "      <td>-159.4134</td>\n",
       "      <td>22.2096</td>\n",
       "      <td>15</td>\n",
       "      <td>300</td>\n",
       "      <td>4</td>\n",
       "      <td>1</td>\n",
       "      <td>13</td>\n",
       "      <td>...</td>\n",
       "      <td>-159.4134</td>\n",
       "      <td>1</td>\n",
       "      <td>VOL</td>\n",
       "      <td>1</td>\n",
       "      <td>0</td>\n",
       "      <td>0</td>\n",
       "      <td>82</td>\n",
       "      <td>0.0</td>\n",
       "      <td>7</td>\n",
       "      <td>Y</td>\n",
       "    </tr>\n",
       "    <tr>\n",
       "      <th>2</th>\n",
       "      <td>5317</td>\n",
       "      <td>-156689245</td>\n",
       "      <td>20912993</td>\n",
       "      <td>-156.6892</td>\n",
       "      <td>20.9130</td>\n",
       "      <td>15</td>\n",
       "      <td>400</td>\n",
       "      <td>4</td>\n",
       "      <td>1</td>\n",
       "      <td>13</td>\n",
       "      <td>...</td>\n",
       "      <td>-156.6892</td>\n",
       "      <td>2</td>\n",
       "      <td>VOL</td>\n",
       "      <td>2</td>\n",
       "      <td>0</td>\n",
       "      <td>0</td>\n",
       "      <td>82</td>\n",
       "      <td>0.0</td>\n",
       "      <td>9</td>\n",
       "      <td>Y</td>\n",
       "    </tr>\n",
       "    <tr>\n",
       "      <th>3</th>\n",
       "      <td>1915</td>\n",
       "      <td>-156502590</td>\n",
       "      <td>20923490</td>\n",
       "      <td>-156.5026</td>\n",
       "      <td>20.9235</td>\n",
       "      <td>15</td>\n",
       "      <td>340005</td>\n",
       "      <td>4</td>\n",
       "      <td>1</td>\n",
       "      <td>13</td>\n",
       "      <td>...</td>\n",
       "      <td>-156.5026</td>\n",
       "      <td>1</td>\n",
       "      <td>CLS</td>\n",
       "      <td>1</td>\n",
       "      <td>1</td>\n",
       "      <td>0</td>\n",
       "      <td>12</td>\n",
       "      <td>0.0</td>\n",
       "      <td>9</td>\n",
       "      <td>Y</td>\n",
       "    </tr>\n",
       "    <tr>\n",
       "      <th>4</th>\n",
       "      <td>3612</td>\n",
       "      <td>-156445237</td>\n",
       "      <td>20741847</td>\n",
       "      <td>-156.4452</td>\n",
       "      <td>20.7418</td>\n",
       "      <td>15</td>\n",
       "      <td>31069</td>\n",
       "      <td>1</td>\n",
       "      <td>1</td>\n",
       "      <td>13</td>\n",
       "      <td>...</td>\n",
       "      <td>-156.4452</td>\n",
       "      <td>2</td>\n",
       "      <td>CLS</td>\n",
       "      <td>2</td>\n",
       "      <td>2</td>\n",
       "      <td>0</td>\n",
       "      <td>12</td>\n",
       "      <td>0.0</td>\n",
       "      <td>9</td>\n",
       "      <td>Y</td>\n",
       "    </tr>\n",
       "  </tbody>\n",
       "</table>\n",
       "<p>5 rows × 22 columns</p>\n",
       "</div>"
      ],
      "text/plain": [
       "     id  big_neg_int  lrs_location_point  big_neg_float  trailing_float  \\\n",
       "0  3327   -159393066            21968091      -159.3931         21.9681   \n",
       "1  5596   -159413420            22209603      -159.4134         22.2096   \n",
       "2  5317   -156689245            20912993      -156.6892         20.9130   \n",
       "3  1915   -156502590            20923490      -156.5026         20.9235   \n",
       "4  3612   -156445237            20741847      -156.4452         20.7418   \n",
       "\n",
       "   state_code     id2  one_d  one_d2  small_int2  ... longitude  small_float  \\\n",
       "0          15   50015      2       1          13  ... -159.3931            2   \n",
       "1          15     300      4       1          13  ... -159.4134            1   \n",
       "2          15     400      4       1          13  ... -156.6892            2   \n",
       "3          15  340005      4       1          13  ... -156.5026            1   \n",
       "4          15   31069      1       1          13  ... -156.4452            2   \n",
       "\n",
       "   a_code  small_float2 small_float3  zero  small_int3  lt1_float  small_int4  \\\n",
       "0     WIM             2            2     2          12        0.0           7   \n",
       "1     VOL             1            0     0          82        0.0           7   \n",
       "2     VOL             2            0     0          82        0.0           9   \n",
       "3     CLS             1            1     0          12        0.0           9   \n",
       "4     CLS             2            2     0          12        0.0           9   \n",
       "\n",
       "   On NHS  \n",
       "0       Y  \n",
       "1       Y  \n",
       "2       Y  \n",
       "3       Y  \n",
       "4       Y  \n",
       "\n",
       "[5 rows x 22 columns]"
      ]
     },
     "execution_count": 135,
     "metadata": {},
     "output_type": "execute_result"
    }
   ],
   "source": [
    "aug_laye = pd.read_csv(\"TMAS2015_august_laye.txt\",\n",
    "                       header=None,\n",
    "                       names=[\n",
    "                           'id',\n",
    "                           'big_neg_int',\n",
    "                           'lrs_location_point',\n",
    "                           'big_neg_float',\n",
    "                           'trailing_float',\n",
    "                           'state_code',\n",
    "                           'id2',\n",
    "                           'one_d',\n",
    "                           'one_d2',\n",
    "                           'small_int2',\n",
    "                           'an_code',\n",
    "                           'latitude',\n",
    "                           'longitude',\n",
    "                           'small_float',\n",
    "                           'a_code',\n",
    "                           'small_float2',\n",
    "                           'small_float3',\n",
    "                           'zero',\n",
    "                           'small_int3',\n",
    "                           'lt1_float',\n",
    "                           'small_int4',\n",
    "                           'On NHS'\n",
    "                       ]\n",
    "                    )\n",
    "print(aug_laye.shape)\n",
    "aug_laye.head()"
   ]
  },
  {
   "cell_type": "code",
   "execution_count": 136,
   "id": "relative-license",
   "metadata": {},
   "outputs": [
    {
     "data": {
      "text/html": [
       "<div>\n",
       "<style scoped>\n",
       "    .dataframe tbody tr th:only-of-type {\n",
       "        vertical-align: middle;\n",
       "    }\n",
       "\n",
       "    .dataframe tbody tr th {\n",
       "        vertical-align: top;\n",
       "    }\n",
       "\n",
       "    .dataframe thead th {\n",
       "        text-align: right;\n",
       "    }\n",
       "</style>\n",
       "<table border=\"1\" class=\"dataframe\">\n",
       "  <thead>\n",
       "    <tr style=\"text-align: right;\">\n",
       "      <th></th>\n",
       "      <th>id</th>\n",
       "      <th>big_neg_int</th>\n",
       "      <th>lrs_location_point</th>\n",
       "      <th>big_neg_float</th>\n",
       "      <th>trailing_float</th>\n",
       "      <th>state_code</th>\n",
       "      <th>one_d</th>\n",
       "      <th>one_d2</th>\n",
       "      <th>small_int2</th>\n",
       "      <th>latitude</th>\n",
       "      <th>longitude</th>\n",
       "      <th>small_float</th>\n",
       "      <th>small_float2</th>\n",
       "      <th>small_float3</th>\n",
       "      <th>zero</th>\n",
       "      <th>small_int3</th>\n",
       "      <th>lt1_float</th>\n",
       "    </tr>\n",
       "  </thead>\n",
       "  <tbody>\n",
       "    <tr>\n",
       "      <th>count</th>\n",
       "      <td>7429.000000</td>\n",
       "      <td>7.429000e+03</td>\n",
       "      <td>7.429000e+03</td>\n",
       "      <td>7429.000000</td>\n",
       "      <td>7429.000000</td>\n",
       "      <td>7429.000000</td>\n",
       "      <td>7429.000000</td>\n",
       "      <td>7429.000000</td>\n",
       "      <td>7429.000000</td>\n",
       "      <td>7429.000000</td>\n",
       "      <td>7429.000000</td>\n",
       "      <td>7429.000000</td>\n",
       "      <td>7429.000000</td>\n",
       "      <td>7429.000000</td>\n",
       "      <td>7429.000000</td>\n",
       "      <td>7429.000000</td>\n",
       "      <td>7318.000000</td>\n",
       "    </tr>\n",
       "    <tr>\n",
       "      <th>mean</th>\n",
       "      <td>3737.138107</td>\n",
       "      <td>-9.295666e+07</td>\n",
       "      <td>3.879060e+07</td>\n",
       "      <td>-92.956663</td>\n",
       "      <td>38.790598</td>\n",
       "      <td>30.555526</td>\n",
       "      <td>2.354153</td>\n",
       "      <td>0.618926</td>\n",
       "      <td>13.075111</td>\n",
       "      <td>38.790598</td>\n",
       "      <td>-92.956663</td>\n",
       "      <td>2.046305</td>\n",
       "      <td>2.164087</td>\n",
       "      <td>1.294925</td>\n",
       "      <td>0.429533</td>\n",
       "      <td>50.345269</td>\n",
       "      <td>0.005739</td>\n",
       "    </tr>\n",
       "    <tr>\n",
       "      <th>std</th>\n",
       "      <td>2165.793447</td>\n",
       "      <td>1.797792e+07</td>\n",
       "      <td>5.689520e+06</td>\n",
       "      <td>17.977923</td>\n",
       "      <td>5.689520</td>\n",
       "      <td>16.565239</td>\n",
       "      <td>1.888064</td>\n",
       "      <td>0.514488</td>\n",
       "      <td>0.363613</td>\n",
       "      <td>5.689520</td>\n",
       "      <td>17.977923</td>\n",
       "      <td>1.183266</td>\n",
       "      <td>1.214977</td>\n",
       "      <td>1.393056</td>\n",
       "      <td>0.923309</td>\n",
       "      <td>39.669104</td>\n",
       "      <td>0.244038</td>\n",
       "    </tr>\n",
       "    <tr>\n",
       "      <th>min</th>\n",
       "      <td>1.000000</td>\n",
       "      <td>-1.617704e+08</td>\n",
       "      <td>1.942348e+07</td>\n",
       "      <td>-161.770400</td>\n",
       "      <td>19.423500</td>\n",
       "      <td>1.000000</td>\n",
       "      <td>0.000000</td>\n",
       "      <td>0.000000</td>\n",
       "      <td>13.000000</td>\n",
       "      <td>19.423500</td>\n",
       "      <td>-161.770400</td>\n",
       "      <td>0.000000</td>\n",
       "      <td>0.000000</td>\n",
       "      <td>0.000000</td>\n",
       "      <td>0.000000</td>\n",
       "      <td>0.000000</td>\n",
       "      <td>0.000000</td>\n",
       "    </tr>\n",
       "    <tr>\n",
       "      <th>25%</th>\n",
       "      <td>1859.000000</td>\n",
       "      <td>-1.050210e+08</td>\n",
       "      <td>3.517867e+07</td>\n",
       "      <td>-105.021000</td>\n",
       "      <td>35.178700</td>\n",
       "      <td>16.000000</td>\n",
       "      <td>1.000000</td>\n",
       "      <td>0.000000</td>\n",
       "      <td>13.000000</td>\n",
       "      <td>35.178700</td>\n",
       "      <td>-105.021000</td>\n",
       "      <td>1.000000</td>\n",
       "      <td>1.000000</td>\n",
       "      <td>0.000000</td>\n",
       "      <td>0.000000</td>\n",
       "      <td>8.000000</td>\n",
       "      <td>0.000000</td>\n",
       "    </tr>\n",
       "    <tr>\n",
       "      <th>50%</th>\n",
       "      <td>3729.000000</td>\n",
       "      <td>-8.750244e+07</td>\n",
       "      <td>3.910232e+07</td>\n",
       "      <td>-87.502400</td>\n",
       "      <td>39.102300</td>\n",
       "      <td>33.000000</td>\n",
       "      <td>1.000000</td>\n",
       "      <td>1.000000</td>\n",
       "      <td>13.000000</td>\n",
       "      <td>39.102300</td>\n",
       "      <td>-87.502400</td>\n",
       "      <td>2.000000</td>\n",
       "      <td>2.000000</td>\n",
       "      <td>1.000000</td>\n",
       "      <td>0.000000</td>\n",
       "      <td>61.000000</td>\n",
       "      <td>0.000000</td>\n",
       "    </tr>\n",
       "    <tr>\n",
       "      <th>75%</th>\n",
       "      <td>5612.000000</td>\n",
       "      <td>-7.811344e+07</td>\n",
       "      <td>4.205982e+07</td>\n",
       "      <td>-78.113400</td>\n",
       "      <td>42.059800</td>\n",
       "      <td>47.000000</td>\n",
       "      <td>3.000000</td>\n",
       "      <td>1.000000</td>\n",
       "      <td>13.000000</td>\n",
       "      <td>42.059800</td>\n",
       "      <td>-78.113400</td>\n",
       "      <td>2.000000</td>\n",
       "      <td>3.000000</td>\n",
       "      <td>2.000000</td>\n",
       "      <td>0.000000</td>\n",
       "      <td>91.000000</td>\n",
       "      <td>0.000000</td>\n",
       "    </tr>\n",
       "    <tr>\n",
       "      <th>max</th>\n",
       "      <td>7501.000000</td>\n",
       "      <td>-6.731003e+07</td>\n",
       "      <td>6.496013e+07</td>\n",
       "      <td>-67.310000</td>\n",
       "      <td>64.960100</td>\n",
       "      <td>56.000000</td>\n",
       "      <td>9.000000</td>\n",
       "      <td>5.000000</td>\n",
       "      <td>15.000000</td>\n",
       "      <td>64.960100</td>\n",
       "      <td>-67.310000</td>\n",
       "      <td>9.000000</td>\n",
       "      <td>9.000000</td>\n",
       "      <td>9.000000</td>\n",
       "      <td>7.000000</td>\n",
       "      <td>99.000000</td>\n",
       "      <td>12.000000</td>\n",
       "    </tr>\n",
       "  </tbody>\n",
       "</table>\n",
       "</div>"
      ],
      "text/plain": [
       "                id   big_neg_int  lrs_location_point  big_neg_float  \\\n",
       "count  7429.000000  7.429000e+03        7.429000e+03    7429.000000   \n",
       "mean   3737.138107 -9.295666e+07        3.879060e+07     -92.956663   \n",
       "std    2165.793447  1.797792e+07        5.689520e+06      17.977923   \n",
       "min       1.000000 -1.617704e+08        1.942348e+07    -161.770400   \n",
       "25%    1859.000000 -1.050210e+08        3.517867e+07    -105.021000   \n",
       "50%    3729.000000 -8.750244e+07        3.910232e+07     -87.502400   \n",
       "75%    5612.000000 -7.811344e+07        4.205982e+07     -78.113400   \n",
       "max    7501.000000 -6.731003e+07        6.496013e+07     -67.310000   \n",
       "\n",
       "       trailing_float   state_code        one_d       one_d2   small_int2  \\\n",
       "count     7429.000000  7429.000000  7429.000000  7429.000000  7429.000000   \n",
       "mean        38.790598    30.555526     2.354153     0.618926    13.075111   \n",
       "std          5.689520    16.565239     1.888064     0.514488     0.363613   \n",
       "min         19.423500     1.000000     0.000000     0.000000    13.000000   \n",
       "25%         35.178700    16.000000     1.000000     0.000000    13.000000   \n",
       "50%         39.102300    33.000000     1.000000     1.000000    13.000000   \n",
       "75%         42.059800    47.000000     3.000000     1.000000    13.000000   \n",
       "max         64.960100    56.000000     9.000000     5.000000    15.000000   \n",
       "\n",
       "          latitude    longitude  small_float  small_float2  small_float3  \\\n",
       "count  7429.000000  7429.000000  7429.000000   7429.000000   7429.000000   \n",
       "mean     38.790598   -92.956663     2.046305      2.164087      1.294925   \n",
       "std       5.689520    17.977923     1.183266      1.214977      1.393056   \n",
       "min      19.423500  -161.770400     0.000000      0.000000      0.000000   \n",
       "25%      35.178700  -105.021000     1.000000      1.000000      0.000000   \n",
       "50%      39.102300   -87.502400     2.000000      2.000000      1.000000   \n",
       "75%      42.059800   -78.113400     2.000000      3.000000      2.000000   \n",
       "max      64.960100   -67.310000     9.000000      9.000000      9.000000   \n",
       "\n",
       "              zero   small_int3    lt1_float  \n",
       "count  7429.000000  7429.000000  7318.000000  \n",
       "mean      0.429533    50.345269     0.005739  \n",
       "std       0.923309    39.669104     0.244038  \n",
       "min       0.000000     0.000000     0.000000  \n",
       "25%       0.000000     8.000000     0.000000  \n",
       "50%       0.000000    61.000000     0.000000  \n",
       "75%       0.000000    91.000000     0.000000  \n",
       "max       7.000000    99.000000    12.000000  "
      ]
     },
     "execution_count": 136,
     "metadata": {},
     "output_type": "execute_result"
    }
   ],
   "source": [
    "aug_laye.describe()"
   ]
  },
  {
   "cell_type": "code",
   "execution_count": 137,
   "id": "regulation-taxation",
   "metadata": {},
   "outputs": [
    {
     "name": "stdout",
     "output_type": "stream",
     "text": [
      "<class 'pandas.core.frame.DataFrame'>\n",
      "RangeIndex: 7429 entries, 0 to 7428\n",
      "Data columns (total 22 columns):\n",
      " #   Column              Non-Null Count  Dtype  \n",
      "---  ------              --------------  -----  \n",
      " 0   id                  7429 non-null   int64  \n",
      " 1   big_neg_int         7429 non-null   int64  \n",
      " 2   lrs_location_point  7429 non-null   int64  \n",
      " 3   big_neg_float       7429 non-null   float64\n",
      " 4   trailing_float      7429 non-null   float64\n",
      " 5   state_code          7429 non-null   int64  \n",
      " 6   id2                 7429 non-null   object \n",
      " 7   one_d               7429 non-null   int64  \n",
      " 8   one_d2              7429 non-null   int64  \n",
      " 9   small_int2          7429 non-null   int64  \n",
      " 10  an_code             7429 non-null   object \n",
      " 11  latitude            7429 non-null   float64\n",
      " 12  longitude           7429 non-null   float64\n",
      " 13  small_float         7429 non-null   int64  \n",
      " 14  a_code              7429 non-null   object \n",
      " 15  small_float2        7429 non-null   int64  \n",
      " 16  small_float3        7429 non-null   int64  \n",
      " 17  zero                7429 non-null   int64  \n",
      " 18  small_int3          7429 non-null   int64  \n",
      " 19  lt1_float           7318 non-null   float64\n",
      " 20  small_int4          7356 non-null   object \n",
      " 21  On NHS              7429 non-null   object \n",
      "dtypes: float64(5), int64(12), object(5)\n",
      "memory usage: 1.2+ MB\n"
     ]
    }
   ],
   "source": [
    "aug_laye.info()"
   ]
  },
  {
   "cell_type": "code",
   "execution_count": 138,
   "id": "generous-seven",
   "metadata": {},
   "outputs": [
    {
     "data": {
      "text/plain": [
       "id                          5596\n",
       "big_neg_int           -159413420\n",
       "lrs_location_point      22209603\n",
       "big_neg_float          -159.4134\n",
       "trailing_float           22.2096\n",
       "state_code                    15\n",
       "id2                          300\n",
       "one_d                          4\n",
       "one_d2                         1\n",
       "small_int2                    13\n",
       "an_code                       4R\n",
       "latitude                 22.2096\n",
       "longitude              -159.4134\n",
       "small_float                    1\n",
       "a_code                       VOL\n",
       "small_float2                   1\n",
       "small_float3                   0\n",
       "zero                           0\n",
       "small_int3                    82\n",
       "lt1_float                 0.0000\n",
       "small_int4                     7\n",
       "On NHS                         Y\n",
       "Name: 1, dtype: object"
      ]
     },
     "execution_count": 138,
     "metadata": {},
     "output_type": "execute_result"
    }
   ],
   "source": [
    "aug_laye.iloc[1]"
   ]
  },
  {
   "cell_type": "code",
   "execution_count": 139,
   "id": "pleasant-solid",
   "metadata": {},
   "outputs": [
    {
     "data": {
      "text/plain": [
       "True"
      ]
     },
     "execution_count": 139,
     "metadata": {},
     "output_type": "execute_result"
    }
   ],
   "source": [
    "# A is ID since all are unique\n",
    "aug_laye.iloc[:, 0].nunique() == len(aug_laye.iloc[:, 0])"
   ]
  },
  {
   "cell_type": "code",
   "execution_count": 124,
   "id": "miniature-london",
   "metadata": {},
   "outputs": [
    {
     "data": {
      "text/plain": [
       "-77387570     6\n",
       "-124083293    6\n",
       "-75058438     5\n",
       "-77393980     5\n",
       "-79044440     5\n",
       "Name: big_neg_int, dtype: int64"
      ]
     },
     "execution_count": 124,
     "metadata": {},
     "output_type": "execute_result"
    }
   ],
   "source": [
    "aug_laye.iloc[:, 1].value_counts().nlargest(5)"
   ]
  },
  {
   "cell_type": "code",
   "execution_count": 125,
   "id": "cosmetic-ready",
   "metadata": {},
   "outputs": [
    {
     "name": "stdout",
     "output_type": "stream",
     "text": [
      "All Length of 8.\n"
     ]
    }
   ],
   "source": [
    "# LRS Location Point\n",
    "# HMMMM Not totally Unique\n",
    "aug_laye.iloc[:, 2].value_counts().nlargest(5)\n",
    "# Length is Consistent\n",
    "for i in aug_laye.iloc[:, 2]:\n",
    "    assert len(str(i)) == 8\n",
    "print('All Length of 8.')"
   ]
  },
  {
   "cell_type": "code",
   "execution_count": 126,
   "id": "general-recommendation",
   "metadata": {},
   "outputs": [
    {
     "data": {
      "text/plain": [
       "-74.4264    7\n",
       "-77.3876    6\n",
       "-77.3508    6\n",
       "-77.3560    6\n",
       "-75.1020    6\n",
       "Name: big_neg_float, dtype: int64"
      ]
     },
     "execution_count": 126,
     "metadata": {},
     "output_type": "execute_result"
    }
   ],
   "source": [
    "aug_laye.iloc[:, 3].value_counts().nlargest(5)"
   ]
  },
  {
   "cell_type": "code",
   "execution_count": 127,
   "id": "round-static",
   "metadata": {},
   "outputs": [
    {
     "data": {
      "text/plain": [
       "8     15\n",
       "15    15\n",
       "4     14\n",
       "2     14\n",
       "9     14\n",
       "Name: id2, dtype: int64"
      ]
     },
     "execution_count": 127,
     "metadata": {},
     "output_type": "execute_result"
    }
   ],
   "source": [
    "# I think these are state codes\n",
    "# nunique == 44\n",
    "aug_laye.iloc[:, 6].value_counts().nlargest(5)"
   ]
  },
  {
   "cell_type": "code",
   "execution_count": 128,
   "id": "satisfied-august",
   "metadata": {},
   "outputs": [
    {
     "data": {
      "text/plain": [
       "N    4474\n",
       "Y    2955\n",
       "Name: hypm_standard_sample_section, dtype: int64"
      ]
     },
     "execution_count": 128,
     "metadata": {},
     "output_type": "execute_result"
    }
   ],
   "source": [
    "# 32. HPMS Sample Type (Column 140) – Critical\n",
    "# N = No, not on an HPMS standard sample section\n",
    "# Y = Yes, on an HPMS standard sample section\n",
    "# Clearly Yes No\n",
    "\n",
    "# --- ORRRRRRR ---\n",
    "# 34. National Highway System (Column 153) – Critical\n",
    "# N = No, not on National Highway System\n",
    "# Y = Yes, on National Highway System\n",
    "\n",
    "aug_laye.iloc[:, 21].value_counts()"
   ]
  },
  {
   "cell_type": "code",
   "execution_count": 109,
   "id": "nonprofit-muslim",
   "metadata": {},
   "outputs": [
    {
     "data": {
      "text/plain": [
       "CLS    2934\n",
       "VOL    2931\n",
       "WIM    1564\n",
       "Name: a_code, dtype: int64"
      ]
     },
     "execution_count": 109,
     "metadata": {},
     "output_type": "execute_result"
    }
   ],
   "source": [
    "# LANESOFCLS: Number of Lanes Monitored for Vehicle Class\n",
    "# LANESOFVOL: Number of Lanes Monitored for Traffic Volume\n",
    "# no weight records for an hour might be interpreted to mean that \n",
    "# ... the WIM system was not working.\n",
    "aug_laye.iloc[:, 14].value_counts()"
   ]
  },
  {
   "cell_type": "code",
   "execution_count": 110,
   "id": "correct-injury",
   "metadata": {},
   "outputs": [
    {
     "data": {
      "text/plain": [
       "'\\nLONGITUDE : Monitoring site longitude\\nLATITUDE: Monitoring site latitude\\nSTATE: State FIPS\\nStationID: Traffic Monitoring Site ID. This ID is state unique.\\nDir: Direction of Travel\\nLN: Lane of Travel\\nYR: Year of Data\\nFC: Functional Classification\\nNUMBERLAN: Number of Lanes in Direction Indicated\\nTYPE: Sample Type for TMAS\\nLANESOFVOL: Number of Lanes Monitored for Traffic Volume\\nLANESOFCLS: Number of Lanes Monitored for Vehicle Class\\nLANESOFWGT: Number of Lanes Monitored for Truck Weight\\nYR1: Year Station Established\\nYEARDISC: Year Station Discontinued\\nCOUNTY: FIPS County Code\\nHPMS: HPMS Sample Type\\n'"
      ]
     },
     "execution_count": 110,
     "metadata": {},
     "output_type": "execute_result"
    }
   ],
   "source": [
    "\"\"\"\n",
    "LONGITUDE : Monitoring site longitude\n",
    "LATITUDE: Monitoring site latitude\n",
    "STATE: State FIPS\n",
    "StationID: Traffic Monitoring Site ID. This ID is state unique.\n",
    "Dir: Direction of Travel\n",
    "LN: Lane of Travel\n",
    "YR: Year of Data\n",
    "FC: Functional Classification\n",
    "NUMBERLAN: Number of Lanes in Direction Indicated\n",
    "TYPE: Sample Type for TMAS\n",
    "LANESOFVOL: Number of Lanes Monitored for Traffic Volume\n",
    "LANESOFCLS: Number of Lanes Monitored for Vehicle Class\n",
    "LANESOFWGT: Number of Lanes Monitored for Truck Weight\n",
    "YR1: Year Station Established\n",
    "YEARDISC: Year Station Discontinued\n",
    "COUNTY: FIPS County Code\n",
    "HPMS: HPMS Sample Type\n",
    "\"\"\""
   ]
  },
  {
   "cell_type": "code",
   "execution_count": 111,
   "id": "rational-weather",
   "metadata": {},
   "outputs": [],
   "source": [
    "cardinality = dict()\n",
    "for i in range(aug_laye.shape[1]):\n",
    "    card_i = aug_laye.iloc[:, i].nunique()/len(aug_laye.iloc[:, i])\n",
    "    cardinality.update({i: card_i})"
   ]
  },
  {
   "cell_type": "code",
   "execution_count": 112,
   "id": "electric-prince",
   "metadata": {},
   "outputs": [],
   "source": [
    "sorted_card = {k: v for k, v in sorted(cardinality.items(), reverse=False, key=lambda item: item[1])}"
   ]
  },
  {
   "cell_type": "code",
   "execution_count": 113,
   "id": "peaceful-atlantic",
   "metadata": {},
   "outputs": [
    {
     "data": {
      "text/plain": [
       "dict_keys([21, 9, 14, 8, 19, 17, 7, 13, 15, 16, 10, 5, 18, 20, 6, 4, 11, 3, 12, 1, 2, 0])"
      ]
     },
     "execution_count": 113,
     "metadata": {},
     "output_type": "execute_result"
    }
   ],
   "source": [
    "sorted_card.keys()"
   ]
  },
  {
   "cell_type": "code",
   "execution_count": 114,
   "id": "social-delivery",
   "metadata": {},
   "outputs": [
    {
     "data": {
      "text/plain": [
       "13    7104\n",
       "15     233\n",
       "14      92\n",
       "Name: small_int2, dtype: int64"
      ]
     },
     "execution_count": 114,
     "metadata": {},
     "output_type": "execute_result"
    }
   ],
   "source": [
    "aug_laye.iloc[:, 9].value_counts()"
   ]
  },
  {
   "cell_type": "code",
   "execution_count": 115,
   "id": "opposite-great",
   "metadata": {},
   "outputs": [
    {
     "data": {
      "text/plain": [
       "1    4432\n",
       "0    2921\n",
       "2      64\n",
       "3      11\n",
       "5       1\n",
       "Name: one_d2, dtype: int64"
      ]
     },
     "execution_count": 115,
     "metadata": {},
     "output_type": "execute_result"
    }
   ],
   "source": [
    "aug_laye.iloc[:, 8].value_counts()"
   ]
  },
  {
   "cell_type": "code",
   "execution_count": 116,
   "id": "geographic-kitty",
   "metadata": {},
   "outputs": [
    {
     "data": {
      "text/plain": [
       "0.0     7313\n",
       "11.0       2\n",
       "1.0        1\n",
       "12.0       1\n",
       "7.0        1\n",
       "Name: lt1_float, dtype: int64"
      ]
     },
     "execution_count": 116,
     "metadata": {},
     "output_type": "execute_result"
    }
   ],
   "source": [
    "# Mostly 0\n",
    "aug_laye.iloc[:, 19].value_counts()"
   ]
  },
  {
   "cell_type": "code",
   "execution_count": 117,
   "id": "billion-chemical",
   "metadata": {},
   "outputs": [
    {
     "data": {
      "text/plain": [
       "0    5780\n",
       "2     808\n",
       "1     562\n",
       "3     159\n",
       "4      87\n",
       "6      15\n",
       "5      14\n",
       "7       4\n",
       "Name: zero?, dtype: int64"
      ]
     },
     "execution_count": 117,
     "metadata": {},
     "output_type": "execute_result"
    }
   ],
   "source": [
    "aug_laye.iloc[:, 17].value_counts()"
   ]
  },
  {
   "cell_type": "code",
   "execution_count": 129,
   "id": "dependent-british",
   "metadata": {},
   "outputs": [
    {
     "data": {
      "text/plain": [
       "1    3637\n",
       "3    2543\n",
       "5     474\n",
       "7     265\n",
       "0     225\n",
       "9     184\n",
       "4      52\n",
       "2      43\n",
       "8       6\n",
       "Name: one_d, dtype: int64"
      ]
     },
     "execution_count": 129,
     "metadata": {},
     "output_type": "execute_result"
    }
   ],
   "source": [
    "# 0-8 \n",
    "# POSTED ROUTE SIGNING CODES?\n",
    "# Code Includes 1-10\n",
    "aug_laye.iloc[:, 7].value_counts()"
   ]
  },
  {
   "cell_type": "code",
   "execution_count": 141,
   "id": "occupational-lighter",
   "metadata": {},
   "outputs": [
    {
     "data": {
      "text/plain": [
       "1    4432\n",
       "0    2921\n",
       "2      64\n",
       "3      11\n",
       "5       1\n",
       "Name: one_d2, dtype: int64"
      ]
     },
     "execution_count": 141,
     "metadata": {},
     "output_type": "execute_result"
    }
   ],
   "source": [
    "aug_laye.iloc[:, 8].value_counts()"
   ]
  },
  {
   "cell_type": "code",
   "execution_count": null,
   "id": "demanding-prefix",
   "metadata": {},
   "outputs": [],
   "source": [
    "cardinality = dict()\n",
    "for i in range(aug_laye.shape[1]):\n",
    "    card_i = aug_laye.iloc[:, i].nunique()/len(aug_laye.iloc[:, i])\n",
    "    cardinality.update({i: card_i})"
   ]
  }
 ],
 "metadata": {
  "kernelspec": {
   "display_name": "vrb-know",
   "language": "python",
   "name": "vrb-know"
  },
  "language_info": {
   "codemirror_mode": {
    "name": "ipython",
    "version": 3
   },
   "file_extension": ".py",
   "mimetype": "text/x-python",
   "name": "python",
   "nbconvert_exporter": "python",
   "pygments_lexer": "ipython3",
   "version": "3.8.1"
  }
 },
 "nbformat": 4,
 "nbformat_minor": 5
}
