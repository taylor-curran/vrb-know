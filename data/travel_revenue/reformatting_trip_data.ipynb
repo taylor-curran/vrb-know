{
 "cells": [
  {
   "cell_type": "code",
   "execution_count": 1,
   "id": "urban-respect",
   "metadata": {},
   "outputs": [
    {
     "name": "stdout",
     "output_type": "stream",
     "text": [
      "(250000, 10)\n"
     ]
    },
    {
     "data": {
      "text/html": [
       "<div>\n",
       "<style scoped>\n",
       "    .dataframe tbody tr th:only-of-type {\n",
       "        vertical-align: middle;\n",
       "    }\n",
       "\n",
       "    .dataframe tbody tr th {\n",
       "        vertical-align: top;\n",
       "    }\n",
       "\n",
       "    .dataframe thead th {\n",
       "        text-align: right;\n",
       "    }\n",
       "</style>\n",
       "<table border=\"1\" class=\"dataframe\">\n",
       "  <thead>\n",
       "    <tr style=\"text-align: right;\">\n",
       "      <th></th>\n",
       "      <th>Unnamed: 0</th>\n",
       "      <th>origin_code</th>\n",
       "      <th>destination_code</th>\n",
       "      <th>n_trips</th>\n",
       "      <th>origin_state_county</th>\n",
       "      <th>destination_state_county</th>\n",
       "      <th>origin</th>\n",
       "      <th>destination</th>\n",
       "      <th>origin_state_code</th>\n",
       "      <th>destination_state_code</th>\n",
       "    </tr>\n",
       "  </thead>\n",
       "  <tbody>\n",
       "    <tr>\n",
       "      <th>0</th>\n",
       "      <td>695469</td>\n",
       "      <td>6073</td>\n",
       "      <td>6037</td>\n",
       "      <td>9098075.0</td>\n",
       "      <td>('6', '073')</td>\n",
       "      <td>('6', '037')</td>\n",
       "      <td>San Diego County</td>\n",
       "      <td>Los Angeles County</td>\n",
       "      <td>6</td>\n",
       "      <td>6</td>\n",
       "    </tr>\n",
       "    <tr>\n",
       "      <th>1</th>\n",
       "      <td>638859</td>\n",
       "      <td>6037</td>\n",
       "      <td>6073</td>\n",
       "      <td>9098075.0</td>\n",
       "      <td>('6', '037')</td>\n",
       "      <td>('6', '073')</td>\n",
       "      <td>Los Angeles County</td>\n",
       "      <td>San Diego County</td>\n",
       "      <td>6</td>\n",
       "      <td>6</td>\n",
       "    </tr>\n",
       "    <tr>\n",
       "      <th>2</th>\n",
       "      <td>619983</td>\n",
       "      <td>6025</td>\n",
       "      <td>6073</td>\n",
       "      <td>4337119.0</td>\n",
       "      <td>('6', '025')</td>\n",
       "      <td>('6', '073')</td>\n",
       "      <td>Imperial County</td>\n",
       "      <td>San Diego County</td>\n",
       "      <td>6</td>\n",
       "      <td>6</td>\n",
       "    </tr>\n",
       "    <tr>\n",
       "      <th>3</th>\n",
       "      <td>695463</td>\n",
       "      <td>6073</td>\n",
       "      <td>6025</td>\n",
       "      <td>4337119.0</td>\n",
       "      <td>('6', '073')</td>\n",
       "      <td>('6', '025')</td>\n",
       "      <td>San Diego County</td>\n",
       "      <td>Imperial County</td>\n",
       "      <td>6</td>\n",
       "      <td>6</td>\n",
       "    </tr>\n",
       "    <tr>\n",
       "      <th>4</th>\n",
       "      <td>682885</td>\n",
       "      <td>6065</td>\n",
       "      <td>6037</td>\n",
       "      <td>4009696.0</td>\n",
       "      <td>('6', '065')</td>\n",
       "      <td>('6', '037')</td>\n",
       "      <td>Riverside County</td>\n",
       "      <td>Los Angeles County</td>\n",
       "      <td>6</td>\n",
       "      <td>6</td>\n",
       "    </tr>\n",
       "  </tbody>\n",
       "</table>\n",
       "</div>"
      ],
      "text/plain": [
       "   Unnamed: 0  origin_code  destination_code    n_trips origin_state_county  \\\n",
       "0      695469         6073              6037  9098075.0        ('6', '073')   \n",
       "1      638859         6037              6073  9098075.0        ('6', '037')   \n",
       "2      619983         6025              6073  4337119.0        ('6', '025')   \n",
       "3      695463         6073              6025  4337119.0        ('6', '073')   \n",
       "4      682885         6065              6037  4009696.0        ('6', '065')   \n",
       "\n",
       "  destination_state_county              origin         destination  \\\n",
       "0             ('6', '037')    San Diego County  Los Angeles County   \n",
       "1             ('6', '073')  Los Angeles County    San Diego County   \n",
       "2             ('6', '073')     Imperial County    San Diego County   \n",
       "3             ('6', '025')    San Diego County     Imperial County   \n",
       "4             ('6', '037')    Riverside County  Los Angeles County   \n",
       "\n",
       "   origin_state_code  destination_state_code  \n",
       "0                  6                       6  \n",
       "1                  6                       6  \n",
       "2                  6                       6  \n",
       "3                  6                       6  \n",
       "4                  6                       6  "
      ]
     },
     "execution_count": 1,
     "metadata": {},
     "output_type": "execute_result"
    }
   ],
   "source": [
    "import pandas as pd\n",
    "import numpy as np\n",
    "\n",
    "trips = pd.read_csv('most_popular_trips.csv')\n",
    "print(trips.shape)\n",
    "trips.head()"
   ]
  },
  {
   "cell_type": "code",
   "execution_count": 2,
   "id": "crucial-explanation",
   "metadata": {},
   "outputs": [
    {
     "data": {
      "text/html": [
       "<div>\n",
       "<style scoped>\n",
       "    .dataframe tbody tr th:only-of-type {\n",
       "        vertical-align: middle;\n",
       "    }\n",
       "\n",
       "    .dataframe tbody tr th {\n",
       "        vertical-align: top;\n",
       "    }\n",
       "\n",
       "    .dataframe thead th {\n",
       "        text-align: right;\n",
       "    }\n",
       "</style>\n",
       "<table border=\"1\" class=\"dataframe\">\n",
       "  <thead>\n",
       "    <tr style=\"text-align: right;\">\n",
       "      <th></th>\n",
       "      <th>STATE_FIPS</th>\n",
       "      <th>STUSAB</th>\n",
       "      <th>STATE_NAME</th>\n",
       "      <th>STATENS</th>\n",
       "    </tr>\n",
       "  </thead>\n",
       "  <tbody>\n",
       "    <tr>\n",
       "      <th>0</th>\n",
       "      <td>1</td>\n",
       "      <td>AL</td>\n",
       "      <td>Alabama</td>\n",
       "      <td>1779775</td>\n",
       "    </tr>\n",
       "    <tr>\n",
       "      <th>1</th>\n",
       "      <td>2</td>\n",
       "      <td>AK</td>\n",
       "      <td>Alaska</td>\n",
       "      <td>1785533</td>\n",
       "    </tr>\n",
       "  </tbody>\n",
       "</table>\n",
       "</div>"
      ],
      "text/plain": [
       "   STATE_FIPS STUSAB STATE_NAME  STATENS\n",
       "0           1     AL    Alabama  1779775\n",
       "1           2     AK     Alaska  1785533"
      ]
     },
     "execution_count": 2,
     "metadata": {},
     "output_type": "execute_result"
    }
   ],
   "source": [
    "state_fips = pd.read_csv('StatesFIPSCodes.csv')\n",
    "state_fips.head(2)"
   ]
  },
  {
   "cell_type": "code",
   "execution_count": 3,
   "id": "suffering-texture",
   "metadata": {},
   "outputs": [
    {
     "data": {
      "text/plain": [
       "1869"
      ]
     },
     "execution_count": 3,
     "metadata": {},
     "output_type": "execute_result"
    }
   ],
   "source": [
    "# Are there any counties of same name but different state?\n",
    "trips['destination'].nunique()"
   ]
  },
  {
   "cell_type": "code",
   "execution_count": 4,
   "id": "experimental-spain",
   "metadata": {},
   "outputs": [
    {
     "data": {
      "text/plain": [
       "3145"
      ]
     },
     "execution_count": 4,
     "metadata": {},
     "output_type": "execute_result"
    }
   ],
   "source": [
    "trips['destination_code'].nunique()"
   ]
  },
  {
   "cell_type": "code",
   "execution_count": 5,
   "id": "parliamentary-short",
   "metadata": {},
   "outputs": [
    {
     "data": {
      "text/plain": [
       "3145"
      ]
     },
     "execution_count": 5,
     "metadata": {},
     "output_type": "execute_result"
    }
   ],
   "source": [
    "pd.Series([str(tup) for tup in trips['destination_state_county']]).nunique()"
   ]
  },
  {
   "cell_type": "code",
   "execution_count": null,
   "id": "absent-beijing",
   "metadata": {},
   "outputs": [],
   "source": []
  },
  {
   "cell_type": "code",
   "execution_count": 6,
   "id": "sporting-shield",
   "metadata": {},
   "outputs": [
    {
     "data": {
      "text/plain": [
       "25"
      ]
     },
     "execution_count": 6,
     "metadata": {},
     "output_type": "execute_result"
    }
   ],
   "source": [
    "# The County Name \"Jefferson\" is Present in 25 Different States\n",
    "trips[trips['destination'] == 'Jefferson County']['destination_state_code'].nunique()"
   ]
  },
  {
   "cell_type": "code",
   "execution_count": 7,
   "id": "median-boxing",
   "metadata": {},
   "outputs": [],
   "source": [
    "def get_state_name(state_code):\n",
    "    \"\"\"Returns state name when given State FIPS Code\"\"\"\n",
    "    query_string = f\"{state_code} == `STATE_FIPS`\"\n",
    "    return state_fips.query(query_string)['STATE_NAME'].iloc[0]"
   ]
  },
  {
   "cell_type": "code",
   "execution_count": 8,
   "id": "complicated-offset",
   "metadata": {},
   "outputs": [
    {
     "name": "stdout",
     "output_type": "stream",
     "text": [
      "CPU times: user 4min 7s, sys: 2.16 s, total: 4min 9s\n",
      "Wall time: 4min 8s\n"
     ]
    }
   ],
   "source": [
    "%%time\n",
    "# For Destination\n",
    "state_name = []\n",
    "for i in trips['destination_state_code']:\n",
    "    state_name.append(get_state_name(i))"
   ]
  },
  {
   "cell_type": "code",
   "execution_count": 9,
   "id": "honest-mambo",
   "metadata": {},
   "outputs": [],
   "source": [
    "trips.insert(10, 'dest_state', state_name)"
   ]
  },
  {
   "cell_type": "code",
   "execution_count": 10,
   "id": "living-colony",
   "metadata": {},
   "outputs": [
    {
     "name": "stdout",
     "output_type": "stream",
     "text": [
      "CPU times: user 4min 12s, sys: 1.93 s, total: 4min 13s\n",
      "Wall time: 4min 12s\n"
     ]
    }
   ],
   "source": [
    "%%time\n",
    "# For Origin\n",
    "state_name = []\n",
    "for i in trips['origin_state_code']:\n",
    "    state_name.append(get_state_name(i))"
   ]
  },
  {
   "cell_type": "code",
   "execution_count": 11,
   "id": "distinct-baseball",
   "metadata": {},
   "outputs": [],
   "source": [
    "trips.insert(11, 'orig_state', state_name)"
   ]
  },
  {
   "cell_type": "code",
   "execution_count": 12,
   "id": "understood-restoration",
   "metadata": {},
   "outputs": [
    {
     "data": {
      "text/html": [
       "<div>\n",
       "<style scoped>\n",
       "    .dataframe tbody tr th:only-of-type {\n",
       "        vertical-align: middle;\n",
       "    }\n",
       "\n",
       "    .dataframe tbody tr th {\n",
       "        vertical-align: top;\n",
       "    }\n",
       "\n",
       "    .dataframe thead th {\n",
       "        text-align: right;\n",
       "    }\n",
       "</style>\n",
       "<table border=\"1\" class=\"dataframe\">\n",
       "  <thead>\n",
       "    <tr style=\"text-align: right;\">\n",
       "      <th></th>\n",
       "      <th>Unnamed: 0</th>\n",
       "      <th>origin_code</th>\n",
       "      <th>destination_code</th>\n",
       "      <th>n_trips</th>\n",
       "      <th>origin_state_county</th>\n",
       "      <th>destination_state_county</th>\n",
       "      <th>origin</th>\n",
       "      <th>destination</th>\n",
       "      <th>origin_state_code</th>\n",
       "      <th>destination_state_code</th>\n",
       "      <th>dest_state</th>\n",
       "      <th>orig_state</th>\n",
       "    </tr>\n",
       "  </thead>\n",
       "  <tbody>\n",
       "    <tr>\n",
       "      <th>0</th>\n",
       "      <td>695469</td>\n",
       "      <td>6073</td>\n",
       "      <td>6037</td>\n",
       "      <td>9098075.0</td>\n",
       "      <td>('6', '073')</td>\n",
       "      <td>('6', '037')</td>\n",
       "      <td>San Diego County</td>\n",
       "      <td>Los Angeles County</td>\n",
       "      <td>6</td>\n",
       "      <td>6</td>\n",
       "      <td>California</td>\n",
       "      <td>California</td>\n",
       "    </tr>\n",
       "    <tr>\n",
       "      <th>1</th>\n",
       "      <td>638859</td>\n",
       "      <td>6037</td>\n",
       "      <td>6073</td>\n",
       "      <td>9098075.0</td>\n",
       "      <td>('6', '037')</td>\n",
       "      <td>('6', '073')</td>\n",
       "      <td>Los Angeles County</td>\n",
       "      <td>San Diego County</td>\n",
       "      <td>6</td>\n",
       "      <td>6</td>\n",
       "      <td>California</td>\n",
       "      <td>California</td>\n",
       "    </tr>\n",
       "    <tr>\n",
       "      <th>2</th>\n",
       "      <td>619983</td>\n",
       "      <td>6025</td>\n",
       "      <td>6073</td>\n",
       "      <td>4337119.0</td>\n",
       "      <td>('6', '025')</td>\n",
       "      <td>('6', '073')</td>\n",
       "      <td>Imperial County</td>\n",
       "      <td>San Diego County</td>\n",
       "      <td>6</td>\n",
       "      <td>6</td>\n",
       "      <td>California</td>\n",
       "      <td>California</td>\n",
       "    </tr>\n",
       "    <tr>\n",
       "      <th>3</th>\n",
       "      <td>695463</td>\n",
       "      <td>6073</td>\n",
       "      <td>6025</td>\n",
       "      <td>4337119.0</td>\n",
       "      <td>('6', '073')</td>\n",
       "      <td>('6', '025')</td>\n",
       "      <td>San Diego County</td>\n",
       "      <td>Imperial County</td>\n",
       "      <td>6</td>\n",
       "      <td>6</td>\n",
       "      <td>California</td>\n",
       "      <td>California</td>\n",
       "    </tr>\n",
       "    <tr>\n",
       "      <th>4</th>\n",
       "      <td>682885</td>\n",
       "      <td>6065</td>\n",
       "      <td>6037</td>\n",
       "      <td>4009696.0</td>\n",
       "      <td>('6', '065')</td>\n",
       "      <td>('6', '037')</td>\n",
       "      <td>Riverside County</td>\n",
       "      <td>Los Angeles County</td>\n",
       "      <td>6</td>\n",
       "      <td>6</td>\n",
       "      <td>California</td>\n",
       "      <td>California</td>\n",
       "    </tr>\n",
       "  </tbody>\n",
       "</table>\n",
       "</div>"
      ],
      "text/plain": [
       "   Unnamed: 0  origin_code  destination_code    n_trips origin_state_county  \\\n",
       "0      695469         6073              6037  9098075.0        ('6', '073')   \n",
       "1      638859         6037              6073  9098075.0        ('6', '037')   \n",
       "2      619983         6025              6073  4337119.0        ('6', '025')   \n",
       "3      695463         6073              6025  4337119.0        ('6', '073')   \n",
       "4      682885         6065              6037  4009696.0        ('6', '065')   \n",
       "\n",
       "  destination_state_county              origin         destination  \\\n",
       "0             ('6', '037')    San Diego County  Los Angeles County   \n",
       "1             ('6', '073')  Los Angeles County    San Diego County   \n",
       "2             ('6', '073')     Imperial County    San Diego County   \n",
       "3             ('6', '025')    San Diego County     Imperial County   \n",
       "4             ('6', '037')    Riverside County  Los Angeles County   \n",
       "\n",
       "   origin_state_code  destination_state_code  dest_state  orig_state  \n",
       "0                  6                       6  California  California  \n",
       "1                  6                       6  California  California  \n",
       "2                  6                       6  California  California  \n",
       "3                  6                       6  California  California  \n",
       "4                  6                       6  California  California  "
      ]
     },
     "execution_count": 12,
     "metadata": {},
     "output_type": "execute_result"
    }
   ],
   "source": [
    "trips.head()"
   ]
  },
  {
   "cell_type": "code",
   "execution_count": 13,
   "id": "concrete-canyon",
   "metadata": {},
   "outputs": [],
   "source": [
    "def county_state(county, state):\n",
    "    county_state = str(county) + str(state)"
   ]
  },
  {
   "cell_type": "code",
   "execution_count": 14,
   "id": "passive-invite",
   "metadata": {},
   "outputs": [],
   "source": [
    "# Destination\n",
    "dest_full = []\n",
    "for i, row in trips.iterrows():\n",
    "    dest_full.append(str(row[7]) + ', ' + str(row[10]))\n",
    "trips.insert(12, 'dest_full', dest_full)"
   ]
  },
  {
   "cell_type": "code",
   "execution_count": 15,
   "id": "massive-equivalent",
   "metadata": {},
   "outputs": [],
   "source": [
    "# Origin\n",
    "orig_full = []\n",
    "for i, row in trips.iterrows():\n",
    "    orig_full.append(str(row[6]) + ', ' + str(row[11]))\n",
    "\n",
    "trips.insert(13, 'orig_full', orig_full)"
   ]
  },
  {
   "cell_type": "code",
   "execution_count": 19,
   "id": "noted-comment",
   "metadata": {},
   "outputs": [],
   "source": [
    "# rename unnamed column\n",
    "trips['original_id'] = trips['Unnamed: 0']\n",
    "trips = trips.drop('Unnamed: 0', axis=1)"
   ]
  },
  {
   "cell_type": "code",
   "execution_count": 20,
   "id": "distinguished-battle",
   "metadata": {},
   "outputs": [
    {
     "data": {
      "text/html": [
       "<div>\n",
       "<style scoped>\n",
       "    .dataframe tbody tr th:only-of-type {\n",
       "        vertical-align: middle;\n",
       "    }\n",
       "\n",
       "    .dataframe tbody tr th {\n",
       "        vertical-align: top;\n",
       "    }\n",
       "\n",
       "    .dataframe thead th {\n",
       "        text-align: right;\n",
       "    }\n",
       "</style>\n",
       "<table border=\"1\" class=\"dataframe\">\n",
       "  <thead>\n",
       "    <tr style=\"text-align: right;\">\n",
       "      <th></th>\n",
       "      <th>origin_code</th>\n",
       "      <th>destination_code</th>\n",
       "      <th>n_trips</th>\n",
       "      <th>origin_state_county</th>\n",
       "      <th>destination_state_county</th>\n",
       "      <th>origin</th>\n",
       "      <th>destination</th>\n",
       "      <th>origin_state_code</th>\n",
       "      <th>destination_state_code</th>\n",
       "      <th>dest_state</th>\n",
       "      <th>orig_state</th>\n",
       "      <th>dest_full</th>\n",
       "      <th>orig_full</th>\n",
       "      <th>original_id</th>\n",
       "    </tr>\n",
       "  </thead>\n",
       "  <tbody>\n",
       "    <tr>\n",
       "      <th>0</th>\n",
       "      <td>6073</td>\n",
       "      <td>6037</td>\n",
       "      <td>9098075.0</td>\n",
       "      <td>('6', '073')</td>\n",
       "      <td>('6', '037')</td>\n",
       "      <td>San Diego County</td>\n",
       "      <td>Los Angeles County</td>\n",
       "      <td>6</td>\n",
       "      <td>6</td>\n",
       "      <td>California</td>\n",
       "      <td>California</td>\n",
       "      <td>Los Angeles County, California</td>\n",
       "      <td>San Diego County, California</td>\n",
       "      <td>695469</td>\n",
       "    </tr>\n",
       "    <tr>\n",
       "      <th>1</th>\n",
       "      <td>6037</td>\n",
       "      <td>6073</td>\n",
       "      <td>9098075.0</td>\n",
       "      <td>('6', '037')</td>\n",
       "      <td>('6', '073')</td>\n",
       "      <td>Los Angeles County</td>\n",
       "      <td>San Diego County</td>\n",
       "      <td>6</td>\n",
       "      <td>6</td>\n",
       "      <td>California</td>\n",
       "      <td>California</td>\n",
       "      <td>San Diego County, California</td>\n",
       "      <td>Los Angeles County, California</td>\n",
       "      <td>638859</td>\n",
       "    </tr>\n",
       "    <tr>\n",
       "      <th>2</th>\n",
       "      <td>6025</td>\n",
       "      <td>6073</td>\n",
       "      <td>4337119.0</td>\n",
       "      <td>('6', '025')</td>\n",
       "      <td>('6', '073')</td>\n",
       "      <td>Imperial County</td>\n",
       "      <td>San Diego County</td>\n",
       "      <td>6</td>\n",
       "      <td>6</td>\n",
       "      <td>California</td>\n",
       "      <td>California</td>\n",
       "      <td>San Diego County, California</td>\n",
       "      <td>Imperial County, California</td>\n",
       "      <td>619983</td>\n",
       "    </tr>\n",
       "    <tr>\n",
       "      <th>3</th>\n",
       "      <td>6073</td>\n",
       "      <td>6025</td>\n",
       "      <td>4337119.0</td>\n",
       "      <td>('6', '073')</td>\n",
       "      <td>('6', '025')</td>\n",
       "      <td>San Diego County</td>\n",
       "      <td>Imperial County</td>\n",
       "      <td>6</td>\n",
       "      <td>6</td>\n",
       "      <td>California</td>\n",
       "      <td>California</td>\n",
       "      <td>Imperial County, California</td>\n",
       "      <td>San Diego County, California</td>\n",
       "      <td>695463</td>\n",
       "    </tr>\n",
       "    <tr>\n",
       "      <th>4</th>\n",
       "      <td>6065</td>\n",
       "      <td>6037</td>\n",
       "      <td>4009696.0</td>\n",
       "      <td>('6', '065')</td>\n",
       "      <td>('6', '037')</td>\n",
       "      <td>Riverside County</td>\n",
       "      <td>Los Angeles County</td>\n",
       "      <td>6</td>\n",
       "      <td>6</td>\n",
       "      <td>California</td>\n",
       "      <td>California</td>\n",
       "      <td>Los Angeles County, California</td>\n",
       "      <td>Riverside County, California</td>\n",
       "      <td>682885</td>\n",
       "    </tr>\n",
       "  </tbody>\n",
       "</table>\n",
       "</div>"
      ],
      "text/plain": [
       "   origin_code  destination_code    n_trips origin_state_county  \\\n",
       "0         6073              6037  9098075.0        ('6', '073')   \n",
       "1         6037              6073  9098075.0        ('6', '037')   \n",
       "2         6025              6073  4337119.0        ('6', '025')   \n",
       "3         6073              6025  4337119.0        ('6', '073')   \n",
       "4         6065              6037  4009696.0        ('6', '065')   \n",
       "\n",
       "  destination_state_county              origin         destination  \\\n",
       "0             ('6', '037')    San Diego County  Los Angeles County   \n",
       "1             ('6', '073')  Los Angeles County    San Diego County   \n",
       "2             ('6', '073')     Imperial County    San Diego County   \n",
       "3             ('6', '025')    San Diego County     Imperial County   \n",
       "4             ('6', '037')    Riverside County  Los Angeles County   \n",
       "\n",
       "   origin_state_code  destination_state_code  dest_state  orig_state  \\\n",
       "0                  6                       6  California  California   \n",
       "1                  6                       6  California  California   \n",
       "2                  6                       6  California  California   \n",
       "3                  6                       6  California  California   \n",
       "4                  6                       6  California  California   \n",
       "\n",
       "                        dest_full                       orig_full  original_id  \n",
       "0  Los Angeles County, California    San Diego County, California       695469  \n",
       "1    San Diego County, California  Los Angeles County, California       638859  \n",
       "2    San Diego County, California     Imperial County, California       619983  \n",
       "3     Imperial County, California    San Diego County, California       695463  \n",
       "4  Los Angeles County, California    Riverside County, California       682885  "
      ]
     },
     "execution_count": 20,
     "metadata": {},
     "output_type": "execute_result"
    }
   ],
   "source": [
    "trips.head()"
   ]
  },
  {
   "cell_type": "code",
   "execution_count": 34,
   "id": "assumed-beast",
   "metadata": {},
   "outputs": [
    {
     "name": "stdout",
     "output_type": "stream",
     "text": [
      "3145\n",
      "3139\n"
     ]
    }
   ],
   "source": [
    "# TODO: Why are these not equal?\n",
    "print(trips['destination_code'].nunique())\n",
    "print(trips['dest_full'].nunique())"
   ]
  },
  {
   "cell_type": "code",
   "execution_count": 35,
   "id": "significant-binary",
   "metadata": {},
   "outputs": [],
   "source": [
    "# Save Data\n",
    "trips.to_csv('orig_dest_detailed.csv')"
   ]
  },
  {
   "cell_type": "code",
   "execution_count": null,
   "id": "searching-vanilla",
   "metadata": {},
   "outputs": [],
   "source": []
  }
 ],
 "metadata": {
  "kernelspec": {
   "display_name": "vrb-know",
   "language": "python",
   "name": "vrb-know"
  },
  "language_info": {
   "codemirror_mode": {
    "name": "ipython",
    "version": 3
   },
   "file_extension": ".py",
   "mimetype": "text/x-python",
   "name": "python",
   "nbconvert_exporter": "python",
   "pygments_lexer": "ipython3",
   "version": "3.8.1"
  }
 },
 "nbformat": 4,
 "nbformat_minor": 5
}
