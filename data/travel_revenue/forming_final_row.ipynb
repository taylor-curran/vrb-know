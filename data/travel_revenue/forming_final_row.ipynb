{
 "cells": [
  {
   "cell_type": "code",
   "execution_count": 1,
   "id": "lasting-composite",
   "metadata": {},
   "outputs": [],
   "source": [
    "import pandas as pd"
   ]
  },
  {
   "cell_type": "code",
   "execution_count": 2,
   "id": "polar-layer",
   "metadata": {},
   "outputs": [
    {
     "name": "stdout",
     "output_type": "stream",
     "text": [
      "(250000, 14)\n"
     ]
    },
    {
     "data": {
      "text/html": [
       "<div>\n",
       "<style scoped>\n",
       "    .dataframe tbody tr th:only-of-type {\n",
       "        vertical-align: middle;\n",
       "    }\n",
       "\n",
       "    .dataframe tbody tr th {\n",
       "        vertical-align: top;\n",
       "    }\n",
       "\n",
       "    .dataframe thead th {\n",
       "        text-align: right;\n",
       "    }\n",
       "</style>\n",
       "<table border=\"1\" class=\"dataframe\">\n",
       "  <thead>\n",
       "    <tr style=\"text-align: right;\">\n",
       "      <th></th>\n",
       "      <th>origin_code</th>\n",
       "      <th>destination_code</th>\n",
       "      <th>n_trips</th>\n",
       "      <th>origin_state_county</th>\n",
       "      <th>destination_state_county</th>\n",
       "      <th>origin</th>\n",
       "      <th>destination</th>\n",
       "      <th>origin_state_code</th>\n",
       "      <th>destination_state_code</th>\n",
       "      <th>dest_state</th>\n",
       "      <th>orig_state</th>\n",
       "      <th>dest_full</th>\n",
       "      <th>orig_full</th>\n",
       "      <th>original_id</th>\n",
       "    </tr>\n",
       "  </thead>\n",
       "  <tbody>\n",
       "    <tr>\n",
       "      <th>0</th>\n",
       "      <td>6073</td>\n",
       "      <td>6037</td>\n",
       "      <td>9098075.0</td>\n",
       "      <td>('6', '073')</td>\n",
       "      <td>('6', '037')</td>\n",
       "      <td>San Diego County</td>\n",
       "      <td>Los Angeles County</td>\n",
       "      <td>6</td>\n",
       "      <td>6</td>\n",
       "      <td>California</td>\n",
       "      <td>California</td>\n",
       "      <td>Los Angeles County, California</td>\n",
       "      <td>San Diego County, California</td>\n",
       "      <td>695469</td>\n",
       "    </tr>\n",
       "    <tr>\n",
       "      <th>1</th>\n",
       "      <td>6037</td>\n",
       "      <td>6073</td>\n",
       "      <td>9098075.0</td>\n",
       "      <td>('6', '037')</td>\n",
       "      <td>('6', '073')</td>\n",
       "      <td>Los Angeles County</td>\n",
       "      <td>San Diego County</td>\n",
       "      <td>6</td>\n",
       "      <td>6</td>\n",
       "      <td>California</td>\n",
       "      <td>California</td>\n",
       "      <td>San Diego County, California</td>\n",
       "      <td>Los Angeles County, California</td>\n",
       "      <td>638859</td>\n",
       "    </tr>\n",
       "    <tr>\n",
       "      <th>2</th>\n",
       "      <td>6025</td>\n",
       "      <td>6073</td>\n",
       "      <td>4337119.0</td>\n",
       "      <td>('6', '025')</td>\n",
       "      <td>('6', '073')</td>\n",
       "      <td>Imperial County</td>\n",
       "      <td>San Diego County</td>\n",
       "      <td>6</td>\n",
       "      <td>6</td>\n",
       "      <td>California</td>\n",
       "      <td>California</td>\n",
       "      <td>San Diego County, California</td>\n",
       "      <td>Imperial County, California</td>\n",
       "      <td>619983</td>\n",
       "    </tr>\n",
       "    <tr>\n",
       "      <th>3</th>\n",
       "      <td>6073</td>\n",
       "      <td>6025</td>\n",
       "      <td>4337119.0</td>\n",
       "      <td>('6', '073')</td>\n",
       "      <td>('6', '025')</td>\n",
       "      <td>San Diego County</td>\n",
       "      <td>Imperial County</td>\n",
       "      <td>6</td>\n",
       "      <td>6</td>\n",
       "      <td>California</td>\n",
       "      <td>California</td>\n",
       "      <td>Imperial County, California</td>\n",
       "      <td>San Diego County, California</td>\n",
       "      <td>695463</td>\n",
       "    </tr>\n",
       "    <tr>\n",
       "      <th>4</th>\n",
       "      <td>6065</td>\n",
       "      <td>6037</td>\n",
       "      <td>4009696.0</td>\n",
       "      <td>('6', '065')</td>\n",
       "      <td>('6', '037')</td>\n",
       "      <td>Riverside County</td>\n",
       "      <td>Los Angeles County</td>\n",
       "      <td>6</td>\n",
       "      <td>6</td>\n",
       "      <td>California</td>\n",
       "      <td>California</td>\n",
       "      <td>Los Angeles County, California</td>\n",
       "      <td>Riverside County, California</td>\n",
       "      <td>682885</td>\n",
       "    </tr>\n",
       "  </tbody>\n",
       "</table>\n",
       "</div>"
      ],
      "text/plain": [
       "   origin_code  destination_code    n_trips origin_state_county  \\\n",
       "0         6073              6037  9098075.0        ('6', '073')   \n",
       "1         6037              6073  9098075.0        ('6', '037')   \n",
       "2         6025              6073  4337119.0        ('6', '025')   \n",
       "3         6073              6025  4337119.0        ('6', '073')   \n",
       "4         6065              6037  4009696.0        ('6', '065')   \n",
       "\n",
       "  destination_state_county              origin         destination  \\\n",
       "0             ('6', '037')    San Diego County  Los Angeles County   \n",
       "1             ('6', '073')  Los Angeles County    San Diego County   \n",
       "2             ('6', '073')     Imperial County    San Diego County   \n",
       "3             ('6', '025')    San Diego County     Imperial County   \n",
       "4             ('6', '037')    Riverside County  Los Angeles County   \n",
       "\n",
       "   origin_state_code  destination_state_code  dest_state  orig_state  \\\n",
       "0                  6                       6  California  California   \n",
       "1                  6                       6  California  California   \n",
       "2                  6                       6  California  California   \n",
       "3                  6                       6  California  California   \n",
       "4                  6                       6  California  California   \n",
       "\n",
       "                        dest_full                       orig_full  original_id  \n",
       "0  Los Angeles County, California    San Diego County, California       695469  \n",
       "1    San Diego County, California  Los Angeles County, California       638859  \n",
       "2    San Diego County, California     Imperial County, California       619983  \n",
       "3     Imperial County, California    San Diego County, California       695463  \n",
       "4  Los Angeles County, California    Riverside County, California       682885  "
      ]
     },
     "execution_count": 2,
     "metadata": {},
     "output_type": "execute_result"
    }
   ],
   "source": [
    "pairs = pd.read_csv('orig_dest_detailed.csv', index_col=0)\n",
    "print(pairs.shape)\n",
    "pairs.head()"
   ]
  },
  {
   "cell_type": "code",
   "execution_count": 3,
   "id": "greek-immigration",
   "metadata": {},
   "outputs": [
    {
     "name": "stdout",
     "output_type": "stream",
     "text": [
      "553\n"
     ]
    },
    {
     "data": {
      "text/plain": [
       "['nan, Alaska', 'nan, Alaska', 'nan, Alaska']"
      ]
     },
     "execution_count": 3,
     "metadata": {},
     "output_type": "execute_result"
    }
   ],
   "source": [
    "# There are 553 Nan Counties\n",
    "print(len([dest for dest in pairs['dest_full'] if dest[:3] == 'nan']))\n",
    "# First 3 Just for Context\n",
    "[dest for dest in pairs['dest_full'] if dest[:3] == 'nan'][:3]"
   ]
  },
  {
   "cell_type": "code",
   "execution_count": 4,
   "id": "initial-conspiracy",
   "metadata": {},
   "outputs": [
    {
     "data": {
      "text/plain": [
       "dest_full\n",
       "Abbeville County, South Carolina     184624.0\n",
       "Acadia Parish, Louisiana             241374.0\n",
       "Accomack County, Virginia            242825.0\n",
       "Ada County, Idaho                   1964790.0\n",
       "Adair County, Iowa                    69708.0\n",
       "Name: n_trips, dtype: float64"
      ]
     },
     "execution_count": 4,
     "metadata": {},
     "output_type": "execute_result"
    }
   ],
   "source": [
    "trips_by_dest = pairs.groupby('dest_full').sum()['n_trips']\n",
    "trips_by_dest.head()"
   ]
  },
  {
   "cell_type": "code",
   "execution_count": 11,
   "id": "returning-sociology",
   "metadata": {},
   "outputs": [
    {
     "data": {
      "text/plain": [
       "3139"
      ]
     },
     "execution_count": 11,
     "metadata": {},
     "output_type": "execute_result"
    }
   ],
   "source": [
    "len(trips_by_dest.index)"
   ]
  },
  {
   "cell_type": "code",
   "execution_count": 15,
   "id": "cellular-twenty",
   "metadata": {},
   "outputs": [],
   "source": [
    "n_times_city_is_dest = trips_by_dest.sort_values(ascending=False)"
   ]
  },
  {
   "cell_type": "code",
   "execution_count": 14,
   "id": "designing-butterfly",
   "metadata": {},
   "outputs": [],
   "source": [
    "# Ideally I find the Top Destinations that Originate from most populated cities."
   ]
  },
  {
   "cell_type": "code",
   "execution_count": 16,
   "id": "composite-collapse",
   "metadata": {},
   "outputs": [],
   "source": [
    "n_times_city_is_dest.to_csv('col_travel_n_times_city_is_dest.csv')"
   ]
  },
  {
   "cell_type": "code",
   "execution_count": null,
   "id": "later-james",
   "metadata": {},
   "outputs": [],
   "source": []
  }
 ],
 "metadata": {
  "kernelspec": {
   "display_name": "vrb-know",
   "language": "python",
   "name": "vrb-know"
  },
  "language_info": {
   "codemirror_mode": {
    "name": "ipython",
    "version": 3
   },
   "file_extension": ".py",
   "mimetype": "text/x-python",
   "name": "python",
   "nbconvert_exporter": "python",
   "pygments_lexer": "ipython3",
   "version": "3.8.1"
  }
 },
 "nbformat": 4,
 "nbformat_minor": 5
}
