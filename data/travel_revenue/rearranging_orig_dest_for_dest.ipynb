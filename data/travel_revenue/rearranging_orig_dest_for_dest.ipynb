{
 "cells": [
  {
   "cell_type": "markdown",
   "id": "affiliated-wallace",
   "metadata": {},
   "source": [
    "# Rearranging table structure so that each row is a destination not a orig-dest pair"
   ]
  },
  {
   "cell_type": "markdown",
   "id": "looking-float",
   "metadata": {},
   "source": [
    "# **TODO:**\n",
    "This notebook concludes with a Series in which each row is one county, and it's value is the count of instances in which that county is a destination.\n",
    "- More information could be added per row, for example <- number of unique origins that conclude with said destination....\n",
    "- Possibly the populations of these origin counties.\n",
    "- This one notebook could serve as a sole filtering method in itself.\n",
    "- I could deep dive on getting the most out of this data source."
   ]
  },
  {
   "cell_type": "code",
   "execution_count": 1,
   "id": "assigned-spanking",
   "metadata": {},
   "outputs": [],
   "source": [
    "import pandas as pd"
   ]
  },
  {
   "cell_type": "code",
   "execution_count": 2,
   "id": "happy-advocate",
   "metadata": {},
   "outputs": [
    {
     "name": "stdout",
     "output_type": "stream",
     "text": [
      "(250000, 14)\n"
     ]
    },
    {
     "data": {
      "text/html": [
       "<div>\n",
       "<style scoped>\n",
       "    .dataframe tbody tr th:only-of-type {\n",
       "        vertical-align: middle;\n",
       "    }\n",
       "\n",
       "    .dataframe tbody tr th {\n",
       "        vertical-align: top;\n",
       "    }\n",
       "\n",
       "    .dataframe thead th {\n",
       "        text-align: right;\n",
       "    }\n",
       "</style>\n",
       "<table border=\"1\" class=\"dataframe\">\n",
       "  <thead>\n",
       "    <tr style=\"text-align: right;\">\n",
       "      <th></th>\n",
       "      <th>origin_code</th>\n",
       "      <th>destination_code</th>\n",
       "      <th>n_trips</th>\n",
       "      <th>origin_state_county</th>\n",
       "      <th>destination_state_county</th>\n",
       "      <th>origin</th>\n",
       "      <th>destination</th>\n",
       "      <th>origin_state_code</th>\n",
       "      <th>destination_state_code</th>\n",
       "      <th>dest_state</th>\n",
       "      <th>orig_state</th>\n",
       "      <th>dest_full</th>\n",
       "      <th>orig_full</th>\n",
       "      <th>original_id</th>\n",
       "    </tr>\n",
       "  </thead>\n",
       "  <tbody>\n",
       "    <tr>\n",
       "      <th>0</th>\n",
       "      <td>6073</td>\n",
       "      <td>6037</td>\n",
       "      <td>9098075.0</td>\n",
       "      <td>('6', '073')</td>\n",
       "      <td>('6', '037')</td>\n",
       "      <td>San Diego County</td>\n",
       "      <td>Los Angeles County</td>\n",
       "      <td>6</td>\n",
       "      <td>6</td>\n",
       "      <td>California</td>\n",
       "      <td>California</td>\n",
       "      <td>Los Angeles County, California</td>\n",
       "      <td>San Diego County, California</td>\n",
       "      <td>695469</td>\n",
       "    </tr>\n",
       "    <tr>\n",
       "      <th>1</th>\n",
       "      <td>6037</td>\n",
       "      <td>6073</td>\n",
       "      <td>9098075.0</td>\n",
       "      <td>('6', '037')</td>\n",
       "      <td>('6', '073')</td>\n",
       "      <td>Los Angeles County</td>\n",
       "      <td>San Diego County</td>\n",
       "      <td>6</td>\n",
       "      <td>6</td>\n",
       "      <td>California</td>\n",
       "      <td>California</td>\n",
       "      <td>San Diego County, California</td>\n",
       "      <td>Los Angeles County, California</td>\n",
       "      <td>638859</td>\n",
       "    </tr>\n",
       "    <tr>\n",
       "      <th>2</th>\n",
       "      <td>6025</td>\n",
       "      <td>6073</td>\n",
       "      <td>4337119.0</td>\n",
       "      <td>('6', '025')</td>\n",
       "      <td>('6', '073')</td>\n",
       "      <td>Imperial County</td>\n",
       "      <td>San Diego County</td>\n",
       "      <td>6</td>\n",
       "      <td>6</td>\n",
       "      <td>California</td>\n",
       "      <td>California</td>\n",
       "      <td>San Diego County, California</td>\n",
       "      <td>Imperial County, California</td>\n",
       "      <td>619983</td>\n",
       "    </tr>\n",
       "    <tr>\n",
       "      <th>3</th>\n",
       "      <td>6073</td>\n",
       "      <td>6025</td>\n",
       "      <td>4337119.0</td>\n",
       "      <td>('6', '073')</td>\n",
       "      <td>('6', '025')</td>\n",
       "      <td>San Diego County</td>\n",
       "      <td>Imperial County</td>\n",
       "      <td>6</td>\n",
       "      <td>6</td>\n",
       "      <td>California</td>\n",
       "      <td>California</td>\n",
       "      <td>Imperial County, California</td>\n",
       "      <td>San Diego County, California</td>\n",
       "      <td>695463</td>\n",
       "    </tr>\n",
       "    <tr>\n",
       "      <th>4</th>\n",
       "      <td>6065</td>\n",
       "      <td>6037</td>\n",
       "      <td>4009696.0</td>\n",
       "      <td>('6', '065')</td>\n",
       "      <td>('6', '037')</td>\n",
       "      <td>Riverside County</td>\n",
       "      <td>Los Angeles County</td>\n",
       "      <td>6</td>\n",
       "      <td>6</td>\n",
       "      <td>California</td>\n",
       "      <td>California</td>\n",
       "      <td>Los Angeles County, California</td>\n",
       "      <td>Riverside County, California</td>\n",
       "      <td>682885</td>\n",
       "    </tr>\n",
       "  </tbody>\n",
       "</table>\n",
       "</div>"
      ],
      "text/plain": [
       "   origin_code  destination_code    n_trips origin_state_county  \\\n",
       "0         6073              6037  9098075.0        ('6', '073')   \n",
       "1         6037              6073  9098075.0        ('6', '037')   \n",
       "2         6025              6073  4337119.0        ('6', '025')   \n",
       "3         6073              6025  4337119.0        ('6', '073')   \n",
       "4         6065              6037  4009696.0        ('6', '065')   \n",
       "\n",
       "  destination_state_county              origin         destination  \\\n",
       "0             ('6', '037')    San Diego County  Los Angeles County   \n",
       "1             ('6', '073')  Los Angeles County    San Diego County   \n",
       "2             ('6', '073')     Imperial County    San Diego County   \n",
       "3             ('6', '025')    San Diego County     Imperial County   \n",
       "4             ('6', '037')    Riverside County  Los Angeles County   \n",
       "\n",
       "   origin_state_code  destination_state_code  dest_state  orig_state  \\\n",
       "0                  6                       6  California  California   \n",
       "1                  6                       6  California  California   \n",
       "2                  6                       6  California  California   \n",
       "3                  6                       6  California  California   \n",
       "4                  6                       6  California  California   \n",
       "\n",
       "                        dest_full                       orig_full  original_id  \n",
       "0  Los Angeles County, California    San Diego County, California       695469  \n",
       "1    San Diego County, California  Los Angeles County, California       638859  \n",
       "2    San Diego County, California     Imperial County, California       619983  \n",
       "3     Imperial County, California    San Diego County, California       695463  \n",
       "4  Los Angeles County, California    Riverside County, California       682885  "
      ]
     },
     "execution_count": 2,
     "metadata": {},
     "output_type": "execute_result"
    }
   ],
   "source": [
    "pairs = pd.read_csv('orig_dest_detailed.csv', index_col=0)\n",
    "print(pairs.shape)\n",
    "pairs.head()"
   ]
  },
  {
   "cell_type": "code",
   "execution_count": 3,
   "id": "sustained-details",
   "metadata": {},
   "outputs": [
    {
     "name": "stdout",
     "output_type": "stream",
     "text": [
      "553\n"
     ]
    },
    {
     "data": {
      "text/plain": [
       "['nan, Alaska', 'nan, Alaska', 'nan, Alaska']"
      ]
     },
     "execution_count": 3,
     "metadata": {},
     "output_type": "execute_result"
    }
   ],
   "source": [
    "# There are 553 Nan Counties\n",
    "print(len([dest for dest in pairs['dest_full'] if dest[:3] == 'nan']))\n",
    "# First 3 Just for Context\n",
    "[dest for dest in pairs['dest_full'] if dest[:3] == 'nan'][:3]"
   ]
  },
  {
   "cell_type": "code",
   "execution_count": 4,
   "id": "ancient-twelve",
   "metadata": {},
   "outputs": [
    {
     "data": {
      "text/plain": [
       "dest_full\n",
       "Abbeville County, South Carolina     184624.0\n",
       "Acadia Parish, Louisiana             241374.0\n",
       "Accomack County, Virginia            242825.0\n",
       "Ada County, Idaho                   1964790.0\n",
       "Adair County, Iowa                    69708.0\n",
       "Name: n_trips, dtype: float64"
      ]
     },
     "execution_count": 4,
     "metadata": {},
     "output_type": "execute_result"
    }
   ],
   "source": [
    "trips_by_dest = pairs.groupby('dest_full').sum()['n_trips']\n",
    "trips_by_dest.head()"
   ]
  },
  {
   "cell_type": "code",
   "execution_count": 17,
   "id": "destroyed-generation",
   "metadata": {},
   "outputs": [
    {
     "data": {
      "text/plain": [
       "184624.0"
      ]
     },
     "execution_count": 17,
     "metadata": {},
     "output_type": "execute_result"
    }
   ],
   "source": [
    "# Looks Like the Groupby Works as Intended\n",
    "abbeville = pairs[pairs['dest_full'] == 'Abbeville County, South Carolina']\n",
    "abbeville['n_trips'].sum()"
   ]
  },
  {
   "cell_type": "code",
   "execution_count": 5,
   "id": "registered-wisconsin",
   "metadata": {},
   "outputs": [
    {
     "data": {
      "text/plain": [
       "3139"
      ]
     },
     "execution_count": 5,
     "metadata": {},
     "output_type": "execute_result"
    }
   ],
   "source": [
    "len(trips_by_dest.index)"
   ]
  },
  {
   "cell_type": "code",
   "execution_count": 6,
   "id": "inside-world",
   "metadata": {},
   "outputs": [],
   "source": [
    "n_times_city_is_dest = trips_by_dest.sort_values(ascending=False)"
   ]
  },
  {
   "cell_type": "code",
   "execution_count": 7,
   "id": "chicken-rough",
   "metadata": {},
   "outputs": [],
   "source": [
    "# Ideally I find the Top Destinations that Originate from most populated cities."
   ]
  },
  {
   "cell_type": "code",
   "execution_count": 8,
   "id": "sustainable-confidence",
   "metadata": {},
   "outputs": [],
   "source": [
    "n_times_city_is_dest.to_csv('col_travel_n_times_city_is_dest.csv')"
   ]
  },
  {
   "cell_type": "code",
   "execution_count": 9,
   "id": "exterior-challenge",
   "metadata": {},
   "outputs": [],
   "source": [
    "trips_by_dest = pairs.groupby(['dest_full', 'dest_state']).sum()['n_trips']"
   ]
  },
  {
   "cell_type": "code",
   "execution_count": 10,
   "id": "every-roulette",
   "metadata": {},
   "outputs": [],
   "source": [
    "trips_by_dest = pd.DataFrame(trips_by_dest).reset_index()"
   ]
  },
  {
   "cell_type": "code",
   "execution_count": 11,
   "id": "forced-olympus",
   "metadata": {},
   "outputs": [],
   "source": [
    "trips_by_dest.to_csv('col_travel_n_times_city_is_dest_with_states.csv')"
   ]
  },
  {
   "cell_type": "markdown",
   "id": "micro-english",
   "metadata": {},
   "source": [
    "## What other inforation could I gather from this grouping?\n",
    "#### We'll look at two examples to get some ideas:\n",
    "Abbeville County and Ada County"
   ]
  },
  {
   "cell_type": "code",
   "execution_count": 19,
   "id": "viral-daily",
   "metadata": {},
   "outputs": [
    {
     "name": "stdout",
     "output_type": "stream",
     "text": [
      "(48, 14)\n"
     ]
    },
    {
     "data": {
      "text/html": [
       "<div>\n",
       "<style scoped>\n",
       "    .dataframe tbody tr th:only-of-type {\n",
       "        vertical-align: middle;\n",
       "    }\n",
       "\n",
       "    .dataframe tbody tr th {\n",
       "        vertical-align: top;\n",
       "    }\n",
       "\n",
       "    .dataframe thead th {\n",
       "        text-align: right;\n",
       "    }\n",
       "</style>\n",
       "<table border=\"1\" class=\"dataframe\">\n",
       "  <thead>\n",
       "    <tr style=\"text-align: right;\">\n",
       "      <th></th>\n",
       "      <th>origin_code</th>\n",
       "      <th>destination_code</th>\n",
       "      <th>n_trips</th>\n",
       "      <th>origin_state_county</th>\n",
       "      <th>destination_state_county</th>\n",
       "      <th>origin</th>\n",
       "      <th>destination</th>\n",
       "      <th>origin_state_code</th>\n",
       "      <th>destination_state_code</th>\n",
       "      <th>dest_state</th>\n",
       "      <th>orig_state</th>\n",
       "      <th>dest_full</th>\n",
       "      <th>orig_full</th>\n",
       "      <th>original_id</th>\n",
       "    </tr>\n",
       "  </thead>\n",
       "  <tbody>\n",
       "    <tr>\n",
       "      <th>13359</th>\n",
       "      <td>37087</td>\n",
       "      <td>45001</td>\n",
       "      <td>17735.0</td>\n",
       "      <td>('37', '087')</td>\n",
       "      <td>('45', '001')</td>\n",
       "      <td>Haywood County</td>\n",
       "      <td>Abbeville County</td>\n",
       "      <td>37</td>\n",
       "      <td>45</td>\n",
       "      <td>South Carolina</td>\n",
       "      <td>North Carolina</td>\n",
       "      <td>Abbeville County, South Carolina</td>\n",
       "      <td>Haywood County, North Carolina</td>\n",
       "      <td>6086681</td>\n",
       "    </tr>\n",
       "    <tr>\n",
       "      <th>13507</th>\n",
       "      <td>13121</td>\n",
       "      <td>45001</td>\n",
       "      <td>17634.0</td>\n",
       "      <td>('13', '121')</td>\n",
       "      <td>('45', '001')</td>\n",
       "      <td>Fulton County</td>\n",
       "      <td>Abbeville County</td>\n",
       "      <td>13</td>\n",
       "      <td>45</td>\n",
       "      <td>South Carolina</td>\n",
       "      <td>Georgia</td>\n",
       "      <td>Abbeville County, South Carolina</td>\n",
       "      <td>Fulton County, Georgia</td>\n",
       "      <td>1405433</td>\n",
       "    </tr>\n",
       "    <tr>\n",
       "      <th>16110</th>\n",
       "      <td>13135</td>\n",
       "      <td>45001</td>\n",
       "      <td>15333.0</td>\n",
       "      <td>('13', '135')</td>\n",
       "      <td>('45', '001')</td>\n",
       "      <td>Gwinnett County</td>\n",
       "      <td>Abbeville County</td>\n",
       "      <td>13</td>\n",
       "      <td>45</td>\n",
       "      <td>South Carolina</td>\n",
       "      <td>Georgia</td>\n",
       "      <td>Abbeville County, South Carolina</td>\n",
       "      <td>Gwinnett County, Georgia</td>\n",
       "      <td>1427455</td>\n",
       "    </tr>\n",
       "    <tr>\n",
       "      <th>18980</th>\n",
       "      <td>45079</td>\n",
       "      <td>45001</td>\n",
       "      <td>13374.0</td>\n",
       "      <td>('45', '079')</td>\n",
       "      <td>('45', '001')</td>\n",
       "      <td>Richland County</td>\n",
       "      <td>Abbeville County</td>\n",
       "      <td>45</td>\n",
       "      <td>45</td>\n",
       "      <td>South Carolina</td>\n",
       "      <td>South Carolina</td>\n",
       "      <td>Abbeville County, South Carolina</td>\n",
       "      <td>Richland County, South Carolina</td>\n",
       "      <td>7414293</td>\n",
       "    </tr>\n",
       "    <tr>\n",
       "      <th>27003</th>\n",
       "      <td>13067</td>\n",
       "      <td>45001</td>\n",
       "      <td>10070.0</td>\n",
       "      <td>('13', '067')</td>\n",
       "      <td>('45', '001')</td>\n",
       "      <td>Cobb County</td>\n",
       "      <td>Abbeville County</td>\n",
       "      <td>13</td>\n",
       "      <td>45</td>\n",
       "      <td>South Carolina</td>\n",
       "      <td>Georgia</td>\n",
       "      <td>Abbeville County, South Carolina</td>\n",
       "      <td>Cobb County, Georgia</td>\n",
       "      <td>1320491</td>\n",
       "    </tr>\n",
       "  </tbody>\n",
       "</table>\n",
       "</div>"
      ],
      "text/plain": [
       "       origin_code  destination_code  n_trips origin_state_county  \\\n",
       "13359        37087             45001  17735.0       ('37', '087')   \n",
       "13507        13121             45001  17634.0       ('13', '121')   \n",
       "16110        13135             45001  15333.0       ('13', '135')   \n",
       "18980        45079             45001  13374.0       ('45', '079')   \n",
       "27003        13067             45001  10070.0       ('13', '067')   \n",
       "\n",
       "      destination_state_county           origin       destination  \\\n",
       "13359            ('45', '001')   Haywood County  Abbeville County   \n",
       "13507            ('45', '001')    Fulton County  Abbeville County   \n",
       "16110            ('45', '001')  Gwinnett County  Abbeville County   \n",
       "18980            ('45', '001')  Richland County  Abbeville County   \n",
       "27003            ('45', '001')      Cobb County  Abbeville County   \n",
       "\n",
       "       origin_state_code  destination_state_code      dest_state  \\\n",
       "13359                 37                      45  South Carolina   \n",
       "13507                 13                      45  South Carolina   \n",
       "16110                 13                      45  South Carolina   \n",
       "18980                 45                      45  South Carolina   \n",
       "27003                 13                      45  South Carolina   \n",
       "\n",
       "           orig_state                         dest_full  \\\n",
       "13359  North Carolina  Abbeville County, South Carolina   \n",
       "13507         Georgia  Abbeville County, South Carolina   \n",
       "16110         Georgia  Abbeville County, South Carolina   \n",
       "18980  South Carolina  Abbeville County, South Carolina   \n",
       "27003         Georgia  Abbeville County, South Carolina   \n",
       "\n",
       "                             orig_full  original_id  \n",
       "13359   Haywood County, North Carolina      6086681  \n",
       "13507           Fulton County, Georgia      1405433  \n",
       "16110         Gwinnett County, Georgia      1427455  \n",
       "18980  Richland County, South Carolina      7414293  \n",
       "27003             Cobb County, Georgia      1320491  "
      ]
     },
     "execution_count": 19,
     "metadata": {},
     "output_type": "execute_result"
    }
   ],
   "source": [
    "abbeville = pairs[pairs['dest_full'] == 'Abbeville County, South Carolina']\n",
    "print(abbeville.shape)\n",
    "abbeville.head()"
   ]
  },
  {
   "cell_type": "code",
   "execution_count": 22,
   "id": "defined-title",
   "metadata": {},
   "outputs": [
    {
     "data": {
      "text/plain": [
       "Haywood County, North Carolina        1\n",
       "Charleston County, South Carolina     1\n",
       "Gwinnett County, Georgia              1\n",
       "Wake County, North Carolina           1\n",
       "Mecklenburg County, North Carolina    1\n",
       "Name: orig_full, dtype: int64"
      ]
     },
     "execution_count": 22,
     "metadata": {},
     "output_type": "execute_result"
    }
   ],
   "source": [
    "abbeville['orig_full'].value_counts().head()"
   ]
  },
  {
   "cell_type": "code",
   "execution_count": 23,
   "id": "voluntary-interaction",
   "metadata": {},
   "outputs": [
    {
     "name": "stdout",
     "output_type": "stream",
     "text": [
      "(265, 14)\n"
     ]
    },
    {
     "data": {
      "text/html": [
       "<div>\n",
       "<style scoped>\n",
       "    .dataframe tbody tr th:only-of-type {\n",
       "        vertical-align: middle;\n",
       "    }\n",
       "\n",
       "    .dataframe tbody tr th {\n",
       "        vertical-align: top;\n",
       "    }\n",
       "\n",
       "    .dataframe thead th {\n",
       "        text-align: right;\n",
       "    }\n",
       "</style>\n",
       "<table border=\"1\" class=\"dataframe\">\n",
       "  <thead>\n",
       "    <tr style=\"text-align: right;\">\n",
       "      <th></th>\n",
       "      <th>origin_code</th>\n",
       "      <th>destination_code</th>\n",
       "      <th>n_trips</th>\n",
       "      <th>origin_state_county</th>\n",
       "      <th>destination_state_county</th>\n",
       "      <th>origin</th>\n",
       "      <th>destination</th>\n",
       "      <th>origin_state_code</th>\n",
       "      <th>destination_state_code</th>\n",
       "      <th>dest_state</th>\n",
       "      <th>orig_state</th>\n",
       "      <th>dest_full</th>\n",
       "      <th>orig_full</th>\n",
       "      <th>original_id</th>\n",
       "    </tr>\n",
       "  </thead>\n",
       "  <tbody>\n",
       "    <tr>\n",
       "      <th>1149</th>\n",
       "      <td>16047</td>\n",
       "      <td>16001</td>\n",
       "      <td>100497.0</td>\n",
       "      <td>('16', '047')</td>\n",
       "      <td>('16', '001')</td>\n",
       "      <td>Gooding County</td>\n",
       "      <td>Ada County</td>\n",
       "      <td>16</td>\n",
       "      <td>16</td>\n",
       "      <td>Idaho</td>\n",
       "      <td>Idaho</td>\n",
       "      <td>Ada County, Idaho</td>\n",
       "      <td>Gooding County, Idaho</td>\n",
       "      <td>1806355</td>\n",
       "    </tr>\n",
       "    <tr>\n",
       "      <th>1263</th>\n",
       "      <td>16085</td>\n",
       "      <td>16001</td>\n",
       "      <td>94045.0</td>\n",
       "      <td>('16', '085')</td>\n",
       "      <td>('16', '001')</td>\n",
       "      <td>Valley County</td>\n",
       "      <td>Ada County</td>\n",
       "      <td>16</td>\n",
       "      <td>16</td>\n",
       "      <td>Idaho</td>\n",
       "      <td>Idaho</td>\n",
       "      <td>Ada County, Idaho</td>\n",
       "      <td>Valley County, Idaho</td>\n",
       "      <td>1866129</td>\n",
       "    </tr>\n",
       "    <tr>\n",
       "      <th>1713</th>\n",
       "      <td>16025</td>\n",
       "      <td>16001</td>\n",
       "      <td>76889.0</td>\n",
       "      <td>('16', '025')</td>\n",
       "      <td>('16', '001')</td>\n",
       "      <td>Camas County</td>\n",
       "      <td>Ada County</td>\n",
       "      <td>16</td>\n",
       "      <td>16</td>\n",
       "      <td>Idaho</td>\n",
       "      <td>Idaho</td>\n",
       "      <td>Ada County, Idaho</td>\n",
       "      <td>Camas County, Idaho</td>\n",
       "      <td>1771749</td>\n",
       "    </tr>\n",
       "    <tr>\n",
       "      <th>1759</th>\n",
       "      <td>16083</td>\n",
       "      <td>16001</td>\n",
       "      <td>75652.0</td>\n",
       "      <td>('16', '083')</td>\n",
       "      <td>('16', '001')</td>\n",
       "      <td>Twin Falls County</td>\n",
       "      <td>Ada County</td>\n",
       "      <td>16</td>\n",
       "      <td>16</td>\n",
       "      <td>Idaho</td>\n",
       "      <td>Idaho</td>\n",
       "      <td>Ada County, Idaho</td>\n",
       "      <td>Twin Falls County, Idaho</td>\n",
       "      <td>1862983</td>\n",
       "    </tr>\n",
       "    <tr>\n",
       "      <th>2537</th>\n",
       "      <td>41001</td>\n",
       "      <td>16001</td>\n",
       "      <td>60276.0</td>\n",
       "      <td>('41', '001')</td>\n",
       "      <td>('16', '001')</td>\n",
       "      <td>Baker County</td>\n",
       "      <td>Ada County</td>\n",
       "      <td>41</td>\n",
       "      <td>16</td>\n",
       "      <td>Idaho</td>\n",
       "      <td>Oregon</td>\n",
       "      <td>Ada County, Idaho</td>\n",
       "      <td>Baker County, Oregon</td>\n",
       "      <td>6950065</td>\n",
       "    </tr>\n",
       "  </tbody>\n",
       "</table>\n",
       "</div>"
      ],
      "text/plain": [
       "      origin_code  destination_code   n_trips origin_state_county  \\\n",
       "1149        16047             16001  100497.0       ('16', '047')   \n",
       "1263        16085             16001   94045.0       ('16', '085')   \n",
       "1713        16025             16001   76889.0       ('16', '025')   \n",
       "1759        16083             16001   75652.0       ('16', '083')   \n",
       "2537        41001             16001   60276.0       ('41', '001')   \n",
       "\n",
       "     destination_state_county             origin destination  \\\n",
       "1149            ('16', '001')     Gooding County  Ada County   \n",
       "1263            ('16', '001')      Valley County  Ada County   \n",
       "1713            ('16', '001')       Camas County  Ada County   \n",
       "1759            ('16', '001')  Twin Falls County  Ada County   \n",
       "2537            ('16', '001')       Baker County  Ada County   \n",
       "\n",
       "      origin_state_code  destination_state_code dest_state orig_state  \\\n",
       "1149                 16                      16      Idaho      Idaho   \n",
       "1263                 16                      16      Idaho      Idaho   \n",
       "1713                 16                      16      Idaho      Idaho   \n",
       "1759                 16                      16      Idaho      Idaho   \n",
       "2537                 41                      16      Idaho     Oregon   \n",
       "\n",
       "              dest_full                 orig_full  original_id  \n",
       "1149  Ada County, Idaho     Gooding County, Idaho      1806355  \n",
       "1263  Ada County, Idaho      Valley County, Idaho      1866129  \n",
       "1713  Ada County, Idaho       Camas County, Idaho      1771749  \n",
       "1759  Ada County, Idaho  Twin Falls County, Idaho      1862983  \n",
       "2537  Ada County, Idaho      Baker County, Oregon      6950065  "
      ]
     },
     "execution_count": 23,
     "metadata": {},
     "output_type": "execute_result"
    }
   ],
   "source": [
    "ada = pairs[pairs['dest_full'] == 'Ada County, Idaho']\n",
    "print(ada.shape)\n",
    "ada.head()"
   ]
  },
  {
   "cell_type": "code",
   "execution_count": null,
   "id": "human-major",
   "metadata": {},
   "outputs": [],
   "source": []
  }
 ],
 "metadata": {
  "kernelspec": {
   "display_name": "vrb-know",
   "language": "python",
   "name": "vrb-know"
  },
  "language_info": {
   "codemirror_mode": {
    "name": "ipython",
    "version": 3
   },
   "file_extension": ".py",
   "mimetype": "text/x-python",
   "name": "python",
   "nbconvert_exporter": "python",
   "pygments_lexer": "ipython3",
   "version": "3.8.1"
  }
 },
 "nbformat": 4,
 "nbformat_minor": 5
}
