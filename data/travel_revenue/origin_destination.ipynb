{
 "cells": [
  {
   "cell_type": "code",
   "execution_count": 1,
   "id": "positive-superior",
   "metadata": {},
   "outputs": [],
   "source": [
    "import pandas as pd\n",
    "import numpy as np"
   ]
  },
  {
   "cell_type": "code",
   "execution_count": 73,
   "id": "random-mambo",
   "metadata": {},
   "outputs": [
    {
     "data": {
      "text/plain": [
       "dest_full\n",
       "Los Angeles County, California       36765826.0\n",
       "San Diego County, California         34135667.0\n",
       "Maricopa County, Arizona             20089450.0\n",
       "El Paso County, Texas                16921304.0\n",
       "Cook County, Illinois                14057822.0\n",
       "Imperial County, California          13943751.0\n",
       "Harris County, Texas                 12882141.0\n",
       "San Bernardino County, California    12230396.0\n",
       "Hidalgo County, Texas                12091140.0\n",
       "Wayne County, Michigan               11238534.0\n",
       "Webb County, Texas                   11111109.0\n",
       "Riverside County, California         10618611.0\n",
       "Alleghany County, North Carolina     10522250.0\n",
       "Orange County, California             9922867.0\n",
       "King County, Washington               9808432.0\n",
       "Cameron County, Texas                 9470134.0\n",
       "Clark County, Nevada                  9302606.0\n",
       "Niagara County, New York              8498840.0\n",
       "Dallas County, Texas                  7929316.0\n",
       "Bexar County, Texas                   7743278.0\n",
       "Name: n_trips, dtype: float64"
      ]
     },
     "execution_count": 73,
     "metadata": {},
     "output_type": "execute_result"
    }
   ],
   "source": [
    "# Most Popular Destinations\n",
    "n_trips_dest.sort_values(ascending=False).head(20)"
   ]
  },
  {
   "cell_type": "code",
   "execution_count": 73,
   "id": "indoor-fourth",
   "metadata": {},
   "outputs": [
    {
     "data": {
      "text/plain": [
       "dest_full\n",
       "Los Angeles County, California       36765826.0\n",
       "San Diego County, California         34135667.0\n",
       "Maricopa County, Arizona             20089450.0\n",
       "El Paso County, Texas                16921304.0\n",
       "Cook County, Illinois                14057822.0\n",
       "Imperial County, California          13943751.0\n",
       "Harris County, Texas                 12882141.0\n",
       "San Bernardino County, California    12230396.0\n",
       "Hidalgo County, Texas                12091140.0\n",
       "Wayne County, Michigan               11238534.0\n",
       "Webb County, Texas                   11111109.0\n",
       "Riverside County, California         10618611.0\n",
       "Alleghany County, North Carolina     10522250.0\n",
       "Orange County, California             9922867.0\n",
       "King County, Washington               9808432.0\n",
       "Cameron County, Texas                 9470134.0\n",
       "Clark County, Nevada                  9302606.0\n",
       "Niagara County, New York              8498840.0\n",
       "Dallas County, Texas                  7929316.0\n",
       "Bexar County, Texas                   7743278.0\n",
       "Name: n_trips, dtype: float64"
      ]
     },
     "execution_count": 73,
     "metadata": {},
     "output_type": "execute_result"
    }
   ],
   "source": [
    "# Most Popular Destinations\n",
    "n_trips_dest.sort_values(ascending=False).head(20)"
   ]
  },
  {
   "cell_type": "code",
   "execution_count": 73,
   "id": "periodic-double",
   "metadata": {},
   "outputs": [
    {
     "data": {
      "text/plain": [
       "dest_full\n",
       "Los Angeles County, California       36765826.0\n",
       "San Diego County, California         34135667.0\n",
       "Maricopa County, Arizona             20089450.0\n",
       "El Paso County, Texas                16921304.0\n",
       "Cook County, Illinois                14057822.0\n",
       "Imperial County, California          13943751.0\n",
       "Harris County, Texas                 12882141.0\n",
       "San Bernardino County, California    12230396.0\n",
       "Hidalgo County, Texas                12091140.0\n",
       "Wayne County, Michigan               11238534.0\n",
       "Webb County, Texas                   11111109.0\n",
       "Riverside County, California         10618611.0\n",
       "Alleghany County, North Carolina     10522250.0\n",
       "Orange County, California             9922867.0\n",
       "King County, Washington               9808432.0\n",
       "Cameron County, Texas                 9470134.0\n",
       "Clark County, Nevada                  9302606.0\n",
       "Niagara County, New York              8498840.0\n",
       "Dallas County, Texas                  7929316.0\n",
       "Bexar County, Texas                   7743278.0\n",
       "Name: n_trips, dtype: float64"
      ]
     },
     "execution_count": 73,
     "metadata": {},
     "output_type": "execute_result"
    }
   ],
   "source": [
    "# Most Popular Destinations\n",
    "n_trips_dest.sort_values(ascending=False).head(20)"
   ]
  },
  {
   "cell_type": "code",
   "execution_count": 73,
   "id": "suffering-klein",
   "metadata": {},
   "outputs": [
    {
     "data": {
      "text/plain": [
       "dest_full\n",
       "Los Angeles County, California       36765826.0\n",
       "San Diego County, California         34135667.0\n",
       "Maricopa County, Arizona             20089450.0\n",
       "El Paso County, Texas                16921304.0\n",
       "Cook County, Illinois                14057822.0\n",
       "Imperial County, California          13943751.0\n",
       "Harris County, Texas                 12882141.0\n",
       "San Bernardino County, California    12230396.0\n",
       "Hidalgo County, Texas                12091140.0\n",
       "Wayne County, Michigan               11238534.0\n",
       "Webb County, Texas                   11111109.0\n",
       "Riverside County, California         10618611.0\n",
       "Alleghany County, North Carolina     10522250.0\n",
       "Orange County, California             9922867.0\n",
       "King County, Washington               9808432.0\n",
       "Cameron County, Texas                 9470134.0\n",
       "Clark County, Nevada                  9302606.0\n",
       "Niagara County, New York              8498840.0\n",
       "Dallas County, Texas                  7929316.0\n",
       "Bexar County, Texas                   7743278.0\n",
       "Name: n_trips, dtype: float64"
      ]
     },
     "execution_count": 73,
     "metadata": {},
     "output_type": "execute_result"
    }
   ],
   "source": [
    "# Most Popular Destinations\n",
    "n_trips_dest.sort_values(ascending=False).head(20)"
   ]
  },
  {
   "cell_type": "code",
   "execution_count": 73,
   "id": "acting-specific",
   "metadata": {},
   "outputs": [
    {
     "data": {
      "text/plain": [
       "dest_full\n",
       "Los Angeles County, California       36765826.0\n",
       "San Diego County, California         34135667.0\n",
       "Maricopa County, Arizona             20089450.0\n",
       "El Paso County, Texas                16921304.0\n",
       "Cook County, Illinois                14057822.0\n",
       "Imperial County, California          13943751.0\n",
       "Harris County, Texas                 12882141.0\n",
       "San Bernardino County, California    12230396.0\n",
       "Hidalgo County, Texas                12091140.0\n",
       "Wayne County, Michigan               11238534.0\n",
       "Webb County, Texas                   11111109.0\n",
       "Riverside County, California         10618611.0\n",
       "Alleghany County, North Carolina     10522250.0\n",
       "Orange County, California             9922867.0\n",
       "King County, Washington               9808432.0\n",
       "Cameron County, Texas                 9470134.0\n",
       "Clark County, Nevada                  9302606.0\n",
       "Niagara County, New York              8498840.0\n",
       "Dallas County, Texas                  7929316.0\n",
       "Bexar County, Texas                   7743278.0\n",
       "Name: n_trips, dtype: float64"
      ]
     },
     "execution_count": 73,
     "metadata": {},
     "output_type": "execute_result"
    }
   ],
   "source": [
    "# Most Popular Destinations\n",
    "n_trips_dest.sort_values(ascending=False).head(20)"
   ]
  },
  {
   "cell_type": "code",
   "execution_count": 73,
   "id": "prepared-motel",
   "metadata": {},
   "outputs": [
    {
     "data": {
      "text/plain": [
       "dest_full\n",
       "Los Angeles County, California       36765826.0\n",
       "San Diego County, California         34135667.0\n",
       "Maricopa County, Arizona             20089450.0\n",
       "El Paso County, Texas                16921304.0\n",
       "Cook County, Illinois                14057822.0\n",
       "Imperial County, California          13943751.0\n",
       "Harris County, Texas                 12882141.0\n",
       "San Bernardino County, California    12230396.0\n",
       "Hidalgo County, Texas                12091140.0\n",
       "Wayne County, Michigan               11238534.0\n",
       "Webb County, Texas                   11111109.0\n",
       "Riverside County, California         10618611.0\n",
       "Alleghany County, North Carolina     10522250.0\n",
       "Orange County, California             9922867.0\n",
       "King County, Washington               9808432.0\n",
       "Cameron County, Texas                 9470134.0\n",
       "Clark County, Nevada                  9302606.0\n",
       "Niagara County, New York              8498840.0\n",
       "Dallas County, Texas                  7929316.0\n",
       "Bexar County, Texas                   7743278.0\n",
       "Name: n_trips, dtype: float64"
      ]
     },
     "execution_count": 73,
     "metadata": {},
     "output_type": "execute_result"
    }
   ],
   "source": [
    "# Most Popular Destinations\n",
    "n_trips_dest.sort_values(ascending=False).head(20)"
   ]
  },
  {
   "cell_type": "code",
   "execution_count": 73,
   "id": "willing-metropolitan",
   "metadata": {},
   "outputs": [
    {
     "data": {
      "text/plain": [
       "dest_full\n",
       "Los Angeles County, California       36765826.0\n",
       "San Diego County, California         34135667.0\n",
       "Maricopa County, Arizona             20089450.0\n",
       "El Paso County, Texas                16921304.0\n",
       "Cook County, Illinois                14057822.0\n",
       "Imperial County, California          13943751.0\n",
       "Harris County, Texas                 12882141.0\n",
       "San Bernardino County, California    12230396.0\n",
       "Hidalgo County, Texas                12091140.0\n",
       "Wayne County, Michigan               11238534.0\n",
       "Webb County, Texas                   11111109.0\n",
       "Riverside County, California         10618611.0\n",
       "Alleghany County, North Carolina     10522250.0\n",
       "Orange County, California             9922867.0\n",
       "King County, Washington               9808432.0\n",
       "Cameron County, Texas                 9470134.0\n",
       "Clark County, Nevada                  9302606.0\n",
       "Niagara County, New York              8498840.0\n",
       "Dallas County, Texas                  7929316.0\n",
       "Bexar County, Texas                   7743278.0\n",
       "Name: n_trips, dtype: float64"
      ]
     },
     "execution_count": 73,
     "metadata": {},
     "output_type": "execute_result"
    }
   ],
   "source": [
    "# Most Popular Destinations\n",
    "n_trips_dest.sort_values(ascending=False).head(20)"
   ]
  },
  {
   "cell_type": "code",
   "execution_count": 73,
   "id": "flexible-abuse",
   "metadata": {},
   "outputs": [
    {
     "data": {
      "text/plain": [
       "dest_full\n",
       "Los Angeles County, California       36765826.0\n",
       "San Diego County, California         34135667.0\n",
       "Maricopa County, Arizona             20089450.0\n",
       "El Paso County, Texas                16921304.0\n",
       "Cook County, Illinois                14057822.0\n",
       "Imperial County, California          13943751.0\n",
       "Harris County, Texas                 12882141.0\n",
       "San Bernardino County, California    12230396.0\n",
       "Hidalgo County, Texas                12091140.0\n",
       "Wayne County, Michigan               11238534.0\n",
       "Webb County, Texas                   11111109.0\n",
       "Riverside County, California         10618611.0\n",
       "Alleghany County, North Carolina     10522250.0\n",
       "Orange County, California             9922867.0\n",
       "King County, Washington               9808432.0\n",
       "Cameron County, Texas                 9470134.0\n",
       "Clark County, Nevada                  9302606.0\n",
       "Niagara County, New York              8498840.0\n",
       "Dallas County, Texas                  7929316.0\n",
       "Bexar County, Texas                   7743278.0\n",
       "Name: n_trips, dtype: float64"
      ]
     },
     "execution_count": 73,
     "metadata": {},
     "output_type": "execute_result"
    }
   ],
   "source": [
    "# Most Popular Destinations\n",
    "n_trips_dest.sort_values(ascending=False).head(20)"
   ]
  },
  {
   "cell_type": "code",
   "execution_count": 73,
   "id": "static-category",
   "metadata": {},
   "outputs": [
    {
     "data": {
      "text/plain": [
       "dest_full\n",
       "Los Angeles County, California       36765826.0\n",
       "San Diego County, California         34135667.0\n",
       "Maricopa County, Arizona             20089450.0\n",
       "El Paso County, Texas                16921304.0\n",
       "Cook County, Illinois                14057822.0\n",
       "Imperial County, California          13943751.0\n",
       "Harris County, Texas                 12882141.0\n",
       "San Bernardino County, California    12230396.0\n",
       "Hidalgo County, Texas                12091140.0\n",
       "Wayne County, Michigan               11238534.0\n",
       "Webb County, Texas                   11111109.0\n",
       "Riverside County, California         10618611.0\n",
       "Alleghany County, North Carolina     10522250.0\n",
       "Orange County, California             9922867.0\n",
       "King County, Washington               9808432.0\n",
       "Cameron County, Texas                 9470134.0\n",
       "Clark County, Nevada                  9302606.0\n",
       "Niagara County, New York              8498840.0\n",
       "Dallas County, Texas                  7929316.0\n",
       "Bexar County, Texas                   7743278.0\n",
       "Name: n_trips, dtype: float64"
      ]
     },
     "execution_count": 73,
     "metadata": {},
     "output_type": "execute_result"
    }
   ],
   "source": [
    "# Most Popular Destinations\n",
    "n_trips_dest.sort_values(ascending=False).head(20)"
   ]
  },
  {
   "cell_type": "code",
   "execution_count": 73,
   "id": "accomplished-overhead",
   "metadata": {},
   "outputs": [
    {
     "data": {
      "text/plain": [
       "dest_full\n",
       "Los Angeles County, California       36765826.0\n",
       "San Diego County, California         34135667.0\n",
       "Maricopa County, Arizona             20089450.0\n",
       "El Paso County, Texas                16921304.0\n",
       "Cook County, Illinois                14057822.0\n",
       "Imperial County, California          13943751.0\n",
       "Harris County, Texas                 12882141.0\n",
       "San Bernardino County, California    12230396.0\n",
       "Hidalgo County, Texas                12091140.0\n",
       "Wayne County, Michigan               11238534.0\n",
       "Webb County, Texas                   11111109.0\n",
       "Riverside County, California         10618611.0\n",
       "Alleghany County, North Carolina     10522250.0\n",
       "Orange County, California             9922867.0\n",
       "King County, Washington               9808432.0\n",
       "Cameron County, Texas                 9470134.0\n",
       "Clark County, Nevada                  9302606.0\n",
       "Niagara County, New York              8498840.0\n",
       "Dallas County, Texas                  7929316.0\n",
       "Bexar County, Texas                   7743278.0\n",
       "Name: n_trips, dtype: float64"
      ]
     },
     "execution_count": 73,
     "metadata": {},
     "output_type": "execute_result"
    }
   ],
   "source": [
    "# Most Popular Destinations\n",
    "n_trips_dest.sort_values(ascending=False).head(20)"
   ]
  },
  {
   "cell_type": "code",
   "execution_count": 73,
   "id": "bigger-constitutional",
   "metadata": {},
   "outputs": [
    {
     "data": {
      "text/plain": [
       "dest_full\n",
       "Los Angeles County, California       36765826.0\n",
       "San Diego County, California         34135667.0\n",
       "Maricopa County, Arizona             20089450.0\n",
       "El Paso County, Texas                16921304.0\n",
       "Cook County, Illinois                14057822.0\n",
       "Imperial County, California          13943751.0\n",
       "Harris County, Texas                 12882141.0\n",
       "San Bernardino County, California    12230396.0\n",
       "Hidalgo County, Texas                12091140.0\n",
       "Wayne County, Michigan               11238534.0\n",
       "Webb County, Texas                   11111109.0\n",
       "Riverside County, California         10618611.0\n",
       "Alleghany County, North Carolina     10522250.0\n",
       "Orange County, California             9922867.0\n",
       "King County, Washington               9808432.0\n",
       "Cameron County, Texas                 9470134.0\n",
       "Clark County, Nevada                  9302606.0\n",
       "Niagara County, New York              8498840.0\n",
       "Dallas County, Texas                  7929316.0\n",
       "Bexar County, Texas                   7743278.0\n",
       "Name: n_trips, dtype: float64"
      ]
     },
     "execution_count": 73,
     "metadata": {},
     "output_type": "execute_result"
    }
   ],
   "source": [
    "# Most Popular Destinations\n",
    "n_trips_dest.sort_values(ascending=False).head(20)"
   ]
  },
  {
   "cell_type": "code",
   "execution_count": 73,
   "id": "derived-encounter",
   "metadata": {},
   "outputs": [
    {
     "data": {
      "text/plain": [
       "dest_full\n",
       "Los Angeles County, California       36765826.0\n",
       "San Diego County, California         34135667.0\n",
       "Maricopa County, Arizona             20089450.0\n",
       "El Paso County, Texas                16921304.0\n",
       "Cook County, Illinois                14057822.0\n",
       "Imperial County, California          13943751.0\n",
       "Harris County, Texas                 12882141.0\n",
       "San Bernardino County, California    12230396.0\n",
       "Hidalgo County, Texas                12091140.0\n",
       "Wayne County, Michigan               11238534.0\n",
       "Webb County, Texas                   11111109.0\n",
       "Riverside County, California         10618611.0\n",
       "Alleghany County, North Carolina     10522250.0\n",
       "Orange County, California             9922867.0\n",
       "King County, Washington               9808432.0\n",
       "Cameron County, Texas                 9470134.0\n",
       "Clark County, Nevada                  9302606.0\n",
       "Niagara County, New York              8498840.0\n",
       "Dallas County, Texas                  7929316.0\n",
       "Bexar County, Texas                   7743278.0\n",
       "Name: n_trips, dtype: float64"
      ]
     },
     "execution_count": 73,
     "metadata": {},
     "output_type": "execute_result"
    }
   ],
   "source": [
    "# Most Popular Destinations\n",
    "n_trips_dest.sort_values(ascending=False).head(20)"
   ]
  },
  {
   "cell_type": "code",
   "execution_count": 73,
   "id": "cardiac-injection",
   "metadata": {},
   "outputs": [
    {
     "data": {
      "text/plain": [
       "dest_full\n",
       "Los Angeles County, California       36765826.0\n",
       "San Diego County, California         34135667.0\n",
       "Maricopa County, Arizona             20089450.0\n",
       "El Paso County, Texas                16921304.0\n",
       "Cook County, Illinois                14057822.0\n",
       "Imperial County, California          13943751.0\n",
       "Harris County, Texas                 12882141.0\n",
       "San Bernardino County, California    12230396.0\n",
       "Hidalgo County, Texas                12091140.0\n",
       "Wayne County, Michigan               11238534.0\n",
       "Webb County, Texas                   11111109.0\n",
       "Riverside County, California         10618611.0\n",
       "Alleghany County, North Carolina     10522250.0\n",
       "Orange County, California             9922867.0\n",
       "King County, Washington               9808432.0\n",
       "Cameron County, Texas                 9470134.0\n",
       "Clark County, Nevada                  9302606.0\n",
       "Niagara County, New York              8498840.0\n",
       "Dallas County, Texas                  7929316.0\n",
       "Bexar County, Texas                   7743278.0\n",
       "Name: n_trips, dtype: float64"
      ]
     },
     "execution_count": 73,
     "metadata": {},
     "output_type": "execute_result"
    }
   ],
   "source": [
    "# Most Popular Destinations\n",
    "n_trips_dest.sort_values(ascending=False).head(20)"
   ]
  },
  {
   "cell_type": "code",
   "execution_count": 73,
   "id": "shaped-roads",
   "metadata": {},
   "outputs": [
    {
     "data": {
      "text/plain": [
       "dest_full\n",
       "Los Angeles County, California       36765826.0\n",
       "San Diego County, California         34135667.0\n",
       "Maricopa County, Arizona             20089450.0\n",
       "El Paso County, Texas                16921304.0\n",
       "Cook County, Illinois                14057822.0\n",
       "Imperial County, California          13943751.0\n",
       "Harris County, Texas                 12882141.0\n",
       "San Bernardino County, California    12230396.0\n",
       "Hidalgo County, Texas                12091140.0\n",
       "Wayne County, Michigan               11238534.0\n",
       "Webb County, Texas                   11111109.0\n",
       "Riverside County, California         10618611.0\n",
       "Alleghany County, North Carolina     10522250.0\n",
       "Orange County, California             9922867.0\n",
       "King County, Washington               9808432.0\n",
       "Cameron County, Texas                 9470134.0\n",
       "Clark County, Nevada                  9302606.0\n",
       "Niagara County, New York              8498840.0\n",
       "Dallas County, Texas                  7929316.0\n",
       "Bexar County, Texas                   7743278.0\n",
       "Name: n_trips, dtype: float64"
      ]
     },
     "execution_count": 73,
     "metadata": {},
     "output_type": "execute_result"
    }
   ],
   "source": [
    "# Most Popular Destinations\n",
    "n_trips_dest.sort_values(ascending=False).head(20)"
   ]
  },
  {
   "cell_type": "code",
   "execution_count": 73,
   "id": "caroline-queensland",
   "metadata": {},
   "outputs": [
    {
     "data": {
      "text/plain": [
       "dest_full\n",
       "Los Angeles County, California       36765826.0\n",
       "San Diego County, California         34135667.0\n",
       "Maricopa County, Arizona             20089450.0\n",
       "El Paso County, Texas                16921304.0\n",
       "Cook County, Illinois                14057822.0\n",
       "Imperial County, California          13943751.0\n",
       "Harris County, Texas                 12882141.0\n",
       "San Bernardino County, California    12230396.0\n",
       "Hidalgo County, Texas                12091140.0\n",
       "Wayne County, Michigan               11238534.0\n",
       "Webb County, Texas                   11111109.0\n",
       "Riverside County, California         10618611.0\n",
       "Alleghany County, North Carolina     10522250.0\n",
       "Orange County, California             9922867.0\n",
       "King County, Washington               9808432.0\n",
       "Cameron County, Texas                 9470134.0\n",
       "Clark County, Nevada                  9302606.0\n",
       "Niagara County, New York              8498840.0\n",
       "Dallas County, Texas                  7929316.0\n",
       "Bexar County, Texas                   7743278.0\n",
       "Name: n_trips, dtype: float64"
      ]
     },
     "execution_count": 73,
     "metadata": {},
     "output_type": "execute_result"
    }
   ],
   "source": [
    "# Most Popular Destinations\n",
    "n_trips_dest.sort_values(ascending=False).head(20)"
   ]
  },
  {
   "cell_type": "code",
   "execution_count": 73,
   "id": "useful-client",
   "metadata": {},
   "outputs": [
    {
     "data": {
      "text/plain": [
       "dest_full\n",
       "Los Angeles County, California       36765826.0\n",
       "San Diego County, California         34135667.0\n",
       "Maricopa County, Arizona             20089450.0\n",
       "El Paso County, Texas                16921304.0\n",
       "Cook County, Illinois                14057822.0\n",
       "Imperial County, California          13943751.0\n",
       "Harris County, Texas                 12882141.0\n",
       "San Bernardino County, California    12230396.0\n",
       "Hidalgo County, Texas                12091140.0\n",
       "Wayne County, Michigan               11238534.0\n",
       "Webb County, Texas                   11111109.0\n",
       "Riverside County, California         10618611.0\n",
       "Alleghany County, North Carolina     10522250.0\n",
       "Orange County, California             9922867.0\n",
       "King County, Washington               9808432.0\n",
       "Cameron County, Texas                 9470134.0\n",
       "Clark County, Nevada                  9302606.0\n",
       "Niagara County, New York              8498840.0\n",
       "Dallas County, Texas                  7929316.0\n",
       "Bexar County, Texas                   7743278.0\n",
       "Name: n_trips, dtype: float64"
      ]
     },
     "execution_count": 73,
     "metadata": {},
     "output_type": "execute_result"
    }
   ],
   "source": [
    "# Most Popular Destinations\n",
    "n_trips_dest.sort_values(ascending=False).head(20)"
   ]
  },
  {
   "cell_type": "code",
   "execution_count": 73,
   "id": "italian-eagle",
   "metadata": {},
   "outputs": [
    {
     "data": {
      "text/plain": [
       "dest_full\n",
       "Los Angeles County, California       36765826.0\n",
       "San Diego County, California         34135667.0\n",
       "Maricopa County, Arizona             20089450.0\n",
       "El Paso County, Texas                16921304.0\n",
       "Cook County, Illinois                14057822.0\n",
       "Imperial County, California          13943751.0\n",
       "Harris County, Texas                 12882141.0\n",
       "San Bernardino County, California    12230396.0\n",
       "Hidalgo County, Texas                12091140.0\n",
       "Wayne County, Michigan               11238534.0\n",
       "Webb County, Texas                   11111109.0\n",
       "Riverside County, California         10618611.0\n",
       "Alleghany County, North Carolina     10522250.0\n",
       "Orange County, California             9922867.0\n",
       "King County, Washington               9808432.0\n",
       "Cameron County, Texas                 9470134.0\n",
       "Clark County, Nevada                  9302606.0\n",
       "Niagara County, New York              8498840.0\n",
       "Dallas County, Texas                  7929316.0\n",
       "Bexar County, Texas                   7743278.0\n",
       "Name: n_trips, dtype: float64"
      ]
     },
     "execution_count": 73,
     "metadata": {},
     "output_type": "execute_result"
    }
   ],
   "source": [
    "# Most Popular Destinations\n",
    "n_trips_dest.sort_values(ascending=False).head(20)"
   ]
  },
  {
   "cell_type": "code",
   "execution_count": 73,
   "id": "material-variance",
   "metadata": {},
   "outputs": [
    {
     "data": {
      "text/plain": [
       "dest_full\n",
       "Los Angeles County, California       36765826.0\n",
       "San Diego County, California         34135667.0\n",
       "Maricopa County, Arizona             20089450.0\n",
       "El Paso County, Texas                16921304.0\n",
       "Cook County, Illinois                14057822.0\n",
       "Imperial County, California          13943751.0\n",
       "Harris County, Texas                 12882141.0\n",
       "San Bernardino County, California    12230396.0\n",
       "Hidalgo County, Texas                12091140.0\n",
       "Wayne County, Michigan               11238534.0\n",
       "Webb County, Texas                   11111109.0\n",
       "Riverside County, California         10618611.0\n",
       "Alleghany County, North Carolina     10522250.0\n",
       "Orange County, California             9922867.0\n",
       "King County, Washington               9808432.0\n",
       "Cameron County, Texas                 9470134.0\n",
       "Clark County, Nevada                  9302606.0\n",
       "Niagara County, New York              8498840.0\n",
       "Dallas County, Texas                  7929316.0\n",
       "Bexar County, Texas                   7743278.0\n",
       "Name: n_trips, dtype: float64"
      ]
     },
     "execution_count": 73,
     "metadata": {},
     "output_type": "execute_result"
    }
   ],
   "source": [
    "# Most Popular Destinations\n",
    "n_trips_dest.sort_values(ascending=False).head(20)"
   ]
  },
  {
   "cell_type": "code",
   "execution_count": 73,
   "id": "smooth-worth",
   "metadata": {},
   "outputs": [
    {
     "data": {
      "text/plain": [
       "dest_full\n",
       "Los Angeles County, California       36765826.0\n",
       "San Diego County, California         34135667.0\n",
       "Maricopa County, Arizona             20089450.0\n",
       "El Paso County, Texas                16921304.0\n",
       "Cook County, Illinois                14057822.0\n",
       "Imperial County, California          13943751.0\n",
       "Harris County, Texas                 12882141.0\n",
       "San Bernardino County, California    12230396.0\n",
       "Hidalgo County, Texas                12091140.0\n",
       "Wayne County, Michigan               11238534.0\n",
       "Webb County, Texas                   11111109.0\n",
       "Riverside County, California         10618611.0\n",
       "Alleghany County, North Carolina     10522250.0\n",
       "Orange County, California             9922867.0\n",
       "King County, Washington               9808432.0\n",
       "Cameron County, Texas                 9470134.0\n",
       "Clark County, Nevada                  9302606.0\n",
       "Niagara County, New York              8498840.0\n",
       "Dallas County, Texas                  7929316.0\n",
       "Bexar County, Texas                   7743278.0\n",
       "Name: n_trips, dtype: float64"
      ]
     },
     "execution_count": 73,
     "metadata": {},
     "output_type": "execute_result"
    }
   ],
   "source": [
    "# Most Popular Destinations\n",
    "n_trips_dest.sort_values(ascending=False).head(20)"
   ]
  },
  {
   "cell_type": "code",
   "execution_count": 73,
   "id": "broke-lingerie",
   "metadata": {},
   "outputs": [
    {
     "data": {
      "text/plain": [
       "dest_full\n",
       "Los Angeles County, California       36765826.0\n",
       "San Diego County, California         34135667.0\n",
       "Maricopa County, Arizona             20089450.0\n",
       "El Paso County, Texas                16921304.0\n",
       "Cook County, Illinois                14057822.0\n",
       "Imperial County, California          13943751.0\n",
       "Harris County, Texas                 12882141.0\n",
       "San Bernardino County, California    12230396.0\n",
       "Hidalgo County, Texas                12091140.0\n",
       "Wayne County, Michigan               11238534.0\n",
       "Webb County, Texas                   11111109.0\n",
       "Riverside County, California         10618611.0\n",
       "Alleghany County, North Carolina     10522250.0\n",
       "Orange County, California             9922867.0\n",
       "King County, Washington               9808432.0\n",
       "Cameron County, Texas                 9470134.0\n",
       "Clark County, Nevada                  9302606.0\n",
       "Niagara County, New York              8498840.0\n",
       "Dallas County, Texas                  7929316.0\n",
       "Bexar County, Texas                   7743278.0\n",
       "Name: n_trips, dtype: float64"
      ]
     },
     "execution_count": 73,
     "metadata": {},
     "output_type": "execute_result"
    }
   ],
   "source": [
    "# Most Popular Destinations\n",
    "n_trips_dest.sort_values(ascending=False).head(20)"
   ]
  },
  {
   "cell_type": "code",
   "execution_count": 73,
   "id": "literary-quest",
   "metadata": {},
   "outputs": [
    {
     "data": {
      "text/plain": [
       "dest_full\n",
       "Los Angeles County, California       36765826.0\n",
       "San Diego County, California         34135667.0\n",
       "Maricopa County, Arizona             20089450.0\n",
       "El Paso County, Texas                16921304.0\n",
       "Cook County, Illinois                14057822.0\n",
       "Imperial County, California          13943751.0\n",
       "Harris County, Texas                 12882141.0\n",
       "San Bernardino County, California    12230396.0\n",
       "Hidalgo County, Texas                12091140.0\n",
       "Wayne County, Michigan               11238534.0\n",
       "Webb County, Texas                   11111109.0\n",
       "Riverside County, California         10618611.0\n",
       "Alleghany County, North Carolina     10522250.0\n",
       "Orange County, California             9922867.0\n",
       "King County, Washington               9808432.0\n",
       "Cameron County, Texas                 9470134.0\n",
       "Clark County, Nevada                  9302606.0\n",
       "Niagara County, New York              8498840.0\n",
       "Dallas County, Texas                  7929316.0\n",
       "Bexar County, Texas                   7743278.0\n",
       "Name: n_trips, dtype: float64"
      ]
     },
     "execution_count": 73,
     "metadata": {},
     "output_type": "execute_result"
    }
   ],
   "source": [
    "# Most Popular Destinations\n",
    "n_trips_dest.sort_values(ascending=False).head(20)"
   ]
  },
  {
   "cell_type": "code",
   "execution_count": 73,
   "id": "according-range",
   "metadata": {},
   "outputs": [
    {
     "data": {
      "text/plain": [
       "dest_full\n",
       "Los Angeles County, California       36765826.0\n",
       "San Diego County, California         34135667.0\n",
       "Maricopa County, Arizona             20089450.0\n",
       "El Paso County, Texas                16921304.0\n",
       "Cook County, Illinois                14057822.0\n",
       "Imperial County, California          13943751.0\n",
       "Harris County, Texas                 12882141.0\n",
       "San Bernardino County, California    12230396.0\n",
       "Hidalgo County, Texas                12091140.0\n",
       "Wayne County, Michigan               11238534.0\n",
       "Webb County, Texas                   11111109.0\n",
       "Riverside County, California         10618611.0\n",
       "Alleghany County, North Carolina     10522250.0\n",
       "Orange County, California             9922867.0\n",
       "King County, Washington               9808432.0\n",
       "Cameron County, Texas                 9470134.0\n",
       "Clark County, Nevada                  9302606.0\n",
       "Niagara County, New York              8498840.0\n",
       "Dallas County, Texas                  7929316.0\n",
       "Bexar County, Texas                   7743278.0\n",
       "Name: n_trips, dtype: float64"
      ]
     },
     "execution_count": 73,
     "metadata": {},
     "output_type": "execute_result"
    }
   ],
   "source": [
    "# Most Popular Destinations\n",
    "n_trips_dest.sort_values(ascending=False).head(20)"
   ]
  },
  {
   "cell_type": "code",
   "execution_count": 73,
   "id": "coordinate-thanksgiving",
   "metadata": {},
   "outputs": [
    {
     "data": {
      "text/plain": [
       "dest_full\n",
       "Los Angeles County, California       36765826.0\n",
       "San Diego County, California         34135667.0\n",
       "Maricopa County, Arizona             20089450.0\n",
       "El Paso County, Texas                16921304.0\n",
       "Cook County, Illinois                14057822.0\n",
       "Imperial County, California          13943751.0\n",
       "Harris County, Texas                 12882141.0\n",
       "San Bernardino County, California    12230396.0\n",
       "Hidalgo County, Texas                12091140.0\n",
       "Wayne County, Michigan               11238534.0\n",
       "Webb County, Texas                   11111109.0\n",
       "Riverside County, California         10618611.0\n",
       "Alleghany County, North Carolina     10522250.0\n",
       "Orange County, California             9922867.0\n",
       "King County, Washington               9808432.0\n",
       "Cameron County, Texas                 9470134.0\n",
       "Clark County, Nevada                  9302606.0\n",
       "Niagara County, New York              8498840.0\n",
       "Dallas County, Texas                  7929316.0\n",
       "Bexar County, Texas                   7743278.0\n",
       "Name: n_trips, dtype: float64"
      ]
     },
     "execution_count": 73,
     "metadata": {},
     "output_type": "execute_result"
    }
   ],
   "source": [
    "# Most Popular Destinations\n",
    "n_trips_dest.sort_values(ascending=False).head(20)"
   ]
  },
  {
   "cell_type": "code",
   "execution_count": 73,
   "id": "major-check",
   "metadata": {},
   "outputs": [
    {
     "data": {
      "text/plain": [
       "dest_full\n",
       "Los Angeles County, California       36765826.0\n",
       "San Diego County, California         34135667.0\n",
       "Maricopa County, Arizona             20089450.0\n",
       "El Paso County, Texas                16921304.0\n",
       "Cook County, Illinois                14057822.0\n",
       "Imperial County, California          13943751.0\n",
       "Harris County, Texas                 12882141.0\n",
       "San Bernardino County, California    12230396.0\n",
       "Hidalgo County, Texas                12091140.0\n",
       "Wayne County, Michigan               11238534.0\n",
       "Webb County, Texas                   11111109.0\n",
       "Riverside County, California         10618611.0\n",
       "Alleghany County, North Carolina     10522250.0\n",
       "Orange County, California             9922867.0\n",
       "King County, Washington               9808432.0\n",
       "Cameron County, Texas                 9470134.0\n",
       "Clark County, Nevada                  9302606.0\n",
       "Niagara County, New York              8498840.0\n",
       "Dallas County, Texas                  7929316.0\n",
       "Bexar County, Texas                   7743278.0\n",
       "Name: n_trips, dtype: float64"
      ]
     },
     "execution_count": 73,
     "metadata": {},
     "output_type": "execute_result"
    }
   ],
   "source": [
    "# Most Popular Destinations\n",
    "n_trips_dest.sort_values(ascending=False).head(20)"
   ]
  },
  {
   "cell_type": "code",
   "execution_count": 73,
   "id": "unexpected-blues",
   "metadata": {},
   "outputs": [
    {
     "data": {
      "text/plain": [
       "dest_full\n",
       "Los Angeles County, California       36765826.0\n",
       "San Diego County, California         34135667.0\n",
       "Maricopa County, Arizona             20089450.0\n",
       "El Paso County, Texas                16921304.0\n",
       "Cook County, Illinois                14057822.0\n",
       "Imperial County, California          13943751.0\n",
       "Harris County, Texas                 12882141.0\n",
       "San Bernardino County, California    12230396.0\n",
       "Hidalgo County, Texas                12091140.0\n",
       "Wayne County, Michigan               11238534.0\n",
       "Webb County, Texas                   11111109.0\n",
       "Riverside County, California         10618611.0\n",
       "Alleghany County, North Carolina     10522250.0\n",
       "Orange County, California             9922867.0\n",
       "King County, Washington               9808432.0\n",
       "Cameron County, Texas                 9470134.0\n",
       "Clark County, Nevada                  9302606.0\n",
       "Niagara County, New York              8498840.0\n",
       "Dallas County, Texas                  7929316.0\n",
       "Bexar County, Texas                   7743278.0\n",
       "Name: n_trips, dtype: float64"
      ]
     },
     "execution_count": 73,
     "metadata": {},
     "output_type": "execute_result"
    }
   ],
   "source": [
    "# Most Popular Destinations\n",
    "n_trips_dest.sort_values(ascending=False).head(20)"
   ]
  },
  {
   "cell_type": "code",
   "execution_count": 73,
   "id": "demographic-modern",
   "metadata": {},
   "outputs": [
    {
     "data": {
      "text/plain": [
       "dest_full\n",
       "Los Angeles County, California       36765826.0\n",
       "San Diego County, California         34135667.0\n",
       "Maricopa County, Arizona             20089450.0\n",
       "El Paso County, Texas                16921304.0\n",
       "Cook County, Illinois                14057822.0\n",
       "Imperial County, California          13943751.0\n",
       "Harris County, Texas                 12882141.0\n",
       "San Bernardino County, California    12230396.0\n",
       "Hidalgo County, Texas                12091140.0\n",
       "Wayne County, Michigan               11238534.0\n",
       "Webb County, Texas                   11111109.0\n",
       "Riverside County, California         10618611.0\n",
       "Alleghany County, North Carolina     10522250.0\n",
       "Orange County, California             9922867.0\n",
       "King County, Washington               9808432.0\n",
       "Cameron County, Texas                 9470134.0\n",
       "Clark County, Nevada                  9302606.0\n",
       "Niagara County, New York              8498840.0\n",
       "Dallas County, Texas                  7929316.0\n",
       "Bexar County, Texas                   7743278.0\n",
       "Name: n_trips, dtype: float64"
      ]
     },
     "execution_count": 73,
     "metadata": {},
     "output_type": "execute_result"
    }
   ],
   "source": [
    "# Most Popular Destinations\n",
    "n_trips_dest.sort_values(ascending=False).head(20)"
   ]
  },
  {
   "cell_type": "code",
   "execution_count": 73,
   "id": "complimentary-newman",
   "metadata": {},
   "outputs": [
    {
     "data": {
      "text/plain": [
       "dest_full\n",
       "Los Angeles County, California       36765826.0\n",
       "San Diego County, California         34135667.0\n",
       "Maricopa County, Arizona             20089450.0\n",
       "El Paso County, Texas                16921304.0\n",
       "Cook County, Illinois                14057822.0\n",
       "Imperial County, California          13943751.0\n",
       "Harris County, Texas                 12882141.0\n",
       "San Bernardino County, California    12230396.0\n",
       "Hidalgo County, Texas                12091140.0\n",
       "Wayne County, Michigan               11238534.0\n",
       "Webb County, Texas                   11111109.0\n",
       "Riverside County, California         10618611.0\n",
       "Alleghany County, North Carolina     10522250.0\n",
       "Orange County, California             9922867.0\n",
       "King County, Washington               9808432.0\n",
       "Cameron County, Texas                 9470134.0\n",
       "Clark County, Nevada                  9302606.0\n",
       "Niagara County, New York              8498840.0\n",
       "Dallas County, Texas                  7929316.0\n",
       "Bexar County, Texas                   7743278.0\n",
       "Name: n_trips, dtype: float64"
      ]
     },
     "execution_count": 73,
     "metadata": {},
     "output_type": "execute_result"
    }
   ],
   "source": [
    "# Most Popular Destinations\n",
    "n_trips_dest.sort_values(ascending=False).head(20)"
   ]
  },
  {
   "cell_type": "code",
   "execution_count": 73,
   "id": "logical-elder",
   "metadata": {},
   "outputs": [
    {
     "data": {
      "text/plain": [
       "dest_full\n",
       "Los Angeles County, California       36765826.0\n",
       "San Diego County, California         34135667.0\n",
       "Maricopa County, Arizona             20089450.0\n",
       "El Paso County, Texas                16921304.0\n",
       "Cook County, Illinois                14057822.0\n",
       "Imperial County, California          13943751.0\n",
       "Harris County, Texas                 12882141.0\n",
       "San Bernardino County, California    12230396.0\n",
       "Hidalgo County, Texas                12091140.0\n",
       "Wayne County, Michigan               11238534.0\n",
       "Webb County, Texas                   11111109.0\n",
       "Riverside County, California         10618611.0\n",
       "Alleghany County, North Carolina     10522250.0\n",
       "Orange County, California             9922867.0\n",
       "King County, Washington               9808432.0\n",
       "Cameron County, Texas                 9470134.0\n",
       "Clark County, Nevada                  9302606.0\n",
       "Niagara County, New York              8498840.0\n",
       "Dallas County, Texas                  7929316.0\n",
       "Bexar County, Texas                   7743278.0\n",
       "Name: n_trips, dtype: float64"
      ]
     },
     "execution_count": 73,
     "metadata": {},
     "output_type": "execute_result"
    }
   ],
   "source": [
    "# Most Popular Destinations\n",
    "n_trips_dest.sort_values(ascending=False).head(20)"
   ]
  },
  {
   "cell_type": "code",
   "execution_count": 73,
   "id": "dense-cricket",
   "metadata": {},
   "outputs": [
    {
     "data": {
      "text/plain": [
       "dest_full\n",
       "Los Angeles County, California       36765826.0\n",
       "San Diego County, California         34135667.0\n",
       "Maricopa County, Arizona             20089450.0\n",
       "El Paso County, Texas                16921304.0\n",
       "Cook County, Illinois                14057822.0\n",
       "Imperial County, California          13943751.0\n",
       "Harris County, Texas                 12882141.0\n",
       "San Bernardino County, California    12230396.0\n",
       "Hidalgo County, Texas                12091140.0\n",
       "Wayne County, Michigan               11238534.0\n",
       "Webb County, Texas                   11111109.0\n",
       "Riverside County, California         10618611.0\n",
       "Alleghany County, North Carolina     10522250.0\n",
       "Orange County, California             9922867.0\n",
       "King County, Washington               9808432.0\n",
       "Cameron County, Texas                 9470134.0\n",
       "Clark County, Nevada                  9302606.0\n",
       "Niagara County, New York              8498840.0\n",
       "Dallas County, Texas                  7929316.0\n",
       "Bexar County, Texas                   7743278.0\n",
       "Name: n_trips, dtype: float64"
      ]
     },
     "execution_count": 73,
     "metadata": {},
     "output_type": "execute_result"
    }
   ],
   "source": [
    "# Most Popular Destinations\n",
    "n_trips_dest.sort_values(ascending=False).head(20)"
   ]
  },
  {
   "cell_type": "code",
   "execution_count": 73,
   "id": "durable-metallic",
   "metadata": {},
   "outputs": [
    {
     "data": {
      "text/plain": [
       "dest_full\n",
       "Los Angeles County, California       36765826.0\n",
       "San Diego County, California         34135667.0\n",
       "Maricopa County, Arizona             20089450.0\n",
       "El Paso County, Texas                16921304.0\n",
       "Cook County, Illinois                14057822.0\n",
       "Imperial County, California          13943751.0\n",
       "Harris County, Texas                 12882141.0\n",
       "San Bernardino County, California    12230396.0\n",
       "Hidalgo County, Texas                12091140.0\n",
       "Wayne County, Michigan               11238534.0\n",
       "Webb County, Texas                   11111109.0\n",
       "Riverside County, California         10618611.0\n",
       "Alleghany County, North Carolina     10522250.0\n",
       "Orange County, California             9922867.0\n",
       "King County, Washington               9808432.0\n",
       "Cameron County, Texas                 9470134.0\n",
       "Clark County, Nevada                  9302606.0\n",
       "Niagara County, New York              8498840.0\n",
       "Dallas County, Texas                  7929316.0\n",
       "Bexar County, Texas                   7743278.0\n",
       "Name: n_trips, dtype: float64"
      ]
     },
     "execution_count": 73,
     "metadata": {},
     "output_type": "execute_result"
    }
   ],
   "source": [
    "# Most Popular Destinations\n",
    "n_trips_dest.sort_values(ascending=False).head(20)"
   ]
  },
  {
   "cell_type": "code",
   "execution_count": 73,
   "id": "surgical-registration",
   "metadata": {},
   "outputs": [
    {
     "data": {
      "text/plain": [
       "dest_full\n",
       "Los Angeles County, California       36765826.0\n",
       "San Diego County, California         34135667.0\n",
       "Maricopa County, Arizona             20089450.0\n",
       "El Paso County, Texas                16921304.0\n",
       "Cook County, Illinois                14057822.0\n",
       "Imperial County, California          13943751.0\n",
       "Harris County, Texas                 12882141.0\n",
       "San Bernardino County, California    12230396.0\n",
       "Hidalgo County, Texas                12091140.0\n",
       "Wayne County, Michigan               11238534.0\n",
       "Webb County, Texas                   11111109.0\n",
       "Riverside County, California         10618611.0\n",
       "Alleghany County, North Carolina     10522250.0\n",
       "Orange County, California             9922867.0\n",
       "King County, Washington               9808432.0\n",
       "Cameron County, Texas                 9470134.0\n",
       "Clark County, Nevada                  9302606.0\n",
       "Niagara County, New York              8498840.0\n",
       "Dallas County, Texas                  7929316.0\n",
       "Bexar County, Texas                   7743278.0\n",
       "Name: n_trips, dtype: float64"
      ]
     },
     "execution_count": 73,
     "metadata": {},
     "output_type": "execute_result"
    }
   ],
   "source": [
    "# Most Popular Destinations\n",
    "n_trips_dest.sort_values(ascending=False).head(20)"
   ]
  },
  {
   "cell_type": "code",
   "execution_count": 73,
   "id": "integral-cooperation",
   "metadata": {},
   "outputs": [
    {
     "data": {
      "text/plain": [
       "dest_full\n",
       "Los Angeles County, California       36765826.0\n",
       "San Diego County, California         34135667.0\n",
       "Maricopa County, Arizona             20089450.0\n",
       "El Paso County, Texas                16921304.0\n",
       "Cook County, Illinois                14057822.0\n",
       "Imperial County, California          13943751.0\n",
       "Harris County, Texas                 12882141.0\n",
       "San Bernardino County, California    12230396.0\n",
       "Hidalgo County, Texas                12091140.0\n",
       "Wayne County, Michigan               11238534.0\n",
       "Webb County, Texas                   11111109.0\n",
       "Riverside County, California         10618611.0\n",
       "Alleghany County, North Carolina     10522250.0\n",
       "Orange County, California             9922867.0\n",
       "King County, Washington               9808432.0\n",
       "Cameron County, Texas                 9470134.0\n",
       "Clark County, Nevada                  9302606.0\n",
       "Niagara County, New York              8498840.0\n",
       "Dallas County, Texas                  7929316.0\n",
       "Bexar County, Texas                   7743278.0\n",
       "Name: n_trips, dtype: float64"
      ]
     },
     "execution_count": 73,
     "metadata": {},
     "output_type": "execute_result"
    }
   ],
   "source": [
    "# Most Popular Destinations\n",
    "n_trips_dest.sort_values(ascending=False).head(20)"
   ]
  },
  {
   "cell_type": "code",
   "execution_count": 73,
   "id": "typical-bread",
   "metadata": {},
   "outputs": [
    {
     "data": {
      "text/plain": [
       "dest_full\n",
       "Los Angeles County, California       36765826.0\n",
       "San Diego County, California         34135667.0\n",
       "Maricopa County, Arizona             20089450.0\n",
       "El Paso County, Texas                16921304.0\n",
       "Cook County, Illinois                14057822.0\n",
       "Imperial County, California          13943751.0\n",
       "Harris County, Texas                 12882141.0\n",
       "San Bernardino County, California    12230396.0\n",
       "Hidalgo County, Texas                12091140.0\n",
       "Wayne County, Michigan               11238534.0\n",
       "Webb County, Texas                   11111109.0\n",
       "Riverside County, California         10618611.0\n",
       "Alleghany County, North Carolina     10522250.0\n",
       "Orange County, California             9922867.0\n",
       "King County, Washington               9808432.0\n",
       "Cameron County, Texas                 9470134.0\n",
       "Clark County, Nevada                  9302606.0\n",
       "Niagara County, New York              8498840.0\n",
       "Dallas County, Texas                  7929316.0\n",
       "Bexar County, Texas                   7743278.0\n",
       "Name: n_trips, dtype: float64"
      ]
     },
     "execution_count": 73,
     "metadata": {},
     "output_type": "execute_result"
    }
   ],
   "source": [
    "# Most Popular Destinations\n",
    "n_trips_dest.sort_values(ascending=False).head(20)"
   ]
  },
  {
   "cell_type": "code",
   "execution_count": 73,
   "id": "unknown-texture",
   "metadata": {},
   "outputs": [
    {
     "data": {
      "text/plain": [
       "dest_full\n",
       "Los Angeles County, California       36765826.0\n",
       "San Diego County, California         34135667.0\n",
       "Maricopa County, Arizona             20089450.0\n",
       "El Paso County, Texas                16921304.0\n",
       "Cook County, Illinois                14057822.0\n",
       "Imperial County, California          13943751.0\n",
       "Harris County, Texas                 12882141.0\n",
       "San Bernardino County, California    12230396.0\n",
       "Hidalgo County, Texas                12091140.0\n",
       "Wayne County, Michigan               11238534.0\n",
       "Webb County, Texas                   11111109.0\n",
       "Riverside County, California         10618611.0\n",
       "Alleghany County, North Carolina     10522250.0\n",
       "Orange County, California             9922867.0\n",
       "King County, Washington               9808432.0\n",
       "Cameron County, Texas                 9470134.0\n",
       "Clark County, Nevada                  9302606.0\n",
       "Niagara County, New York              8498840.0\n",
       "Dallas County, Texas                  7929316.0\n",
       "Bexar County, Texas                   7743278.0\n",
       "Name: n_trips, dtype: float64"
      ]
     },
     "execution_count": 73,
     "metadata": {},
     "output_type": "execute_result"
    }
   ],
   "source": [
    "# Most Popular Destinations\n",
    "n_trips_dest.sort_values(ascending=False).head(20)"
   ]
  },
  {
   "cell_type": "code",
   "execution_count": 73,
   "id": "european-vertex",
   "metadata": {},
   "outputs": [
    {
     "data": {
      "text/plain": [
       "dest_full\n",
       "Los Angeles County, California       36765826.0\n",
       "San Diego County, California         34135667.0\n",
       "Maricopa County, Arizona             20089450.0\n",
       "El Paso County, Texas                16921304.0\n",
       "Cook County, Illinois                14057822.0\n",
       "Imperial County, California          13943751.0\n",
       "Harris County, Texas                 12882141.0\n",
       "San Bernardino County, California    12230396.0\n",
       "Hidalgo County, Texas                12091140.0\n",
       "Wayne County, Michigan               11238534.0\n",
       "Webb County, Texas                   11111109.0\n",
       "Riverside County, California         10618611.0\n",
       "Alleghany County, North Carolina     10522250.0\n",
       "Orange County, California             9922867.0\n",
       "King County, Washington               9808432.0\n",
       "Cameron County, Texas                 9470134.0\n",
       "Clark County, Nevada                  9302606.0\n",
       "Niagara County, New York              8498840.0\n",
       "Dallas County, Texas                  7929316.0\n",
       "Bexar County, Texas                   7743278.0\n",
       "Name: n_trips, dtype: float64"
      ]
     },
     "execution_count": 73,
     "metadata": {},
     "output_type": "execute_result"
    }
   ],
   "source": [
    "# Most Popular Destinations\n",
    "n_trips_dest.sort_values(ascending=False).head(20)"
   ]
  },
  {
   "cell_type": "code",
   "execution_count": 73,
   "id": "conceptual-citation",
   "metadata": {},
   "outputs": [
    {
     "data": {
      "text/plain": [
       "dest_full\n",
       "Los Angeles County, California       36765826.0\n",
       "San Diego County, California         34135667.0\n",
       "Maricopa County, Arizona             20089450.0\n",
       "El Paso County, Texas                16921304.0\n",
       "Cook County, Illinois                14057822.0\n",
       "Imperial County, California          13943751.0\n",
       "Harris County, Texas                 12882141.0\n",
       "San Bernardino County, California    12230396.0\n",
       "Hidalgo County, Texas                12091140.0\n",
       "Wayne County, Michigan               11238534.0\n",
       "Webb County, Texas                   11111109.0\n",
       "Riverside County, California         10618611.0\n",
       "Alleghany County, North Carolina     10522250.0\n",
       "Orange County, California             9922867.0\n",
       "King County, Washington               9808432.0\n",
       "Cameron County, Texas                 9470134.0\n",
       "Clark County, Nevada                  9302606.0\n",
       "Niagara County, New York              8498840.0\n",
       "Dallas County, Texas                  7929316.0\n",
       "Bexar County, Texas                   7743278.0\n",
       "Name: n_trips, dtype: float64"
      ]
     },
     "execution_count": 73,
     "metadata": {},
     "output_type": "execute_result"
    }
   ],
   "source": [
    "# Most Popular Destinations\n",
    "n_trips_dest.sort_values(ascending=False).head(20)"
   ]
  },
  {
   "cell_type": "code",
   "execution_count": 73,
   "id": "promising-fundamentals",
   "metadata": {},
   "outputs": [
    {
     "data": {
      "text/plain": [
       "dest_full\n",
       "Los Angeles County, California       36765826.0\n",
       "San Diego County, California         34135667.0\n",
       "Maricopa County, Arizona             20089450.0\n",
       "El Paso County, Texas                16921304.0\n",
       "Cook County, Illinois                14057822.0\n",
       "Imperial County, California          13943751.0\n",
       "Harris County, Texas                 12882141.0\n",
       "San Bernardino County, California    12230396.0\n",
       "Hidalgo County, Texas                12091140.0\n",
       "Wayne County, Michigan               11238534.0\n",
       "Webb County, Texas                   11111109.0\n",
       "Riverside County, California         10618611.0\n",
       "Alleghany County, North Carolina     10522250.0\n",
       "Orange County, California             9922867.0\n",
       "King County, Washington               9808432.0\n",
       "Cameron County, Texas                 9470134.0\n",
       "Clark County, Nevada                  9302606.0\n",
       "Niagara County, New York              8498840.0\n",
       "Dallas County, Texas                  7929316.0\n",
       "Bexar County, Texas                   7743278.0\n",
       "Name: n_trips, dtype: float64"
      ]
     },
     "execution_count": 73,
     "metadata": {},
     "output_type": "execute_result"
    }
   ],
   "source": [
    "# Most Popular Destinations\n",
    "n_trips_dest.sort_values(ascending=False).head(20)"
   ]
  },
  {
   "cell_type": "code",
   "execution_count": 73,
   "id": "sixth-inspection",
   "metadata": {},
   "outputs": [
    {
     "data": {
      "text/plain": [
       "dest_full\n",
       "Los Angeles County, California       36765826.0\n",
       "San Diego County, California         34135667.0\n",
       "Maricopa County, Arizona             20089450.0\n",
       "El Paso County, Texas                16921304.0\n",
       "Cook County, Illinois                14057822.0\n",
       "Imperial County, California          13943751.0\n",
       "Harris County, Texas                 12882141.0\n",
       "San Bernardino County, California    12230396.0\n",
       "Hidalgo County, Texas                12091140.0\n",
       "Wayne County, Michigan               11238534.0\n",
       "Webb County, Texas                   11111109.0\n",
       "Riverside County, California         10618611.0\n",
       "Alleghany County, North Carolina     10522250.0\n",
       "Orange County, California             9922867.0\n",
       "King County, Washington               9808432.0\n",
       "Cameron County, Texas                 9470134.0\n",
       "Clark County, Nevada                  9302606.0\n",
       "Niagara County, New York              8498840.0\n",
       "Dallas County, Texas                  7929316.0\n",
       "Bexar County, Texas                   7743278.0\n",
       "Name: n_trips, dtype: float64"
      ]
     },
     "execution_count": 73,
     "metadata": {},
     "output_type": "execute_result"
    }
   ],
   "source": [
    "# Most Popular Destinations\n",
    "n_trips_dest.sort_values(ascending=False).head(20)"
   ]
  },
  {
   "cell_type": "code",
   "execution_count": 73,
   "id": "liberal-destination",
   "metadata": {},
   "outputs": [
    {
     "data": {
      "text/plain": [
       "dest_full\n",
       "Los Angeles County, California       36765826.0\n",
       "San Diego County, California         34135667.0\n",
       "Maricopa County, Arizona             20089450.0\n",
       "El Paso County, Texas                16921304.0\n",
       "Cook County, Illinois                14057822.0\n",
       "Imperial County, California          13943751.0\n",
       "Harris County, Texas                 12882141.0\n",
       "San Bernardino County, California    12230396.0\n",
       "Hidalgo County, Texas                12091140.0\n",
       "Wayne County, Michigan               11238534.0\n",
       "Webb County, Texas                   11111109.0\n",
       "Riverside County, California         10618611.0\n",
       "Alleghany County, North Carolina     10522250.0\n",
       "Orange County, California             9922867.0\n",
       "King County, Washington               9808432.0\n",
       "Cameron County, Texas                 9470134.0\n",
       "Clark County, Nevada                  9302606.0\n",
       "Niagara County, New York              8498840.0\n",
       "Dallas County, Texas                  7929316.0\n",
       "Bexar County, Texas                   7743278.0\n",
       "Name: n_trips, dtype: float64"
      ]
     },
     "execution_count": 73,
     "metadata": {},
     "output_type": "execute_result"
    }
   ],
   "source": [
    "# Most Popular Destinations\n",
    "n_trips_dest.sort_values(ascending=False).head(20)"
   ]
  },
  {
   "cell_type": "code",
   "execution_count": 73,
   "id": "searching-segment",
   "metadata": {},
   "outputs": [
    {
     "data": {
      "text/plain": [
       "dest_full\n",
       "Los Angeles County, California       36765826.0\n",
       "San Diego County, California         34135667.0\n",
       "Maricopa County, Arizona             20089450.0\n",
       "El Paso County, Texas                16921304.0\n",
       "Cook County, Illinois                14057822.0\n",
       "Imperial County, California          13943751.0\n",
       "Harris County, Texas                 12882141.0\n",
       "San Bernardino County, California    12230396.0\n",
       "Hidalgo County, Texas                12091140.0\n",
       "Wayne County, Michigan               11238534.0\n",
       "Webb County, Texas                   11111109.0\n",
       "Riverside County, California         10618611.0\n",
       "Alleghany County, North Carolina     10522250.0\n",
       "Orange County, California             9922867.0\n",
       "King County, Washington               9808432.0\n",
       "Cameron County, Texas                 9470134.0\n",
       "Clark County, Nevada                  9302606.0\n",
       "Niagara County, New York              8498840.0\n",
       "Dallas County, Texas                  7929316.0\n",
       "Bexar County, Texas                   7743278.0\n",
       "Name: n_trips, dtype: float64"
      ]
     },
     "execution_count": 73,
     "metadata": {},
     "output_type": "execute_result"
    }
   ],
   "source": [
    "# Most Popular Destinations\n",
    "n_trips_dest.sort_values(ascending=False).head(20)"
   ]
  },
  {
   "cell_type": "code",
   "execution_count": 73,
   "id": "ranking-favor",
   "metadata": {},
   "outputs": [
    {
     "data": {
      "text/plain": [
       "dest_full\n",
       "Los Angeles County, California       36765826.0\n",
       "San Diego County, California         34135667.0\n",
       "Maricopa County, Arizona             20089450.0\n",
       "El Paso County, Texas                16921304.0\n",
       "Cook County, Illinois                14057822.0\n",
       "Imperial County, California          13943751.0\n",
       "Harris County, Texas                 12882141.0\n",
       "San Bernardino County, California    12230396.0\n",
       "Hidalgo County, Texas                12091140.0\n",
       "Wayne County, Michigan               11238534.0\n",
       "Webb County, Texas                   11111109.0\n",
       "Riverside County, California         10618611.0\n",
       "Alleghany County, North Carolina     10522250.0\n",
       "Orange County, California             9922867.0\n",
       "King County, Washington               9808432.0\n",
       "Cameron County, Texas                 9470134.0\n",
       "Clark County, Nevada                  9302606.0\n",
       "Niagara County, New York              8498840.0\n",
       "Dallas County, Texas                  7929316.0\n",
       "Bexar County, Texas                   7743278.0\n",
       "Name: n_trips, dtype: float64"
      ]
     },
     "execution_count": 73,
     "metadata": {},
     "output_type": "execute_result"
    }
   ],
   "source": [
    "# Most Popular Destinations\n",
    "n_trips_dest.sort_values(ascending=False).head(20)"
   ]
  },
  {
   "cell_type": "code",
   "execution_count": 73,
   "id": "southwest-champagne",
   "metadata": {},
   "outputs": [
    {
     "data": {
      "text/plain": [
       "dest_full\n",
       "Los Angeles County, California       36765826.0\n",
       "San Diego County, California         34135667.0\n",
       "Maricopa County, Arizona             20089450.0\n",
       "El Paso County, Texas                16921304.0\n",
       "Cook County, Illinois                14057822.0\n",
       "Imperial County, California          13943751.0\n",
       "Harris County, Texas                 12882141.0\n",
       "San Bernardino County, California    12230396.0\n",
       "Hidalgo County, Texas                12091140.0\n",
       "Wayne County, Michigan               11238534.0\n",
       "Webb County, Texas                   11111109.0\n",
       "Riverside County, California         10618611.0\n",
       "Alleghany County, North Carolina     10522250.0\n",
       "Orange County, California             9922867.0\n",
       "King County, Washington               9808432.0\n",
       "Cameron County, Texas                 9470134.0\n",
       "Clark County, Nevada                  9302606.0\n",
       "Niagara County, New York              8498840.0\n",
       "Dallas County, Texas                  7929316.0\n",
       "Bexar County, Texas                   7743278.0\n",
       "Name: n_trips, dtype: float64"
      ]
     },
     "execution_count": 73,
     "metadata": {},
     "output_type": "execute_result"
    }
   ],
   "source": [
    "# Most Popular Destinations\n",
    "n_trips_dest.sort_values(ascending=False).head(20)"
   ]
  },
  {
   "cell_type": "code",
   "execution_count": 73,
   "id": "thermal-proof",
   "metadata": {},
   "outputs": [
    {
     "data": {
      "text/plain": [
       "dest_full\n",
       "Los Angeles County, California       36765826.0\n",
       "San Diego County, California         34135667.0\n",
       "Maricopa County, Arizona             20089450.0\n",
       "El Paso County, Texas                16921304.0\n",
       "Cook County, Illinois                14057822.0\n",
       "Imperial County, California          13943751.0\n",
       "Harris County, Texas                 12882141.0\n",
       "San Bernardino County, California    12230396.0\n",
       "Hidalgo County, Texas                12091140.0\n",
       "Wayne County, Michigan               11238534.0\n",
       "Webb County, Texas                   11111109.0\n",
       "Riverside County, California         10618611.0\n",
       "Alleghany County, North Carolina     10522250.0\n",
       "Orange County, California             9922867.0\n",
       "King County, Washington               9808432.0\n",
       "Cameron County, Texas                 9470134.0\n",
       "Clark County, Nevada                  9302606.0\n",
       "Niagara County, New York              8498840.0\n",
       "Dallas County, Texas                  7929316.0\n",
       "Bexar County, Texas                   7743278.0\n",
       "Name: n_trips, dtype: float64"
      ]
     },
     "execution_count": 73,
     "metadata": {},
     "output_type": "execute_result"
    }
   ],
   "source": [
    "# Most Popular Destinations\n",
    "n_trips_dest.sort_values(ascending=False).head(20)"
   ]
  },
  {
   "cell_type": "code",
   "execution_count": 73,
   "id": "honest-cartoon",
   "metadata": {},
   "outputs": [
    {
     "data": {
      "text/plain": [
       "dest_full\n",
       "Los Angeles County, California       36765826.0\n",
       "San Diego County, California         34135667.0\n",
       "Maricopa County, Arizona             20089450.0\n",
       "El Paso County, Texas                16921304.0\n",
       "Cook County, Illinois                14057822.0\n",
       "Imperial County, California          13943751.0\n",
       "Harris County, Texas                 12882141.0\n",
       "San Bernardino County, California    12230396.0\n",
       "Hidalgo County, Texas                12091140.0\n",
       "Wayne County, Michigan               11238534.0\n",
       "Webb County, Texas                   11111109.0\n",
       "Riverside County, California         10618611.0\n",
       "Alleghany County, North Carolina     10522250.0\n",
       "Orange County, California             9922867.0\n",
       "King County, Washington               9808432.0\n",
       "Cameron County, Texas                 9470134.0\n",
       "Clark County, Nevada                  9302606.0\n",
       "Niagara County, New York              8498840.0\n",
       "Dallas County, Texas                  7929316.0\n",
       "Bexar County, Texas                   7743278.0\n",
       "Name: n_trips, dtype: float64"
      ]
     },
     "execution_count": 73,
     "metadata": {},
     "output_type": "execute_result"
    }
   ],
   "source": [
    "# Most Popular Destinations\n",
    "n_trips_dest.sort_values(ascending=False).head(20)"
   ]
  },
  {
   "cell_type": "code",
   "execution_count": 73,
   "id": "eastern-expression",
   "metadata": {},
   "outputs": [
    {
     "data": {
      "text/plain": [
       "dest_full\n",
       "Los Angeles County, California       36765826.0\n",
       "San Diego County, California         34135667.0\n",
       "Maricopa County, Arizona             20089450.0\n",
       "El Paso County, Texas                16921304.0\n",
       "Cook County, Illinois                14057822.0\n",
       "Imperial County, California          13943751.0\n",
       "Harris County, Texas                 12882141.0\n",
       "San Bernardino County, California    12230396.0\n",
       "Hidalgo County, Texas                12091140.0\n",
       "Wayne County, Michigan               11238534.0\n",
       "Webb County, Texas                   11111109.0\n",
       "Riverside County, California         10618611.0\n",
       "Alleghany County, North Carolina     10522250.0\n",
       "Orange County, California             9922867.0\n",
       "King County, Washington               9808432.0\n",
       "Cameron County, Texas                 9470134.0\n",
       "Clark County, Nevada                  9302606.0\n",
       "Niagara County, New York              8498840.0\n",
       "Dallas County, Texas                  7929316.0\n",
       "Bexar County, Texas                   7743278.0\n",
       "Name: n_trips, dtype: float64"
      ]
     },
     "execution_count": 73,
     "metadata": {},
     "output_type": "execute_result"
    }
   ],
   "source": [
    "# Most Popular Destinations\n",
    "n_trips_dest.sort_values(ascending=False).head(20)"
   ]
  },
  {
   "cell_type": "code",
   "execution_count": 73,
   "id": "fleet-explanation",
   "metadata": {},
   "outputs": [
    {
     "data": {
      "text/plain": [
       "dest_full\n",
       "Los Angeles County, California       36765826.0\n",
       "San Diego County, California         34135667.0\n",
       "Maricopa County, Arizona             20089450.0\n",
       "El Paso County, Texas                16921304.0\n",
       "Cook County, Illinois                14057822.0\n",
       "Imperial County, California          13943751.0\n",
       "Harris County, Texas                 12882141.0\n",
       "San Bernardino County, California    12230396.0\n",
       "Hidalgo County, Texas                12091140.0\n",
       "Wayne County, Michigan               11238534.0\n",
       "Webb County, Texas                   11111109.0\n",
       "Riverside County, California         10618611.0\n",
       "Alleghany County, North Carolina     10522250.0\n",
       "Orange County, California             9922867.0\n",
       "King County, Washington               9808432.0\n",
       "Cameron County, Texas                 9470134.0\n",
       "Clark County, Nevada                  9302606.0\n",
       "Niagara County, New York              8498840.0\n",
       "Dallas County, Texas                  7929316.0\n",
       "Bexar County, Texas                   7743278.0\n",
       "Name: n_trips, dtype: float64"
      ]
     },
     "execution_count": 73,
     "metadata": {},
     "output_type": "execute_result"
    }
   ],
   "source": [
    "# Most Popular Destinations\n",
    "n_trips_dest.sort_values(ascending=False).head(20)"
   ]
  },
  {
   "cell_type": "code",
   "execution_count": 73,
   "id": "racial-jonathan",
   "metadata": {},
   "outputs": [
    {
     "data": {
      "text/plain": [
       "dest_full\n",
       "Los Angeles County, California       36765826.0\n",
       "San Diego County, California         34135667.0\n",
       "Maricopa County, Arizona             20089450.0\n",
       "El Paso County, Texas                16921304.0\n",
       "Cook County, Illinois                14057822.0\n",
       "Imperial County, California          13943751.0\n",
       "Harris County, Texas                 12882141.0\n",
       "San Bernardino County, California    12230396.0\n",
       "Hidalgo County, Texas                12091140.0\n",
       "Wayne County, Michigan               11238534.0\n",
       "Webb County, Texas                   11111109.0\n",
       "Riverside County, California         10618611.0\n",
       "Alleghany County, North Carolina     10522250.0\n",
       "Orange County, California             9922867.0\n",
       "King County, Washington               9808432.0\n",
       "Cameron County, Texas                 9470134.0\n",
       "Clark County, Nevada                  9302606.0\n",
       "Niagara County, New York              8498840.0\n",
       "Dallas County, Texas                  7929316.0\n",
       "Bexar County, Texas                   7743278.0\n",
       "Name: n_trips, dtype: float64"
      ]
     },
     "execution_count": 73,
     "metadata": {},
     "output_type": "execute_result"
    }
   ],
   "source": [
    "# Most Popular Destinations\n",
    "n_trips_dest.sort_values(ascending=False).head(20)"
   ]
  },
  {
   "cell_type": "code",
   "execution_count": 73,
   "id": "upset-continuity",
   "metadata": {},
   "outputs": [
    {
     "data": {
      "text/plain": [
       "dest_full\n",
       "Los Angeles County, California       36765826.0\n",
       "San Diego County, California         34135667.0\n",
       "Maricopa County, Arizona             20089450.0\n",
       "El Paso County, Texas                16921304.0\n",
       "Cook County, Illinois                14057822.0\n",
       "Imperial County, California          13943751.0\n",
       "Harris County, Texas                 12882141.0\n",
       "San Bernardino County, California    12230396.0\n",
       "Hidalgo County, Texas                12091140.0\n",
       "Wayne County, Michigan               11238534.0\n",
       "Webb County, Texas                   11111109.0\n",
       "Riverside County, California         10618611.0\n",
       "Alleghany County, North Carolina     10522250.0\n",
       "Orange County, California             9922867.0\n",
       "King County, Washington               9808432.0\n",
       "Cameron County, Texas                 9470134.0\n",
       "Clark County, Nevada                  9302606.0\n",
       "Niagara County, New York              8498840.0\n",
       "Dallas County, Texas                  7929316.0\n",
       "Bexar County, Texas                   7743278.0\n",
       "Name: n_trips, dtype: float64"
      ]
     },
     "execution_count": 73,
     "metadata": {},
     "output_type": "execute_result"
    }
   ],
   "source": [
    "# Most Popular Destinations\n",
    "n_trips_dest.sort_values(ascending=False).head(20)"
   ]
  },
  {
   "cell_type": "code",
   "execution_count": 73,
   "id": "handed-substitute",
   "metadata": {},
   "outputs": [
    {
     "data": {
      "text/plain": [
       "dest_full\n",
       "Los Angeles County, California       36765826.0\n",
       "San Diego County, California         34135667.0\n",
       "Maricopa County, Arizona             20089450.0\n",
       "El Paso County, Texas                16921304.0\n",
       "Cook County, Illinois                14057822.0\n",
       "Imperial County, California          13943751.0\n",
       "Harris County, Texas                 12882141.0\n",
       "San Bernardino County, California    12230396.0\n",
       "Hidalgo County, Texas                12091140.0\n",
       "Wayne County, Michigan               11238534.0\n",
       "Webb County, Texas                   11111109.0\n",
       "Riverside County, California         10618611.0\n",
       "Alleghany County, North Carolina     10522250.0\n",
       "Orange County, California             9922867.0\n",
       "King County, Washington               9808432.0\n",
       "Cameron County, Texas                 9470134.0\n",
       "Clark County, Nevada                  9302606.0\n",
       "Niagara County, New York              8498840.0\n",
       "Dallas County, Texas                  7929316.0\n",
       "Bexar County, Texas                   7743278.0\n",
       "Name: n_trips, dtype: float64"
      ]
     },
     "execution_count": 73,
     "metadata": {},
     "output_type": "execute_result"
    }
   ],
   "source": [
    "# Most Popular Destinations\n",
    "n_trips_dest.sort_values(ascending=False).head(20)"
   ]
  },
  {
   "cell_type": "code",
   "execution_count": 73,
   "id": "economic-renewal",
   "metadata": {},
   "outputs": [
    {
     "data": {
      "text/plain": [
       "dest_full\n",
       "Los Angeles County, California       36765826.0\n",
       "San Diego County, California         34135667.0\n",
       "Maricopa County, Arizona             20089450.0\n",
       "El Paso County, Texas                16921304.0\n",
       "Cook County, Illinois                14057822.0\n",
       "Imperial County, California          13943751.0\n",
       "Harris County, Texas                 12882141.0\n",
       "San Bernardino County, California    12230396.0\n",
       "Hidalgo County, Texas                12091140.0\n",
       "Wayne County, Michigan               11238534.0\n",
       "Webb County, Texas                   11111109.0\n",
       "Riverside County, California         10618611.0\n",
       "Alleghany County, North Carolina     10522250.0\n",
       "Orange County, California             9922867.0\n",
       "King County, Washington               9808432.0\n",
       "Cameron County, Texas                 9470134.0\n",
       "Clark County, Nevada                  9302606.0\n",
       "Niagara County, New York              8498840.0\n",
       "Dallas County, Texas                  7929316.0\n",
       "Bexar County, Texas                   7743278.0\n",
       "Name: n_trips, dtype: float64"
      ]
     },
     "execution_count": 73,
     "metadata": {},
     "output_type": "execute_result"
    }
   ],
   "source": [
    "# Most Popular Destinations\n",
    "n_trips_dest.sort_values(ascending=False).head(20)"
   ]
  },
  {
   "cell_type": "code",
   "execution_count": 73,
   "id": "temporal-spread",
   "metadata": {},
   "outputs": [
    {
     "data": {
      "text/plain": [
       "dest_full\n",
       "Los Angeles County, California       36765826.0\n",
       "San Diego County, California         34135667.0\n",
       "Maricopa County, Arizona             20089450.0\n",
       "El Paso County, Texas                16921304.0\n",
       "Cook County, Illinois                14057822.0\n",
       "Imperial County, California          13943751.0\n",
       "Harris County, Texas                 12882141.0\n",
       "San Bernardino County, California    12230396.0\n",
       "Hidalgo County, Texas                12091140.0\n",
       "Wayne County, Michigan               11238534.0\n",
       "Webb County, Texas                   11111109.0\n",
       "Riverside County, California         10618611.0\n",
       "Alleghany County, North Carolina     10522250.0\n",
       "Orange County, California             9922867.0\n",
       "King County, Washington               9808432.0\n",
       "Cameron County, Texas                 9470134.0\n",
       "Clark County, Nevada                  9302606.0\n",
       "Niagara County, New York              8498840.0\n",
       "Dallas County, Texas                  7929316.0\n",
       "Bexar County, Texas                   7743278.0\n",
       "Name: n_trips, dtype: float64"
      ]
     },
     "execution_count": 73,
     "metadata": {},
     "output_type": "execute_result"
    }
   ],
   "source": [
    "# Most Popular Destinations\n",
    "n_trips_dest.sort_values(ascending=False).head(20)"
   ]
  },
  {
   "cell_type": "code",
   "execution_count": 73,
   "id": "baking-tracy",
   "metadata": {},
   "outputs": [
    {
     "data": {
      "text/plain": [
       "dest_full\n",
       "Los Angeles County, California       36765826.0\n",
       "San Diego County, California         34135667.0\n",
       "Maricopa County, Arizona             20089450.0\n",
       "El Paso County, Texas                16921304.0\n",
       "Cook County, Illinois                14057822.0\n",
       "Imperial County, California          13943751.0\n",
       "Harris County, Texas                 12882141.0\n",
       "San Bernardino County, California    12230396.0\n",
       "Hidalgo County, Texas                12091140.0\n",
       "Wayne County, Michigan               11238534.0\n",
       "Webb County, Texas                   11111109.0\n",
       "Riverside County, California         10618611.0\n",
       "Alleghany County, North Carolina     10522250.0\n",
       "Orange County, California             9922867.0\n",
       "King County, Washington               9808432.0\n",
       "Cameron County, Texas                 9470134.0\n",
       "Clark County, Nevada                  9302606.0\n",
       "Niagara County, New York              8498840.0\n",
       "Dallas County, Texas                  7929316.0\n",
       "Bexar County, Texas                   7743278.0\n",
       "Name: n_trips, dtype: float64"
      ]
     },
     "execution_count": 73,
     "metadata": {},
     "output_type": "execute_result"
    }
   ],
   "source": [
    "# Most Popular Destinations\n",
    "n_trips_dest.sort_values(ascending=False).head(20)"
   ]
  },
  {
   "cell_type": "code",
   "execution_count": 73,
   "id": "selected-hepatitis",
   "metadata": {},
   "outputs": [
    {
     "data": {
      "text/plain": [
       "dest_full\n",
       "Los Angeles County, California       36765826.0\n",
       "San Diego County, California         34135667.0\n",
       "Maricopa County, Arizona             20089450.0\n",
       "El Paso County, Texas                16921304.0\n",
       "Cook County, Illinois                14057822.0\n",
       "Imperial County, California          13943751.0\n",
       "Harris County, Texas                 12882141.0\n",
       "San Bernardino County, California    12230396.0\n",
       "Hidalgo County, Texas                12091140.0\n",
       "Wayne County, Michigan               11238534.0\n",
       "Webb County, Texas                   11111109.0\n",
       "Riverside County, California         10618611.0\n",
       "Alleghany County, North Carolina     10522250.0\n",
       "Orange County, California             9922867.0\n",
       "King County, Washington               9808432.0\n",
       "Cameron County, Texas                 9470134.0\n",
       "Clark County, Nevada                  9302606.0\n",
       "Niagara County, New York              8498840.0\n",
       "Dallas County, Texas                  7929316.0\n",
       "Bexar County, Texas                   7743278.0\n",
       "Name: n_trips, dtype: float64"
      ]
     },
     "execution_count": 73,
     "metadata": {},
     "output_type": "execute_result"
    }
   ],
   "source": [
    "# Most Popular Destinations\n",
    "n_trips_dest.sort_values(ascending=False).head(20)"
   ]
  },
  {
   "cell_type": "code",
   "execution_count": 73,
   "id": "aware-place",
   "metadata": {},
   "outputs": [
    {
     "data": {
      "text/plain": [
       "dest_full\n",
       "Los Angeles County, California       36765826.0\n",
       "San Diego County, California         34135667.0\n",
       "Maricopa County, Arizona             20089450.0\n",
       "El Paso County, Texas                16921304.0\n",
       "Cook County, Illinois                14057822.0\n",
       "Imperial County, California          13943751.0\n",
       "Harris County, Texas                 12882141.0\n",
       "San Bernardino County, California    12230396.0\n",
       "Hidalgo County, Texas                12091140.0\n",
       "Wayne County, Michigan               11238534.0\n",
       "Webb County, Texas                   11111109.0\n",
       "Riverside County, California         10618611.0\n",
       "Alleghany County, North Carolina     10522250.0\n",
       "Orange County, California             9922867.0\n",
       "King County, Washington               9808432.0\n",
       "Cameron County, Texas                 9470134.0\n",
       "Clark County, Nevada                  9302606.0\n",
       "Niagara County, New York              8498840.0\n",
       "Dallas County, Texas                  7929316.0\n",
       "Bexar County, Texas                   7743278.0\n",
       "Name: n_trips, dtype: float64"
      ]
     },
     "execution_count": 73,
     "metadata": {},
     "output_type": "execute_result"
    }
   ],
   "source": [
    "# Most Popular Destinations\n",
    "n_trips_dest.sort_values(ascending=False).head(20)"
   ]
  },
  {
   "cell_type": "code",
   "execution_count": 73,
   "id": "liked-means",
   "metadata": {},
   "outputs": [
    {
     "data": {
      "text/plain": [
       "dest_full\n",
       "Los Angeles County, California       36765826.0\n",
       "San Diego County, California         34135667.0\n",
       "Maricopa County, Arizona             20089450.0\n",
       "El Paso County, Texas                16921304.0\n",
       "Cook County, Illinois                14057822.0\n",
       "Imperial County, California          13943751.0\n",
       "Harris County, Texas                 12882141.0\n",
       "San Bernardino County, California    12230396.0\n",
       "Hidalgo County, Texas                12091140.0\n",
       "Wayne County, Michigan               11238534.0\n",
       "Webb County, Texas                   11111109.0\n",
       "Riverside County, California         10618611.0\n",
       "Alleghany County, North Carolina     10522250.0\n",
       "Orange County, California             9922867.0\n",
       "King County, Washington               9808432.0\n",
       "Cameron County, Texas                 9470134.0\n",
       "Clark County, Nevada                  9302606.0\n",
       "Niagara County, New York              8498840.0\n",
       "Dallas County, Texas                  7929316.0\n",
       "Bexar County, Texas                   7743278.0\n",
       "Name: n_trips, dtype: float64"
      ]
     },
     "execution_count": 73,
     "metadata": {},
     "output_type": "execute_result"
    }
   ],
   "source": [
    "# Most Popular Destinations\n",
    "n_trips_dest.sort_values(ascending=False).head(20)"
   ]
  },
  {
   "cell_type": "code",
   "execution_count": 73,
   "id": "fatty-november",
   "metadata": {},
   "outputs": [
    {
     "data": {
      "text/plain": [
       "dest_full\n",
       "Los Angeles County, California       36765826.0\n",
       "San Diego County, California         34135667.0\n",
       "Maricopa County, Arizona             20089450.0\n",
       "El Paso County, Texas                16921304.0\n",
       "Cook County, Illinois                14057822.0\n",
       "Imperial County, California          13943751.0\n",
       "Harris County, Texas                 12882141.0\n",
       "San Bernardino County, California    12230396.0\n",
       "Hidalgo County, Texas                12091140.0\n",
       "Wayne County, Michigan               11238534.0\n",
       "Webb County, Texas                   11111109.0\n",
       "Riverside County, California         10618611.0\n",
       "Alleghany County, North Carolina     10522250.0\n",
       "Orange County, California             9922867.0\n",
       "King County, Washington               9808432.0\n",
       "Cameron County, Texas                 9470134.0\n",
       "Clark County, Nevada                  9302606.0\n",
       "Niagara County, New York              8498840.0\n",
       "Dallas County, Texas                  7929316.0\n",
       "Bexar County, Texas                   7743278.0\n",
       "Name: n_trips, dtype: float64"
      ]
     },
     "execution_count": 73,
     "metadata": {},
     "output_type": "execute_result"
    }
   ],
   "source": [
    "# Most Popular Destinations\n",
    "n_trips_dest.sort_values(ascending=False).head(20)"
   ]
  },
  {
   "cell_type": "code",
   "execution_count": 73,
   "id": "signal-cargo",
   "metadata": {},
   "outputs": [
    {
     "data": {
      "text/plain": [
       "dest_full\n",
       "Los Angeles County, California       36765826.0\n",
       "San Diego County, California         34135667.0\n",
       "Maricopa County, Arizona             20089450.0\n",
       "El Paso County, Texas                16921304.0\n",
       "Cook County, Illinois                14057822.0\n",
       "Imperial County, California          13943751.0\n",
       "Harris County, Texas                 12882141.0\n",
       "San Bernardino County, California    12230396.0\n",
       "Hidalgo County, Texas                12091140.0\n",
       "Wayne County, Michigan               11238534.0\n",
       "Webb County, Texas                   11111109.0\n",
       "Riverside County, California         10618611.0\n",
       "Alleghany County, North Carolina     10522250.0\n",
       "Orange County, California             9922867.0\n",
       "King County, Washington               9808432.0\n",
       "Cameron County, Texas                 9470134.0\n",
       "Clark County, Nevada                  9302606.0\n",
       "Niagara County, New York              8498840.0\n",
       "Dallas County, Texas                  7929316.0\n",
       "Bexar County, Texas                   7743278.0\n",
       "Name: n_trips, dtype: float64"
      ]
     },
     "execution_count": 73,
     "metadata": {},
     "output_type": "execute_result"
    }
   ],
   "source": [
    "# Most Popular Destinations\n",
    "n_trips_dest.sort_values(ascending=False).head(20)"
   ]
  },
  {
   "cell_type": "code",
   "execution_count": 73,
   "id": "endangered-partner",
   "metadata": {},
   "outputs": [
    {
     "data": {
      "text/plain": [
       "dest_full\n",
       "Los Angeles County, California       36765826.0\n",
       "San Diego County, California         34135667.0\n",
       "Maricopa County, Arizona             20089450.0\n",
       "El Paso County, Texas                16921304.0\n",
       "Cook County, Illinois                14057822.0\n",
       "Imperial County, California          13943751.0\n",
       "Harris County, Texas                 12882141.0\n",
       "San Bernardino County, California    12230396.0\n",
       "Hidalgo County, Texas                12091140.0\n",
       "Wayne County, Michigan               11238534.0\n",
       "Webb County, Texas                   11111109.0\n",
       "Riverside County, California         10618611.0\n",
       "Alleghany County, North Carolina     10522250.0\n",
       "Orange County, California             9922867.0\n",
       "King County, Washington               9808432.0\n",
       "Cameron County, Texas                 9470134.0\n",
       "Clark County, Nevada                  9302606.0\n",
       "Niagara County, New York              8498840.0\n",
       "Dallas County, Texas                  7929316.0\n",
       "Bexar County, Texas                   7743278.0\n",
       "Name: n_trips, dtype: float64"
      ]
     },
     "execution_count": 73,
     "metadata": {},
     "output_type": "execute_result"
    }
   ],
   "source": [
    "# Most Popular Destinations\n",
    "n_trips_dest.sort_values(ascending=False).head(20)"
   ]
  },
  {
   "cell_type": "code",
   "execution_count": 73,
   "id": "lovely-summit",
   "metadata": {},
   "outputs": [
    {
     "data": {
      "text/plain": [
       "dest_full\n",
       "Los Angeles County, California       36765826.0\n",
       "San Diego County, California         34135667.0\n",
       "Maricopa County, Arizona             20089450.0\n",
       "El Paso County, Texas                16921304.0\n",
       "Cook County, Illinois                14057822.0\n",
       "Imperial County, California          13943751.0\n",
       "Harris County, Texas                 12882141.0\n",
       "San Bernardino County, California    12230396.0\n",
       "Hidalgo County, Texas                12091140.0\n",
       "Wayne County, Michigan               11238534.0\n",
       "Webb County, Texas                   11111109.0\n",
       "Riverside County, California         10618611.0\n",
       "Alleghany County, North Carolina     10522250.0\n",
       "Orange County, California             9922867.0\n",
       "King County, Washington               9808432.0\n",
       "Cameron County, Texas                 9470134.0\n",
       "Clark County, Nevada                  9302606.0\n",
       "Niagara County, New York              8498840.0\n",
       "Dallas County, Texas                  7929316.0\n",
       "Bexar County, Texas                   7743278.0\n",
       "Name: n_trips, dtype: float64"
      ]
     },
     "execution_count": 73,
     "metadata": {},
     "output_type": "execute_result"
    }
   ],
   "source": [
    "# Most Popular Destinations\n",
    "n_trips_dest.sort_values(ascending=False).head(20)"
   ]
  },
  {
   "cell_type": "code",
   "execution_count": 73,
   "id": "whole-western",
   "metadata": {},
   "outputs": [
    {
     "data": {
      "text/plain": [
       "dest_full\n",
       "Los Angeles County, California       36765826.0\n",
       "San Diego County, California         34135667.0\n",
       "Maricopa County, Arizona             20089450.0\n",
       "El Paso County, Texas                16921304.0\n",
       "Cook County, Illinois                14057822.0\n",
       "Imperial County, California          13943751.0\n",
       "Harris County, Texas                 12882141.0\n",
       "San Bernardino County, California    12230396.0\n",
       "Hidalgo County, Texas                12091140.0\n",
       "Wayne County, Michigan               11238534.0\n",
       "Webb County, Texas                   11111109.0\n",
       "Riverside County, California         10618611.0\n",
       "Alleghany County, North Carolina     10522250.0\n",
       "Orange County, California             9922867.0\n",
       "King County, Washington               9808432.0\n",
       "Cameron County, Texas                 9470134.0\n",
       "Clark County, Nevada                  9302606.0\n",
       "Niagara County, New York              8498840.0\n",
       "Dallas County, Texas                  7929316.0\n",
       "Bexar County, Texas                   7743278.0\n",
       "Name: n_trips, dtype: float64"
      ]
     },
     "execution_count": 73,
     "metadata": {},
     "output_type": "execute_result"
    }
   ],
   "source": [
    "# Most Popular Destinations\n",
    "n_trips_dest.sort_values(ascending=False).head(20)"
   ]
  },
  {
   "cell_type": "code",
   "execution_count": 73,
   "id": "changing-active",
   "metadata": {},
   "outputs": [
    {
     "data": {
      "text/plain": [
       "dest_full\n",
       "Los Angeles County, California       36765826.0\n",
       "San Diego County, California         34135667.0\n",
       "Maricopa County, Arizona             20089450.0\n",
       "El Paso County, Texas                16921304.0\n",
       "Cook County, Illinois                14057822.0\n",
       "Imperial County, California          13943751.0\n",
       "Harris County, Texas                 12882141.0\n",
       "San Bernardino County, California    12230396.0\n",
       "Hidalgo County, Texas                12091140.0\n",
       "Wayne County, Michigan               11238534.0\n",
       "Webb County, Texas                   11111109.0\n",
       "Riverside County, California         10618611.0\n",
       "Alleghany County, North Carolina     10522250.0\n",
       "Orange County, California             9922867.0\n",
       "King County, Washington               9808432.0\n",
       "Cameron County, Texas                 9470134.0\n",
       "Clark County, Nevada                  9302606.0\n",
       "Niagara County, New York              8498840.0\n",
       "Dallas County, Texas                  7929316.0\n",
       "Bexar County, Texas                   7743278.0\n",
       "Name: n_trips, dtype: float64"
      ]
     },
     "execution_count": 73,
     "metadata": {},
     "output_type": "execute_result"
    }
   ],
   "source": [
    "# Most Popular Destinations\n",
    "n_trips_dest.sort_values(ascending=False).head(20)"
   ]
  },
  {
   "cell_type": "code",
   "execution_count": 73,
   "id": "alive-punch",
   "metadata": {},
   "outputs": [
    {
     "data": {
      "text/plain": [
       "dest_full\n",
       "Los Angeles County, California       36765826.0\n",
       "San Diego County, California         34135667.0\n",
       "Maricopa County, Arizona             20089450.0\n",
       "El Paso County, Texas                16921304.0\n",
       "Cook County, Illinois                14057822.0\n",
       "Imperial County, California          13943751.0\n",
       "Harris County, Texas                 12882141.0\n",
       "San Bernardino County, California    12230396.0\n",
       "Hidalgo County, Texas                12091140.0\n",
       "Wayne County, Michigan               11238534.0\n",
       "Webb County, Texas                   11111109.0\n",
       "Riverside County, California         10618611.0\n",
       "Alleghany County, North Carolina     10522250.0\n",
       "Orange County, California             9922867.0\n",
       "King County, Washington               9808432.0\n",
       "Cameron County, Texas                 9470134.0\n",
       "Clark County, Nevada                  9302606.0\n",
       "Niagara County, New York              8498840.0\n",
       "Dallas County, Texas                  7929316.0\n",
       "Bexar County, Texas                   7743278.0\n",
       "Name: n_trips, dtype: float64"
      ]
     },
     "execution_count": 73,
     "metadata": {},
     "output_type": "execute_result"
    }
   ],
   "source": [
    "# Most Popular Destinations\n",
    "n_trips_dest.sort_values(ascending=False).head(20)"
   ]
  },
  {
   "cell_type": "code",
   "execution_count": 73,
   "id": "other-amino",
   "metadata": {},
   "outputs": [
    {
     "data": {
      "text/plain": [
       "dest_full\n",
       "Los Angeles County, California       36765826.0\n",
       "San Diego County, California         34135667.0\n",
       "Maricopa County, Arizona             20089450.0\n",
       "El Paso County, Texas                16921304.0\n",
       "Cook County, Illinois                14057822.0\n",
       "Imperial County, California          13943751.0\n",
       "Harris County, Texas                 12882141.0\n",
       "San Bernardino County, California    12230396.0\n",
       "Hidalgo County, Texas                12091140.0\n",
       "Wayne County, Michigan               11238534.0\n",
       "Webb County, Texas                   11111109.0\n",
       "Riverside County, California         10618611.0\n",
       "Alleghany County, North Carolina     10522250.0\n",
       "Orange County, California             9922867.0\n",
       "King County, Washington               9808432.0\n",
       "Cameron County, Texas                 9470134.0\n",
       "Clark County, Nevada                  9302606.0\n",
       "Niagara County, New York              8498840.0\n",
       "Dallas County, Texas                  7929316.0\n",
       "Bexar County, Texas                   7743278.0\n",
       "Name: n_trips, dtype: float64"
      ]
     },
     "execution_count": 73,
     "metadata": {},
     "output_type": "execute_result"
    }
   ],
   "source": [
    "# Most Popular Destinations\n",
    "n_trips_dest.sort_values(ascending=False).head(20)"
   ]
  },
  {
   "cell_type": "code",
   "execution_count": 73,
   "id": "remarkable-mumbai",
   "metadata": {},
   "outputs": [
    {
     "data": {
      "text/plain": [
       "dest_full\n",
       "Los Angeles County, California       36765826.0\n",
       "San Diego County, California         34135667.0\n",
       "Maricopa County, Arizona             20089450.0\n",
       "El Paso County, Texas                16921304.0\n",
       "Cook County, Illinois                14057822.0\n",
       "Imperial County, California          13943751.0\n",
       "Harris County, Texas                 12882141.0\n",
       "San Bernardino County, California    12230396.0\n",
       "Hidalgo County, Texas                12091140.0\n",
       "Wayne County, Michigan               11238534.0\n",
       "Webb County, Texas                   11111109.0\n",
       "Riverside County, California         10618611.0\n",
       "Alleghany County, North Carolina     10522250.0\n",
       "Orange County, California             9922867.0\n",
       "King County, Washington               9808432.0\n",
       "Cameron County, Texas                 9470134.0\n",
       "Clark County, Nevada                  9302606.0\n",
       "Niagara County, New York              8498840.0\n",
       "Dallas County, Texas                  7929316.0\n",
       "Bexar County, Texas                   7743278.0\n",
       "Name: n_trips, dtype: float64"
      ]
     },
     "execution_count": 73,
     "metadata": {},
     "output_type": "execute_result"
    }
   ],
   "source": [
    "# Most Popular Destinations\n",
    "n_trips_dest.sort_values(ascending=False).head(20)"
   ]
  },
  {
   "cell_type": "code",
   "execution_count": 73,
   "id": "sexual-homeless",
   "metadata": {},
   "outputs": [
    {
     "data": {
      "text/plain": [
       "dest_full\n",
       "Los Angeles County, California       36765826.0\n",
       "San Diego County, California         34135667.0\n",
       "Maricopa County, Arizona             20089450.0\n",
       "El Paso County, Texas                16921304.0\n",
       "Cook County, Illinois                14057822.0\n",
       "Imperial County, California          13943751.0\n",
       "Harris County, Texas                 12882141.0\n",
       "San Bernardino County, California    12230396.0\n",
       "Hidalgo County, Texas                12091140.0\n",
       "Wayne County, Michigan               11238534.0\n",
       "Webb County, Texas                   11111109.0\n",
       "Riverside County, California         10618611.0\n",
       "Alleghany County, North Carolina     10522250.0\n",
       "Orange County, California             9922867.0\n",
       "King County, Washington               9808432.0\n",
       "Cameron County, Texas                 9470134.0\n",
       "Clark County, Nevada                  9302606.0\n",
       "Niagara County, New York              8498840.0\n",
       "Dallas County, Texas                  7929316.0\n",
       "Bexar County, Texas                   7743278.0\n",
       "Name: n_trips, dtype: float64"
      ]
     },
     "execution_count": 73,
     "metadata": {},
     "output_type": "execute_result"
    }
   ],
   "source": [
    "# Most Popular Destinations\n",
    "n_trips_dest.sort_values(ascending=False).head(20)"
   ]
  },
  {
   "cell_type": "code",
   "execution_count": 73,
   "id": "neutral-differential",
   "metadata": {},
   "outputs": [
    {
     "data": {
      "text/plain": [
       "dest_full\n",
       "Los Angeles County, California       36765826.0\n",
       "San Diego County, California         34135667.0\n",
       "Maricopa County, Arizona             20089450.0\n",
       "El Paso County, Texas                16921304.0\n",
       "Cook County, Illinois                14057822.0\n",
       "Imperial County, California          13943751.0\n",
       "Harris County, Texas                 12882141.0\n",
       "San Bernardino County, California    12230396.0\n",
       "Hidalgo County, Texas                12091140.0\n",
       "Wayne County, Michigan               11238534.0\n",
       "Webb County, Texas                   11111109.0\n",
       "Riverside County, California         10618611.0\n",
       "Alleghany County, North Carolina     10522250.0\n",
       "Orange County, California             9922867.0\n",
       "King County, Washington               9808432.0\n",
       "Cameron County, Texas                 9470134.0\n",
       "Clark County, Nevada                  9302606.0\n",
       "Niagara County, New York              8498840.0\n",
       "Dallas County, Texas                  7929316.0\n",
       "Bexar County, Texas                   7743278.0\n",
       "Name: n_trips, dtype: float64"
      ]
     },
     "execution_count": 73,
     "metadata": {},
     "output_type": "execute_result"
    }
   ],
   "source": [
    "# Most Popular Destinations\n",
    "n_trips_dest.sort_values(ascending=False).head(20)"
   ]
  },
  {
   "cell_type": "code",
   "execution_count": 73,
   "id": "dimensional-england",
   "metadata": {},
   "outputs": [
    {
     "data": {
      "text/plain": [
       "dest_full\n",
       "Los Angeles County, California       36765826.0\n",
       "San Diego County, California         34135667.0\n",
       "Maricopa County, Arizona             20089450.0\n",
       "El Paso County, Texas                16921304.0\n",
       "Cook County, Illinois                14057822.0\n",
       "Imperial County, California          13943751.0\n",
       "Harris County, Texas                 12882141.0\n",
       "San Bernardino County, California    12230396.0\n",
       "Hidalgo County, Texas                12091140.0\n",
       "Wayne County, Michigan               11238534.0\n",
       "Webb County, Texas                   11111109.0\n",
       "Riverside County, California         10618611.0\n",
       "Alleghany County, North Carolina     10522250.0\n",
       "Orange County, California             9922867.0\n",
       "King County, Washington               9808432.0\n",
       "Cameron County, Texas                 9470134.0\n",
       "Clark County, Nevada                  9302606.0\n",
       "Niagara County, New York              8498840.0\n",
       "Dallas County, Texas                  7929316.0\n",
       "Bexar County, Texas                   7743278.0\n",
       "Name: n_trips, dtype: float64"
      ]
     },
     "execution_count": 73,
     "metadata": {},
     "output_type": "execute_result"
    }
   ],
   "source": [
    "# Most Popular Destinations\n",
    "n_trips_dest.sort_values(ascending=False).head(20)"
   ]
  },
  {
   "cell_type": "code",
   "execution_count": 73,
   "id": "bored-greensboro",
   "metadata": {},
   "outputs": [
    {
     "data": {
      "text/plain": [
       "dest_full\n",
       "Los Angeles County, California       36765826.0\n",
       "San Diego County, California         34135667.0\n",
       "Maricopa County, Arizona             20089450.0\n",
       "El Paso County, Texas                16921304.0\n",
       "Cook County, Illinois                14057822.0\n",
       "Imperial County, California          13943751.0\n",
       "Harris County, Texas                 12882141.0\n",
       "San Bernardino County, California    12230396.0\n",
       "Hidalgo County, Texas                12091140.0\n",
       "Wayne County, Michigan               11238534.0\n",
       "Webb County, Texas                   11111109.0\n",
       "Riverside County, California         10618611.0\n",
       "Alleghany County, North Carolina     10522250.0\n",
       "Orange County, California             9922867.0\n",
       "King County, Washington               9808432.0\n",
       "Cameron County, Texas                 9470134.0\n",
       "Clark County, Nevada                  9302606.0\n",
       "Niagara County, New York              8498840.0\n",
       "Dallas County, Texas                  7929316.0\n",
       "Bexar County, Texas                   7743278.0\n",
       "Name: n_trips, dtype: float64"
      ]
     },
     "execution_count": 73,
     "metadata": {},
     "output_type": "execute_result"
    }
   ],
   "source": [
    "# Most Popular Destinations\n",
    "n_trips_dest.sort_values(ascending=False).head(20)"
   ]
  },
  {
   "cell_type": "markdown",
   "id": "selective-broadway",
   "metadata": {},
   "source": [
    "### **TODO:** Check on Data Quality"
   ]
  },
  {
   "cell_type": "code",
   "execution_count": 2,
   "id": "wrapped-diving",
   "metadata": {},
   "outputs": [
    {
     "name": "stdout",
     "output_type": "stream",
     "text": [
      "(9897316, 3)\n"
     ]
    },
    {
     "data": {
      "text/html": [
       "<div>\n",
       "<style scoped>\n",
       "    .dataframe tbody tr th:only-of-type {\n",
       "        vertical-align: middle;\n",
       "    }\n",
       "\n",
       "    .dataframe tbody tr th {\n",
       "        vertical-align: top;\n",
       "    }\n",
       "\n",
       "    .dataframe thead th {\n",
       "        text-align: right;\n",
       "    }\n",
       "</style>\n",
       "<table border=\"1\" class=\"dataframe\">\n",
       "  <thead>\n",
       "    <tr style=\"text-align: right;\">\n",
       "      <th></th>\n",
       "      <th>origin_code</th>\n",
       "      <th>destination_code</th>\n",
       "      <th>n_trips</th>\n",
       "    </tr>\n",
       "  </thead>\n",
       "  <tbody>\n",
       "    <tr>\n",
       "      <th>0</th>\n",
       "      <td>1001</td>\n",
       "      <td>1001</td>\n",
       "      <td>0.0</td>\n",
       "    </tr>\n",
       "    <tr>\n",
       "      <th>1</th>\n",
       "      <td>1001</td>\n",
       "      <td>1003</td>\n",
       "      <td>2622.0</td>\n",
       "    </tr>\n",
       "    <tr>\n",
       "      <th>2</th>\n",
       "      <td>1001</td>\n",
       "      <td>1005</td>\n",
       "      <td>1971.0</td>\n",
       "    </tr>\n",
       "    <tr>\n",
       "      <th>3</th>\n",
       "      <td>1001</td>\n",
       "      <td>1007</td>\n",
       "      <td>0.0</td>\n",
       "    </tr>\n",
       "    <tr>\n",
       "      <th>4</th>\n",
       "      <td>1001</td>\n",
       "      <td>1009</td>\n",
       "      <td>1219.0</td>\n",
       "    </tr>\n",
       "  </tbody>\n",
       "</table>\n",
       "</div>"
      ],
      "text/plain": [
       "   origin_code  destination_code  n_trips\n",
       "0         1001              1001      0.0\n",
       "1         1001              1003   2622.0\n",
       "2         1001              1005   1971.0\n",
       "3         1001              1007      0.0\n",
       "4         1001              1009   1219.0"
      ]
     },
     "execution_count": 2,
     "metadata": {},
     "output_type": "execute_result"
    }
   ],
   "source": [
    "# Data Source\n",
    "# https://www.fhwa.dot.gov/policyinformation/analysisframework/01.cfm\n",
    "\n",
    "non_bus = pd.read_csv('2008AutoNonbiz.csv',\n",
    "                      header=None,\n",
    "                      names=[\n",
    "                          'origin_code',\n",
    "                          'destination_code',\n",
    "                          'n_trips'\n",
    "                      ]\n",
    "                     )\n",
    "\n",
    "print(non_bus.shape)\n",
    "non_bus.head()"
   ]
  },
  {
   "cell_type": "code",
   "execution_count": 3,
   "id": "fresh-specialist",
   "metadata": {},
   "outputs": [
    {
     "data": {
      "text/plain": [
       "0.6601878731567224"
      ]
     },
     "execution_count": 3,
     "metadata": {},
     "output_type": "execute_result"
    }
   ],
   "source": [
    "# 66% of Origin Destination Pairs have n_trips values of 0\n",
    "non_bus['n_trips'].value_counts()[0]/len(non_bus['n_trips'])"
   ]
  },
  {
   "cell_type": "code",
   "execution_count": 4,
   "id": "plain-tennessee",
   "metadata": {},
   "outputs": [
    {
     "data": {
      "text/plain": [
       "(2214298, 3)"
      ]
     },
     "execution_count": 4,
     "metadata": {},
     "output_type": "execute_result"
    }
   ],
   "source": [
    "# Shorten the DF by Removing all Pairs with Counts of 0 or 1\n",
    "non_bus = non_bus[non_bus['n_trips'] > 50]\n",
    "non_bus.shape"
   ]
  },
  {
   "cell_type": "code",
   "execution_count": 5,
   "id": "opening-certification",
   "metadata": {},
   "outputs": [
    {
     "data": {
      "text/plain": [
       "1.0"
      ]
     },
     "execution_count": 5,
     "metadata": {},
     "output_type": "execute_result"
    }
   ],
   "source": [
    "# DF is now 33% of Original Length\n",
    "non_bus.shape[0]/non_bus.shape[0]"
   ]
  },
  {
   "cell_type": "code",
   "execution_count": 6,
   "id": "unable-london",
   "metadata": {},
   "outputs": [
    {
     "data": {
      "text/plain": [
       "count    2.214298e+06\n",
       "mean     9.355895e+02\n",
       "std      1.385785e+04\n",
       "min      5.100000e+01\n",
       "25%      9.100000e+01\n",
       "50%      1.760000e+02\n",
       "75%      4.590000e+02\n",
       "max      9.098075e+06\n",
       "Name: n_trips, dtype: float64"
      ]
     },
     "execution_count": 6,
     "metadata": {},
     "output_type": "execute_result"
    }
   ],
   "source": [
    "non_bus['n_trips'].describe()"
   ]
  },
  {
   "cell_type": "code",
   "execution_count": 7,
   "id": "vulnerable-thread",
   "metadata": {},
   "outputs": [],
   "source": [
    "# Non_Bus must be reduced further\n",
    "# According to my crude calculations... to keep the for loop under 15 min\n",
    "# we need to reduce the row count to 250,000"
   ]
  },
  {
   "cell_type": "code",
   "execution_count": 8,
   "id": "computational-former",
   "metadata": {},
   "outputs": [
    {
     "data": {
      "text/plain": [
       "(250000, 3)"
      ]
     },
     "execution_count": 8,
     "metadata": {},
     "output_type": "execute_result"
    }
   ],
   "source": [
    "# Reduce Non_Bus to 250000 Rows\n",
    "non_bus = non_bus.sort_values(by='n_trips', ascending=False).iloc[:250000]\n",
    "non_bus.shape"
   ]
  },
  {
   "cell_type": "code",
   "execution_count": 9,
   "id": "charitable-eclipse",
   "metadata": {},
   "outputs": [
    {
     "name": "stdout",
     "output_type": "stream",
     "text": [
      "(43847, 7)\n"
     ]
    },
    {
     "data": {
      "text/html": [
       "<div>\n",
       "<style scoped>\n",
       "    .dataframe tbody tr th:only-of-type {\n",
       "        vertical-align: middle;\n",
       "    }\n",
       "\n",
       "    .dataframe tbody tr th {\n",
       "        vertical-align: top;\n",
       "    }\n",
       "\n",
       "    .dataframe thead th {\n",
       "        text-align: right;\n",
       "    }\n",
       "</style>\n",
       "<table border=\"1\" class=\"dataframe\">\n",
       "  <thead>\n",
       "    <tr style=\"text-align: right;\">\n",
       "      <th></th>\n",
       "      <th>Summary Level</th>\n",
       "      <th>State Code (FIPS)</th>\n",
       "      <th>County Code (FIPS)</th>\n",
       "      <th>County Subdivision Code (FIPS)</th>\n",
       "      <th>Place Code (FIPS)</th>\n",
       "      <th>Consolidtated City Code (FIPS)</th>\n",
       "      <th>Area Name (including legal/statistical area description)</th>\n",
       "    </tr>\n",
       "  </thead>\n",
       "  <tbody>\n",
       "    <tr>\n",
       "      <th>0</th>\n",
       "      <td>10</td>\n",
       "      <td>0</td>\n",
       "      <td>0</td>\n",
       "      <td>0</td>\n",
       "      <td>0</td>\n",
       "      <td>0</td>\n",
       "      <td>United States</td>\n",
       "    </tr>\n",
       "    <tr>\n",
       "      <th>1</th>\n",
       "      <td>40</td>\n",
       "      <td>1</td>\n",
       "      <td>0</td>\n",
       "      <td>0</td>\n",
       "      <td>0</td>\n",
       "      <td>0</td>\n",
       "      <td>Alabama</td>\n",
       "    </tr>\n",
       "    <tr>\n",
       "      <th>2</th>\n",
       "      <td>50</td>\n",
       "      <td>1</td>\n",
       "      <td>1</td>\n",
       "      <td>0</td>\n",
       "      <td>0</td>\n",
       "      <td>0</td>\n",
       "      <td>Autauga County</td>\n",
       "    </tr>\n",
       "    <tr>\n",
       "      <th>3</th>\n",
       "      <td>50</td>\n",
       "      <td>1</td>\n",
       "      <td>3</td>\n",
       "      <td>0</td>\n",
       "      <td>0</td>\n",
       "      <td>0</td>\n",
       "      <td>Baldwin County</td>\n",
       "    </tr>\n",
       "    <tr>\n",
       "      <th>4</th>\n",
       "      <td>50</td>\n",
       "      <td>1</td>\n",
       "      <td>5</td>\n",
       "      <td>0</td>\n",
       "      <td>0</td>\n",
       "      <td>0</td>\n",
       "      <td>Barbour County</td>\n",
       "    </tr>\n",
       "  </tbody>\n",
       "</table>\n",
       "</div>"
      ],
      "text/plain": [
       "   Summary Level  State Code (FIPS)  County Code (FIPS)  \\\n",
       "0             10                  0                   0   \n",
       "1             40                  1                   0   \n",
       "2             50                  1                   1   \n",
       "3             50                  1                   3   \n",
       "4             50                  1                   5   \n",
       "\n",
       "   County Subdivision Code (FIPS)  Place Code (FIPS)  \\\n",
       "0                               0                  0   \n",
       "1                               0                  0   \n",
       "2                               0                  0   \n",
       "3                               0                  0   \n",
       "4                               0                  0   \n",
       "\n",
       "   Consolidtated City Code (FIPS)  \\\n",
       "0                               0   \n",
       "1                               0   \n",
       "2                               0   \n",
       "3                               0   \n",
       "4                               0   \n",
       "\n",
       "  Area Name (including legal/statistical area description)  \n",
       "0                                      United States        \n",
       "1                                            Alabama        \n",
       "2                                     Autauga County        \n",
       "3                                     Baldwin County        \n",
       "4                                     Barbour County        "
      ]
     },
     "execution_count": 9,
     "metadata": {},
     "output_type": "execute_result"
    }
   ],
   "source": [
    "# Data Source:\n",
    "# https://www.census.gov/geographies/reference-files/2018/demo/popest/2018-fips.html\n",
    "# TODO\n",
    "# Rename Columns\n",
    "codes = pd.read_csv('all-geocodes-v2018.csv',\n",
    "                    skiprows=4\n",
    "                  )\n",
    "print(codes.shape)\n",
    "codes.head()"
   ]
  },
  {
   "cell_type": "code",
   "execution_count": 10,
   "id": "persistent-coffee",
   "metadata": {},
   "outputs": [],
   "source": [
    "# Add Labeled Cols\n",
    "\n",
    "origin_state_code = []\n",
    "for code in non_bus['origin_code']:\n",
    "    if len(str(code)) > 4:\n",
    "        origin_state_code.append(str(code)[:2])\n",
    "    elif len(str(code)) == 4:\n",
    "        origin_state_code.append(str(code)[0])\n",
    "\n",
    "destination_state_code = []\n",
    "for code in non_bus['destination_code']:\n",
    "    if len(str(code)) > 4:\n",
    "        destination_state_code.append(str(code)[:2])\n",
    "    elif len(str(code)) == 4:\n",
    "        destination_state_code.append(str(code)[0])\n",
    "        \n",
    "origin_county_code = [str(code)[-3:] for code in non_bus['origin_code']]\n",
    "destination_county_code = [str(code)[-3:] for code in non_bus['destination_code']]\n",
    "\n",
    "assert len(origin_state_code) == len(destination_state_code) == len(origin_county_code) == len(destination_county_code)"
   ]
  },
  {
   "cell_type": "code",
   "execution_count": 11,
   "id": "manufactured-brother",
   "metadata": {},
   "outputs": [
    {
     "data": {
      "text/html": [
       "<div>\n",
       "<style scoped>\n",
       "    .dataframe tbody tr th:only-of-type {\n",
       "        vertical-align: middle;\n",
       "    }\n",
       "\n",
       "    .dataframe tbody tr th {\n",
       "        vertical-align: top;\n",
       "    }\n",
       "\n",
       "    .dataframe thead th {\n",
       "        text-align: right;\n",
       "    }\n",
       "</style>\n",
       "<table border=\"1\" class=\"dataframe\">\n",
       "  <thead>\n",
       "    <tr style=\"text-align: right;\">\n",
       "      <th></th>\n",
       "      <th>origin_code</th>\n",
       "      <th>destination_code</th>\n",
       "      <th>n_trips</th>\n",
       "      <th>origin_state_county</th>\n",
       "      <th>destination_state_county</th>\n",
       "    </tr>\n",
       "  </thead>\n",
       "  <tbody>\n",
       "    <tr>\n",
       "      <th>695469</th>\n",
       "      <td>6073</td>\n",
       "      <td>6037</td>\n",
       "      <td>9098075.0</td>\n",
       "      <td>(6, 073)</td>\n",
       "      <td>(6, 037)</td>\n",
       "    </tr>\n",
       "    <tr>\n",
       "      <th>638859</th>\n",
       "      <td>6037</td>\n",
       "      <td>6073</td>\n",
       "      <td>9098075.0</td>\n",
       "      <td>(6, 037)</td>\n",
       "      <td>(6, 073)</td>\n",
       "    </tr>\n",
       "  </tbody>\n",
       "</table>\n",
       "</div>"
      ],
      "text/plain": [
       "        origin_code  destination_code    n_trips origin_state_county  \\\n",
       "695469         6073              6037  9098075.0            (6, 073)   \n",
       "638859         6037              6073  9098075.0            (6, 037)   \n",
       "\n",
       "       destination_state_county  \n",
       "695469                 (6, 037)  \n",
       "638859                 (6, 073)  "
      ]
     },
     "execution_count": 11,
     "metadata": {},
     "output_type": "execute_result"
    }
   ],
   "source": [
    "# Insert new Columns\n",
    "\n",
    "origin_state_county = list(zip(origin_state_code, origin_county_code))\n",
    "destination_state_county = list(zip(destination_state_code, destination_county_code))\n",
    "non_bus.insert(3, 'origin_state_county', origin_state_county)\n",
    "non_bus.insert(4, 'destination_state_county', destination_state_county)\n",
    "non_bus.head(2)"
   ]
  },
  {
   "cell_type": "code",
   "execution_count": 12,
   "id": "under-providence",
   "metadata": {},
   "outputs": [
    {
     "data": {
      "text/plain": [
       "tuple"
      ]
     },
     "execution_count": 12,
     "metadata": {},
     "output_type": "execute_result"
    }
   ],
   "source": [
    "type(non_bus['origin_state_county'].iloc[0])\n"
   ]
  },
  {
   "cell_type": "code",
   "execution_count": 13,
   "id": "numeric-reunion",
   "metadata": {},
   "outputs": [],
   "source": [
    "# Testing 1, 2, 3...\n",
    "# Test Query String works with Autauga County\n",
    "# Query Sting Using df.query() is an alternative to bracket filtering \n",
    "# that works more efficiently\n",
    "query_string = f\"{int(1)} == `State Code (FIPS)` & {int(1)} == `County Code (FIPS)`\""
   ]
  },
  {
   "cell_type": "code",
   "execution_count": 14,
   "id": "joint-collection",
   "metadata": {},
   "outputs": [
    {
     "data": {
      "text/plain": [
       "'Autauga County'"
      ]
     },
     "execution_count": 14,
     "metadata": {},
     "output_type": "execute_result"
    }
   ],
   "source": [
    "# Testing 1, 2, 3...\n",
    "codes.query(query_string)['Area Name (including legal/statistical area description)'].iloc[0]"
   ]
  },
  {
   "cell_type": "code",
   "execution_count": 15,
   "id": "stretch-transformation",
   "metadata": {},
   "outputs": [],
   "source": [
    "def convert_fips_city(state_county_tuple):\n",
    "    \"\"\"\n",
    "    Takes a tuple of state fips code, county fips code\n",
    "    And converts to Name String\n",
    "    \"\"\"\n",
    "    state_code = state_county_tuple[0]\n",
    "    county_code = state_county_tuple[1]\n",
    "    # mask = (codes['State Code (FIPS)'] == int(state_code)) & (codes['County Code (FIPS)'] == int(county_code))\n",
    "    query_string = f\"{int(state_code)} == `State Code (FIPS)` & {int(county_code)} == `County Code (FIPS)`\"\n",
    "    codes.query(query_string)\n",
    "    # return codes[mask]['Area Name (including legal/statistical area description)'].iloc[0]\n",
    "    return codes.query(query_string)['Area Name (including legal/statistical area description)'].iloc[0]"
   ]
  },
  {
   "cell_type": "markdown",
   "id": "racial-serve",
   "metadata": {},
   "source": [
    "### Decoding Fips Codes in Origin Destination DF"
   ]
  },
  {
   "cell_type": "code",
   "execution_count": 16,
   "id": "higher-congo",
   "metadata": {},
   "outputs": [
    {
     "name": "stdout",
     "output_type": "stream",
     "text": [
      "CPU times: user 12min 50s, sys: 474 ms, total: 12min 50s\n",
      "Wall time: 12min 50s\n"
     ]
    }
   ],
   "source": [
    "%%time\n",
    "# Looks like the For Loop is Slightly More Time-Efficient than .Apply()\n",
    "origin = []\n",
    "for i in range(non_bus.shape[0]):\n",
    "    try:\n",
    "        tup = tuple([origin_state_code[i], origin_county_code[i]])\n",
    "        city_name = convert_fips_city(tup)\n",
    "        origin.append(city_name)\n",
    "    \n",
    "    except:\n",
    "        origin.append(np.nan)"
   ]
  },
  {
   "cell_type": "code",
   "execution_count": 17,
   "id": "cognitive-responsibility",
   "metadata": {},
   "outputs": [
    {
     "name": "stdout",
     "output_type": "stream",
     "text": [
      "250000\n"
     ]
    },
    {
     "data": {
      "text/plain": [
       "['San Diego County',\n",
       " 'Los Angeles County',\n",
       " 'Imperial County',\n",
       " 'San Diego County',\n",
       " 'Riverside County']"
      ]
     },
     "execution_count": 17,
     "metadata": {},
     "output_type": "execute_result"
    }
   ],
   "source": [
    "print(len(origin))\n",
    "origin[0:5]"
   ]
  },
  {
   "cell_type": "code",
   "execution_count": 18,
   "id": "victorian-hawaii",
   "metadata": {},
   "outputs": [],
   "source": [
    "# Insert Origin Name Row\n",
    "non_bus.insert(5, 'origin', origin)"
   ]
  },
  {
   "cell_type": "code",
   "execution_count": 19,
   "id": "charming-boston",
   "metadata": {},
   "outputs": [],
   "source": [
    "# TODO: Check on N Errors in Origin"
   ]
  },
  {
   "cell_type": "code",
   "execution_count": null,
   "id": "listed-charter",
   "metadata": {},
   "outputs": [],
   "source": []
  },
  {
   "cell_type": "code",
   "execution_count": 20,
   "id": "stupid-camcorder",
   "metadata": {},
   "outputs": [
    {
     "name": "stdout",
     "output_type": "stream",
     "text": [
      "CPU times: user 14min 27s, sys: 837 ms, total: 14min 28s\n",
      "Wall time: 22min 54s\n"
     ]
    }
   ],
   "source": [
    "%%time\n",
    "# Looks like the For Loop is Slightly More Time Efficient than .Apply()\n",
    "destination = []\n",
    "for i in range(non_bus.shape[0]):\n",
    "    try:\n",
    "        tup = tuple([destination_state_code[i], destination_county_code[i]])\n",
    "        city_name = convert_fips_city(tup)\n",
    "        destination.append(city_name)\n",
    "    \n",
    "    except:\n",
    "        destination.append(np.nan)"
   ]
  },
  {
   "cell_type": "code",
   "execution_count": 21,
   "id": "appointed-bench",
   "metadata": {},
   "outputs": [],
   "source": [
    "non_bus.insert(6, 'destination', destination)"
   ]
  },
  {
   "cell_type": "code",
   "execution_count": 23,
   "id": "adaptive-intranet",
   "metadata": {},
   "outputs": [],
   "source": [
    "# Integerize \n",
    "origin_state_code = [int(code) for code in origin_state_code]\n",
    "destination_state_code = [int(code) for code in destination_state_code]\n",
    "non_bus.insert(7, 'origin_state_code', origin_state_code)\n",
    "non_bus.insert(8, 'destination_state_code', destination_state_code)"
   ]
  },
  {
   "cell_type": "code",
   "execution_count": 24,
   "id": "english-indian",
   "metadata": {},
   "outputs": [
    {
     "data": {
      "text/html": [
       "<div>\n",
       "<style scoped>\n",
       "    .dataframe tbody tr th:only-of-type {\n",
       "        vertical-align: middle;\n",
       "    }\n",
       "\n",
       "    .dataframe tbody tr th {\n",
       "        vertical-align: top;\n",
       "    }\n",
       "\n",
       "    .dataframe thead th {\n",
       "        text-align: right;\n",
       "    }\n",
       "</style>\n",
       "<table border=\"1\" class=\"dataframe\">\n",
       "  <thead>\n",
       "    <tr style=\"text-align: right;\">\n",
       "      <th></th>\n",
       "      <th>origin_code</th>\n",
       "      <th>destination_code</th>\n",
       "      <th>n_trips</th>\n",
       "      <th>origin_state_county</th>\n",
       "      <th>destination_state_county</th>\n",
       "      <th>origin</th>\n",
       "      <th>destination</th>\n",
       "      <th>origin_state_code</th>\n",
       "      <th>destination_state_code</th>\n",
       "    </tr>\n",
       "  </thead>\n",
       "  <tbody>\n",
       "    <tr>\n",
       "      <th>695469</th>\n",
       "      <td>6073</td>\n",
       "      <td>6037</td>\n",
       "      <td>9098075.0</td>\n",
       "      <td>(6, 073)</td>\n",
       "      <td>(6, 037)</td>\n",
       "      <td>San Diego County</td>\n",
       "      <td>Los Angeles County</td>\n",
       "      <td>6</td>\n",
       "      <td>6</td>\n",
       "    </tr>\n",
       "    <tr>\n",
       "      <th>638859</th>\n",
       "      <td>6037</td>\n",
       "      <td>6073</td>\n",
       "      <td>9098075.0</td>\n",
       "      <td>(6, 037)</td>\n",
       "      <td>(6, 073)</td>\n",
       "      <td>Los Angeles County</td>\n",
       "      <td>San Diego County</td>\n",
       "      <td>6</td>\n",
       "      <td>6</td>\n",
       "    </tr>\n",
       "    <tr>\n",
       "      <th>619983</th>\n",
       "      <td>6025</td>\n",
       "      <td>6073</td>\n",
       "      <td>4337119.0</td>\n",
       "      <td>(6, 025)</td>\n",
       "      <td>(6, 073)</td>\n",
       "      <td>Imperial County</td>\n",
       "      <td>San Diego County</td>\n",
       "      <td>6</td>\n",
       "      <td>6</td>\n",
       "    </tr>\n",
       "    <tr>\n",
       "      <th>695463</th>\n",
       "      <td>6073</td>\n",
       "      <td>6025</td>\n",
       "      <td>4337119.0</td>\n",
       "      <td>(6, 073)</td>\n",
       "      <td>(6, 025)</td>\n",
       "      <td>San Diego County</td>\n",
       "      <td>Imperial County</td>\n",
       "      <td>6</td>\n",
       "      <td>6</td>\n",
       "    </tr>\n",
       "    <tr>\n",
       "      <th>682885</th>\n",
       "      <td>6065</td>\n",
       "      <td>6037</td>\n",
       "      <td>4009696.0</td>\n",
       "      <td>(6, 065)</td>\n",
       "      <td>(6, 037)</td>\n",
       "      <td>Riverside County</td>\n",
       "      <td>Los Angeles County</td>\n",
       "      <td>6</td>\n",
       "      <td>6</td>\n",
       "    </tr>\n",
       "  </tbody>\n",
       "</table>\n",
       "</div>"
      ],
      "text/plain": [
       "        origin_code  destination_code    n_trips origin_state_county  \\\n",
       "695469         6073              6037  9098075.0            (6, 073)   \n",
       "638859         6037              6073  9098075.0            (6, 037)   \n",
       "619983         6025              6073  4337119.0            (6, 025)   \n",
       "695463         6073              6025  4337119.0            (6, 073)   \n",
       "682885         6065              6037  4009696.0            (6, 065)   \n",
       "\n",
       "       destination_state_county              origin         destination  \\\n",
       "695469                 (6, 037)    San Diego County  Los Angeles County   \n",
       "638859                 (6, 073)  Los Angeles County    San Diego County   \n",
       "619983                 (6, 073)     Imperial County    San Diego County   \n",
       "695463                 (6, 025)    San Diego County     Imperial County   \n",
       "682885                 (6, 037)    Riverside County  Los Angeles County   \n",
       "\n",
       "        origin_state_code  destination_state_code  \n",
       "695469                  6                       6  \n",
       "638859                  6                       6  \n",
       "619983                  6                       6  \n",
       "695463                  6                       6  \n",
       "682885                  6                       6  "
      ]
     },
     "execution_count": 24,
     "metadata": {},
     "output_type": "execute_result"
    }
   ],
   "source": [
    "non_bus.head()"
   ]
  },
  {
   "cell_type": "code",
   "execution_count": 25,
   "id": "nonprofit-joshua",
   "metadata": {},
   "outputs": [
    {
     "data": {
      "text/html": [
       "<div>\n",
       "<style scoped>\n",
       "    .dataframe tbody tr th:only-of-type {\n",
       "        vertical-align: middle;\n",
       "    }\n",
       "\n",
       "    .dataframe tbody tr th {\n",
       "        vertical-align: top;\n",
       "    }\n",
       "\n",
       "    .dataframe thead th {\n",
       "        text-align: right;\n",
       "    }\n",
       "</style>\n",
       "<table border=\"1\" class=\"dataframe\">\n",
       "  <thead>\n",
       "    <tr style=\"text-align: right;\">\n",
       "      <th></th>\n",
       "      <th>origin_code</th>\n",
       "      <th>destination_code</th>\n",
       "      <th>n_trips</th>\n",
       "      <th>origin_state_county</th>\n",
       "      <th>destination_state_county</th>\n",
       "      <th>origin</th>\n",
       "      <th>destination</th>\n",
       "      <th>origin_state_code</th>\n",
       "      <th>destination_state_code</th>\n",
       "    </tr>\n",
       "  </thead>\n",
       "  <tbody>\n",
       "    <tr>\n",
       "      <th>3554518</th>\n",
       "      <td>22033</td>\n",
       "      <td>48321</td>\n",
       "      <td>1178.0</td>\n",
       "      <td>(22, 033)</td>\n",
       "      <td>(48, 321)</td>\n",
       "      <td>East Baton Rouge Parish</td>\n",
       "      <td>Matagorda County</td>\n",
       "      <td>22</td>\n",
       "      <td>48</td>\n",
       "    </tr>\n",
       "    <tr>\n",
       "      <th>5931392</th>\n",
       "      <td>36113</td>\n",
       "      <td>23011</td>\n",
       "      <td>1178.0</td>\n",
       "      <td>(36, 113)</td>\n",
       "      <td>(23, 011)</td>\n",
       "      <td>Warren County</td>\n",
       "      <td>Kennebec County</td>\n",
       "      <td>36</td>\n",
       "      <td>23</td>\n",
       "    </tr>\n",
       "    <tr>\n",
       "      <th>2454965</th>\n",
       "      <td>18167</td>\n",
       "      <td>21185</td>\n",
       "      <td>1178.0</td>\n",
       "      <td>(18, 167)</td>\n",
       "      <td>(21, 185)</td>\n",
       "      <td>Vigo County</td>\n",
       "      <td>Oldham County</td>\n",
       "      <td>18</td>\n",
       "      <td>21</td>\n",
       "    </tr>\n",
       "    <tr>\n",
       "      <th>2865027</th>\n",
       "      <td>20045</td>\n",
       "      <td>40071</td>\n",
       "      <td>1178.0</td>\n",
       "      <td>(20, 045)</td>\n",
       "      <td>(40, 071)</td>\n",
       "      <td>Douglas County</td>\n",
       "      <td>Kay County</td>\n",
       "      <td>20</td>\n",
       "      <td>40</td>\n",
       "    </tr>\n",
       "    <tr>\n",
       "      <th>1308080</th>\n",
       "      <td>13059</td>\n",
       "      <td>47123</td>\n",
       "      <td>1178.0</td>\n",
       "      <td>(13, 059)</td>\n",
       "      <td>(47, 123)</td>\n",
       "      <td>Clarke County</td>\n",
       "      <td>Monroe County</td>\n",
       "      <td>13</td>\n",
       "      <td>47</td>\n",
       "    </tr>\n",
       "  </tbody>\n",
       "</table>\n",
       "</div>"
      ],
      "text/plain": [
       "         origin_code  destination_code  n_trips origin_state_county  \\\n",
       "3554518        22033             48321   1178.0           (22, 033)   \n",
       "5931392        36113             23011   1178.0           (36, 113)   \n",
       "2454965        18167             21185   1178.0           (18, 167)   \n",
       "2865027        20045             40071   1178.0           (20, 045)   \n",
       "1308080        13059             47123   1178.0           (13, 059)   \n",
       "\n",
       "        destination_state_county                   origin       destination  \\\n",
       "3554518                (48, 321)  East Baton Rouge Parish  Matagorda County   \n",
       "5931392                (23, 011)            Warren County   Kennebec County   \n",
       "2454965                (21, 185)              Vigo County     Oldham County   \n",
       "2865027                (40, 071)           Douglas County        Kay County   \n",
       "1308080                (47, 123)            Clarke County     Monroe County   \n",
       "\n",
       "         origin_state_code  destination_state_code  \n",
       "3554518                 22                      48  \n",
       "5931392                 36                      23  \n",
       "2454965                 18                      21  \n",
       "2865027                 20                      40  \n",
       "1308080                 13                      47  "
      ]
     },
     "execution_count": 25,
     "metadata": {},
     "output_type": "execute_result"
    }
   ],
   "source": [
    "non_bus.tail()"
   ]
  },
  {
   "cell_type": "code",
   "execution_count": 26,
   "id": "fallen-expansion",
   "metadata": {},
   "outputs": [],
   "source": [
    "non_bus.to_csv('most_popular_trips.csv')"
   ]
  },
  {
   "cell_type": "code",
   "execution_count": null,
   "id": "apart-times",
   "metadata": {},
   "outputs": [],
   "source": [
    "\n",
    "non_bus['destination'].value_counts()['Sevier County']"
   ]
  },
  {
   "cell_type": "code",
   "execution_count": null,
   "id": "diagnostic-cornell",
   "metadata": {},
   "outputs": [],
   "source": [
    "non_bus['destination'].value_counts()['Jefferson County']"
   ]
  },
  {
   "cell_type": "code",
   "execution_count": null,
   "id": "virgin-receiver",
   "metadata": {},
   "outputs": [],
   "source": []
  },
  {
   "cell_type": "markdown",
   "id": "spiritual-master",
   "metadata": {},
   "source": [
    "## Appendix"
   ]
  },
  {
   "cell_type": "code",
   "execution_count": null,
   "id": "experienced-deposit",
   "metadata": {},
   "outputs": [],
   "source": [
    "# Alternative Method for Decoding\n",
    "# Instead of For Loop, Pandas .apply() can be used...\n",
    "# However, this method was shown to take longer than the For loop.\n",
    "%%time\n",
    "origin = non_bus['origin_state_county'].iloc[:10000].apply(convert_fips_city)"
   ]
  },
  {
   "cell_type": "code",
   "execution_count": null,
   "id": "upper-volunteer",
   "metadata": {},
   "outputs": [],
   "source": []
  },
  {
   "cell_type": "code",
   "execution_count": null,
   "id": "physical-lebanon",
   "metadata": {},
   "outputs": [],
   "source": []
  },
  {
   "cell_type": "code",
   "execution_count": null,
   "id": "returning-basketball",
   "metadata": {},
   "outputs": [],
   "source": []
  },
  {
   "cell_type": "code",
   "execution_count": null,
   "id": "commercial-statistics",
   "metadata": {},
   "outputs": [],
   "source": []
  },
  {
   "cell_type": "code",
   "execution_count": null,
   "id": "future-basic",
   "metadata": {},
   "outputs": [],
   "source": [
    "mask = (codes['State Code (FIPS)'] == 1) & (codes['County Code (FIPS)'] == 1)"
   ]
  },
  {
   "cell_type": "code",
   "execution_count": null,
   "id": "forty-alert",
   "metadata": {},
   "outputs": [],
   "source": [
    "int('001')"
   ]
  },
  {
   "cell_type": "code",
   "execution_count": null,
   "id": "supreme-dependence",
   "metadata": {},
   "outputs": [],
   "source": [
    "codes[mask]"
   ]
  },
  {
   "cell_type": "code",
   "execution_count": null,
   "id": "combined-providence",
   "metadata": {},
   "outputs": [],
   "source": [
    "non_bus.sort_values(by='n_trips', ascending=False)"
   ]
  },
  {
   "cell_type": "code",
   "execution_count": null,
   "id": "voluntary-trial",
   "metadata": {},
   "outputs": [],
   "source": [
    "# Find Most Popular Interstate Voyage\n",
    "# TODO\n",
    "county_code = [str(code)[-3:] for code in non_bus['origin']]\n",
    "state_code = [str(code)[:2] for code in non_bus['origin'] if len(str(code)) > 4]\n",
    "\n",
    "\n",
    "#non_bus.sort_values(by='n_trips', ascending=False).head(30)"
   ]
  },
  {
   "cell_type": "code",
   "execution_count": null,
   "id": "northern-tennessee",
   "metadata": {},
   "outputs": [],
   "source": [
    "for code in non_bus"
   ]
  },
  {
   "cell_type": "code",
   "execution_count": null,
   "id": "sudden-cooperation",
   "metadata": {},
   "outputs": [],
   "source": [
    "len(state_code) == len(non_bus)"
   ]
  },
  {
   "cell_type": "code",
   "execution_count": null,
   "id": "sweet-circulation",
   "metadata": {},
   "outputs": [],
   "source": [
    "# Fips Code\n",
    "# Origin FIPS (Note: The last 3 digits of the FIPS codes represent the county and the first 1 \n",
    "# or 2 digits represent the state (the leading 0 has been removed for state FIPS codes \n",
    "# between 01 and 09). As an example, FIPS Code 1001 represents Autauga County, Alabama."
   ]
  },
  {
   "cell_type": "code",
   "execution_count": null,
   "id": "alike-hayes",
   "metadata": {},
   "outputs": [],
   "source": [
    "mask = (codes['State Code (FIPS)'] == 6) & (codes['County Code (FIPS)'] == 37)\n",
    "codes[mask]"
   ]
  },
  {
   "cell_type": "code",
   "execution_count": null,
   "id": "dangerous-breed",
   "metadata": {},
   "outputs": [],
   "source": [
    "mask = (codes['State Code (FIPS)'] == 6) & (codes['County Code (FIPS)'] == 25)\n",
    "codes[mask]['Area Name (including legal/statistical area description)'].iloc[0]"
   ]
  },
  {
   "cell_type": "code",
   "execution_count": null,
   "id": "occupied-diagram",
   "metadata": {},
   "outputs": [],
   "source": [
    "def convert_fips_city(fips_code):\n",
    "    mask = (codes['State Code (FIPS)'] == 6) & (codes['County Code (FIPS)'] == 25)\n",
    "    return codes[mask]['Area Name (including legal/statistical area description)'].iloc[0]"
   ]
  },
  {
   "cell_type": "code",
   "execution_count": null,
   "id": "active-associate",
   "metadata": {},
   "outputs": [],
   "source": [
    "# The most common trip is between San Diego and LA :)"
   ]
  },
  {
   "cell_type": "code",
   "execution_count": null,
   "id": "opponent-harassment",
   "metadata": {},
   "outputs": [],
   "source": [
    "non_bus.head()"
   ]
  },
  {
   "cell_type": "code",
   "execution_count": null,
   "id": "rising-nevada",
   "metadata": {},
   "outputs": [],
   "source": [
    "non_bus['origin'].value_counts().nlargest(5)"
   ]
  },
  {
   "cell_type": "code",
   "execution_count": null,
   "id": "rough-privacy",
   "metadata": {},
   "outputs": [],
   "source": [
    "# Top Origins = Top Destinations\n",
    "all(non_bus['destination'].value_counts().nlargest(25)) == all(non_bus['origin'].value_counts().nlargest(25))"
   ]
  },
  {
   "cell_type": "code",
   "execution_count": null,
   "id": "lesser-willow",
   "metadata": {},
   "outputs": [],
   "source": [
    "non_bus['destination'].value_counts().nlargest(5).apply(convert_fips_city)"
   ]
  },
  {
   "cell_type": "code",
   "execution_count": null,
   "id": "desperate-domestic",
   "metadata": {},
   "outputs": [],
   "source": [
    "non_bus['destination'].value_counts()"
   ]
  },
  {
   "cell_type": "code",
   "execution_count": null,
   "id": "existing-campus",
   "metadata": {},
   "outputs": [],
   "source": [
    "non_bus.head()"
   ]
  },
  {
   "cell_type": "code",
   "execution_count": null,
   "id": "violent-variation",
   "metadata": {},
   "outputs": [],
   "source": [
    "non_bus.sort_values(by='n_trips', ascending=False).head(2)"
   ]
  },
  {
   "cell_type": "code",
   "execution_count": null,
   "id": "biblical-citizenship",
   "metadata": {},
   "outputs": [],
   "source": [
    "tx_code = codes[codes['Area Name (including legal/statistical area description)'] == 'Texas']['State Code (FIPS)'].iloc[0]"
   ]
  },
  {
   "cell_type": "code",
   "execution_count": null,
   "id": "given-allowance",
   "metadata": {},
   "outputs": [],
   "source": [
    "tx_code"
   ]
  },
  {
   "cell_type": "code",
   "execution_count": null,
   "id": "bizarre-parade",
   "metadata": {},
   "outputs": [],
   "source": [
    "# TX Mask\n",
    "tx_mask = [non_bus[non_bus['destination']]\n",
    "non_bus.sort_values(by='n_trips', ascending=False)"
   ]
  },
  {
   "cell_type": "code",
   "execution_count": null,
   "id": "hourly-provincial",
   "metadata": {},
   "outputs": [],
   "source": []
  }
 ],
 "metadata": {
  "kernelspec": {
   "display_name": "vrb-know",
   "language": "python",
   "name": "vrb-know"
  },
  "language_info": {
   "codemirror_mode": {
    "name": "ipython",
    "version": 3
   },
   "file_extension": ".py",
   "mimetype": "text/x-python",
   "name": "python",
   "nbconvert_exporter": "python",
   "pygments_lexer": "ipython3",
   "version": "3.8.1"
  }
 },
 "nbformat": 4,
 "nbformat_minor": 5
}
