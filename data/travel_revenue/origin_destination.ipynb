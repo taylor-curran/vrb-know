{
 "cells": [
  {
   "cell_type": "code",
   "execution_count": 3,
   "id": "serial-grounds",
   "metadata": {},
   "outputs": [],
   "source": [
    "import pandas as pd"
   ]
  },
  {
   "cell_type": "markdown",
   "id": "compact-stereo",
   "metadata": {},
   "source": [
    "### **TODO:** Check on Data Quality"
   ]
  },
  {
   "cell_type": "code",
   "execution_count": 4,
   "id": "coated-seeking",
   "metadata": {},
   "outputs": [
    {
     "name": "stdout",
     "output_type": "stream",
     "text": [
      "(9897316, 3)\n"
     ]
    },
    {
     "data": {
      "text/html": [
       "<div>\n",
       "<style scoped>\n",
       "    .dataframe tbody tr th:only-of-type {\n",
       "        vertical-align: middle;\n",
       "    }\n",
       "\n",
       "    .dataframe tbody tr th {\n",
       "        vertical-align: top;\n",
       "    }\n",
       "\n",
       "    .dataframe thead th {\n",
       "        text-align: right;\n",
       "    }\n",
       "</style>\n",
       "<table border=\"1\" class=\"dataframe\">\n",
       "  <thead>\n",
       "    <tr style=\"text-align: right;\">\n",
       "      <th></th>\n",
       "      <th>origin_code</th>\n",
       "      <th>destination_code</th>\n",
       "      <th>n_trips</th>\n",
       "    </tr>\n",
       "  </thead>\n",
       "  <tbody>\n",
       "    <tr>\n",
       "      <th>0</th>\n",
       "      <td>1001</td>\n",
       "      <td>1001</td>\n",
       "      <td>0.0</td>\n",
       "    </tr>\n",
       "    <tr>\n",
       "      <th>1</th>\n",
       "      <td>1001</td>\n",
       "      <td>1003</td>\n",
       "      <td>2622.0</td>\n",
       "    </tr>\n",
       "    <tr>\n",
       "      <th>2</th>\n",
       "      <td>1001</td>\n",
       "      <td>1005</td>\n",
       "      <td>1971.0</td>\n",
       "    </tr>\n",
       "    <tr>\n",
       "      <th>3</th>\n",
       "      <td>1001</td>\n",
       "      <td>1007</td>\n",
       "      <td>0.0</td>\n",
       "    </tr>\n",
       "    <tr>\n",
       "      <th>4</th>\n",
       "      <td>1001</td>\n",
       "      <td>1009</td>\n",
       "      <td>1219.0</td>\n",
       "    </tr>\n",
       "  </tbody>\n",
       "</table>\n",
       "</div>"
      ],
      "text/plain": [
       "   origin_code  destination_code  n_trips\n",
       "0         1001              1001      0.0\n",
       "1         1001              1003   2622.0\n",
       "2         1001              1005   1971.0\n",
       "3         1001              1007      0.0\n",
       "4         1001              1009   1219.0"
      ]
     },
     "execution_count": 4,
     "metadata": {},
     "output_type": "execute_result"
    }
   ],
   "source": [
    "# Data Source\n",
    "# https://www.fhwa.dot.gov/policyinformation/analysisframework/01.cfm\n",
    "\n",
    "non_bus = pd.read_csv('2008AutoNonbiz.csv',\n",
    "                      header=None,\n",
    "                      names=[\n",
    "                          'origin_code',\n",
    "                          'destination_code',\n",
    "                          'n_trips'\n",
    "                      ]\n",
    "                     )\n",
    "\n",
    "print(non_bus.shape)\n",
    "non_bus.head()"
   ]
  },
  {
   "cell_type": "code",
   "execution_count": 5,
   "id": "editorial-penny",
   "metadata": {},
   "outputs": [
    {
     "name": "stdout",
     "output_type": "stream",
     "text": [
      "(43847, 7)\n"
     ]
    },
    {
     "data": {
      "text/html": [
       "<div>\n",
       "<style scoped>\n",
       "    .dataframe tbody tr th:only-of-type {\n",
       "        vertical-align: middle;\n",
       "    }\n",
       "\n",
       "    .dataframe tbody tr th {\n",
       "        vertical-align: top;\n",
       "    }\n",
       "\n",
       "    .dataframe thead th {\n",
       "        text-align: right;\n",
       "    }\n",
       "</style>\n",
       "<table border=\"1\" class=\"dataframe\">\n",
       "  <thead>\n",
       "    <tr style=\"text-align: right;\">\n",
       "      <th></th>\n",
       "      <th>Summary Level</th>\n",
       "      <th>State Code (FIPS)</th>\n",
       "      <th>County Code (FIPS)</th>\n",
       "      <th>County Subdivision Code (FIPS)</th>\n",
       "      <th>Place Code (FIPS)</th>\n",
       "      <th>Consolidtated City Code (FIPS)</th>\n",
       "      <th>Area Name (including legal/statistical area description)</th>\n",
       "    </tr>\n",
       "  </thead>\n",
       "  <tbody>\n",
       "    <tr>\n",
       "      <th>0</th>\n",
       "      <td>10</td>\n",
       "      <td>0</td>\n",
       "      <td>0</td>\n",
       "      <td>0</td>\n",
       "      <td>0</td>\n",
       "      <td>0</td>\n",
       "      <td>United States</td>\n",
       "    </tr>\n",
       "    <tr>\n",
       "      <th>1</th>\n",
       "      <td>40</td>\n",
       "      <td>1</td>\n",
       "      <td>0</td>\n",
       "      <td>0</td>\n",
       "      <td>0</td>\n",
       "      <td>0</td>\n",
       "      <td>Alabama</td>\n",
       "    </tr>\n",
       "    <tr>\n",
       "      <th>2</th>\n",
       "      <td>50</td>\n",
       "      <td>1</td>\n",
       "      <td>1</td>\n",
       "      <td>0</td>\n",
       "      <td>0</td>\n",
       "      <td>0</td>\n",
       "      <td>Autauga County</td>\n",
       "    </tr>\n",
       "    <tr>\n",
       "      <th>3</th>\n",
       "      <td>50</td>\n",
       "      <td>1</td>\n",
       "      <td>3</td>\n",
       "      <td>0</td>\n",
       "      <td>0</td>\n",
       "      <td>0</td>\n",
       "      <td>Baldwin County</td>\n",
       "    </tr>\n",
       "    <tr>\n",
       "      <th>4</th>\n",
       "      <td>50</td>\n",
       "      <td>1</td>\n",
       "      <td>5</td>\n",
       "      <td>0</td>\n",
       "      <td>0</td>\n",
       "      <td>0</td>\n",
       "      <td>Barbour County</td>\n",
       "    </tr>\n",
       "  </tbody>\n",
       "</table>\n",
       "</div>"
      ],
      "text/plain": [
       "   Summary Level  State Code (FIPS)  County Code (FIPS)  \\\n",
       "0             10                  0                   0   \n",
       "1             40                  1                   0   \n",
       "2             50                  1                   1   \n",
       "3             50                  1                   3   \n",
       "4             50                  1                   5   \n",
       "\n",
       "   County Subdivision Code (FIPS)  Place Code (FIPS)  \\\n",
       "0                               0                  0   \n",
       "1                               0                  0   \n",
       "2                               0                  0   \n",
       "3                               0                  0   \n",
       "4                               0                  0   \n",
       "\n",
       "   Consolidtated City Code (FIPS)  \\\n",
       "0                               0   \n",
       "1                               0   \n",
       "2                               0   \n",
       "3                               0   \n",
       "4                               0   \n",
       "\n",
       "  Area Name (including legal/statistical area description)  \n",
       "0                                      United States        \n",
       "1                                            Alabama        \n",
       "2                                     Autauga County        \n",
       "3                                     Baldwin County        \n",
       "4                                     Barbour County        "
      ]
     },
     "execution_count": 5,
     "metadata": {},
     "output_type": "execute_result"
    }
   ],
   "source": [
    "# Data Source:\n",
    "# https://www.census.gov/geographies/reference-files/2018/demo/popest/2018-fips.html\n",
    "# TODO\n",
    "# Rename Columns\n",
    "codes = pd.read_csv('all-geocodes-v2018.csv',\n",
    "                    skiprows=4\n",
    "                  )\n",
    "print(codes.shape)\n",
    "codes.head()"
   ]
  },
  {
   "cell_type": "code",
   "execution_count": 6,
   "id": "younger-salmon",
   "metadata": {},
   "outputs": [],
   "source": [
    "# Add Labeled Cols\n",
    "\n",
    "origin_state_code = []\n",
    "for code in non_bus['origin_code']:\n",
    "    if len(str(code)) > 4:\n",
    "        origin_state_code.append(str(code)[:2])\n",
    "    elif len(str(code)) == 4:\n",
    "        origin_state_code.append(str(code)[0])\n",
    "\n",
    "destination_state_code = []\n",
    "for code in non_bus['destination_code']:\n",
    "    if len(str(code)) > 4:\n",
    "        destination_state_code.append(str(code)[:2])\n",
    "    elif len(str(code)) == 4:\n",
    "        destination_state_code.append(str(code)[0])\n",
    "        \n",
    "origin_county_code = [str(code)[-3:] for code in non_bus['origin_code']]\n",
    "destination_county_code = [str(code)[-3:] for code in non_bus['destination_code']]\n",
    "        \n",
    "# def convert_fips_city(state_code, county_code):\n",
    "#     mask = (codes['State Code (FIPS)'] == state_code) & (codes['County Code (FIPS)'] == county_code)\n",
    "#     return codes[mask]['Area Name (including legal/statistical area description)'].iloc[0]  "
   ]
  },
  {
   "cell_type": "code",
   "execution_count": 7,
   "id": "protecting-melbourne",
   "metadata": {},
   "outputs": [],
   "source": [
    "query_string = f\"{int(1)} == `State Code (FIPS)` & {int(1)} == `County Code (FIPS)`\""
   ]
  },
  {
   "cell_type": "code",
   "execution_count": 8,
   "id": "inclusive-azerbaijan",
   "metadata": {},
   "outputs": [
    {
     "data": {
      "text/plain": [
       "'Autauga County'"
      ]
     },
     "execution_count": 8,
     "metadata": {},
     "output_type": "execute_result"
    }
   ],
   "source": [
    "codes.query(query_string)['Area Name (including legal/statistical area description)'].iloc[0]"
   ]
  },
  {
   "cell_type": "code",
   "execution_count": 9,
   "id": "wired-vienna",
   "metadata": {},
   "outputs": [],
   "source": [
    "def convert_fips_city(state_code, county_code):\n",
    "    # mask = (codes['State Code (FIPS)'] == int(state_code)) & (codes['County Code (FIPS)'] == int(county_code))\n",
    "    query_string = f\"{int(state_code)} == `State Code (FIPS)` & {int(county_code)} == `County Code (FIPS)`\"\n",
    "    codes.query(query_string)\n",
    "    # return codes[mask]['Area Name (including legal/statistical area description)'].iloc[0]\n",
    "    return codes.query(query_string)['Area Name (including legal/statistical area description)'].iloc[0]"
   ]
  },
  {
   "cell_type": "code",
   "execution_count": null,
   "id": "separate-thing",
   "metadata": {},
   "outputs": [],
   "source": [
    "destination = []\n",
    "for state, county in zip(destination_state_code, destination_county_code):\n",
    "    destination.append(convert_fips_city(state, county))\n",
    "\n",
    "assert len(origin) == len(destination)"
   ]
  },
  {
   "cell_type": "code",
   "execution_count": 14,
   "id": "trying-yugoslavia",
   "metadata": {},
   "outputs": [
    {
     "name": "stdout",
     "output_type": "stream",
     "text": [
      "CPU times: user 17.7 s, sys: 34.8 ms, total: 17.7 s\n",
      "Wall time: 17.7 s\n"
     ]
    }
   ],
   "source": [
    "%%time\n",
    "origin = []\n",
    "for state, county in zip(origin_state_code[:5000], origin_county_code[:5000]):\n",
    "    try:\n",
    "        city_name = convert_fips_city(state, county)\n",
    "        origin.append(city_name)\n",
    "    \n",
    "    except:\n",
    "        origin.append(f'E: {origin_state_code}, {origin_county_code}')\n",
    "\n",
    "# Breaks at\n",
    "# Northwest Arctic Borough"
   ]
  },
  {
   "cell_type": "code",
   "execution_count": 13,
   "id": "median-performance",
   "metadata": {},
   "outputs": [
    {
     "data": {
      "text/plain": [
       "['Autauga County',\n",
       " 'Autauga County',\n",
       " 'Autauga County',\n",
       " 'Autauga County',\n",
       " 'Autauga County',\n",
       " 'Autauga County',\n",
       " 'Autauga County',\n",
       " 'Autauga County',\n",
       " 'Autauga County',\n",
       " 'Autauga County',\n",
       " 'Autauga County',\n",
       " 'Autauga County',\n",
       " 'Autauga County',\n",
       " 'Autauga County',\n",
       " 'Autauga County',\n",
       " 'Autauga County',\n",
       " 'Autauga County',\n",
       " 'Autauga County',\n",
       " 'Autauga County',\n",
       " 'Autauga County',\n",
       " 'Autauga County',\n",
       " 'Autauga County',\n",
       " 'Autauga County',\n",
       " 'Autauga County',\n",
       " 'Autauga County',\n",
       " 'Autauga County',\n",
       " 'Autauga County',\n",
       " 'Autauga County',\n",
       " 'Autauga County',\n",
       " 'Autauga County',\n",
       " 'Autauga County',\n",
       " 'Autauga County',\n",
       " 'Autauga County',\n",
       " 'Autauga County']"
      ]
     },
     "execution_count": 13,
     "metadata": {},
     "output_type": "execute_result"
    }
   ],
   "source": [
    "origin[15:49]"
   ]
  },
  {
   "cell_type": "code",
   "execution_count": null,
   "id": "returning-parliament",
   "metadata": {},
   "outputs": [],
   "source": [
    "mask = (codes['State Code (FIPS)'] == 1) & (codes['County Code (FIPS)'] == 1)"
   ]
  },
  {
   "cell_type": "code",
   "execution_count": null,
   "id": "atmospheric-watts",
   "metadata": {},
   "outputs": [],
   "source": [
    "int('001')"
   ]
  },
  {
   "cell_type": "code",
   "execution_count": null,
   "id": "limiting-behalf",
   "metadata": {},
   "outputs": [],
   "source": [
    "codes[mask]"
   ]
  },
  {
   "cell_type": "code",
   "execution_count": null,
   "id": "accepted-calcium",
   "metadata": {},
   "outputs": [],
   "source": [
    "non_bus.sort_values(by='n_trips', ascending=False)"
   ]
  },
  {
   "cell_type": "code",
   "execution_count": null,
   "id": "threaded-check",
   "metadata": {},
   "outputs": [],
   "source": [
    "# Find Most Popular Interstate Voyage\n",
    "# TODO\n",
    "county_code = [str(code)[-3:] for code in non_bus['origin']]\n",
    "state_code = [str(code)[:2] for code in non_bus['origin'] if len(str(code)) > 4]\n",
    "\n",
    "\n",
    "#non_bus.sort_values(by='n_trips', ascending=False).head(30)"
   ]
  },
  {
   "cell_type": "code",
   "execution_count": null,
   "id": "southern-plain",
   "metadata": {},
   "outputs": [],
   "source": [
    "for code in non_bus"
   ]
  },
  {
   "cell_type": "code",
   "execution_count": null,
   "id": "better-municipality",
   "metadata": {},
   "outputs": [],
   "source": [
    "len(state_code) == len(non_bus)"
   ]
  },
  {
   "cell_type": "code",
   "execution_count": null,
   "id": "hairy-tongue",
   "metadata": {},
   "outputs": [],
   "source": [
    "# Fips Code\n",
    "# Origin FIPS (Note: The last 3 digits of the FIPS codes represent the county and the first 1 \n",
    "# or 2 digits represent the state (the leading 0 has been removed for state FIPS codes \n",
    "# between 01 and 09). As an example, FIPS Code 1001 represents Autauga County, Alabama."
   ]
  },
  {
   "cell_type": "code",
   "execution_count": null,
   "id": "compatible-correspondence",
   "metadata": {},
   "outputs": [],
   "source": [
    "mask = (codes['State Code (FIPS)'] == 6) & (codes['County Code (FIPS)'] == 37)\n",
    "codes[mask]"
   ]
  },
  {
   "cell_type": "code",
   "execution_count": null,
   "id": "radio-making",
   "metadata": {},
   "outputs": [],
   "source": [
    "mask = (codes['State Code (FIPS)'] == 6) & (codes['County Code (FIPS)'] == 25)\n",
    "codes[mask]['Area Name (including legal/statistical area description)'].iloc[0]"
   ]
  },
  {
   "cell_type": "code",
   "execution_count": null,
   "id": "ahead-steel",
   "metadata": {},
   "outputs": [],
   "source": [
    "def convert_fips_city(fips_code):\n",
    "    mask = (codes['State Code (FIPS)'] == 6) & (codes['County Code (FIPS)'] == 25)\n",
    "    return codes[mask]['Area Name (including legal/statistical area description)'].iloc[0]"
   ]
  },
  {
   "cell_type": "code",
   "execution_count": null,
   "id": "received-efficiency",
   "metadata": {},
   "outputs": [],
   "source": [
    "# The most common trip is between San Diego and LA :)"
   ]
  },
  {
   "cell_type": "code",
   "execution_count": null,
   "id": "classical-posting",
   "metadata": {},
   "outputs": [],
   "source": [
    "non_bus.head()"
   ]
  },
  {
   "cell_type": "code",
   "execution_count": null,
   "id": "collected-river",
   "metadata": {},
   "outputs": [],
   "source": [
    "non_bus['origin'].value_counts().nlargest(5)"
   ]
  },
  {
   "cell_type": "code",
   "execution_count": null,
   "id": "conditional-jaguar",
   "metadata": {},
   "outputs": [],
   "source": [
    "# Top Origins = Top Destinations\n",
    "all(non_bus['destination'].value_counts().nlargest(25)) == all(non_bus['origin'].value_counts().nlargest(25))"
   ]
  },
  {
   "cell_type": "code",
   "execution_count": null,
   "id": "mature-determination",
   "metadata": {},
   "outputs": [],
   "source": [
    "non_bus['destination'].value_counts().nlargest(5).apply(convert_fips_city)"
   ]
  },
  {
   "cell_type": "code",
   "execution_count": null,
   "id": "funded-happening",
   "metadata": {},
   "outputs": [],
   "source": [
    "non_bus['destination'].value_counts()"
   ]
  },
  {
   "cell_type": "code",
   "execution_count": null,
   "id": "acute-sculpture",
   "metadata": {},
   "outputs": [],
   "source": [
    "non_bus.head()"
   ]
  },
  {
   "cell_type": "code",
   "execution_count": null,
   "id": "bulgarian-basin",
   "metadata": {},
   "outputs": [],
   "source": [
    "non_bus.sort_values(by='n_trips', ascending=False).head(2)"
   ]
  },
  {
   "cell_type": "code",
   "execution_count": null,
   "id": "affiliated-amateur",
   "metadata": {},
   "outputs": [],
   "source": [
    "tx_code = codes[codes['Area Name (including legal/statistical area description)'] == 'Texas']['State Code (FIPS)'].iloc[0]"
   ]
  },
  {
   "cell_type": "code",
   "execution_count": null,
   "id": "disciplinary-dinner",
   "metadata": {},
   "outputs": [],
   "source": [
    "tx_code"
   ]
  },
  {
   "cell_type": "code",
   "execution_count": null,
   "id": "collect-basics",
   "metadata": {},
   "outputs": [],
   "source": [
    "# TX Mask\n",
    "tx_mask = [non_bus[non_bus['destination']]\n",
    "non_bus.sort_values(by='n_trips', ascending=False)"
   ]
  },
  {
   "cell_type": "code",
   "execution_count": null,
   "id": "fourth-captain",
   "metadata": {},
   "outputs": [],
   "source": []
  }
 ],
 "metadata": {
  "kernelspec": {
   "display_name": "vrb-know",
   "language": "python",
   "name": "vrb-know"
  },
  "language_info": {
   "codemirror_mode": {
    "name": "ipython",
    "version": 3
   },
   "file_extension": ".py",
   "mimetype": "text/x-python",
   "name": "python",
   "nbconvert_exporter": "python",
   "pygments_lexer": "ipython3",
   "version": "3.8.1"
  }
 },
 "nbformat": 4,
 "nbformat_minor": 5
}
