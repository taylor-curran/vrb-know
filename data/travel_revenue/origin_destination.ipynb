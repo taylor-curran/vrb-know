{
 "cells": [
  {
   "cell_type": "code",
   "execution_count": 1,
   "id": "insured-pavilion",
   "metadata": {},
   "outputs": [],
   "source": [
    "import pandas as pd"
   ]
  },
  {
   "cell_type": "markdown",
   "id": "perfect-speaking",
   "metadata": {},
   "source": [
    "### **TODO:** Check on Data Quality"
   ]
  },
  {
   "cell_type": "code",
   "execution_count": 2,
   "id": "latest-reunion",
   "metadata": {},
   "outputs": [
    {
     "name": "stdout",
     "output_type": "stream",
     "text": [
      "(9897316, 3)\n"
     ]
    },
    {
     "data": {
      "text/html": [
       "<div>\n",
       "<style scoped>\n",
       "    .dataframe tbody tr th:only-of-type {\n",
       "        vertical-align: middle;\n",
       "    }\n",
       "\n",
       "    .dataframe tbody tr th {\n",
       "        vertical-align: top;\n",
       "    }\n",
       "\n",
       "    .dataframe thead th {\n",
       "        text-align: right;\n",
       "    }\n",
       "</style>\n",
       "<table border=\"1\" class=\"dataframe\">\n",
       "  <thead>\n",
       "    <tr style=\"text-align: right;\">\n",
       "      <th></th>\n",
       "      <th>origin_code</th>\n",
       "      <th>destination_code</th>\n",
       "      <th>n_trips</th>\n",
       "    </tr>\n",
       "  </thead>\n",
       "  <tbody>\n",
       "    <tr>\n",
       "      <th>0</th>\n",
       "      <td>1001</td>\n",
       "      <td>1001</td>\n",
       "      <td>0.0</td>\n",
       "    </tr>\n",
       "    <tr>\n",
       "      <th>1</th>\n",
       "      <td>1001</td>\n",
       "      <td>1003</td>\n",
       "      <td>2622.0</td>\n",
       "    </tr>\n",
       "    <tr>\n",
       "      <th>2</th>\n",
       "      <td>1001</td>\n",
       "      <td>1005</td>\n",
       "      <td>1971.0</td>\n",
       "    </tr>\n",
       "    <tr>\n",
       "      <th>3</th>\n",
       "      <td>1001</td>\n",
       "      <td>1007</td>\n",
       "      <td>0.0</td>\n",
       "    </tr>\n",
       "    <tr>\n",
       "      <th>4</th>\n",
       "      <td>1001</td>\n",
       "      <td>1009</td>\n",
       "      <td>1219.0</td>\n",
       "    </tr>\n",
       "  </tbody>\n",
       "</table>\n",
       "</div>"
      ],
      "text/plain": [
       "   origin_code  destination_code  n_trips\n",
       "0         1001              1001      0.0\n",
       "1         1001              1003   2622.0\n",
       "2         1001              1005   1971.0\n",
       "3         1001              1007      0.0\n",
       "4         1001              1009   1219.0"
      ]
     },
     "execution_count": 2,
     "metadata": {},
     "output_type": "execute_result"
    }
   ],
   "source": [
    "# Data Source\n",
    "# https://www.fhwa.dot.gov/policyinformation/analysisframework/01.cfm\n",
    "\n",
    "non_bus = pd.read_csv('2008AutoNonbiz.csv',\n",
    "                      header=None,\n",
    "                      names=[\n",
    "                          'origin_code',\n",
    "                          'destination_code',\n",
    "                          'n_trips'\n",
    "                      ]\n",
    "                     )\n",
    "\n",
    "print(non_bus.shape)\n",
    "non_bus.head()"
   ]
  },
  {
   "cell_type": "code",
   "execution_count": 3,
   "id": "upset-prime",
   "metadata": {},
   "outputs": [
    {
     "data": {
      "text/plain": [
       "0.6601878731567224"
      ]
     },
     "execution_count": 3,
     "metadata": {},
     "output_type": "execute_result"
    }
   ],
   "source": [
    "# 66% of Origin Destination Pairs have n_trips values of 0\n",
    "non_bus['n_trips'].value_counts()[0]/len(non_bus['n_trips'])"
   ]
  },
  {
   "cell_type": "code",
   "execution_count": 4,
   "id": "large-abraham",
   "metadata": {},
   "outputs": [
    {
     "data": {
      "text/plain": [
       "(2214298, 3)"
      ]
     },
     "execution_count": 4,
     "metadata": {},
     "output_type": "execute_result"
    }
   ],
   "source": [
    "# Shorten the DF by Removing all Pairs with Counts of 0 or 1\n",
    "non_bus = non_bus[non_bus['n_trips'] > 50]\n",
    "non_bus.shape"
   ]
  },
  {
   "cell_type": "code",
   "execution_count": 5,
   "id": "domestic-announcement",
   "metadata": {},
   "outputs": [
    {
     "data": {
      "text/plain": [
       "1.0"
      ]
     },
     "execution_count": 5,
     "metadata": {},
     "output_type": "execute_result"
    }
   ],
   "source": [
    "# DF is now 33% of Original Length\n",
    "non_bus.shape[0]/non_bus.shape[0]"
   ]
  },
  {
   "cell_type": "code",
   "execution_count": 6,
   "id": "charming-phoenix",
   "metadata": {},
   "outputs": [
    {
     "data": {
      "text/plain": [
       "count    2.214298e+06\n",
       "mean     9.355895e+02\n",
       "std      1.385785e+04\n",
       "min      5.100000e+01\n",
       "25%      9.100000e+01\n",
       "50%      1.760000e+02\n",
       "75%      4.590000e+02\n",
       "max      9.098075e+06\n",
       "Name: n_trips, dtype: float64"
      ]
     },
     "execution_count": 6,
     "metadata": {},
     "output_type": "execute_result"
    }
   ],
   "source": [
    "non_bus['n_trips'].describe()"
   ]
  },
  {
   "cell_type": "code",
   "execution_count": 7,
   "id": "sufficient-footwear",
   "metadata": {},
   "outputs": [],
   "source": [
    "# Non_Bus must be reduced further\n",
    "# According to my crude calculations... to keep the for loop under 15 min\n",
    "# we need to reduce the row count to 250,000"
   ]
  },
  {
   "cell_type": "code",
   "execution_count": 8,
   "id": "authentic-broad",
   "metadata": {},
   "outputs": [
    {
     "data": {
      "text/plain": [
       "(250000, 3)"
      ]
     },
     "execution_count": 8,
     "metadata": {},
     "output_type": "execute_result"
    }
   ],
   "source": [
    "# Reduce Non_Bus to 250000 Rows\n",
    "non_bus = non_bus.sort_values(by='n_trips', ascending=False).iloc[:250000]\n",
    "non_bus.shape"
   ]
  },
  {
   "cell_type": "code",
   "execution_count": 9,
   "id": "wicked-component",
   "metadata": {},
   "outputs": [
    {
     "name": "stdout",
     "output_type": "stream",
     "text": [
      "(43847, 7)\n"
     ]
    },
    {
     "data": {
      "text/html": [
       "<div>\n",
       "<style scoped>\n",
       "    .dataframe tbody tr th:only-of-type {\n",
       "        vertical-align: middle;\n",
       "    }\n",
       "\n",
       "    .dataframe tbody tr th {\n",
       "        vertical-align: top;\n",
       "    }\n",
       "\n",
       "    .dataframe thead th {\n",
       "        text-align: right;\n",
       "    }\n",
       "</style>\n",
       "<table border=\"1\" class=\"dataframe\">\n",
       "  <thead>\n",
       "    <tr style=\"text-align: right;\">\n",
       "      <th></th>\n",
       "      <th>Summary Level</th>\n",
       "      <th>State Code (FIPS)</th>\n",
       "      <th>County Code (FIPS)</th>\n",
       "      <th>County Subdivision Code (FIPS)</th>\n",
       "      <th>Place Code (FIPS)</th>\n",
       "      <th>Consolidtated City Code (FIPS)</th>\n",
       "      <th>Area Name (including legal/statistical area description)</th>\n",
       "    </tr>\n",
       "  </thead>\n",
       "  <tbody>\n",
       "    <tr>\n",
       "      <th>0</th>\n",
       "      <td>10</td>\n",
       "      <td>0</td>\n",
       "      <td>0</td>\n",
       "      <td>0</td>\n",
       "      <td>0</td>\n",
       "      <td>0</td>\n",
       "      <td>United States</td>\n",
       "    </tr>\n",
       "    <tr>\n",
       "      <th>1</th>\n",
       "      <td>40</td>\n",
       "      <td>1</td>\n",
       "      <td>0</td>\n",
       "      <td>0</td>\n",
       "      <td>0</td>\n",
       "      <td>0</td>\n",
       "      <td>Alabama</td>\n",
       "    </tr>\n",
       "    <tr>\n",
       "      <th>2</th>\n",
       "      <td>50</td>\n",
       "      <td>1</td>\n",
       "      <td>1</td>\n",
       "      <td>0</td>\n",
       "      <td>0</td>\n",
       "      <td>0</td>\n",
       "      <td>Autauga County</td>\n",
       "    </tr>\n",
       "    <tr>\n",
       "      <th>3</th>\n",
       "      <td>50</td>\n",
       "      <td>1</td>\n",
       "      <td>3</td>\n",
       "      <td>0</td>\n",
       "      <td>0</td>\n",
       "      <td>0</td>\n",
       "      <td>Baldwin County</td>\n",
       "    </tr>\n",
       "    <tr>\n",
       "      <th>4</th>\n",
       "      <td>50</td>\n",
       "      <td>1</td>\n",
       "      <td>5</td>\n",
       "      <td>0</td>\n",
       "      <td>0</td>\n",
       "      <td>0</td>\n",
       "      <td>Barbour County</td>\n",
       "    </tr>\n",
       "  </tbody>\n",
       "</table>\n",
       "</div>"
      ],
      "text/plain": [
       "   Summary Level  State Code (FIPS)  County Code (FIPS)  \\\n",
       "0             10                  0                   0   \n",
       "1             40                  1                   0   \n",
       "2             50                  1                   1   \n",
       "3             50                  1                   3   \n",
       "4             50                  1                   5   \n",
       "\n",
       "   County Subdivision Code (FIPS)  Place Code (FIPS)  \\\n",
       "0                               0                  0   \n",
       "1                               0                  0   \n",
       "2                               0                  0   \n",
       "3                               0                  0   \n",
       "4                               0                  0   \n",
       "\n",
       "   Consolidtated City Code (FIPS)  \\\n",
       "0                               0   \n",
       "1                               0   \n",
       "2                               0   \n",
       "3                               0   \n",
       "4                               0   \n",
       "\n",
       "  Area Name (including legal/statistical area description)  \n",
       "0                                      United States        \n",
       "1                                            Alabama        \n",
       "2                                     Autauga County        \n",
       "3                                     Baldwin County        \n",
       "4                                     Barbour County        "
      ]
     },
     "execution_count": 9,
     "metadata": {},
     "output_type": "execute_result"
    }
   ],
   "source": [
    "# Data Source:\n",
    "# https://www.census.gov/geographies/reference-files/2018/demo/popest/2018-fips.html\n",
    "# TODO\n",
    "# Rename Columns\n",
    "codes = pd.read_csv('all-geocodes-v2018.csv',\n",
    "                    skiprows=4\n",
    "                  )\n",
    "print(codes.shape)\n",
    "codes.head()"
   ]
  },
  {
   "cell_type": "code",
   "execution_count": 10,
   "id": "ranging-passion",
   "metadata": {},
   "outputs": [],
   "source": [
    "# Add Labeled Cols\n",
    "\n",
    "origin_state_code = []\n",
    "for code in non_bus['origin_code']:\n",
    "    if len(str(code)) > 4:\n",
    "        origin_state_code.append(str(code)[:2])\n",
    "    elif len(str(code)) == 4:\n",
    "        origin_state_code.append(str(code)[0])\n",
    "\n",
    "destination_state_code = []\n",
    "for code in non_bus['destination_code']:\n",
    "    if len(str(code)) > 4:\n",
    "        destination_state_code.append(str(code)[:2])\n",
    "    elif len(str(code)) == 4:\n",
    "        destination_state_code.append(str(code)[0])\n",
    "        \n",
    "origin_county_code = [str(code)[-3:] for code in non_bus['origin_code']]\n",
    "destination_county_code = [str(code)[-3:] for code in non_bus['destination_code']]\n",
    "\n",
    "assert len(origin_state_code) == len(destination_state_code) == len(origin_county_code) == len(destination_county_code)"
   ]
  },
  {
   "cell_type": "code",
   "execution_count": 12,
   "id": "moved-techno",
   "metadata": {},
   "outputs": [
    {
     "data": {
      "text/html": [
       "<div>\n",
       "<style scoped>\n",
       "    .dataframe tbody tr th:only-of-type {\n",
       "        vertical-align: middle;\n",
       "    }\n",
       "\n",
       "    .dataframe tbody tr th {\n",
       "        vertical-align: top;\n",
       "    }\n",
       "\n",
       "    .dataframe thead th {\n",
       "        text-align: right;\n",
       "    }\n",
       "</style>\n",
       "<table border=\"1\" class=\"dataframe\">\n",
       "  <thead>\n",
       "    <tr style=\"text-align: right;\">\n",
       "      <th></th>\n",
       "      <th>origin_code</th>\n",
       "      <th>destination_code</th>\n",
       "      <th>n_trips</th>\n",
       "      <th>origin_state_county</th>\n",
       "      <th>destination_state_county</th>\n",
       "    </tr>\n",
       "  </thead>\n",
       "  <tbody>\n",
       "    <tr>\n",
       "      <th>695469</th>\n",
       "      <td>6073</td>\n",
       "      <td>6037</td>\n",
       "      <td>9098075.0</td>\n",
       "      <td>(6, 073)</td>\n",
       "      <td>(6, 037)</td>\n",
       "    </tr>\n",
       "    <tr>\n",
       "      <th>638859</th>\n",
       "      <td>6037</td>\n",
       "      <td>6073</td>\n",
       "      <td>9098075.0</td>\n",
       "      <td>(6, 037)</td>\n",
       "      <td>(6, 073)</td>\n",
       "    </tr>\n",
       "  </tbody>\n",
       "</table>\n",
       "</div>"
      ],
      "text/plain": [
       "        origin_code  destination_code    n_trips origin_state_county  \\\n",
       "695469         6073              6037  9098075.0            (6, 073)   \n",
       "638859         6037              6073  9098075.0            (6, 037)   \n",
       "\n",
       "       destination_state_county  \n",
       "695469                 (6, 037)  \n",
       "638859                 (6, 073)  "
      ]
     },
     "execution_count": 12,
     "metadata": {},
     "output_type": "execute_result"
    }
   ],
   "source": [
    "# Insert new Columns\n",
    "\n",
    "origin_state_county = list(zip(origin_state_code, origin_county_code))\n",
    "destination_state_county = list(zip(destination_state_code, destination_county_code))\n",
    "non_bus.insert(3, 'origin_state_county', origin_state_county)\n",
    "non_bus.insert(4, 'destination_state_county', destination_state_county)\n",
    "non_bus.head(2)"
   ]
  },
  {
   "cell_type": "code",
   "execution_count": 13,
   "id": "turkish-triangle",
   "metadata": {},
   "outputs": [],
   "source": [
    "# Testing 1, 2, 3...\n",
    "# Test Query String works with Autauga County\n",
    "# Query Sting Using df.query() is an alternative to bracket filtering \n",
    "# that works more efficiently\n",
    "query_string = f\"{int(1)} == `State Code (FIPS)` & {int(1)} == `County Code (FIPS)`\""
   ]
  },
  {
   "cell_type": "code",
   "execution_count": 14,
   "id": "convenient-burke",
   "metadata": {},
   "outputs": [
    {
     "data": {
      "text/plain": [
       "'Autauga County'"
      ]
     },
     "execution_count": 14,
     "metadata": {},
     "output_type": "execute_result"
    }
   ],
   "source": [
    "# Testing 1, 2, 3...\n",
    "codes.query(query_string)['Area Name (including legal/statistical area description)'].iloc[0]"
   ]
  },
  {
   "cell_type": "code",
   "execution_count": 15,
   "id": "concrete-opera",
   "metadata": {},
   "outputs": [],
   "source": [
    "def convert_fips_city(state_county_tuple):\n",
    "    \"\"\"\n",
    "    Takes a tuple of state fips code, county fips code\n",
    "    And converts to Name String\n",
    "    \"\"\"\n",
    "    state_code = state_county_tuple[0]\n",
    "    county_code = state_county_tuple[1]\n",
    "    # mask = (codes['State Code (FIPS)'] == int(state_code)) & (codes['County Code (FIPS)'] == int(county_code))\n",
    "    query_string = f\"{int(state_code)} == `State Code (FIPS)` & {int(county_code)} == `County Code (FIPS)`\"\n",
    "    codes.query(query_string)\n",
    "    # return codes[mask]['Area Name (including legal/statistical area description)'].iloc[0]\n",
    "    return codes.query(query_string)['Area Name (including legal/statistical area description)'].iloc[0]"
   ]
  },
  {
   "cell_type": "markdown",
   "id": "greenhouse-server",
   "metadata": {},
   "source": [
    "### Which Method is More Efficent for Converting Codes to Name?"
   ]
  },
  {
   "cell_type": "code",
   "execution_count": 23,
   "id": "finished-ridge",
   "metadata": {},
   "outputs": [
    {
     "name": "stdout",
     "output_type": "stream",
     "text": [
      "CPU times: user 33.8 s, sys: 60 ms, total: 33.9 s\n",
      "Wall time: 33.9 s\n"
     ]
    }
   ],
   "source": [
    "%%time\n",
    "origin = non_bus['origin_state_county'].iloc[:10000].apply(convert_fips_city)"
   ]
  },
  {
   "cell_type": "code",
   "execution_count": 24,
   "id": "lined-spelling",
   "metadata": {},
   "outputs": [
    {
     "name": "stdout",
     "output_type": "stream",
     "text": [
      "10000\n"
     ]
    },
    {
     "data": {
      "text/plain": [
       "1    Autauga County\n",
       "2    Autauga County\n",
       "4    Autauga County\n",
       "7    Autauga County\n",
       "8    Autauga County\n",
       "Name: origin_state_county, dtype: object"
      ]
     },
     "execution_count": 24,
     "metadata": {},
     "output_type": "execute_result"
    }
   ],
   "source": [
    "print(len(origin))\n",
    "origin[0:5]"
   ]
  },
  {
   "cell_type": "code",
   "execution_count": 16,
   "id": "departmental-delight",
   "metadata": {},
   "outputs": [
    {
     "name": "stdout",
     "output_type": "stream",
     "text": [
      "CPU times: user 13min 12s, sys: 826 ms, total: 13min 13s\n",
      "Wall time: 13min 13s\n"
     ]
    }
   ],
   "source": [
    "%%time\n",
    "# Looks like the For Loop is Slightly More Time Efficient than .Apply()\n",
    "origin = []\n",
    "for i in range(non_bus.shape[0]):\n",
    "    try:\n",
    "        tup = tuple([origin_state_code[i], origin_county_code[i]])\n",
    "        city_name = convert_fips_city(tup)\n",
    "        origin.append(city_name)\n",
    "    \n",
    "    except:\n",
    "        origin.append(f'E: {origin_state_code[i]}, {origin_county_code[i]}')"
   ]
  },
  {
   "cell_type": "code",
   "execution_count": 17,
   "id": "soviet-problem",
   "metadata": {},
   "outputs": [
    {
     "name": "stdout",
     "output_type": "stream",
     "text": [
      "250000\n"
     ]
    },
    {
     "data": {
      "text/plain": [
       "['San Diego County',\n",
       " 'Los Angeles County',\n",
       " 'Imperial County',\n",
       " 'San Diego County',\n",
       " 'Riverside County']"
      ]
     },
     "execution_count": 17,
     "metadata": {},
     "output_type": "execute_result"
    }
   ],
   "source": [
    "print(len(origin))\n",
    "origin[0:5]"
   ]
  },
  {
   "cell_type": "code",
   "execution_count": 19,
   "id": "legal-border",
   "metadata": {},
   "outputs": [
    {
     "ename": "ValueError",
     "evalue": "cannot insert origin, already exists",
     "output_type": "error",
     "traceback": [
      "\u001b[0;31m---------------------------------------------------------------------------\u001b[0m",
      "\u001b[0;31mValueError\u001b[0m                                Traceback (most recent call last)",
      "\u001b[0;32m<ipython-input-19-85963f06dd00>\u001b[0m in \u001b[0;36m<module>\u001b[0;34m\u001b[0m\n\u001b[1;32m      1\u001b[0m \u001b[0;31m# Insert Origin Name Row\u001b[0m\u001b[0;34m\u001b[0m\u001b[0;34m\u001b[0m\u001b[0;34m\u001b[0m\u001b[0m\n\u001b[0;32m----> 2\u001b[0;31m \u001b[0mnon_bus\u001b[0m\u001b[0;34m.\u001b[0m\u001b[0minsert\u001b[0m\u001b[0;34m(\u001b[0m\u001b[0;36m5\u001b[0m\u001b[0;34m,\u001b[0m \u001b[0;34m'origin'\u001b[0m\u001b[0;34m,\u001b[0m \u001b[0morigin\u001b[0m\u001b[0;34m)\u001b[0m\u001b[0;34m\u001b[0m\u001b[0;34m\u001b[0m\u001b[0m\n\u001b[0m",
      "\u001b[0;32m~/prj/2021/vrb-know/venv/lib/python3.8/site-packages/pandas/core/frame.py\u001b[0m in \u001b[0;36minsert\u001b[0;34m(self, loc, column, value, allow_duplicates)\u001b[0m\n\u001b[1;32m   3758\u001b[0m         \u001b[0mself\u001b[0m\u001b[0;34m.\u001b[0m\u001b[0m_ensure_valid_index\u001b[0m\u001b[0;34m(\u001b[0m\u001b[0mvalue\u001b[0m\u001b[0;34m)\u001b[0m\u001b[0;34m\u001b[0m\u001b[0;34m\u001b[0m\u001b[0m\n\u001b[1;32m   3759\u001b[0m         \u001b[0mvalue\u001b[0m \u001b[0;34m=\u001b[0m \u001b[0mself\u001b[0m\u001b[0;34m.\u001b[0m\u001b[0m_sanitize_column\u001b[0m\u001b[0;34m(\u001b[0m\u001b[0mcolumn\u001b[0m\u001b[0;34m,\u001b[0m \u001b[0mvalue\u001b[0m\u001b[0;34m,\u001b[0m \u001b[0mbroadcast\u001b[0m\u001b[0;34m=\u001b[0m\u001b[0;32mFalse\u001b[0m\u001b[0;34m)\u001b[0m\u001b[0;34m\u001b[0m\u001b[0;34m\u001b[0m\u001b[0m\n\u001b[0;32m-> 3760\u001b[0;31m         \u001b[0mself\u001b[0m\u001b[0;34m.\u001b[0m\u001b[0m_mgr\u001b[0m\u001b[0;34m.\u001b[0m\u001b[0minsert\u001b[0m\u001b[0;34m(\u001b[0m\u001b[0mloc\u001b[0m\u001b[0;34m,\u001b[0m \u001b[0mcolumn\u001b[0m\u001b[0;34m,\u001b[0m \u001b[0mvalue\u001b[0m\u001b[0;34m,\u001b[0m \u001b[0mallow_duplicates\u001b[0m\u001b[0;34m=\u001b[0m\u001b[0mallow_duplicates\u001b[0m\u001b[0;34m)\u001b[0m\u001b[0;34m\u001b[0m\u001b[0;34m\u001b[0m\u001b[0m\n\u001b[0m\u001b[1;32m   3761\u001b[0m \u001b[0;34m\u001b[0m\u001b[0m\n\u001b[1;32m   3762\u001b[0m     \u001b[0;32mdef\u001b[0m \u001b[0massign\u001b[0m\u001b[0;34m(\u001b[0m\u001b[0mself\u001b[0m\u001b[0;34m,\u001b[0m \u001b[0;34m**\u001b[0m\u001b[0mkwargs\u001b[0m\u001b[0;34m)\u001b[0m \u001b[0;34m->\u001b[0m \u001b[0mDataFrame\u001b[0m\u001b[0;34m:\u001b[0m\u001b[0;34m\u001b[0m\u001b[0;34m\u001b[0m\u001b[0m\n",
      "\u001b[0;32m~/prj/2021/vrb-know/venv/lib/python3.8/site-packages/pandas/core/internals/managers.py\u001b[0m in \u001b[0;36minsert\u001b[0;34m(self, loc, item, value, allow_duplicates)\u001b[0m\n\u001b[1;32m   1189\u001b[0m         \u001b[0;32mif\u001b[0m \u001b[0;32mnot\u001b[0m \u001b[0mallow_duplicates\u001b[0m \u001b[0;32mand\u001b[0m \u001b[0mitem\u001b[0m \u001b[0;32min\u001b[0m \u001b[0mself\u001b[0m\u001b[0;34m.\u001b[0m\u001b[0mitems\u001b[0m\u001b[0;34m:\u001b[0m\u001b[0;34m\u001b[0m\u001b[0;34m\u001b[0m\u001b[0m\n\u001b[1;32m   1190\u001b[0m             \u001b[0;31m# Should this be a different kind of error??\u001b[0m\u001b[0;34m\u001b[0m\u001b[0;34m\u001b[0m\u001b[0;34m\u001b[0m\u001b[0m\n\u001b[0;32m-> 1191\u001b[0;31m             \u001b[0;32mraise\u001b[0m \u001b[0mValueError\u001b[0m\u001b[0;34m(\u001b[0m\u001b[0;34mf\"cannot insert {item}, already exists\"\u001b[0m\u001b[0;34m)\u001b[0m\u001b[0;34m\u001b[0m\u001b[0;34m\u001b[0m\u001b[0m\n\u001b[0m\u001b[1;32m   1192\u001b[0m \u001b[0;34m\u001b[0m\u001b[0m\n\u001b[1;32m   1193\u001b[0m         \u001b[0;32mif\u001b[0m \u001b[0;32mnot\u001b[0m \u001b[0misinstance\u001b[0m\u001b[0;34m(\u001b[0m\u001b[0mloc\u001b[0m\u001b[0;34m,\u001b[0m \u001b[0mint\u001b[0m\u001b[0;34m)\u001b[0m\u001b[0;34m:\u001b[0m\u001b[0;34m\u001b[0m\u001b[0;34m\u001b[0m\u001b[0m\n",
      "\u001b[0;31mValueError\u001b[0m: cannot insert origin, already exists"
     ]
    }
   ],
   "source": [
    "# Insert Origin Name Row\n",
    "non_bus.insert(5, 'origin', origin)"
   ]
  },
  {
   "cell_type": "code",
   "execution_count": null,
   "id": "dynamic-seller",
   "metadata": {},
   "outputs": [],
   "source": [
    "# TODO: Check on N Errors in Origin"
   ]
  },
  {
   "cell_type": "code",
   "execution_count": null,
   "id": "modular-alaska",
   "metadata": {},
   "outputs": [],
   "source": []
  },
  {
   "cell_type": "code",
   "execution_count": 20,
   "id": "japanese-leonard",
   "metadata": {},
   "outputs": [
    {
     "name": "stdout",
     "output_type": "stream",
     "text": [
      "CPU times: user 14min 52s, sys: 1.36 s, total: 14min 53s\n",
      "Wall time: 35min 27s\n"
     ]
    }
   ],
   "source": [
    "%%time\n",
    "# Looks like the For Loop is Slightly More Time Efficient than .Apply()\n",
    "destination = []\n",
    "for i in range(non_bus.shape[0]):\n",
    "    try:\n",
    "        tup = tuple([destination_state_code[i], destination_county_code[i]])\n",
    "        city_name = convert_fips_city(tup)\n",
    "        destination.append(city_name)\n",
    "    \n",
    "    except:\n",
    "        destination.append(f'E: {destination_state_code[i]}, {destination_county_code[i]}')"
   ]
  },
  {
   "cell_type": "code",
   "execution_count": 21,
   "id": "hollow-secondary",
   "metadata": {},
   "outputs": [],
   "source": [
    "non_bus.insert(6, 'destination', destination)"
   ]
  },
  {
   "cell_type": "code",
   "execution_count": 22,
   "id": "entertaining-witch",
   "metadata": {},
   "outputs": [
    {
     "data": {
      "text/html": [
       "<div>\n",
       "<style scoped>\n",
       "    .dataframe tbody tr th:only-of-type {\n",
       "        vertical-align: middle;\n",
       "    }\n",
       "\n",
       "    .dataframe tbody tr th {\n",
       "        vertical-align: top;\n",
       "    }\n",
       "\n",
       "    .dataframe thead th {\n",
       "        text-align: right;\n",
       "    }\n",
       "</style>\n",
       "<table border=\"1\" class=\"dataframe\">\n",
       "  <thead>\n",
       "    <tr style=\"text-align: right;\">\n",
       "      <th></th>\n",
       "      <th>origin_code</th>\n",
       "      <th>destination_code</th>\n",
       "      <th>n_trips</th>\n",
       "      <th>origin_state_county</th>\n",
       "      <th>destination_state_county</th>\n",
       "      <th>origin</th>\n",
       "      <th>destination</th>\n",
       "    </tr>\n",
       "  </thead>\n",
       "  <tbody>\n",
       "    <tr>\n",
       "      <th>695469</th>\n",
       "      <td>6073</td>\n",
       "      <td>6037</td>\n",
       "      <td>9098075.0</td>\n",
       "      <td>(6, 073)</td>\n",
       "      <td>(6, 037)</td>\n",
       "      <td>San Diego County</td>\n",
       "      <td>Los Angeles County</td>\n",
       "    </tr>\n",
       "    <tr>\n",
       "      <th>638859</th>\n",
       "      <td>6037</td>\n",
       "      <td>6073</td>\n",
       "      <td>9098075.0</td>\n",
       "      <td>(6, 037)</td>\n",
       "      <td>(6, 073)</td>\n",
       "      <td>Los Angeles County</td>\n",
       "      <td>San Diego County</td>\n",
       "    </tr>\n",
       "    <tr>\n",
       "      <th>619983</th>\n",
       "      <td>6025</td>\n",
       "      <td>6073</td>\n",
       "      <td>4337119.0</td>\n",
       "      <td>(6, 025)</td>\n",
       "      <td>(6, 073)</td>\n",
       "      <td>Imperial County</td>\n",
       "      <td>San Diego County</td>\n",
       "    </tr>\n",
       "    <tr>\n",
       "      <th>695463</th>\n",
       "      <td>6073</td>\n",
       "      <td>6025</td>\n",
       "      <td>4337119.0</td>\n",
       "      <td>(6, 073)</td>\n",
       "      <td>(6, 025)</td>\n",
       "      <td>San Diego County</td>\n",
       "      <td>Imperial County</td>\n",
       "    </tr>\n",
       "    <tr>\n",
       "      <th>682885</th>\n",
       "      <td>6065</td>\n",
       "      <td>6037</td>\n",
       "      <td>4009696.0</td>\n",
       "      <td>(6, 065)</td>\n",
       "      <td>(6, 037)</td>\n",
       "      <td>Riverside County</td>\n",
       "      <td>Los Angeles County</td>\n",
       "    </tr>\n",
       "  </tbody>\n",
       "</table>\n",
       "</div>"
      ],
      "text/plain": [
       "        origin_code  destination_code    n_trips origin_state_county  \\\n",
       "695469         6073              6037  9098075.0            (6, 073)   \n",
       "638859         6037              6073  9098075.0            (6, 037)   \n",
       "619983         6025              6073  4337119.0            (6, 025)   \n",
       "695463         6073              6025  4337119.0            (6, 073)   \n",
       "682885         6065              6037  4009696.0            (6, 065)   \n",
       "\n",
       "       destination_state_county              origin         destination  \n",
       "695469                 (6, 037)    San Diego County  Los Angeles County  \n",
       "638859                 (6, 073)  Los Angeles County    San Diego County  \n",
       "619983                 (6, 073)     Imperial County    San Diego County  \n",
       "695463                 (6, 025)    San Diego County     Imperial County  \n",
       "682885                 (6, 037)    Riverside County  Los Angeles County  "
      ]
     },
     "execution_count": 22,
     "metadata": {},
     "output_type": "execute_result"
    }
   ],
   "source": [
    "non_bus.head()"
   ]
  },
  {
   "cell_type": "code",
   "execution_count": 23,
   "id": "weighted-pixel",
   "metadata": {},
   "outputs": [],
   "source": [
    "non_bus.to_csv('most_popular_trips.csv')"
   ]
  },
  {
   "cell_type": "code",
   "execution_count": 24,
   "id": "false-period",
   "metadata": {},
   "outputs": [
    {
     "data": {
      "text/html": [
       "<div>\n",
       "<style scoped>\n",
       "    .dataframe tbody tr th:only-of-type {\n",
       "        vertical-align: middle;\n",
       "    }\n",
       "\n",
       "    .dataframe tbody tr th {\n",
       "        vertical-align: top;\n",
       "    }\n",
       "\n",
       "    .dataframe thead th {\n",
       "        text-align: right;\n",
       "    }\n",
       "</style>\n",
       "<table border=\"1\" class=\"dataframe\">\n",
       "  <thead>\n",
       "    <tr style=\"text-align: right;\">\n",
       "      <th></th>\n",
       "      <th>origin_code</th>\n",
       "      <th>destination_code</th>\n",
       "      <th>n_trips</th>\n",
       "      <th>origin_state_county</th>\n",
       "      <th>destination_state_county</th>\n",
       "      <th>origin</th>\n",
       "      <th>destination</th>\n",
       "    </tr>\n",
       "  </thead>\n",
       "  <tbody>\n",
       "    <tr>\n",
       "      <th>3554518</th>\n",
       "      <td>22033</td>\n",
       "      <td>48321</td>\n",
       "      <td>1178.0</td>\n",
       "      <td>(22, 033)</td>\n",
       "      <td>(48, 321)</td>\n",
       "      <td>East Baton Rouge Parish</td>\n",
       "      <td>Matagorda County</td>\n",
       "    </tr>\n",
       "    <tr>\n",
       "      <th>5931392</th>\n",
       "      <td>36113</td>\n",
       "      <td>23011</td>\n",
       "      <td>1178.0</td>\n",
       "      <td>(36, 113)</td>\n",
       "      <td>(23, 011)</td>\n",
       "      <td>Warren County</td>\n",
       "      <td>Kennebec County</td>\n",
       "    </tr>\n",
       "    <tr>\n",
       "      <th>2454965</th>\n",
       "      <td>18167</td>\n",
       "      <td>21185</td>\n",
       "      <td>1178.0</td>\n",
       "      <td>(18, 167)</td>\n",
       "      <td>(21, 185)</td>\n",
       "      <td>Vigo County</td>\n",
       "      <td>Oldham County</td>\n",
       "    </tr>\n",
       "    <tr>\n",
       "      <th>2865027</th>\n",
       "      <td>20045</td>\n",
       "      <td>40071</td>\n",
       "      <td>1178.0</td>\n",
       "      <td>(20, 045)</td>\n",
       "      <td>(40, 071)</td>\n",
       "      <td>Douglas County</td>\n",
       "      <td>Kay County</td>\n",
       "    </tr>\n",
       "    <tr>\n",
       "      <th>1308080</th>\n",
       "      <td>13059</td>\n",
       "      <td>47123</td>\n",
       "      <td>1178.0</td>\n",
       "      <td>(13, 059)</td>\n",
       "      <td>(47, 123)</td>\n",
       "      <td>Clarke County</td>\n",
       "      <td>Monroe County</td>\n",
       "    </tr>\n",
       "  </tbody>\n",
       "</table>\n",
       "</div>"
      ],
      "text/plain": [
       "         origin_code  destination_code  n_trips origin_state_county  \\\n",
       "3554518        22033             48321   1178.0           (22, 033)   \n",
       "5931392        36113             23011   1178.0           (36, 113)   \n",
       "2454965        18167             21185   1178.0           (18, 167)   \n",
       "2865027        20045             40071   1178.0           (20, 045)   \n",
       "1308080        13059             47123   1178.0           (13, 059)   \n",
       "\n",
       "        destination_state_county                   origin       destination  \n",
       "3554518                (48, 321)  East Baton Rouge Parish  Matagorda County  \n",
       "5931392                (23, 011)            Warren County   Kennebec County  \n",
       "2454965                (21, 185)              Vigo County     Oldham County  \n",
       "2865027                (40, 071)           Douglas County        Kay County  \n",
       "1308080                (47, 123)            Clarke County     Monroe County  "
      ]
     },
     "execution_count": 24,
     "metadata": {},
     "output_type": "execute_result"
    }
   ],
   "source": [
    "non_bus.tail()"
   ]
  },
  {
   "cell_type": "code",
   "execution_count": 28,
   "id": "tracked-disco",
   "metadata": {},
   "outputs": [
    {
     "data": {
      "text/plain": [
       "175"
      ]
     },
     "execution_count": 28,
     "metadata": {},
     "output_type": "execute_result"
    }
   ],
   "source": [
    "\n",
    "non_bus['destination'].value_counts()['Sevier County']"
   ]
  },
  {
   "cell_type": "code",
   "execution_count": 29,
   "id": "cardiac-parliament",
   "metadata": {},
   "outputs": [
    {
     "data": {
      "text/plain": [
       "2963"
      ]
     },
     "execution_count": 29,
     "metadata": {},
     "output_type": "execute_result"
    }
   ],
   "source": [
    "non_bus['destination'].value_counts()['Jefferson County']"
   ]
  },
  {
   "cell_type": "code",
   "execution_count": null,
   "id": "spread-cartoon",
   "metadata": {},
   "outputs": [],
   "source": []
  },
  {
   "cell_type": "code",
   "execution_count": null,
   "id": "naughty-newcastle",
   "metadata": {},
   "outputs": [],
   "source": []
  },
  {
   "cell_type": "code",
   "execution_count": null,
   "id": "cordless-format",
   "metadata": {},
   "outputs": [],
   "source": []
  },
  {
   "cell_type": "code",
   "execution_count": null,
   "id": "amateur-ethernet",
   "metadata": {},
   "outputs": [],
   "source": []
  },
  {
   "cell_type": "code",
   "execution_count": null,
   "id": "varied-majority",
   "metadata": {},
   "outputs": [],
   "source": []
  },
  {
   "cell_type": "code",
   "execution_count": null,
   "id": "soviet-accountability",
   "metadata": {},
   "outputs": [],
   "source": []
  },
  {
   "cell_type": "code",
   "execution_count": null,
   "id": "tamil-vacuum",
   "metadata": {},
   "outputs": [],
   "source": []
  },
  {
   "cell_type": "code",
   "execution_count": null,
   "id": "adjustable-support",
   "metadata": {},
   "outputs": [],
   "source": [
    "mask = (codes['State Code (FIPS)'] == 1) & (codes['County Code (FIPS)'] == 1)"
   ]
  },
  {
   "cell_type": "code",
   "execution_count": null,
   "id": "north-airline",
   "metadata": {},
   "outputs": [],
   "source": [
    "int('001')"
   ]
  },
  {
   "cell_type": "code",
   "execution_count": null,
   "id": "partial-patrol",
   "metadata": {},
   "outputs": [],
   "source": [
    "codes[mask]"
   ]
  },
  {
   "cell_type": "code",
   "execution_count": null,
   "id": "mysterious-mozambique",
   "metadata": {},
   "outputs": [],
   "source": [
    "non_bus.sort_values(by='n_trips', ascending=False)"
   ]
  },
  {
   "cell_type": "code",
   "execution_count": null,
   "id": "novel-communication",
   "metadata": {},
   "outputs": [],
   "source": [
    "# Find Most Popular Interstate Voyage\n",
    "# TODO\n",
    "county_code = [str(code)[-3:] for code in non_bus['origin']]\n",
    "state_code = [str(code)[:2] for code in non_bus['origin'] if len(str(code)) > 4]\n",
    "\n",
    "\n",
    "#non_bus.sort_values(by='n_trips', ascending=False).head(30)"
   ]
  },
  {
   "cell_type": "code",
   "execution_count": null,
   "id": "static-replica",
   "metadata": {},
   "outputs": [],
   "source": [
    "for code in non_bus"
   ]
  },
  {
   "cell_type": "code",
   "execution_count": null,
   "id": "alpha-mortgage",
   "metadata": {},
   "outputs": [],
   "source": [
    "len(state_code) == len(non_bus)"
   ]
  },
  {
   "cell_type": "code",
   "execution_count": null,
   "id": "annoying-excellence",
   "metadata": {},
   "outputs": [],
   "source": [
    "# Fips Code\n",
    "# Origin FIPS (Note: The last 3 digits of the FIPS codes represent the county and the first 1 \n",
    "# or 2 digits represent the state (the leading 0 has been removed for state FIPS codes \n",
    "# between 01 and 09). As an example, FIPS Code 1001 represents Autauga County, Alabama."
   ]
  },
  {
   "cell_type": "code",
   "execution_count": null,
   "id": "ecological-syntax",
   "metadata": {},
   "outputs": [],
   "source": [
    "mask = (codes['State Code (FIPS)'] == 6) & (codes['County Code (FIPS)'] == 37)\n",
    "codes[mask]"
   ]
  },
  {
   "cell_type": "code",
   "execution_count": null,
   "id": "protective-handle",
   "metadata": {},
   "outputs": [],
   "source": [
    "mask = (codes['State Code (FIPS)'] == 6) & (codes['County Code (FIPS)'] == 25)\n",
    "codes[mask]['Area Name (including legal/statistical area description)'].iloc[0]"
   ]
  },
  {
   "cell_type": "code",
   "execution_count": null,
   "id": "presidential-massachusetts",
   "metadata": {},
   "outputs": [],
   "source": [
    "def convert_fips_city(fips_code):\n",
    "    mask = (codes['State Code (FIPS)'] == 6) & (codes['County Code (FIPS)'] == 25)\n",
    "    return codes[mask]['Area Name (including legal/statistical area description)'].iloc[0]"
   ]
  },
  {
   "cell_type": "code",
   "execution_count": null,
   "id": "radio-significance",
   "metadata": {},
   "outputs": [],
   "source": [
    "# The most common trip is between San Diego and LA :)"
   ]
  },
  {
   "cell_type": "code",
   "execution_count": null,
   "id": "single-speed",
   "metadata": {},
   "outputs": [],
   "source": [
    "non_bus.head()"
   ]
  },
  {
   "cell_type": "code",
   "execution_count": null,
   "id": "finite-lindsay",
   "metadata": {},
   "outputs": [],
   "source": [
    "non_bus['origin'].value_counts().nlargest(5)"
   ]
  },
  {
   "cell_type": "code",
   "execution_count": null,
   "id": "juvenile-establishment",
   "metadata": {},
   "outputs": [],
   "source": [
    "# Top Origins = Top Destinations\n",
    "all(non_bus['destination'].value_counts().nlargest(25)) == all(non_bus['origin'].value_counts().nlargest(25))"
   ]
  },
  {
   "cell_type": "code",
   "execution_count": null,
   "id": "formal-benjamin",
   "metadata": {},
   "outputs": [],
   "source": [
    "non_bus['destination'].value_counts().nlargest(5).apply(convert_fips_city)"
   ]
  },
  {
   "cell_type": "code",
   "execution_count": null,
   "id": "instructional-tooth",
   "metadata": {},
   "outputs": [],
   "source": [
    "non_bus['destination'].value_counts()"
   ]
  },
  {
   "cell_type": "code",
   "execution_count": null,
   "id": "entire-tonight",
   "metadata": {},
   "outputs": [],
   "source": [
    "non_bus.head()"
   ]
  },
  {
   "cell_type": "code",
   "execution_count": null,
   "id": "hired-painting",
   "metadata": {},
   "outputs": [],
   "source": [
    "non_bus.sort_values(by='n_trips', ascending=False).head(2)"
   ]
  },
  {
   "cell_type": "code",
   "execution_count": null,
   "id": "front-galaxy",
   "metadata": {},
   "outputs": [],
   "source": [
    "tx_code = codes[codes['Area Name (including legal/statistical area description)'] == 'Texas']['State Code (FIPS)'].iloc[0]"
   ]
  },
  {
   "cell_type": "code",
   "execution_count": null,
   "id": "legislative-vintage",
   "metadata": {},
   "outputs": [],
   "source": [
    "tx_code"
   ]
  },
  {
   "cell_type": "code",
   "execution_count": null,
   "id": "automated-outreach",
   "metadata": {},
   "outputs": [],
   "source": [
    "# TX Mask\n",
    "tx_mask = [non_bus[non_bus['destination']]\n",
    "non_bus.sort_values(by='n_trips', ascending=False)"
   ]
  },
  {
   "cell_type": "code",
   "execution_count": null,
   "id": "marked-intermediate",
   "metadata": {},
   "outputs": [],
   "source": []
  }
 ],
 "metadata": {
  "kernelspec": {
   "display_name": "vrb-know",
   "language": "python",
   "name": "vrb-know"
  },
  "language_info": {
   "codemirror_mode": {
    "name": "ipython",
    "version": 3
   },
   "file_extension": ".py",
   "mimetype": "text/x-python",
   "name": "python",
   "nbconvert_exporter": "python",
   "pygments_lexer": "ipython3",
   "version": "3.8.1"
  }
 },
 "nbformat": 4,
 "nbformat_minor": 5
}
