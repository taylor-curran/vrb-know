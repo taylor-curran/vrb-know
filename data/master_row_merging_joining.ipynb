{
 "cells": [
  {
   "cell_type": "markdown",
   "id": "hispanic-encyclopedia",
   "metadata": {},
   "source": [
    "## Read in Data"
   ]
  },
  {
   "cell_type": "code",
   "execution_count": 1,
   "id": "indonesian-answer",
   "metadata": {},
   "outputs": [],
   "source": [
    "# Import Statements\n",
    "import pandas as pd\n",
    "import numpy as np"
   ]
  },
  {
   "cell_type": "markdown",
   "id": "complex-injection",
   "metadata": {},
   "source": [
    "### Master Row Data"
   ]
  },
  {
   "cell_type": "code",
   "execution_count": 2,
   "id": "assigned-simpson",
   "metadata": {},
   "outputs": [],
   "source": [
    "# Read in Data\n",
    "\n",
    "# Price Per Square Feet per [County, City, State, +More]\n",
    "ppsft = pd.read_csv('property_value_cost/cols_price_per_sqft.csv',\n",
    "                    index_col=0)\n",
    "\n",
    "# N Trips Ending per [County Name, State]\n",
    "dest = pd.read_csv('travel_revenue/col_travel_n_times_city_is_dest_with_states.csv',\n",
    "                   index_col=0\n",
    "                  )\n",
    "\n",
    "# Minimum Wage per [State]\n",
    "min_wg = pd.read_csv('infrastructure_cost/cols_infra_min_wage.csv', \n",
    "                     index_col=0)\n",
    "\n",
    "# Property Taxes per [State]\n",
    "prp_taxes = pd.read_csv('taxes_cost/18_revenue_state_and_local_summary.csv')\n",
    "\n",
    "# Natural Disasters by Type per [County Name, State]\n",
    "dis = pd.read_csv('nat_disasters_cost/cols_disaster_stats.csv')"
   ]
  },
  {
   "cell_type": "code",
   "execution_count": 3,
   "id": "normal-debut",
   "metadata": {},
   "outputs": [
    {
     "name": "stdout",
     "output_type": "stream",
     "text": [
      "(12243, 8)\n"
     ]
    },
    {
     "data": {
      "text/html": [
       "<div>\n",
       "<style scoped>\n",
       "    .dataframe tbody tr th:only-of-type {\n",
       "        vertical-align: middle;\n",
       "    }\n",
       "\n",
       "    .dataframe tbody tr th {\n",
       "        vertical-align: top;\n",
       "    }\n",
       "\n",
       "    .dataframe thead th {\n",
       "        text-align: right;\n",
       "    }\n",
       "</style>\n",
       "<table border=\"1\" class=\"dataframe\">\n",
       "  <thead>\n",
       "    <tr style=\"text-align: right;\">\n",
       "      <th></th>\n",
       "      <th>RegionID</th>\n",
       "      <th>RegionName</th>\n",
       "      <th>State</th>\n",
       "      <th>Metro</th>\n",
       "      <th>CountyName</th>\n",
       "      <th>SizeRank</th>\n",
       "      <th>pct_change</th>\n",
       "      <th>2017-09</th>\n",
       "    </tr>\n",
       "  </thead>\n",
       "  <tbody>\n",
       "    <tr>\n",
       "      <th>0</th>\n",
       "      <td>6181</td>\n",
       "      <td>New York</td>\n",
       "      <td>NY</td>\n",
       "      <td>New York</td>\n",
       "      <td>Queens</td>\n",
       "      <td>1</td>\n",
       "      <td>0.092089</td>\n",
       "      <td>483</td>\n",
       "    </tr>\n",
       "    <tr>\n",
       "      <th>1</th>\n",
       "      <td>12447</td>\n",
       "      <td>Los Angeles</td>\n",
       "      <td>CA</td>\n",
       "      <td>Los Angeles-Long Beach-Anaheim</td>\n",
       "      <td>Los Angeles</td>\n",
       "      <td>2</td>\n",
       "      <td>0.080575</td>\n",
       "      <td>432</td>\n",
       "    </tr>\n",
       "    <tr>\n",
       "      <th>2</th>\n",
       "      <td>17426</td>\n",
       "      <td>Chicago</td>\n",
       "      <td>IL</td>\n",
       "      <td>Chicago</td>\n",
       "      <td>Cook</td>\n",
       "      <td>3</td>\n",
       "      <td>0.046394</td>\n",
       "      <td>173</td>\n",
       "    </tr>\n",
       "    <tr>\n",
       "      <th>3</th>\n",
       "      <td>13271</td>\n",
       "      <td>Philadelphia</td>\n",
       "      <td>PA</td>\n",
       "      <td>Philadelphia</td>\n",
       "      <td>Philadelphia</td>\n",
       "      <td>4</td>\n",
       "      <td>0.078478</td>\n",
       "      <td>107</td>\n",
       "    </tr>\n",
       "    <tr>\n",
       "      <th>4</th>\n",
       "      <td>40326</td>\n",
       "      <td>Phoenix</td>\n",
       "      <td>AZ</td>\n",
       "      <td>Phoenix</td>\n",
       "      <td>Maricopa</td>\n",
       "      <td>5</td>\n",
       "      <td>0.082650</td>\n",
       "      <td>143</td>\n",
       "    </tr>\n",
       "  </tbody>\n",
       "</table>\n",
       "</div>"
      ],
      "text/plain": [
       "   RegionID    RegionName State                           Metro    CountyName  \\\n",
       "0      6181      New York    NY                        New York        Queens   \n",
       "1     12447   Los Angeles    CA  Los Angeles-Long Beach-Anaheim   Los Angeles   \n",
       "2     17426       Chicago    IL                         Chicago          Cook   \n",
       "3     13271  Philadelphia    PA                    Philadelphia  Philadelphia   \n",
       "4     40326       Phoenix    AZ                         Phoenix      Maricopa   \n",
       "\n",
       "   SizeRank  pct_change  2017-09  \n",
       "0         1    0.092089      483  \n",
       "1         2    0.080575      432  \n",
       "2         3    0.046394      173  \n",
       "3         4    0.078478      107  \n",
       "4         5    0.082650      143  "
      ]
     },
     "execution_count": 3,
     "metadata": {},
     "output_type": "execute_result"
    }
   ],
   "source": [
    "print(ppsft.shape)\n",
    "ppsft.head()"
   ]
  },
  {
   "cell_type": "code",
   "execution_count": 4,
   "id": "multiple-pressing",
   "metadata": {},
   "outputs": [
    {
     "name": "stdout",
     "output_type": "stream",
     "text": [
      "(3139, 3)\n"
     ]
    },
    {
     "data": {
      "text/html": [
       "<div>\n",
       "<style scoped>\n",
       "    .dataframe tbody tr th:only-of-type {\n",
       "        vertical-align: middle;\n",
       "    }\n",
       "\n",
       "    .dataframe tbody tr th {\n",
       "        vertical-align: top;\n",
       "    }\n",
       "\n",
       "    .dataframe thead th {\n",
       "        text-align: right;\n",
       "    }\n",
       "</style>\n",
       "<table border=\"1\" class=\"dataframe\">\n",
       "  <thead>\n",
       "    <tr style=\"text-align: right;\">\n",
       "      <th></th>\n",
       "      <th>dest_full</th>\n",
       "      <th>dest_state</th>\n",
       "      <th>n_trips</th>\n",
       "    </tr>\n",
       "  </thead>\n",
       "  <tbody>\n",
       "    <tr>\n",
       "      <th>0</th>\n",
       "      <td>Abbeville County, South Carolina</td>\n",
       "      <td>South Carolina</td>\n",
       "      <td>184624.0</td>\n",
       "    </tr>\n",
       "    <tr>\n",
       "      <th>1</th>\n",
       "      <td>Acadia Parish, Louisiana</td>\n",
       "      <td>Louisiana</td>\n",
       "      <td>241374.0</td>\n",
       "    </tr>\n",
       "    <tr>\n",
       "      <th>2</th>\n",
       "      <td>Accomack County, Virginia</td>\n",
       "      <td>Virginia</td>\n",
       "      <td>242825.0</td>\n",
       "    </tr>\n",
       "    <tr>\n",
       "      <th>3</th>\n",
       "      <td>Ada County, Idaho</td>\n",
       "      <td>Idaho</td>\n",
       "      <td>1964790.0</td>\n",
       "    </tr>\n",
       "    <tr>\n",
       "      <th>4</th>\n",
       "      <td>Adair County, Iowa</td>\n",
       "      <td>Iowa</td>\n",
       "      <td>69708.0</td>\n",
       "    </tr>\n",
       "  </tbody>\n",
       "</table>\n",
       "</div>"
      ],
      "text/plain": [
       "                          dest_full      dest_state    n_trips\n",
       "0  Abbeville County, South Carolina  South Carolina   184624.0\n",
       "1          Acadia Parish, Louisiana       Louisiana   241374.0\n",
       "2         Accomack County, Virginia        Virginia   242825.0\n",
       "3                 Ada County, Idaho           Idaho  1964790.0\n",
       "4                Adair County, Iowa            Iowa    69708.0"
      ]
     },
     "execution_count": 4,
     "metadata": {},
     "output_type": "execute_result"
    }
   ],
   "source": [
    "print(dest.shape)\n",
    "dest.head()"
   ]
  },
  {
   "cell_type": "code",
   "execution_count": 5,
   "id": "accepted-visibility",
   "metadata": {},
   "outputs": [
    {
     "name": "stdout",
     "output_type": "stream",
     "text": [
      "(54, 5)\n"
     ]
    },
    {
     "data": {
      "text/html": [
       "<div>\n",
       "<style scoped>\n",
       "    .dataframe tbody tr th:only-of-type {\n",
       "        vertical-align: middle;\n",
       "    }\n",
       "\n",
       "    .dataframe tbody tr th {\n",
       "        vertical-align: top;\n",
       "    }\n",
       "\n",
       "    .dataframe thead th {\n",
       "        text-align: right;\n",
       "    }\n",
       "</style>\n",
       "<table border=\"1\" class=\"dataframe\">\n",
       "  <thead>\n",
       "    <tr style=\"text-align: right;\">\n",
       "      <th></th>\n",
       "      <th>State</th>\n",
       "      <th>State.Minimum.Wage</th>\n",
       "      <th>Federal.Minimum.Wage</th>\n",
       "      <th>Effective.Minimum.Wage</th>\n",
       "      <th>CPI.Average</th>\n",
       "    </tr>\n",
       "  </thead>\n",
       "  <tbody>\n",
       "    <tr>\n",
       "      <th>2808</th>\n",
       "      <td>Alabama</td>\n",
       "      <td>0.00</td>\n",
       "      <td>7.25</td>\n",
       "      <td>7.25</td>\n",
       "      <td>258.66</td>\n",
       "    </tr>\n",
       "    <tr>\n",
       "      <th>2809</th>\n",
       "      <td>Alaska</td>\n",
       "      <td>10.19</td>\n",
       "      <td>7.25</td>\n",
       "      <td>10.19</td>\n",
       "      <td>258.66</td>\n",
       "    </tr>\n",
       "    <tr>\n",
       "      <th>2810</th>\n",
       "      <td>Arizona</td>\n",
       "      <td>12.00</td>\n",
       "      <td>7.25</td>\n",
       "      <td>12.00</td>\n",
       "      <td>258.66</td>\n",
       "    </tr>\n",
       "    <tr>\n",
       "      <th>2811</th>\n",
       "      <td>Arkansas</td>\n",
       "      <td>10.00</td>\n",
       "      <td>7.25</td>\n",
       "      <td>10.00</td>\n",
       "      <td>258.66</td>\n",
       "    </tr>\n",
       "    <tr>\n",
       "      <th>2812</th>\n",
       "      <td>California</td>\n",
       "      <td>13.00</td>\n",
       "      <td>7.25</td>\n",
       "      <td>13.00</td>\n",
       "      <td>258.66</td>\n",
       "    </tr>\n",
       "  </tbody>\n",
       "</table>\n",
       "</div>"
      ],
      "text/plain": [
       "           State  State.Minimum.Wage  Federal.Minimum.Wage  \\\n",
       "2808     Alabama                0.00                  7.25   \n",
       "2809      Alaska               10.19                  7.25   \n",
       "2810     Arizona               12.00                  7.25   \n",
       "2811    Arkansas               10.00                  7.25   \n",
       "2812  California               13.00                  7.25   \n",
       "\n",
       "      Effective.Minimum.Wage  CPI.Average  \n",
       "2808                    7.25       258.66  \n",
       "2809                   10.19       258.66  \n",
       "2810                   12.00       258.66  \n",
       "2811                   10.00       258.66  \n",
       "2812                   13.00       258.66  "
      ]
     },
     "execution_count": 5,
     "metadata": {},
     "output_type": "execute_result"
    }
   ],
   "source": [
    "print(min_wg.shape)\n",
    "min_wg.head()"
   ]
  },
  {
   "cell_type": "code",
   "execution_count": 6,
   "id": "hourly-buyer",
   "metadata": {},
   "outputs": [
    {
     "name": "stdout",
     "output_type": "stream",
     "text": [
      "(52, 5)\n"
     ]
    },
    {
     "data": {
      "text/html": [
       "<div>\n",
       "<style scoped>\n",
       "    .dataframe tbody tr th:only-of-type {\n",
       "        vertical-align: middle;\n",
       "    }\n",
       "\n",
       "    .dataframe tbody tr th {\n",
       "        vertical-align: top;\n",
       "    }\n",
       "\n",
       "    .dataframe thead th {\n",
       "        text-align: right;\n",
       "    }\n",
       "</style>\n",
       "<table border=\"1\" class=\"dataframe\">\n",
       "  <thead>\n",
       "    <tr style=\"text-align: right;\">\n",
       "      <th></th>\n",
       "      <th>State</th>\n",
       "      <th>Total (millions of dollars)</th>\n",
       "      <th>Per Capita (dollars)</th>\n",
       "      <th>Percentage of General Revenue</th>\n",
       "      <th>Percentage of Personal Income</th>\n",
       "    </tr>\n",
       "  </thead>\n",
       "  <tbody>\n",
       "    <tr>\n",
       "      <th>0</th>\n",
       "      <td>United States</td>\n",
       "      <td>$547,039</td>\n",
       "      <td>$1,667</td>\n",
       "      <td>16.6%</td>\n",
       "      <td>3.1%</td>\n",
       "    </tr>\n",
       "    <tr>\n",
       "      <th>1</th>\n",
       "      <td>Alabama</td>\n",
       "      <td>2921</td>\n",
       "      <td>596</td>\n",
       "      <td>7.0%</td>\n",
       "      <td>1.4%</td>\n",
       "    </tr>\n",
       "    <tr>\n",
       "      <th>2</th>\n",
       "      <td>Alaska</td>\n",
       "      <td>1614</td>\n",
       "      <td>2206</td>\n",
       "      <td>14.0%</td>\n",
       "      <td>3.6%</td>\n",
       "    </tr>\n",
       "    <tr>\n",
       "      <th>3</th>\n",
       "      <td>Arizona</td>\n",
       "      <td>8053</td>\n",
       "      <td>1106</td>\n",
       "      <td>14.7%</td>\n",
       "      <td>2.5%</td>\n",
       "    </tr>\n",
       "    <tr>\n",
       "      <th>4</th>\n",
       "      <td>Arkansas</td>\n",
       "      <td>2334</td>\n",
       "      <td>774</td>\n",
       "      <td>9.0%</td>\n",
       "      <td>1.8%</td>\n",
       "    </tr>\n",
       "  </tbody>\n",
       "</table>\n",
       "</div>"
      ],
      "text/plain": [
       "           State Total (millions of dollars) Per Capita (dollars)  \\\n",
       "0  United States                    $547,039               $1,667   \n",
       "1        Alabama                        2921                  596   \n",
       "2         Alaska                        1614                 2206   \n",
       "3        Arizona                        8053                 1106   \n",
       "4       Arkansas                        2334                  774   \n",
       "\n",
       "  Percentage of General Revenue Percentage of Personal Income  \n",
       "0                         16.6%                          3.1%  \n",
       "1                          7.0%                          1.4%  \n",
       "2                         14.0%                          3.6%  \n",
       "3                         14.7%                          2.5%  \n",
       "4                          9.0%                          1.8%  "
      ]
     },
     "execution_count": 6,
     "metadata": {},
     "output_type": "execute_result"
    }
   ],
   "source": [
    "print(prp_taxes.shape)\n",
    "prp_taxes.head()"
   ]
  },
  {
   "cell_type": "code",
   "execution_count": 7,
   "id": "modern-taylor",
   "metadata": {},
   "outputs": [
    {
     "name": "stdout",
     "output_type": "stream",
     "text": [
      "(3267, 24)\n"
     ]
    },
    {
     "data": {
      "text/html": [
       "<div>\n",
       "<style scoped>\n",
       "    .dataframe tbody tr th:only-of-type {\n",
       "        vertical-align: middle;\n",
       "    }\n",
       "\n",
       "    .dataframe tbody tr th {\n",
       "        vertical-align: top;\n",
       "    }\n",
       "\n",
       "    .dataframe thead th {\n",
       "        text-align: right;\n",
       "    }\n",
       "</style>\n",
       "<table border=\"1\" class=\"dataframe\">\n",
       "  <thead>\n",
       "    <tr style=\"text-align: right;\">\n",
       "      <th></th>\n",
       "      <th>loc_full</th>\n",
       "      <th>Biological</th>\n",
       "      <th>Chemical</th>\n",
       "      <th>Coastal Storm</th>\n",
       "      <th>Dam/Levee Break</th>\n",
       "      <th>Drought</th>\n",
       "      <th>Earthquake</th>\n",
       "      <th>Fire</th>\n",
       "      <th>Fishing Losses</th>\n",
       "      <th>Flood</th>\n",
       "      <th>...</th>\n",
       "      <th>Other</th>\n",
       "      <th>Severe Ice Storm</th>\n",
       "      <th>Severe Storm(s)</th>\n",
       "      <th>Snow</th>\n",
       "      <th>Terrorist</th>\n",
       "      <th>Tornado</th>\n",
       "      <th>Toxic Substances</th>\n",
       "      <th>Tsunami</th>\n",
       "      <th>Typhoon</th>\n",
       "      <th>Volcano</th>\n",
       "    </tr>\n",
       "  </thead>\n",
       "  <tbody>\n",
       "    <tr>\n",
       "      <th>0</th>\n",
       "      <td>Abbeville County, South Carolina</td>\n",
       "      <td>2.0</td>\n",
       "      <td>NaN</td>\n",
       "      <td>NaN</td>\n",
       "      <td>NaN</td>\n",
       "      <td>1.0</td>\n",
       "      <td>NaN</td>\n",
       "      <td>NaN</td>\n",
       "      <td>NaN</td>\n",
       "      <td>1.0</td>\n",
       "      <td>...</td>\n",
       "      <td>NaN</td>\n",
       "      <td>1.0</td>\n",
       "      <td>2.0</td>\n",
       "      <td>NaN</td>\n",
       "      <td>NaN</td>\n",
       "      <td>1.0</td>\n",
       "      <td>NaN</td>\n",
       "      <td>NaN</td>\n",
       "      <td>NaN</td>\n",
       "      <td>NaN</td>\n",
       "    </tr>\n",
       "    <tr>\n",
       "      <th>1</th>\n",
       "      <td>Acadia Parish, Louisiana</td>\n",
       "      <td>2.0</td>\n",
       "      <td>NaN</td>\n",
       "      <td>2.0</td>\n",
       "      <td>NaN</td>\n",
       "      <td>NaN</td>\n",
       "      <td>NaN</td>\n",
       "      <td>NaN</td>\n",
       "      <td>NaN</td>\n",
       "      <td>3.0</td>\n",
       "      <td>...</td>\n",
       "      <td>1.0</td>\n",
       "      <td>NaN</td>\n",
       "      <td>4.0</td>\n",
       "      <td>NaN</td>\n",
       "      <td>NaN</td>\n",
       "      <td>NaN</td>\n",
       "      <td>NaN</td>\n",
       "      <td>NaN</td>\n",
       "      <td>NaN</td>\n",
       "      <td>NaN</td>\n",
       "    </tr>\n",
       "    <tr>\n",
       "      <th>2</th>\n",
       "      <td>Accomack County, Virginia</td>\n",
       "      <td>2.0</td>\n",
       "      <td>NaN</td>\n",
       "      <td>NaN</td>\n",
       "      <td>NaN</td>\n",
       "      <td>NaN</td>\n",
       "      <td>NaN</td>\n",
       "      <td>NaN</td>\n",
       "      <td>NaN</td>\n",
       "      <td>2.0</td>\n",
       "      <td>...</td>\n",
       "      <td>NaN</td>\n",
       "      <td>NaN</td>\n",
       "      <td>2.0</td>\n",
       "      <td>2.0</td>\n",
       "      <td>NaN</td>\n",
       "      <td>NaN</td>\n",
       "      <td>NaN</td>\n",
       "      <td>NaN</td>\n",
       "      <td>NaN</td>\n",
       "      <td>NaN</td>\n",
       "    </tr>\n",
       "    <tr>\n",
       "      <th>3</th>\n",
       "      <td>Ada County, Idaho</td>\n",
       "      <td>2.0</td>\n",
       "      <td>NaN</td>\n",
       "      <td>NaN</td>\n",
       "      <td>NaN</td>\n",
       "      <td>NaN</td>\n",
       "      <td>NaN</td>\n",
       "      <td>1.0</td>\n",
       "      <td>NaN</td>\n",
       "      <td>2.0</td>\n",
       "      <td>...</td>\n",
       "      <td>NaN</td>\n",
       "      <td>NaN</td>\n",
       "      <td>NaN</td>\n",
       "      <td>NaN</td>\n",
       "      <td>NaN</td>\n",
       "      <td>NaN</td>\n",
       "      <td>NaN</td>\n",
       "      <td>NaN</td>\n",
       "      <td>NaN</td>\n",
       "      <td>NaN</td>\n",
       "    </tr>\n",
       "    <tr>\n",
       "      <th>4</th>\n",
       "      <td>Adair County, Iowa</td>\n",
       "      <td>2.0</td>\n",
       "      <td>NaN</td>\n",
       "      <td>NaN</td>\n",
       "      <td>NaN</td>\n",
       "      <td>NaN</td>\n",
       "      <td>NaN</td>\n",
       "      <td>NaN</td>\n",
       "      <td>NaN</td>\n",
       "      <td>4.0</td>\n",
       "      <td>...</td>\n",
       "      <td>NaN</td>\n",
       "      <td>2.0</td>\n",
       "      <td>6.0</td>\n",
       "      <td>1.0</td>\n",
       "      <td>NaN</td>\n",
       "      <td>NaN</td>\n",
       "      <td>NaN</td>\n",
       "      <td>NaN</td>\n",
       "      <td>NaN</td>\n",
       "      <td>NaN</td>\n",
       "    </tr>\n",
       "  </tbody>\n",
       "</table>\n",
       "<p>5 rows × 24 columns</p>\n",
       "</div>"
      ],
      "text/plain": [
       "                           loc_full  Biological  Chemical  Coastal Storm  \\\n",
       "0  Abbeville County, South Carolina         2.0       NaN            NaN   \n",
       "1          Acadia Parish, Louisiana         2.0       NaN            2.0   \n",
       "2         Accomack County, Virginia         2.0       NaN            NaN   \n",
       "3                 Ada County, Idaho         2.0       NaN            NaN   \n",
       "4                Adair County, Iowa         2.0       NaN            NaN   \n",
       "\n",
       "   Dam/Levee Break  Drought  Earthquake  Fire  Fishing Losses  Flood  ...  \\\n",
       "0              NaN      1.0         NaN   NaN             NaN    1.0  ...   \n",
       "1              NaN      NaN         NaN   NaN             NaN    3.0  ...   \n",
       "2              NaN      NaN         NaN   NaN             NaN    2.0  ...   \n",
       "3              NaN      NaN         NaN   1.0             NaN    2.0  ...   \n",
       "4              NaN      NaN         NaN   NaN             NaN    4.0  ...   \n",
       "\n",
       "   Other  Severe Ice Storm  Severe Storm(s)  Snow  Terrorist  Tornado  \\\n",
       "0    NaN               1.0              2.0   NaN        NaN      1.0   \n",
       "1    1.0               NaN              4.0   NaN        NaN      NaN   \n",
       "2    NaN               NaN              2.0   2.0        NaN      NaN   \n",
       "3    NaN               NaN              NaN   NaN        NaN      NaN   \n",
       "4    NaN               2.0              6.0   1.0        NaN      NaN   \n",
       "\n",
       "   Toxic Substances  Tsunami  Typhoon  Volcano  \n",
       "0               NaN      NaN      NaN      NaN  \n",
       "1               NaN      NaN      NaN      NaN  \n",
       "2               NaN      NaN      NaN      NaN  \n",
       "3               NaN      NaN      NaN      NaN  \n",
       "4               NaN      NaN      NaN      NaN  \n",
       "\n",
       "[5 rows x 24 columns]"
      ]
     },
     "execution_count": 7,
     "metadata": {},
     "output_type": "execute_result"
    }
   ],
   "source": [
    "print(dis.shape)\n",
    "dis.head()"
   ]
  },
  {
   "cell_type": "markdown",
   "id": "affecting-meter",
   "metadata": {},
   "source": [
    "### Join Tables"
   ]
  },
  {
   "cell_type": "code",
   "execution_count": 8,
   "id": "anticipated-premium",
   "metadata": {},
   "outputs": [],
   "source": [
    "# State Abbreviations + State Fips + State Name\n",
    "states = pd.read_csv('join_tables/state_abbrevs.csv')"
   ]
  },
  {
   "cell_type": "code",
   "execution_count": 9,
   "id": "surface-shark",
   "metadata": {},
   "outputs": [
    {
     "name": "stdout",
     "output_type": "stream",
     "text": [
      "(51, 3)\n"
     ]
    },
    {
     "data": {
      "text/html": [
       "<div>\n",
       "<style scoped>\n",
       "    .dataframe tbody tr th:only-of-type {\n",
       "        vertical-align: middle;\n",
       "    }\n",
       "\n",
       "    .dataframe tbody tr th {\n",
       "        vertical-align: top;\n",
       "    }\n",
       "\n",
       "    .dataframe thead th {\n",
       "        text-align: right;\n",
       "    }\n",
       "</style>\n",
       "<table border=\"1\" class=\"dataframe\">\n",
       "  <thead>\n",
       "    <tr style=\"text-align: right;\">\n",
       "      <th></th>\n",
       "      <th>State</th>\n",
       "      <th>Abbrev</th>\n",
       "      <th>Code</th>\n",
       "    </tr>\n",
       "  </thead>\n",
       "  <tbody>\n",
       "    <tr>\n",
       "      <th>0</th>\n",
       "      <td>Alabama</td>\n",
       "      <td>Ala.</td>\n",
       "      <td>AL</td>\n",
       "    </tr>\n",
       "    <tr>\n",
       "      <th>1</th>\n",
       "      <td>Alaska</td>\n",
       "      <td>Alaska</td>\n",
       "      <td>AK</td>\n",
       "    </tr>\n",
       "    <tr>\n",
       "      <th>2</th>\n",
       "      <td>Arizona</td>\n",
       "      <td>Ariz.</td>\n",
       "      <td>AZ</td>\n",
       "    </tr>\n",
       "    <tr>\n",
       "      <th>3</th>\n",
       "      <td>Arkansas</td>\n",
       "      <td>Ark.</td>\n",
       "      <td>AR</td>\n",
       "    </tr>\n",
       "    <tr>\n",
       "      <th>4</th>\n",
       "      <td>California</td>\n",
       "      <td>Calif.</td>\n",
       "      <td>CA</td>\n",
       "    </tr>\n",
       "  </tbody>\n",
       "</table>\n",
       "</div>"
      ],
      "text/plain": [
       "        State  Abbrev Code\n",
       "0     Alabama    Ala.   AL\n",
       "1      Alaska  Alaska   AK\n",
       "2     Arizona   Ariz.   AZ\n",
       "3    Arkansas    Ark.   AR\n",
       "4  California  Calif.   CA"
      ]
     },
     "execution_count": 9,
     "metadata": {},
     "output_type": "execute_result"
    }
   ],
   "source": [
    "print(states.shape)\n",
    "states.head()"
   ]
  },
  {
   "cell_type": "code",
   "execution_count": 10,
   "id": "single-visit",
   "metadata": {},
   "outputs": [],
   "source": [
    "def name_to_code(state_name):\n",
    "    try:\n",
    "        return states[states['State'] == state_name]['Code'].values[0]\n",
    "    except:\n",
    "        print(f\"Error Processing {state_name}\")\n",
    "\n",
    "def code_to_name(state_code):\n",
    "    try:\n",
    "        return states[states['Code'] == state_code]['State'].values[0]\n",
    "    except:\n",
    "        print(f\"Error Processing {state_code}\")"
   ]
  },
  {
   "cell_type": "markdown",
   "id": "empty-brooks",
   "metadata": {},
   "source": [
    "## Data Cleaning"
   ]
  },
  {
   "cell_type": "markdown",
   "id": "classical-accident",
   "metadata": {},
   "source": [
    "### Price Per Square Foot `ppsft` "
   ]
  },
  {
   "cell_type": "code",
   "execution_count": 11,
   "id": "placed-legislation",
   "metadata": {},
   "outputs": [
    {
     "data": {
      "text/html": [
       "<div>\n",
       "<style scoped>\n",
       "    .dataframe tbody tr th:only-of-type {\n",
       "        vertical-align: middle;\n",
       "    }\n",
       "\n",
       "    .dataframe tbody tr th {\n",
       "        vertical-align: top;\n",
       "    }\n",
       "\n",
       "    .dataframe thead th {\n",
       "        text-align: right;\n",
       "    }\n",
       "</style>\n",
       "<table border=\"1\" class=\"dataframe\">\n",
       "  <thead>\n",
       "    <tr style=\"text-align: right;\">\n",
       "      <th></th>\n",
       "      <th>RegionID</th>\n",
       "      <th>RegionName</th>\n",
       "      <th>State</th>\n",
       "      <th>Metro</th>\n",
       "      <th>CountyName</th>\n",
       "      <th>SizeRank</th>\n",
       "      <th>pct_change</th>\n",
       "      <th>2017-09</th>\n",
       "    </tr>\n",
       "  </thead>\n",
       "  <tbody>\n",
       "    <tr>\n",
       "      <th>0</th>\n",
       "      <td>6181</td>\n",
       "      <td>New York</td>\n",
       "      <td>NY</td>\n",
       "      <td>New York</td>\n",
       "      <td>Queens</td>\n",
       "      <td>1</td>\n",
       "      <td>0.092089</td>\n",
       "      <td>483</td>\n",
       "    </tr>\n",
       "    <tr>\n",
       "      <th>1</th>\n",
       "      <td>12447</td>\n",
       "      <td>Los Angeles</td>\n",
       "      <td>CA</td>\n",
       "      <td>Los Angeles-Long Beach-Anaheim</td>\n",
       "      <td>Los Angeles</td>\n",
       "      <td>2</td>\n",
       "      <td>0.080575</td>\n",
       "      <td>432</td>\n",
       "    </tr>\n",
       "  </tbody>\n",
       "</table>\n",
       "</div>"
      ],
      "text/plain": [
       "   RegionID   RegionName State                           Metro   CountyName  \\\n",
       "0      6181     New York    NY                        New York       Queens   \n",
       "1     12447  Los Angeles    CA  Los Angeles-Long Beach-Anaheim  Los Angeles   \n",
       "\n",
       "   SizeRank  pct_change  2017-09  \n",
       "0         1    0.092089      483  \n",
       "1         2    0.080575      432  "
      ]
     },
     "execution_count": 11,
     "metadata": {},
     "output_type": "execute_result"
    }
   ],
   "source": [
    "ppsft.head(2)"
   ]
  },
  {
   "cell_type": "code",
   "execution_count": 12,
   "id": "activated-aberdeen",
   "metadata": {},
   "outputs": [],
   "source": [
    "# Get Full State Names from 2 Letter Codes\n",
    "ppsft['state_full'] = ppsft['State'].apply(code_to_name)"
   ]
  },
  {
   "cell_type": "code",
   "execution_count": 13,
   "id": "earlier-revision",
   "metadata": {},
   "outputs": [
    {
     "name": "stdout",
     "output_type": "stream",
     "text": [
      "<class 'pandas.core.frame.DataFrame'>\n",
      "Int64Index: 12243 entries, 0 to 12242\n",
      "Data columns (total 9 columns):\n",
      " #   Column      Non-Null Count  Dtype  \n",
      "---  ------      --------------  -----  \n",
      " 0   RegionID    12243 non-null  int64  \n",
      " 1   RegionName  12243 non-null  object \n",
      " 2   State       12243 non-null  object \n",
      " 3   Metro       11297 non-null  object \n",
      " 4   CountyName  12243 non-null  object \n",
      " 5   SizeRank    12243 non-null  int64  \n",
      " 6   pct_change  12242 non-null  float64\n",
      " 7   2017-09     12243 non-null  int64  \n",
      " 8   state_full  12243 non-null  object \n",
      "dtypes: float64(1), int64(3), object(5)\n",
      "memory usage: 956.5+ KB\n"
     ]
    }
   ],
   "source": [
    "ppsft.info()"
   ]
  },
  {
   "cell_type": "code",
   "execution_count": 14,
   "id": "figured-christopher",
   "metadata": {},
   "outputs": [],
   "source": [
    "# Stick Together loc_full Column\n",
    "loc_full = []\n",
    "for i, row in ppsft.iterrows():\n",
    "    loc_full.append(row[4] + ', ' + row[8])\n",
    "\n",
    "ppsft['loc_full'] = loc_full"
   ]
  },
  {
   "cell_type": "code",
   "execution_count": 15,
   "id": "settled-lightning",
   "metadata": {},
   "outputs": [],
   "source": [
    "# Drop High Cardinality or Out-of-Context Columns\n",
    "ppsft = ppsft.drop(['RegionID'], axis=1)"
   ]
  },
  {
   "cell_type": "code",
   "execution_count": 16,
   "id": "amino-witch",
   "metadata": {},
   "outputs": [],
   "source": [
    "# Rename Columns for Context of Master Row\n",
    "ppsft.columns = ['region_name_ppsft', \n",
    "                 'state_code', \n",
    "                 'metro_ppsft', \n",
    "                 'county_name', \n",
    "                 'size_rank_ppsft',\n",
    "                 'pct_change_ppsft', \n",
    "                 'ppsft_2017', \n",
    "                 'state_full', \n",
    "                 'loc_full']"
   ]
  },
  {
   "cell_type": "code",
   "execution_count": 17,
   "id": "banned-plant",
   "metadata": {},
   "outputs": [
    {
     "data": {
      "text/html": [
       "<div>\n",
       "<style scoped>\n",
       "    .dataframe tbody tr th:only-of-type {\n",
       "        vertical-align: middle;\n",
       "    }\n",
       "\n",
       "    .dataframe tbody tr th {\n",
       "        vertical-align: top;\n",
       "    }\n",
       "\n",
       "    .dataframe thead th {\n",
       "        text-align: right;\n",
       "    }\n",
       "</style>\n",
       "<table border=\"1\" class=\"dataframe\">\n",
       "  <thead>\n",
       "    <tr style=\"text-align: right;\">\n",
       "      <th></th>\n",
       "      <th>region_name_ppsft</th>\n",
       "      <th>state_code</th>\n",
       "      <th>metro_ppsft</th>\n",
       "      <th>county_name</th>\n",
       "      <th>size_rank_ppsft</th>\n",
       "      <th>pct_change_ppsft</th>\n",
       "      <th>ppsft_2017</th>\n",
       "      <th>state_full</th>\n",
       "      <th>loc_full</th>\n",
       "    </tr>\n",
       "  </thead>\n",
       "  <tbody>\n",
       "    <tr>\n",
       "      <th>0</th>\n",
       "      <td>New York</td>\n",
       "      <td>NY</td>\n",
       "      <td>New York</td>\n",
       "      <td>Queens</td>\n",
       "      <td>1</td>\n",
       "      <td>0.092089</td>\n",
       "      <td>483</td>\n",
       "      <td>New York</td>\n",
       "      <td>Queens, New York</td>\n",
       "    </tr>\n",
       "    <tr>\n",
       "      <th>1</th>\n",
       "      <td>Los Angeles</td>\n",
       "      <td>CA</td>\n",
       "      <td>Los Angeles-Long Beach-Anaheim</td>\n",
       "      <td>Los Angeles</td>\n",
       "      <td>2</td>\n",
       "      <td>0.080575</td>\n",
       "      <td>432</td>\n",
       "      <td>California</td>\n",
       "      <td>Los Angeles, California</td>\n",
       "    </tr>\n",
       "    <tr>\n",
       "      <th>2</th>\n",
       "      <td>Chicago</td>\n",
       "      <td>IL</td>\n",
       "      <td>Chicago</td>\n",
       "      <td>Cook</td>\n",
       "      <td>3</td>\n",
       "      <td>0.046394</td>\n",
       "      <td>173</td>\n",
       "      <td>Illinois</td>\n",
       "      <td>Cook, Illinois</td>\n",
       "    </tr>\n",
       "  </tbody>\n",
       "</table>\n",
       "</div>"
      ],
      "text/plain": [
       "  region_name_ppsft state_code                     metro_ppsft  county_name  \\\n",
       "0          New York         NY                        New York       Queens   \n",
       "1       Los Angeles         CA  Los Angeles-Long Beach-Anaheim  Los Angeles   \n",
       "2           Chicago         IL                         Chicago         Cook   \n",
       "\n",
       "   size_rank_ppsft  pct_change_ppsft  ppsft_2017  state_full  \\\n",
       "0                1          0.092089         483    New York   \n",
       "1                2          0.080575         432  California   \n",
       "2                3          0.046394         173    Illinois   \n",
       "\n",
       "                  loc_full  \n",
       "0         Queens, New York  \n",
       "1  Los Angeles, California  \n",
       "2           Cook, Illinois  "
      ]
     },
     "execution_count": 17,
     "metadata": {},
     "output_type": "execute_result"
    }
   ],
   "source": [
    "ppsft.head(3)"
   ]
  },
  {
   "cell_type": "markdown",
   "id": "sound-adaptation",
   "metadata": {},
   "source": [
    "### Destination Trip Data `dest`"
   ]
  },
  {
   "cell_type": "code",
   "execution_count": 18,
   "id": "surface-debate",
   "metadata": {},
   "outputs": [
    {
     "data": {
      "text/html": [
       "<div>\n",
       "<style scoped>\n",
       "    .dataframe tbody tr th:only-of-type {\n",
       "        vertical-align: middle;\n",
       "    }\n",
       "\n",
       "    .dataframe tbody tr th {\n",
       "        vertical-align: top;\n",
       "    }\n",
       "\n",
       "    .dataframe thead th {\n",
       "        text-align: right;\n",
       "    }\n",
       "</style>\n",
       "<table border=\"1\" class=\"dataframe\">\n",
       "  <thead>\n",
       "    <tr style=\"text-align: right;\">\n",
       "      <th></th>\n",
       "      <th>dest_full</th>\n",
       "      <th>dest_state</th>\n",
       "      <th>n_trips</th>\n",
       "    </tr>\n",
       "  </thead>\n",
       "  <tbody>\n",
       "    <tr>\n",
       "      <th>0</th>\n",
       "      <td>Abbeville County, South Carolina</td>\n",
       "      <td>South Carolina</td>\n",
       "      <td>184624.0</td>\n",
       "    </tr>\n",
       "    <tr>\n",
       "      <th>1</th>\n",
       "      <td>Acadia Parish, Louisiana</td>\n",
       "      <td>Louisiana</td>\n",
       "      <td>241374.0</td>\n",
       "    </tr>\n",
       "  </tbody>\n",
       "</table>\n",
       "</div>"
      ],
      "text/plain": [
       "                          dest_full      dest_state   n_trips\n",
       "0  Abbeville County, South Carolina  South Carolina  184624.0\n",
       "1          Acadia Parish, Louisiana       Louisiana  241374.0"
      ]
     },
     "execution_count": 18,
     "metadata": {},
     "output_type": "execute_result"
    }
   ],
   "source": [
    "dest.head(2)"
   ]
  },
  {
   "cell_type": "code",
   "execution_count": 19,
   "id": "concerned-chase",
   "metadata": {},
   "outputs": [
    {
     "data": {
      "text/html": [
       "<div>\n",
       "<style scoped>\n",
       "    .dataframe tbody tr th:only-of-type {\n",
       "        vertical-align: middle;\n",
       "    }\n",
       "\n",
       "    .dataframe tbody tr th {\n",
       "        vertical-align: top;\n",
       "    }\n",
       "\n",
       "    .dataframe thead th {\n",
       "        text-align: right;\n",
       "    }\n",
       "</style>\n",
       "<table border=\"1\" class=\"dataframe\">\n",
       "  <thead>\n",
       "    <tr style=\"text-align: right;\">\n",
       "      <th></th>\n",
       "      <th>State</th>\n",
       "      <th>Abbrev</th>\n",
       "      <th>Code</th>\n",
       "    </tr>\n",
       "  </thead>\n",
       "  <tbody>\n",
       "    <tr>\n",
       "      <th>0</th>\n",
       "      <td>Alabama</td>\n",
       "      <td>Ala.</td>\n",
       "      <td>AL</td>\n",
       "    </tr>\n",
       "    <tr>\n",
       "      <th>1</th>\n",
       "      <td>Alaska</td>\n",
       "      <td>Alaska</td>\n",
       "      <td>AK</td>\n",
       "    </tr>\n",
       "    <tr>\n",
       "      <th>2</th>\n",
       "      <td>Arizona</td>\n",
       "      <td>Ariz.</td>\n",
       "      <td>AZ</td>\n",
       "    </tr>\n",
       "    <tr>\n",
       "      <th>3</th>\n",
       "      <td>Arkansas</td>\n",
       "      <td>Ark.</td>\n",
       "      <td>AR</td>\n",
       "    </tr>\n",
       "    <tr>\n",
       "      <th>4</th>\n",
       "      <td>California</td>\n",
       "      <td>Calif.</td>\n",
       "      <td>CA</td>\n",
       "    </tr>\n",
       "  </tbody>\n",
       "</table>\n",
       "</div>"
      ],
      "text/plain": [
       "        State  Abbrev Code\n",
       "0     Alabama    Ala.   AL\n",
       "1      Alaska  Alaska   AK\n",
       "2     Arizona   Ariz.   AZ\n",
       "3    Arkansas    Ark.   AR\n",
       "4  California  Calif.   CA"
      ]
     },
     "execution_count": 19,
     "metadata": {},
     "output_type": "execute_result"
    }
   ],
   "source": [
    "states.head()"
   ]
  },
  {
   "cell_type": "code",
   "execution_count": 20,
   "id": "given-activation",
   "metadata": {},
   "outputs": [
    {
     "name": "stdout",
     "output_type": "stream",
     "text": [
      "<class 'pandas.core.frame.DataFrame'>\n",
      "Int64Index: 3139 entries, 0 to 3138\n",
      "Data columns (total 3 columns):\n",
      " #   Column      Non-Null Count  Dtype  \n",
      "---  ------      --------------  -----  \n",
      " 0   dest_full   3139 non-null   object \n",
      " 1   dest_state  3139 non-null   object \n",
      " 2   n_trips     3139 non-null   float64\n",
      "dtypes: float64(1), object(2)\n",
      "memory usage: 98.1+ KB\n"
     ]
    }
   ],
   "source": [
    "dest.info()"
   ]
  },
  {
   "cell_type": "code",
   "execution_count": 21,
   "id": "horizontal-valuable",
   "metadata": {},
   "outputs": [],
   "source": [
    "# Get State Column\n",
    "state = []\n",
    "for i, row in dest.iterrows():\n",
    "    state_row = states[row[1] == states['State']]\n",
    "    state.append(state_row['Code'].values[0])\n",
    "\n",
    "dest.insert(3, 'state', state)"
   ]
  },
  {
   "cell_type": "code",
   "execution_count": 22,
   "id": "formal-sigma",
   "metadata": {},
   "outputs": [],
   "source": [
    "# Remove word 'County' from dest_full\n",
    "dest['dest_full'] = dest['dest_full'].str.replace(' County', '')"
   ]
  },
  {
   "cell_type": "code",
   "execution_count": 23,
   "id": "another-perth",
   "metadata": {},
   "outputs": [],
   "source": [
    "# Rename Columns\n",
    "dest.columns = ['loc_full', \n",
    "                'state_full', \n",
    "                'n_trips', \n",
    "                'state_code']"
   ]
  },
  {
   "cell_type": "code",
   "execution_count": 24,
   "id": "later-decade",
   "metadata": {},
   "outputs": [
    {
     "data": {
      "text/html": [
       "<div>\n",
       "<style scoped>\n",
       "    .dataframe tbody tr th:only-of-type {\n",
       "        vertical-align: middle;\n",
       "    }\n",
       "\n",
       "    .dataframe tbody tr th {\n",
       "        vertical-align: top;\n",
       "    }\n",
       "\n",
       "    .dataframe thead th {\n",
       "        text-align: right;\n",
       "    }\n",
       "</style>\n",
       "<table border=\"1\" class=\"dataframe\">\n",
       "  <thead>\n",
       "    <tr style=\"text-align: right;\">\n",
       "      <th></th>\n",
       "      <th>loc_full</th>\n",
       "      <th>state_full</th>\n",
       "      <th>n_trips</th>\n",
       "      <th>state_code</th>\n",
       "    </tr>\n",
       "  </thead>\n",
       "  <tbody>\n",
       "    <tr>\n",
       "      <th>0</th>\n",
       "      <td>Abbeville, South Carolina</td>\n",
       "      <td>South Carolina</td>\n",
       "      <td>184624.0</td>\n",
       "      <td>SC</td>\n",
       "    </tr>\n",
       "    <tr>\n",
       "      <th>1</th>\n",
       "      <td>Acadia Parish, Louisiana</td>\n",
       "      <td>Louisiana</td>\n",
       "      <td>241374.0</td>\n",
       "      <td>LA</td>\n",
       "    </tr>\n",
       "    <tr>\n",
       "      <th>2</th>\n",
       "      <td>Accomack, Virginia</td>\n",
       "      <td>Virginia</td>\n",
       "      <td>242825.0</td>\n",
       "      <td>VA</td>\n",
       "    </tr>\n",
       "  </tbody>\n",
       "</table>\n",
       "</div>"
      ],
      "text/plain": [
       "                    loc_full      state_full   n_trips state_code\n",
       "0  Abbeville, South Carolina  South Carolina  184624.0         SC\n",
       "1   Acadia Parish, Louisiana       Louisiana  241374.0         LA\n",
       "2         Accomack, Virginia        Virginia  242825.0         VA"
      ]
     },
     "execution_count": 24,
     "metadata": {},
     "output_type": "execute_result"
    }
   ],
   "source": [
    "dest.head(3)"
   ]
  },
  {
   "cell_type": "markdown",
   "id": "double-lesson",
   "metadata": {},
   "source": [
    "### Minimum Wage `min_wg` "
   ]
  },
  {
   "cell_type": "code",
   "execution_count": 25,
   "id": "infinite-joshua",
   "metadata": {},
   "outputs": [
    {
     "data": {
      "text/html": [
       "<div>\n",
       "<style scoped>\n",
       "    .dataframe tbody tr th:only-of-type {\n",
       "        vertical-align: middle;\n",
       "    }\n",
       "\n",
       "    .dataframe tbody tr th {\n",
       "        vertical-align: top;\n",
       "    }\n",
       "\n",
       "    .dataframe thead th {\n",
       "        text-align: right;\n",
       "    }\n",
       "</style>\n",
       "<table border=\"1\" class=\"dataframe\">\n",
       "  <thead>\n",
       "    <tr style=\"text-align: right;\">\n",
       "      <th></th>\n",
       "      <th>State</th>\n",
       "      <th>State.Minimum.Wage</th>\n",
       "      <th>Federal.Minimum.Wage</th>\n",
       "      <th>Effective.Minimum.Wage</th>\n",
       "      <th>CPI.Average</th>\n",
       "    </tr>\n",
       "  </thead>\n",
       "  <tbody>\n",
       "    <tr>\n",
       "      <th>2808</th>\n",
       "      <td>Alabama</td>\n",
       "      <td>0.00</td>\n",
       "      <td>7.25</td>\n",
       "      <td>7.25</td>\n",
       "      <td>258.66</td>\n",
       "    </tr>\n",
       "    <tr>\n",
       "      <th>2809</th>\n",
       "      <td>Alaska</td>\n",
       "      <td>10.19</td>\n",
       "      <td>7.25</td>\n",
       "      <td>10.19</td>\n",
       "      <td>258.66</td>\n",
       "    </tr>\n",
       "  </tbody>\n",
       "</table>\n",
       "</div>"
      ],
      "text/plain": [
       "        State  State.Minimum.Wage  Federal.Minimum.Wage  \\\n",
       "2808  Alabama                0.00                  7.25   \n",
       "2809   Alaska               10.19                  7.25   \n",
       "\n",
       "      Effective.Minimum.Wage  CPI.Average  \n",
       "2808                    7.25       258.66  \n",
       "2809                   10.19       258.66  "
      ]
     },
     "execution_count": 25,
     "metadata": {},
     "output_type": "execute_result"
    }
   ],
   "source": [
    "min_wg.head(2)"
   ]
  },
  {
   "cell_type": "code",
   "execution_count": 26,
   "id": "extreme-validation",
   "metadata": {},
   "outputs": [
    {
     "name": "stdout",
     "output_type": "stream",
     "text": [
      "<class 'pandas.core.frame.DataFrame'>\n",
      "Int64Index: 54 entries, 2808 to 2861\n",
      "Data columns (total 5 columns):\n",
      " #   Column                  Non-Null Count  Dtype  \n",
      "---  ------                  --------------  -----  \n",
      " 0   State                   54 non-null     object \n",
      " 1   State.Minimum.Wage      54 non-null     float64\n",
      " 2   Federal.Minimum.Wage    54 non-null     float64\n",
      " 3   Effective.Minimum.Wage  54 non-null     float64\n",
      " 4   CPI.Average             54 non-null     float64\n",
      "dtypes: float64(4), object(1)\n",
      "memory usage: 2.5+ KB\n"
     ]
    }
   ],
   "source": [
    "min_wg.info()"
   ]
  },
  {
   "cell_type": "code",
   "execution_count": 27,
   "id": "horizontal-range",
   "metadata": {},
   "outputs": [
    {
     "name": "stdout",
     "output_type": "stream",
     "text": [
      "Error Processing Guam\n",
      "Error Processing Puerto Rico\n",
      "Error Processing U.S. Virgin Islands\n"
     ]
    }
   ],
   "source": [
    "min_wg['state_code'] = min_wg['State'].apply(name_to_code)"
   ]
  },
  {
   "cell_type": "code",
   "execution_count": 28,
   "id": "opening-snake",
   "metadata": {},
   "outputs": [],
   "source": [
    "# Rename Columns\n",
    "min_wg.columns = ['state_full', \n",
    "                  'state_min_wage', \n",
    "                  'fed_min_wage',\n",
    "                  'effective_min_wage', \n",
    "                  'cpi_average', \n",
    "                  'state_code']"
   ]
  },
  {
   "cell_type": "code",
   "execution_count": 29,
   "id": "measured-testing",
   "metadata": {},
   "outputs": [
    {
     "data": {
      "text/html": [
       "<div>\n",
       "<style scoped>\n",
       "    .dataframe tbody tr th:only-of-type {\n",
       "        vertical-align: middle;\n",
       "    }\n",
       "\n",
       "    .dataframe tbody tr th {\n",
       "        vertical-align: top;\n",
       "    }\n",
       "\n",
       "    .dataframe thead th {\n",
       "        text-align: right;\n",
       "    }\n",
       "</style>\n",
       "<table border=\"1\" class=\"dataframe\">\n",
       "  <thead>\n",
       "    <tr style=\"text-align: right;\">\n",
       "      <th></th>\n",
       "      <th>state_full</th>\n",
       "      <th>state_min_wage</th>\n",
       "      <th>fed_min_wage</th>\n",
       "      <th>effective_min_wage</th>\n",
       "      <th>cpi_average</th>\n",
       "      <th>state_code</th>\n",
       "    </tr>\n",
       "  </thead>\n",
       "  <tbody>\n",
       "    <tr>\n",
       "      <th>2808</th>\n",
       "      <td>Alabama</td>\n",
       "      <td>0.00</td>\n",
       "      <td>7.25</td>\n",
       "      <td>7.25</td>\n",
       "      <td>258.66</td>\n",
       "      <td>AL</td>\n",
       "    </tr>\n",
       "    <tr>\n",
       "      <th>2809</th>\n",
       "      <td>Alaska</td>\n",
       "      <td>10.19</td>\n",
       "      <td>7.25</td>\n",
       "      <td>10.19</td>\n",
       "      <td>258.66</td>\n",
       "      <td>AK</td>\n",
       "    </tr>\n",
       "  </tbody>\n",
       "</table>\n",
       "</div>"
      ],
      "text/plain": [
       "     state_full  state_min_wage  fed_min_wage  effective_min_wage  \\\n",
       "2808    Alabama            0.00          7.25                7.25   \n",
       "2809     Alaska           10.19          7.25               10.19   \n",
       "\n",
       "      cpi_average state_code  \n",
       "2808       258.66         AL  \n",
       "2809       258.66         AK  "
      ]
     },
     "execution_count": 29,
     "metadata": {},
     "output_type": "execute_result"
    }
   ],
   "source": [
    "min_wg.head(2)"
   ]
  },
  {
   "cell_type": "markdown",
   "id": "foster-blair",
   "metadata": {},
   "source": [
    "### Property Taxes `prp_taxes` "
   ]
  },
  {
   "cell_type": "code",
   "execution_count": 30,
   "id": "empirical-symphony",
   "metadata": {},
   "outputs": [
    {
     "data": {
      "text/html": [
       "<div>\n",
       "<style scoped>\n",
       "    .dataframe tbody tr th:only-of-type {\n",
       "        vertical-align: middle;\n",
       "    }\n",
       "\n",
       "    .dataframe tbody tr th {\n",
       "        vertical-align: top;\n",
       "    }\n",
       "\n",
       "    .dataframe thead th {\n",
       "        text-align: right;\n",
       "    }\n",
       "</style>\n",
       "<table border=\"1\" class=\"dataframe\">\n",
       "  <thead>\n",
       "    <tr style=\"text-align: right;\">\n",
       "      <th></th>\n",
       "      <th>State</th>\n",
       "      <th>Total (millions of dollars)</th>\n",
       "      <th>Per Capita (dollars)</th>\n",
       "      <th>Percentage of General Revenue</th>\n",
       "      <th>Percentage of Personal Income</th>\n",
       "    </tr>\n",
       "  </thead>\n",
       "  <tbody>\n",
       "    <tr>\n",
       "      <th>0</th>\n",
       "      <td>United States</td>\n",
       "      <td>$547,039</td>\n",
       "      <td>$1,667</td>\n",
       "      <td>16.6%</td>\n",
       "      <td>3.1%</td>\n",
       "    </tr>\n",
       "    <tr>\n",
       "      <th>1</th>\n",
       "      <td>Alabama</td>\n",
       "      <td>2921</td>\n",
       "      <td>596</td>\n",
       "      <td>7.0%</td>\n",
       "      <td>1.4%</td>\n",
       "    </tr>\n",
       "  </tbody>\n",
       "</table>\n",
       "</div>"
      ],
      "text/plain": [
       "           State Total (millions of dollars) Per Capita (dollars)  \\\n",
       "0  United States                    $547,039               $1,667   \n",
       "1        Alabama                        2921                  596   \n",
       "\n",
       "  Percentage of General Revenue Percentage of Personal Income  \n",
       "0                         16.6%                          3.1%  \n",
       "1                          7.0%                          1.4%  "
      ]
     },
     "execution_count": 30,
     "metadata": {},
     "output_type": "execute_result"
    }
   ],
   "source": [
    "prp_taxes.head(2)"
   ]
  },
  {
   "cell_type": "code",
   "execution_count": 31,
   "id": "permanent-there",
   "metadata": {},
   "outputs": [
    {
     "name": "stdout",
     "output_type": "stream",
     "text": [
      "<class 'pandas.core.frame.DataFrame'>\n",
      "RangeIndex: 52 entries, 0 to 51\n",
      "Data columns (total 5 columns):\n",
      " #   Column                         Non-Null Count  Dtype \n",
      "---  ------                         --------------  ----- \n",
      " 0   State                          52 non-null     object\n",
      " 1   Total (millions of dollars)    52 non-null     object\n",
      " 2   Per Capita (dollars)           52 non-null     object\n",
      " 3   Percentage of General Revenue  52 non-null     object\n",
      " 4   Percentage of Personal Income  52 non-null     object\n",
      "dtypes: object(5)\n",
      "memory usage: 2.2+ KB\n"
     ]
    }
   ],
   "source": [
    "prp_taxes.info()"
   ]
  },
  {
   "cell_type": "code",
   "execution_count": 32,
   "id": "novel-confirmation",
   "metadata": {},
   "outputs": [],
   "source": [
    "# Get State Column\n",
    "state = []\n",
    "for i, row in prp_taxes.iterrows():\n",
    "    state_row = states[row[0] == states['State']]\n",
    "    try:\n",
    "        state.append(state_row['Code'].values[0])\n",
    "    except:\n",
    "        state.append(np.nan)\n",
    "        \n",
    "prp_taxes.insert(5, 'state', state)"
   ]
  },
  {
   "cell_type": "code",
   "execution_count": 33,
   "id": "thirty-engagement",
   "metadata": {},
   "outputs": [],
   "source": [
    "# Rename Columns\n",
    "prp_taxes.columns = ['state_full', \n",
    "                     'prp_taxes_mill', \n",
    "                     'prp_taxes_per_capita', \n",
    "                     'prp_taxes_perc_general_rev', \n",
    "                     'prp_taxes_perc_personal_income',\n",
    "                     'state_code']"
   ]
  },
  {
   "cell_type": "code",
   "execution_count": 34,
   "id": "united-spirituality",
   "metadata": {},
   "outputs": [
    {
     "data": {
      "text/html": [
       "<div>\n",
       "<style scoped>\n",
       "    .dataframe tbody tr th:only-of-type {\n",
       "        vertical-align: middle;\n",
       "    }\n",
       "\n",
       "    .dataframe tbody tr th {\n",
       "        vertical-align: top;\n",
       "    }\n",
       "\n",
       "    .dataframe thead th {\n",
       "        text-align: right;\n",
       "    }\n",
       "</style>\n",
       "<table border=\"1\" class=\"dataframe\">\n",
       "  <thead>\n",
       "    <tr style=\"text-align: right;\">\n",
       "      <th></th>\n",
       "      <th>state_full</th>\n",
       "      <th>prp_taxes_mill</th>\n",
       "      <th>prp_taxes_per_capita</th>\n",
       "      <th>prp_taxes_perc_general_rev</th>\n",
       "      <th>prp_taxes_perc_personal_income</th>\n",
       "      <th>state_code</th>\n",
       "    </tr>\n",
       "  </thead>\n",
       "  <tbody>\n",
       "    <tr>\n",
       "      <th>0</th>\n",
       "      <td>United States</td>\n",
       "      <td>$547,039</td>\n",
       "      <td>$1,667</td>\n",
       "      <td>16.6%</td>\n",
       "      <td>3.1%</td>\n",
       "      <td>NaN</td>\n",
       "    </tr>\n",
       "    <tr>\n",
       "      <th>1</th>\n",
       "      <td>Alabama</td>\n",
       "      <td>2921</td>\n",
       "      <td>596</td>\n",
       "      <td>7.0%</td>\n",
       "      <td>1.4%</td>\n",
       "      <td>AL</td>\n",
       "    </tr>\n",
       "    <tr>\n",
       "      <th>2</th>\n",
       "      <td>Alaska</td>\n",
       "      <td>1614</td>\n",
       "      <td>2206</td>\n",
       "      <td>14.0%</td>\n",
       "      <td>3.6%</td>\n",
       "      <td>AK</td>\n",
       "    </tr>\n",
       "  </tbody>\n",
       "</table>\n",
       "</div>"
      ],
      "text/plain": [
       "      state_full prp_taxes_mill prp_taxes_per_capita  \\\n",
       "0  United States       $547,039               $1,667   \n",
       "1        Alabama           2921                  596   \n",
       "2         Alaska           1614                 2206   \n",
       "\n",
       "  prp_taxes_perc_general_rev prp_taxes_perc_personal_income state_code  \n",
       "0                      16.6%                           3.1%        NaN  \n",
       "1                       7.0%                           1.4%         AL  \n",
       "2                      14.0%                           3.6%         AK  "
      ]
     },
     "execution_count": 34,
     "metadata": {},
     "output_type": "execute_result"
    }
   ],
   "source": [
    "prp_taxes.head(3)"
   ]
  },
  {
   "cell_type": "markdown",
   "id": "rapid-contents",
   "metadata": {},
   "source": [
    "### Natural Disasters `dis` "
   ]
  },
  {
   "cell_type": "code",
   "execution_count": 35,
   "id": "academic-rider",
   "metadata": {},
   "outputs": [
    {
     "data": {
      "text/html": [
       "<div>\n",
       "<style scoped>\n",
       "    .dataframe tbody tr th:only-of-type {\n",
       "        vertical-align: middle;\n",
       "    }\n",
       "\n",
       "    .dataframe tbody tr th {\n",
       "        vertical-align: top;\n",
       "    }\n",
       "\n",
       "    .dataframe thead th {\n",
       "        text-align: right;\n",
       "    }\n",
       "</style>\n",
       "<table border=\"1\" class=\"dataframe\">\n",
       "  <thead>\n",
       "    <tr style=\"text-align: right;\">\n",
       "      <th></th>\n",
       "      <th>loc_full</th>\n",
       "      <th>Biological</th>\n",
       "      <th>Chemical</th>\n",
       "      <th>Coastal Storm</th>\n",
       "      <th>Dam/Levee Break</th>\n",
       "      <th>Drought</th>\n",
       "      <th>Earthquake</th>\n",
       "      <th>Fire</th>\n",
       "      <th>Fishing Losses</th>\n",
       "      <th>Flood</th>\n",
       "      <th>...</th>\n",
       "      <th>Other</th>\n",
       "      <th>Severe Ice Storm</th>\n",
       "      <th>Severe Storm(s)</th>\n",
       "      <th>Snow</th>\n",
       "      <th>Terrorist</th>\n",
       "      <th>Tornado</th>\n",
       "      <th>Toxic Substances</th>\n",
       "      <th>Tsunami</th>\n",
       "      <th>Typhoon</th>\n",
       "      <th>Volcano</th>\n",
       "    </tr>\n",
       "  </thead>\n",
       "  <tbody>\n",
       "    <tr>\n",
       "      <th>0</th>\n",
       "      <td>Abbeville County, South Carolina</td>\n",
       "      <td>2.0</td>\n",
       "      <td>NaN</td>\n",
       "      <td>NaN</td>\n",
       "      <td>NaN</td>\n",
       "      <td>1.0</td>\n",
       "      <td>NaN</td>\n",
       "      <td>NaN</td>\n",
       "      <td>NaN</td>\n",
       "      <td>1.0</td>\n",
       "      <td>...</td>\n",
       "      <td>NaN</td>\n",
       "      <td>1.0</td>\n",
       "      <td>2.0</td>\n",
       "      <td>NaN</td>\n",
       "      <td>NaN</td>\n",
       "      <td>1.0</td>\n",
       "      <td>NaN</td>\n",
       "      <td>NaN</td>\n",
       "      <td>NaN</td>\n",
       "      <td>NaN</td>\n",
       "    </tr>\n",
       "    <tr>\n",
       "      <th>1</th>\n",
       "      <td>Acadia Parish, Louisiana</td>\n",
       "      <td>2.0</td>\n",
       "      <td>NaN</td>\n",
       "      <td>2.0</td>\n",
       "      <td>NaN</td>\n",
       "      <td>NaN</td>\n",
       "      <td>NaN</td>\n",
       "      <td>NaN</td>\n",
       "      <td>NaN</td>\n",
       "      <td>3.0</td>\n",
       "      <td>...</td>\n",
       "      <td>1.0</td>\n",
       "      <td>NaN</td>\n",
       "      <td>4.0</td>\n",
       "      <td>NaN</td>\n",
       "      <td>NaN</td>\n",
       "      <td>NaN</td>\n",
       "      <td>NaN</td>\n",
       "      <td>NaN</td>\n",
       "      <td>NaN</td>\n",
       "      <td>NaN</td>\n",
       "    </tr>\n",
       "  </tbody>\n",
       "</table>\n",
       "<p>2 rows × 24 columns</p>\n",
       "</div>"
      ],
      "text/plain": [
       "                           loc_full  Biological  Chemical  Coastal Storm  \\\n",
       "0  Abbeville County, South Carolina         2.0       NaN            NaN   \n",
       "1          Acadia Parish, Louisiana         2.0       NaN            2.0   \n",
       "\n",
       "   Dam/Levee Break  Drought  Earthquake  Fire  Fishing Losses  Flood  ...  \\\n",
       "0              NaN      1.0         NaN   NaN             NaN    1.0  ...   \n",
       "1              NaN      NaN         NaN   NaN             NaN    3.0  ...   \n",
       "\n",
       "   Other  Severe Ice Storm  Severe Storm(s)  Snow  Terrorist  Tornado  \\\n",
       "0    NaN               1.0              2.0   NaN        NaN      1.0   \n",
       "1    1.0               NaN              4.0   NaN        NaN      NaN   \n",
       "\n",
       "   Toxic Substances  Tsunami  Typhoon  Volcano  \n",
       "0               NaN      NaN      NaN      NaN  \n",
       "1               NaN      NaN      NaN      NaN  \n",
       "\n",
       "[2 rows x 24 columns]"
      ]
     },
     "execution_count": 35,
     "metadata": {},
     "output_type": "execute_result"
    }
   ],
   "source": [
    "dis.head(2)"
   ]
  },
  {
   "cell_type": "code",
   "execution_count": 36,
   "id": "clear-drinking",
   "metadata": {},
   "outputs": [
    {
     "name": "stdout",
     "output_type": "stream",
     "text": [
      "<class 'pandas.core.frame.DataFrame'>\n",
      "RangeIndex: 3267 entries, 0 to 3266\n",
      "Data columns (total 24 columns):\n",
      " #   Column            Non-Null Count  Dtype  \n",
      "---  ------            --------------  -----  \n",
      " 0   loc_full          3267 non-null   object \n",
      " 1   Biological        3249 non-null   float64\n",
      " 2   Chemical          9 non-null      float64\n",
      " 3   Coastal Storm     474 non-null    float64\n",
      " 4   Dam/Levee Break   11 non-null     float64\n",
      " 5   Drought           1193 non-null   float64\n",
      " 6   Earthquake        168 non-null    float64\n",
      " 7   Fire              975 non-null    float64\n",
      " 8   Fishing Losses    34 non-null     float64\n",
      " 9   Flood             2705 non-null   float64\n",
      " 10  Freezing          171 non-null    float64\n",
      " 11  Human Cause       7 non-null      float64\n",
      " 12  Hurricane         2899 non-null   float64\n",
      " 13  Mud/Landslide     28 non-null     float64\n",
      " 14  Other             224 non-null    float64\n",
      " 15  Severe Ice Storm  995 non-null    float64\n",
      " 16  Severe Storm(s)   3042 non-null   float64\n",
      " 17  Snow              1623 non-null   float64\n",
      " 18  Terrorist         5 non-null      float64\n",
      " 19  Tornado           1096 non-null   float64\n",
      " 20  Toxic Substances  9 non-null      float64\n",
      " 21  Tsunami           9 non-null      float64\n",
      " 22  Typhoon           2 non-null      float64\n",
      " 23  Volcano           49 non-null     float64\n",
      "dtypes: float64(23), object(1)\n",
      "memory usage: 612.7+ KB\n"
     ]
    }
   ],
   "source": [
    "dis.info()"
   ]
  },
  {
   "cell_type": "code",
   "execution_count": 37,
   "id": "impossible-deviation",
   "metadata": {},
   "outputs": [],
   "source": [
    "# Insert State Column\n",
    "state = [s.split(',')[1].strip() for s in dis['loc_full']]\n",
    "dis.insert(24, 'state', state)"
   ]
  },
  {
   "cell_type": "code",
   "execution_count": 38,
   "id": "deluxe-ending",
   "metadata": {},
   "outputs": [],
   "source": [
    "dis.columns = ['loc_full', \n",
    "               'Biological', \n",
    "               'Chemical', \n",
    "               'Coastal Storm', \n",
    "               'Dam/Levee Break', \n",
    "               'Drought', \n",
    "               'Earthquake', \n",
    "               'Fire', \n",
    "               'Fishing Losses',\n",
    "               'Flood', \n",
    "               'Freezing', \n",
    "               'Human Cause', \n",
    "               'Hurricane', \n",
    "               'Mud/Landslide',\n",
    "               'Other', \n",
    "               'Severe Ice Storm', \n",
    "               'Severe Storm(s)', \n",
    "               'Snow', \n",
    "               'Terrorist',\n",
    "               'Tornado', \n",
    "               'Toxic Substances', \n",
    "               'Tsunami', \n",
    "               'Typhoon', \n",
    "               'Volcano',\n",
    "               'state_full'\n",
    "              ]"
   ]
  },
  {
   "cell_type": "code",
   "execution_count": 39,
   "id": "elder-coverage",
   "metadata": {},
   "outputs": [
    {
     "data": {
      "text/html": [
       "<div>\n",
       "<style scoped>\n",
       "    .dataframe tbody tr th:only-of-type {\n",
       "        vertical-align: middle;\n",
       "    }\n",
       "\n",
       "    .dataframe tbody tr th {\n",
       "        vertical-align: top;\n",
       "    }\n",
       "\n",
       "    .dataframe thead th {\n",
       "        text-align: right;\n",
       "    }\n",
       "</style>\n",
       "<table border=\"1\" class=\"dataframe\">\n",
       "  <thead>\n",
       "    <tr style=\"text-align: right;\">\n",
       "      <th></th>\n",
       "      <th>loc_full</th>\n",
       "      <th>Biological</th>\n",
       "      <th>Chemical</th>\n",
       "      <th>Coastal Storm</th>\n",
       "      <th>Dam/Levee Break</th>\n",
       "      <th>Drought</th>\n",
       "      <th>Earthquake</th>\n",
       "      <th>Fire</th>\n",
       "      <th>Fishing Losses</th>\n",
       "      <th>Flood</th>\n",
       "      <th>...</th>\n",
       "      <th>Severe Ice Storm</th>\n",
       "      <th>Severe Storm(s)</th>\n",
       "      <th>Snow</th>\n",
       "      <th>Terrorist</th>\n",
       "      <th>Tornado</th>\n",
       "      <th>Toxic Substances</th>\n",
       "      <th>Tsunami</th>\n",
       "      <th>Typhoon</th>\n",
       "      <th>Volcano</th>\n",
       "      <th>state_full</th>\n",
       "    </tr>\n",
       "  </thead>\n",
       "  <tbody>\n",
       "    <tr>\n",
       "      <th>0</th>\n",
       "      <td>Abbeville County, South Carolina</td>\n",
       "      <td>2.0</td>\n",
       "      <td>NaN</td>\n",
       "      <td>NaN</td>\n",
       "      <td>NaN</td>\n",
       "      <td>1.0</td>\n",
       "      <td>NaN</td>\n",
       "      <td>NaN</td>\n",
       "      <td>NaN</td>\n",
       "      <td>1.0</td>\n",
       "      <td>...</td>\n",
       "      <td>1.0</td>\n",
       "      <td>2.0</td>\n",
       "      <td>NaN</td>\n",
       "      <td>NaN</td>\n",
       "      <td>1.0</td>\n",
       "      <td>NaN</td>\n",
       "      <td>NaN</td>\n",
       "      <td>NaN</td>\n",
       "      <td>NaN</td>\n",
       "      <td>South Carolina</td>\n",
       "    </tr>\n",
       "    <tr>\n",
       "      <th>1</th>\n",
       "      <td>Acadia Parish, Louisiana</td>\n",
       "      <td>2.0</td>\n",
       "      <td>NaN</td>\n",
       "      <td>2.0</td>\n",
       "      <td>NaN</td>\n",
       "      <td>NaN</td>\n",
       "      <td>NaN</td>\n",
       "      <td>NaN</td>\n",
       "      <td>NaN</td>\n",
       "      <td>3.0</td>\n",
       "      <td>...</td>\n",
       "      <td>NaN</td>\n",
       "      <td>4.0</td>\n",
       "      <td>NaN</td>\n",
       "      <td>NaN</td>\n",
       "      <td>NaN</td>\n",
       "      <td>NaN</td>\n",
       "      <td>NaN</td>\n",
       "      <td>NaN</td>\n",
       "      <td>NaN</td>\n",
       "      <td>Louisiana</td>\n",
       "    </tr>\n",
       "    <tr>\n",
       "      <th>2</th>\n",
       "      <td>Accomack County, Virginia</td>\n",
       "      <td>2.0</td>\n",
       "      <td>NaN</td>\n",
       "      <td>NaN</td>\n",
       "      <td>NaN</td>\n",
       "      <td>NaN</td>\n",
       "      <td>NaN</td>\n",
       "      <td>NaN</td>\n",
       "      <td>NaN</td>\n",
       "      <td>2.0</td>\n",
       "      <td>...</td>\n",
       "      <td>NaN</td>\n",
       "      <td>2.0</td>\n",
       "      <td>2.0</td>\n",
       "      <td>NaN</td>\n",
       "      <td>NaN</td>\n",
       "      <td>NaN</td>\n",
       "      <td>NaN</td>\n",
       "      <td>NaN</td>\n",
       "      <td>NaN</td>\n",
       "      <td>Virginia</td>\n",
       "    </tr>\n",
       "  </tbody>\n",
       "</table>\n",
       "<p>3 rows × 25 columns</p>\n",
       "</div>"
      ],
      "text/plain": [
       "                           loc_full  Biological  Chemical  Coastal Storm  \\\n",
       "0  Abbeville County, South Carolina         2.0       NaN            NaN   \n",
       "1          Acadia Parish, Louisiana         2.0       NaN            2.0   \n",
       "2         Accomack County, Virginia         2.0       NaN            NaN   \n",
       "\n",
       "   Dam/Levee Break  Drought  Earthquake  Fire  Fishing Losses  Flood  ...  \\\n",
       "0              NaN      1.0         NaN   NaN             NaN    1.0  ...   \n",
       "1              NaN      NaN         NaN   NaN             NaN    3.0  ...   \n",
       "2              NaN      NaN         NaN   NaN             NaN    2.0  ...   \n",
       "\n",
       "   Severe Ice Storm  Severe Storm(s)  Snow  Terrorist  Tornado  \\\n",
       "0               1.0              2.0   NaN        NaN      1.0   \n",
       "1               NaN              4.0   NaN        NaN      NaN   \n",
       "2               NaN              2.0   2.0        NaN      NaN   \n",
       "\n",
       "   Toxic Substances  Tsunami  Typhoon  Volcano      state_full  \n",
       "0               NaN      NaN      NaN      NaN  South Carolina  \n",
       "1               NaN      NaN      NaN      NaN       Louisiana  \n",
       "2               NaN      NaN      NaN      NaN        Virginia  \n",
       "\n",
       "[3 rows x 25 columns]"
      ]
     },
     "execution_count": 39,
     "metadata": {},
     "output_type": "execute_result"
    }
   ],
   "source": [
    "dis.head(3)"
   ]
  },
  {
   "cell_type": "markdown",
   "id": "primary-latex",
   "metadata": {},
   "source": [
    "# Giant Merge"
   ]
  },
  {
   "cell_type": "code",
   "execution_count": 40,
   "id": "secondary-significance",
   "metadata": {},
   "outputs": [],
   "source": [
    "def report(df):\n",
    "    print(f'-- {df.name} --')\n",
    "    print(df.shape)\n",
    "    # County Granular DF\n",
    "    if 'loc_full' in df.columns:\n",
    "        print('Rows per County', df['loc_full'].value_counts().mean())\n",
    "        print('Unique Counties: ', df['loc_full'].nunique())\n",
    "        print('Rows per State', df['state_full'].value_counts().mean(), '\\n')\n",
    "    # State Granular DF\n",
    "    else:\n",
    "        print('Unique States: ', df['state_full'].nunique())\n",
    "        print('Rows per State', df['state_full'].value_counts().mean(), '\\n') "
   ]
  },
  {
   "cell_type": "code",
   "execution_count": 41,
   "id": "geographic-suspension",
   "metadata": {},
   "outputs": [],
   "source": [
    "# Name DFs\n",
    "ppsft.name = 'ppsft'\n",
    "dest.name = 'dest'\n",
    "min_wg.name = 'min_wg'\n",
    "prp_taxes.name = 'prp_taxes'\n",
    "dis.name = 'dis'"
   ]
  },
  {
   "cell_type": "code",
   "execution_count": 42,
   "id": "special-supply",
   "metadata": {},
   "outputs": [
    {
     "name": "stdout",
     "output_type": "stream",
     "text": [
      "-- ppsft --\n",
      "(12243, 9)\n",
      "Rows per County 7.134615384615385\n",
      "Unique Counties:  1716\n",
      "Rows per State 240.05882352941177 \n",
      "\n",
      "-- dest --\n",
      "(3139, 4)\n",
      "Rows per County 1.0\n",
      "Unique Counties:  3139\n",
      "Rows per State 61.549019607843135 \n",
      "\n",
      "-- min_wg --\n",
      "(54, 6)\n",
      "Unique States:  54\n",
      "Rows per State 1.0 \n",
      "\n",
      "-- prp_taxes --\n",
      "(52, 6)\n",
      "Unique States:  52\n",
      "Rows per State 1.0 \n",
      "\n",
      "-- dis --\n",
      "(3267, 25)\n",
      "Rows per County 1.0\n",
      "Unique Counties:  3267\n",
      "Rows per State 62.82692307692308 \n",
      "\n"
     ]
    }
   ],
   "source": [
    "# Print Report\n",
    "for df in [ppsft, dest, min_wg, prp_taxes, dis]:\n",
    "    report(df)"
   ]
  },
  {
   "cell_type": "markdown",
   "id": "noble-device",
   "metadata": {},
   "source": [
    "### We Observe That:\n",
    "- The only DF with more than 1 row per county is ppsft\n",
    "- ppsft contains more granual geographical in its col 'region_name'\n",
    "\n",
    "\n",
    "- ppsft is also the DF with the least unique counties\n",
    "- There are around 3k counties in the US; ppsft contains slightly more than half this."
   ]
  },
  {
   "cell_type": "code",
   "execution_count": 43,
   "id": "brilliant-latter",
   "metadata": {},
   "outputs": [
    {
     "data": {
      "text/html": [
       "<div>\n",
       "<style scoped>\n",
       "    .dataframe tbody tr th:only-of-type {\n",
       "        vertical-align: middle;\n",
       "    }\n",
       "\n",
       "    .dataframe tbody tr th {\n",
       "        vertical-align: top;\n",
       "    }\n",
       "\n",
       "    .dataframe thead th {\n",
       "        text-align: right;\n",
       "    }\n",
       "</style>\n",
       "<table border=\"1\" class=\"dataframe\">\n",
       "  <thead>\n",
       "    <tr style=\"text-align: right;\">\n",
       "      <th></th>\n",
       "      <th>region_name_ppsft</th>\n",
       "      <th>state_code</th>\n",
       "      <th>metro_ppsft</th>\n",
       "      <th>county_name</th>\n",
       "      <th>size_rank_ppsft</th>\n",
       "      <th>pct_change_ppsft</th>\n",
       "      <th>ppsft_2017</th>\n",
       "      <th>state_full</th>\n",
       "      <th>loc_full</th>\n",
       "    </tr>\n",
       "  </thead>\n",
       "  <tbody>\n",
       "    <tr>\n",
       "      <th>1370</th>\n",
       "      <td>Norristown</td>\n",
       "      <td>PA</td>\n",
       "      <td>Philadelphia</td>\n",
       "      <td>Montgomery</td>\n",
       "      <td>1371</td>\n",
       "      <td>0.041246</td>\n",
       "      <td>91</td>\n",
       "      <td>Pennsylvania</td>\n",
       "      <td>Montgomery, Pennsylvania</td>\n",
       "    </tr>\n",
       "    <tr>\n",
       "      <th>1781</th>\n",
       "      <td>Lower Merion Township</td>\n",
       "      <td>PA</td>\n",
       "      <td>Philadelphia</td>\n",
       "      <td>Montgomery</td>\n",
       "      <td>1782</td>\n",
       "      <td>0.015858</td>\n",
       "      <td>226</td>\n",
       "      <td>Pennsylvania</td>\n",
       "      <td>Montgomery, Pennsylvania</td>\n",
       "    </tr>\n",
       "    <tr>\n",
       "      <th>2045</th>\n",
       "      <td>Pottstown</td>\n",
       "      <td>PA</td>\n",
       "      <td>Philadelphia</td>\n",
       "      <td>Montgomery</td>\n",
       "      <td>2046</td>\n",
       "      <td>0.011174</td>\n",
       "      <td>91</td>\n",
       "      <td>Pennsylvania</td>\n",
       "      <td>Montgomery, Pennsylvania</td>\n",
       "    </tr>\n",
       "    <tr>\n",
       "      <th>2143</th>\n",
       "      <td>Upper Providence Township</td>\n",
       "      <td>PA</td>\n",
       "      <td>Philadelphia</td>\n",
       "      <td>Montgomery</td>\n",
       "      <td>2144</td>\n",
       "      <td>0.023697</td>\n",
       "      <td>153</td>\n",
       "      <td>Pennsylvania</td>\n",
       "      <td>Montgomery, Pennsylvania</td>\n",
       "    </tr>\n",
       "    <tr>\n",
       "      <th>2217</th>\n",
       "      <td>Hatfield Township</td>\n",
       "      <td>PA</td>\n",
       "      <td>Philadelphia</td>\n",
       "      <td>Montgomery</td>\n",
       "      <td>2218</td>\n",
       "      <td>0.029812</td>\n",
       "      <td>158</td>\n",
       "      <td>Pennsylvania</td>\n",
       "      <td>Montgomery, Pennsylvania</td>\n",
       "    </tr>\n",
       "  </tbody>\n",
       "</table>\n",
       "</div>"
      ],
      "text/plain": [
       "              region_name_ppsft state_code   metro_ppsft county_name  \\\n",
       "1370                 Norristown         PA  Philadelphia  Montgomery   \n",
       "1781      Lower Merion Township         PA  Philadelphia  Montgomery   \n",
       "2045                  Pottstown         PA  Philadelphia  Montgomery   \n",
       "2143  Upper Providence Township         PA  Philadelphia  Montgomery   \n",
       "2217          Hatfield Township         PA  Philadelphia  Montgomery   \n",
       "\n",
       "      size_rank_ppsft  pct_change_ppsft  ppsft_2017    state_full  \\\n",
       "1370             1371          0.041246          91  Pennsylvania   \n",
       "1781             1782          0.015858         226  Pennsylvania   \n",
       "2045             2046          0.011174          91  Pennsylvania   \n",
       "2143             2144          0.023697         153  Pennsylvania   \n",
       "2217             2218          0.029812         158  Pennsylvania   \n",
       "\n",
       "                      loc_full  \n",
       "1370  Montgomery, Pennsylvania  \n",
       "1781  Montgomery, Pennsylvania  \n",
       "2045  Montgomery, Pennsylvania  \n",
       "2143  Montgomery, Pennsylvania  \n",
       "2217  Montgomery, Pennsylvania  "
      ]
     },
     "execution_count": 43,
     "metadata": {},
     "output_type": "execute_result"
    }
   ],
   "source": [
    "# ppsft contains more granual geographical in its col 'region_name'\n",
    "# For Example: County Montgomery, PA has multiple 'region_name's\n",
    "montgomery = ppsft[ppsft['loc_full'] == 'Montgomery, Pennsylvania']\n",
    "montgomery.head()"
   ]
  },
  {
   "cell_type": "code",
   "execution_count": 50,
   "id": "piano-competition",
   "metadata": {},
   "outputs": [
    {
     "data": {
      "text/html": [
       "<div>\n",
       "<style scoped>\n",
       "    .dataframe tbody tr th:only-of-type {\n",
       "        vertical-align: middle;\n",
       "    }\n",
       "\n",
       "    .dataframe tbody tr th {\n",
       "        vertical-align: top;\n",
       "    }\n",
       "\n",
       "    .dataframe thead th {\n",
       "        text-align: right;\n",
       "    }\n",
       "</style>\n",
       "<table border=\"1\" class=\"dataframe\">\n",
       "  <thead>\n",
       "    <tr style=\"text-align: right;\">\n",
       "      <th></th>\n",
       "      <th>loc_full</th>\n",
       "      <th>state_full</th>\n",
       "      <th>size_rank_ppsft</th>\n",
       "      <th>pct_change_ppsft</th>\n",
       "      <th>ppsft_2017</th>\n",
       "    </tr>\n",
       "  </thead>\n",
       "  <tbody>\n",
       "    <tr>\n",
       "      <th>0</th>\n",
       "      <td>Ada, Idaho</td>\n",
       "      <td>Idaho</td>\n",
       "      <td>2951.000000</td>\n",
       "      <td>0.083953</td>\n",
       "      <td>132.833333</td>\n",
       "    </tr>\n",
       "    <tr>\n",
       "      <th>1</th>\n",
       "      <td>Adams, Colorado</td>\n",
       "      <td>Colorado</td>\n",
       "      <td>4497.538462</td>\n",
       "      <td>0.117766</td>\n",
       "      <td>231.230769</td>\n",
       "    </tr>\n",
       "    <tr>\n",
       "      <th>2</th>\n",
       "      <td>Adams, Illinois</td>\n",
       "      <td>Illinois</td>\n",
       "      <td>1686.000000</td>\n",
       "      <td>0.013158</td>\n",
       "      <td>78.000000</td>\n",
       "    </tr>\n",
       "    <tr>\n",
       "      <th>3</th>\n",
       "      <td>Adams, Indiana</td>\n",
       "      <td>Indiana</td>\n",
       "      <td>6791.750000</td>\n",
       "      <td>0.021596</td>\n",
       "      <td>66.250000</td>\n",
       "    </tr>\n",
       "    <tr>\n",
       "      <th>4</th>\n",
       "      <td>Adams, Mississippi</td>\n",
       "      <td>Mississippi</td>\n",
       "      <td>1571.000000</td>\n",
       "      <td>0.020548</td>\n",
       "      <td>76.000000</td>\n",
       "    </tr>\n",
       "    <tr>\n",
       "      <th>...</th>\n",
       "      <td>...</td>\n",
       "      <td>...</td>\n",
       "      <td>...</td>\n",
       "      <td>...</td>\n",
       "      <td>...</td>\n",
       "    </tr>\n",
       "    <tr>\n",
       "      <th>1711</th>\n",
       "      <td>Young, Texas</td>\n",
       "      <td>Texas</td>\n",
       "      <td>7479.000000</td>\n",
       "      <td>-0.040205</td>\n",
       "      <td>35.000000</td>\n",
       "    </tr>\n",
       "    <tr>\n",
       "      <th>1712</th>\n",
       "      <td>Yuba, California</td>\n",
       "      <td>California</td>\n",
       "      <td>5598.750000</td>\n",
       "      <td>0.126128</td>\n",
       "      <td>166.250000</td>\n",
       "    </tr>\n",
       "    <tr>\n",
       "      <th>1713</th>\n",
       "      <td>Yuma, Arizona</td>\n",
       "      <td>Arizona</td>\n",
       "      <td>2886.250000</td>\n",
       "      <td>0.047078</td>\n",
       "      <td>100.250000</td>\n",
       "    </tr>\n",
       "    <tr>\n",
       "      <th>1714</th>\n",
       "      <td>Zapata, Texas</td>\n",
       "      <td>Texas</td>\n",
       "      <td>3336.000000</td>\n",
       "      <td>0.078249</td>\n",
       "      <td>73.000000</td>\n",
       "    </tr>\n",
       "    <tr>\n",
       "      <th>1715</th>\n",
       "      <td>Zavala, Texas</td>\n",
       "      <td>Texas</td>\n",
       "      <td>4485.000000</td>\n",
       "      <td>0.071591</td>\n",
       "      <td>63.000000</td>\n",
       "    </tr>\n",
       "  </tbody>\n",
       "</table>\n",
       "<p>1716 rows × 5 columns</p>\n",
       "</div>"
      ],
      "text/plain": [
       "                loc_full   state_full  size_rank_ppsft  pct_change_ppsft  \\\n",
       "0             Ada, Idaho        Idaho      2951.000000          0.083953   \n",
       "1        Adams, Colorado     Colorado      4497.538462          0.117766   \n",
       "2        Adams, Illinois     Illinois      1686.000000          0.013158   \n",
       "3         Adams, Indiana      Indiana      6791.750000          0.021596   \n",
       "4     Adams, Mississippi  Mississippi      1571.000000          0.020548   \n",
       "...                  ...          ...              ...               ...   \n",
       "1711        Young, Texas        Texas      7479.000000         -0.040205   \n",
       "1712    Yuba, California   California      5598.750000          0.126128   \n",
       "1713       Yuma, Arizona      Arizona      2886.250000          0.047078   \n",
       "1714       Zapata, Texas        Texas      3336.000000          0.078249   \n",
       "1715       Zavala, Texas        Texas      4485.000000          0.071591   \n",
       "\n",
       "      ppsft_2017  \n",
       "0     132.833333  \n",
       "1     231.230769  \n",
       "2      78.000000  \n",
       "3      66.250000  \n",
       "4      76.000000  \n",
       "...          ...  \n",
       "1711   35.000000  \n",
       "1712  166.250000  \n",
       "1713  100.250000  \n",
       "1714   73.000000  \n",
       "1715   63.000000  \n",
       "\n",
       "[1716 rows x 5 columns]"
      ]
     },
     "execution_count": 50,
     "metadata": {},
     "output_type": "execute_result"
    }
   ],
   "source": [
    "ppsft.groupby(['loc_full', 'state_full']).mean().reset_index()"
   ]
  },
  {
   "cell_type": "code",
   "execution_count": 44,
   "id": "previous-checklist",
   "metadata": {},
   "outputs": [
    {
     "data": {
      "text/plain": [
       "1.0"
      ]
     },
     "execution_count": 44,
     "metadata": {},
     "output_type": "execute_result"
    }
   ],
   "source": [
    "# I'm not sure if this added 'region_name' granualrity is useful...\n",
    "# For simplicities sake I will group it out.\n",
    "\n",
    "ppsft = ppsft.groupby(by='loc_full').mean().reset_index()\n",
    "ppsft['loc_full'].value_counts().mean()"
   ]
  },
  {
   "cell_type": "markdown",
   "id": "hollywood-sheep",
   "metadata": {},
   "source": [
    "### Merge 1"
   ]
  },
  {
   "cell_type": "code",
   "execution_count": 45,
   "id": "occupied-championship",
   "metadata": {},
   "outputs": [
    {
     "name": "stdout",
     "output_type": "stream",
     "text": [
      "(1716, 4)\n"
     ]
    },
    {
     "data": {
      "text/html": [
       "<div>\n",
       "<style scoped>\n",
       "    .dataframe tbody tr th:only-of-type {\n",
       "        vertical-align: middle;\n",
       "    }\n",
       "\n",
       "    .dataframe tbody tr th {\n",
       "        vertical-align: top;\n",
       "    }\n",
       "\n",
       "    .dataframe thead th {\n",
       "        text-align: right;\n",
       "    }\n",
       "</style>\n",
       "<table border=\"1\" class=\"dataframe\">\n",
       "  <thead>\n",
       "    <tr style=\"text-align: right;\">\n",
       "      <th></th>\n",
       "      <th>loc_full</th>\n",
       "      <th>size_rank_ppsft</th>\n",
       "      <th>pct_change_ppsft</th>\n",
       "      <th>ppsft_2017</th>\n",
       "    </tr>\n",
       "  </thead>\n",
       "  <tbody>\n",
       "    <tr>\n",
       "      <th>0</th>\n",
       "      <td>Ada, Idaho</td>\n",
       "      <td>2951.000000</td>\n",
       "      <td>0.083953</td>\n",
       "      <td>132.833333</td>\n",
       "    </tr>\n",
       "    <tr>\n",
       "      <th>1</th>\n",
       "      <td>Adams, Colorado</td>\n",
       "      <td>4497.538462</td>\n",
       "      <td>0.117766</td>\n",
       "      <td>231.230769</td>\n",
       "    </tr>\n",
       "  </tbody>\n",
       "</table>\n",
       "</div>"
      ],
      "text/plain": [
       "          loc_full  size_rank_ppsft  pct_change_ppsft  ppsft_2017\n",
       "0       Ada, Idaho      2951.000000          0.083953  132.833333\n",
       "1  Adams, Colorado      4497.538462          0.117766  231.230769"
      ]
     },
     "execution_count": 45,
     "metadata": {},
     "output_type": "execute_result"
    }
   ],
   "source": [
    "print(ppsft.shape)\n",
    "ppsft.head(2)"
   ]
  },
  {
   "cell_type": "code",
   "execution_count": 46,
   "id": "shared-physiology",
   "metadata": {},
   "outputs": [
    {
     "name": "stdout",
     "output_type": "stream",
     "text": [
      "(3139, 4)\n"
     ]
    },
    {
     "data": {
      "text/html": [
       "<div>\n",
       "<style scoped>\n",
       "    .dataframe tbody tr th:only-of-type {\n",
       "        vertical-align: middle;\n",
       "    }\n",
       "\n",
       "    .dataframe tbody tr th {\n",
       "        vertical-align: top;\n",
       "    }\n",
       "\n",
       "    .dataframe thead th {\n",
       "        text-align: right;\n",
       "    }\n",
       "</style>\n",
       "<table border=\"1\" class=\"dataframe\">\n",
       "  <thead>\n",
       "    <tr style=\"text-align: right;\">\n",
       "      <th></th>\n",
       "      <th>loc_full</th>\n",
       "      <th>state_full</th>\n",
       "      <th>n_trips</th>\n",
       "      <th>state_code</th>\n",
       "    </tr>\n",
       "  </thead>\n",
       "  <tbody>\n",
       "    <tr>\n",
       "      <th>0</th>\n",
       "      <td>Abbeville, South Carolina</td>\n",
       "      <td>South Carolina</td>\n",
       "      <td>184624.0</td>\n",
       "      <td>SC</td>\n",
       "    </tr>\n",
       "    <tr>\n",
       "      <th>1</th>\n",
       "      <td>Acadia Parish, Louisiana</td>\n",
       "      <td>Louisiana</td>\n",
       "      <td>241374.0</td>\n",
       "      <td>LA</td>\n",
       "    </tr>\n",
       "  </tbody>\n",
       "</table>\n",
       "</div>"
      ],
      "text/plain": [
       "                    loc_full      state_full   n_trips state_code\n",
       "0  Abbeville, South Carolina  South Carolina  184624.0         SC\n",
       "1   Acadia Parish, Louisiana       Louisiana  241374.0         LA"
      ]
     },
     "execution_count": 46,
     "metadata": {},
     "output_type": "execute_result"
    }
   ],
   "source": [
    "print(dest.shape)\n",
    "dest.head(2)"
   ]
  },
  {
   "cell_type": "code",
   "execution_count": 47,
   "id": "prime-suspension",
   "metadata": {},
   "outputs": [
    {
     "name": "stdout",
     "output_type": "stream",
     "text": [
      "dest has 1 Row per County:  1.0\n",
      "ppsft has on average 7.13 rows per county\n"
     ]
    },
    {
     "data": {
      "text/plain": [
       "1.0"
      ]
     },
     "execution_count": 47,
     "metadata": {},
     "output_type": "execute_result"
    }
   ],
   "source": [
    "# ppsft has more granularity than loc_full\n",
    "print('dest has 1 Row per County: ', dest['loc_full'].value_counts().mean())\n",
    "print('ppsft has on average 7.13 rows per county')\n",
    "ppsft['loc_full'].value_counts().mean()"
   ]
  },
  {
   "cell_type": "code",
   "execution_count": 48,
   "id": "headed-treasury",
   "metadata": {},
   "outputs": [
    {
     "data": {
      "text/plain": [
       "1.0"
      ]
     },
     "execution_count": 48,
     "metadata": {},
     "output_type": "execute_result"
    }
   ],
   "source": [
    "# Check for Granularity\n",
    "dest['loc_full'].value_counts().mean()"
   ]
  },
  {
   "cell_type": "code",
   "execution_count": 49,
   "id": "damaged-tribute",
   "metadata": {},
   "outputs": [
    {
     "ename": "KeyError",
     "evalue": "'state_code'",
     "output_type": "error",
     "traceback": [
      "\u001b[0;31m---------------------------------------------------------------------------\u001b[0m",
      "\u001b[0;31mKeyError\u001b[0m                                  Traceback (most recent call last)",
      "\u001b[0;32m<ipython-input-49-aeec99c36cc8>\u001b[0m in \u001b[0;36m<module>\u001b[0;34m\u001b[0m\n\u001b[0;32m----> 1\u001b[0;31m \u001b[0mm1i\u001b[0m \u001b[0;34m=\u001b[0m \u001b[0mppsft\u001b[0m\u001b[0;34m.\u001b[0m\u001b[0mmerge\u001b[0m\u001b[0;34m(\u001b[0m\u001b[0mright\u001b[0m\u001b[0;34m=\u001b[0m\u001b[0mdest\u001b[0m\u001b[0;34m,\u001b[0m \u001b[0mhow\u001b[0m\u001b[0;34m=\u001b[0m\u001b[0;34m'inner'\u001b[0m\u001b[0;34m,\u001b[0m \u001b[0mon\u001b[0m\u001b[0;34m=\u001b[0m\u001b[0;34m[\u001b[0m\u001b[0;34m'loc_full'\u001b[0m\u001b[0;34m,\u001b[0m \u001b[0;34m'state_code'\u001b[0m\u001b[0;34m,\u001b[0m \u001b[0;34m'state_full'\u001b[0m\u001b[0;34m]\u001b[0m\u001b[0;34m)\u001b[0m\u001b[0;34m\u001b[0m\u001b[0;34m\u001b[0m\u001b[0m\n\u001b[0m\u001b[1;32m      2\u001b[0m \u001b[0mprint\u001b[0m\u001b[0;34m(\u001b[0m\u001b[0mm1i\u001b[0m\u001b[0;34m.\u001b[0m\u001b[0mshape\u001b[0m\u001b[0;34m[\u001b[0m\u001b[0;36m0\u001b[0m\u001b[0;34m]\u001b[0m\u001b[0;34m)\u001b[0m\u001b[0;34m\u001b[0m\u001b[0;34m\u001b[0m\u001b[0m\n\u001b[1;32m      3\u001b[0m \u001b[0;34m\u001b[0m\u001b[0m\n\u001b[1;32m      4\u001b[0m \u001b[0mm1o\u001b[0m \u001b[0;34m=\u001b[0m \u001b[0mppsft\u001b[0m\u001b[0;34m.\u001b[0m\u001b[0mmerge\u001b[0m\u001b[0;34m(\u001b[0m\u001b[0mright\u001b[0m\u001b[0;34m=\u001b[0m\u001b[0mdest\u001b[0m\u001b[0;34m,\u001b[0m \u001b[0mhow\u001b[0m\u001b[0;34m=\u001b[0m\u001b[0;34m'outer'\u001b[0m\u001b[0;34m,\u001b[0m \u001b[0mon\u001b[0m\u001b[0;34m=\u001b[0m\u001b[0;34m[\u001b[0m\u001b[0;34m'loc_full'\u001b[0m\u001b[0;34m,\u001b[0m \u001b[0;34m'state_code'\u001b[0m\u001b[0;34m,\u001b[0m \u001b[0;34m'state_full'\u001b[0m\u001b[0;34m]\u001b[0m\u001b[0;34m)\u001b[0m\u001b[0;34m\u001b[0m\u001b[0;34m\u001b[0m\u001b[0m\n\u001b[1;32m      5\u001b[0m \u001b[0mprint\u001b[0m\u001b[0;34m(\u001b[0m\u001b[0mm1o\u001b[0m\u001b[0;34m.\u001b[0m\u001b[0mshape\u001b[0m\u001b[0;34m[\u001b[0m\u001b[0;36m0\u001b[0m\u001b[0;34m]\u001b[0m\u001b[0;34m)\u001b[0m\u001b[0;34m\u001b[0m\u001b[0;34m\u001b[0m\u001b[0m\n",
      "\u001b[0;32m~/prj/2021/vrb-know/venv/lib/python3.8/site-packages/pandas/core/frame.py\u001b[0m in \u001b[0;36mmerge\u001b[0;34m(self, right, how, on, left_on, right_on, left_index, right_index, sort, suffixes, copy, indicator, validate)\u001b[0m\n\u001b[1;32m   8190\u001b[0m         \u001b[0;32mfrom\u001b[0m \u001b[0mpandas\u001b[0m\u001b[0;34m.\u001b[0m\u001b[0mcore\u001b[0m\u001b[0;34m.\u001b[0m\u001b[0mreshape\u001b[0m\u001b[0;34m.\u001b[0m\u001b[0mmerge\u001b[0m \u001b[0;32mimport\u001b[0m \u001b[0mmerge\u001b[0m\u001b[0;34m\u001b[0m\u001b[0;34m\u001b[0m\u001b[0m\n\u001b[1;32m   8191\u001b[0m \u001b[0;34m\u001b[0m\u001b[0m\n\u001b[0;32m-> 8192\u001b[0;31m         return merge(\n\u001b[0m\u001b[1;32m   8193\u001b[0m             \u001b[0mself\u001b[0m\u001b[0;34m,\u001b[0m\u001b[0;34m\u001b[0m\u001b[0;34m\u001b[0m\u001b[0m\n\u001b[1;32m   8194\u001b[0m             \u001b[0mright\u001b[0m\u001b[0;34m,\u001b[0m\u001b[0;34m\u001b[0m\u001b[0;34m\u001b[0m\u001b[0m\n",
      "\u001b[0;32m~/prj/2021/vrb-know/venv/lib/python3.8/site-packages/pandas/core/reshape/merge.py\u001b[0m in \u001b[0;36mmerge\u001b[0;34m(left, right, how, on, left_on, right_on, left_index, right_index, sort, suffixes, copy, indicator, validate)\u001b[0m\n\u001b[1;32m     72\u001b[0m     \u001b[0mvalidate\u001b[0m\u001b[0;34m=\u001b[0m\u001b[0;32mNone\u001b[0m\u001b[0;34m,\u001b[0m\u001b[0;34m\u001b[0m\u001b[0;34m\u001b[0m\u001b[0m\n\u001b[1;32m     73\u001b[0m ) -> \"DataFrame\":\n\u001b[0;32m---> 74\u001b[0;31m     op = _MergeOperation(\n\u001b[0m\u001b[1;32m     75\u001b[0m         \u001b[0mleft\u001b[0m\u001b[0;34m,\u001b[0m\u001b[0;34m\u001b[0m\u001b[0;34m\u001b[0m\u001b[0m\n\u001b[1;32m     76\u001b[0m         \u001b[0mright\u001b[0m\u001b[0;34m,\u001b[0m\u001b[0;34m\u001b[0m\u001b[0;34m\u001b[0m\u001b[0m\n",
      "\u001b[0;32m~/prj/2021/vrb-know/venv/lib/python3.8/site-packages/pandas/core/reshape/merge.py\u001b[0m in \u001b[0;36m__init__\u001b[0;34m(self, left, right, how, on, left_on, right_on, axis, left_index, right_index, sort, suffixes, copy, indicator, validate)\u001b[0m\n\u001b[1;32m    666\u001b[0m             \u001b[0mself\u001b[0m\u001b[0;34m.\u001b[0m\u001b[0mright_join_keys\u001b[0m\u001b[0;34m,\u001b[0m\u001b[0;34m\u001b[0m\u001b[0;34m\u001b[0m\u001b[0m\n\u001b[1;32m    667\u001b[0m             \u001b[0mself\u001b[0m\u001b[0;34m.\u001b[0m\u001b[0mjoin_names\u001b[0m\u001b[0;34m,\u001b[0m\u001b[0;34m\u001b[0m\u001b[0;34m\u001b[0m\u001b[0m\n\u001b[0;32m--> 668\u001b[0;31m         ) = self._get_merge_keys()\n\u001b[0m\u001b[1;32m    669\u001b[0m \u001b[0;34m\u001b[0m\u001b[0m\n\u001b[1;32m    670\u001b[0m         \u001b[0;31m# validate the merge keys dtypes. We may need to coerce\u001b[0m\u001b[0;34m\u001b[0m\u001b[0;34m\u001b[0m\u001b[0;34m\u001b[0m\u001b[0m\n",
      "\u001b[0;32m~/prj/2021/vrb-know/venv/lib/python3.8/site-packages/pandas/core/reshape/merge.py\u001b[0m in \u001b[0;36m_get_merge_keys\u001b[0;34m(self)\u001b[0m\n\u001b[1;32m   1044\u001b[0m                         \u001b[0mright_keys\u001b[0m\u001b[0;34m.\u001b[0m\u001b[0mappend\u001b[0m\u001b[0;34m(\u001b[0m\u001b[0mrk\u001b[0m\u001b[0;34m)\u001b[0m\u001b[0;34m\u001b[0m\u001b[0;34m\u001b[0m\u001b[0m\n\u001b[1;32m   1045\u001b[0m                     \u001b[0;32mif\u001b[0m \u001b[0mlk\u001b[0m \u001b[0;32mis\u001b[0m \u001b[0;32mnot\u001b[0m \u001b[0;32mNone\u001b[0m\u001b[0;34m:\u001b[0m\u001b[0;34m\u001b[0m\u001b[0;34m\u001b[0m\u001b[0m\n\u001b[0;32m-> 1046\u001b[0;31m                         \u001b[0mleft_keys\u001b[0m\u001b[0;34m.\u001b[0m\u001b[0mappend\u001b[0m\u001b[0;34m(\u001b[0m\u001b[0mleft\u001b[0m\u001b[0;34m.\u001b[0m\u001b[0m_get_label_or_level_values\u001b[0m\u001b[0;34m(\u001b[0m\u001b[0mlk\u001b[0m\u001b[0;34m)\u001b[0m\u001b[0;34m)\u001b[0m\u001b[0;34m\u001b[0m\u001b[0;34m\u001b[0m\u001b[0m\n\u001b[0m\u001b[1;32m   1047\u001b[0m                         \u001b[0mjoin_names\u001b[0m\u001b[0;34m.\u001b[0m\u001b[0mappend\u001b[0m\u001b[0;34m(\u001b[0m\u001b[0mlk\u001b[0m\u001b[0;34m)\u001b[0m\u001b[0;34m\u001b[0m\u001b[0;34m\u001b[0m\u001b[0m\n\u001b[1;32m   1048\u001b[0m                     \u001b[0;32melse\u001b[0m\u001b[0;34m:\u001b[0m\u001b[0;34m\u001b[0m\u001b[0;34m\u001b[0m\u001b[0m\n",
      "\u001b[0;32m~/prj/2021/vrb-know/venv/lib/python3.8/site-packages/pandas/core/generic.py\u001b[0m in \u001b[0;36m_get_label_or_level_values\u001b[0;34m(self, key, axis)\u001b[0m\n\u001b[1;32m   1679\u001b[0m             \u001b[0mvalues\u001b[0m \u001b[0;34m=\u001b[0m \u001b[0mself\u001b[0m\u001b[0;34m.\u001b[0m\u001b[0maxes\u001b[0m\u001b[0;34m[\u001b[0m\u001b[0maxis\u001b[0m\u001b[0;34m]\u001b[0m\u001b[0;34m.\u001b[0m\u001b[0mget_level_values\u001b[0m\u001b[0;34m(\u001b[0m\u001b[0mkey\u001b[0m\u001b[0;34m)\u001b[0m\u001b[0;34m.\u001b[0m\u001b[0m_values\u001b[0m\u001b[0;34m\u001b[0m\u001b[0;34m\u001b[0m\u001b[0m\n\u001b[1;32m   1680\u001b[0m         \u001b[0;32melse\u001b[0m\u001b[0;34m:\u001b[0m\u001b[0;34m\u001b[0m\u001b[0;34m\u001b[0m\u001b[0m\n\u001b[0;32m-> 1681\u001b[0;31m             \u001b[0;32mraise\u001b[0m \u001b[0mKeyError\u001b[0m\u001b[0;34m(\u001b[0m\u001b[0mkey\u001b[0m\u001b[0;34m)\u001b[0m\u001b[0;34m\u001b[0m\u001b[0;34m\u001b[0m\u001b[0m\n\u001b[0m\u001b[1;32m   1682\u001b[0m \u001b[0;34m\u001b[0m\u001b[0m\n\u001b[1;32m   1683\u001b[0m         \u001b[0;31m# Check for duplicates\u001b[0m\u001b[0;34m\u001b[0m\u001b[0;34m\u001b[0m\u001b[0;34m\u001b[0m\u001b[0m\n",
      "\u001b[0;31mKeyError\u001b[0m: 'state_code'"
     ]
    }
   ],
   "source": [
    "m1i = ppsft.merge(right=dest, how='inner', on=['loc_full', 'state_code', 'state_full'])\n",
    "print(m1i.shape[0])\n",
    "\n",
    "m1o = ppsft.merge(right=dest, how='outer', on=['loc_full', 'state_code', 'state_full'])\n",
    "print(m1o.shape[0])"
   ]
  },
  {
   "cell_type": "code",
   "execution_count": null,
   "id": "spiritual-conjunction",
   "metadata": {},
   "outputs": [],
   "source": [
    "m1i.head(2)"
   ]
  },
  {
   "cell_type": "code",
   "execution_count": null,
   "id": "adjustable-indonesian",
   "metadata": {},
   "outputs": [],
   "source": [
    "m1o.head(2)"
   ]
  },
  {
   "cell_type": "markdown",
   "id": "enclosed-acrobat",
   "metadata": {},
   "source": [
    "### Merge 2 "
   ]
  },
  {
   "cell_type": "code",
   "execution_count": null,
   "id": "congressional-billy",
   "metadata": {},
   "outputs": [],
   "source": [
    "print(min_wg.shape)\n",
    "min_wg.head(2)"
   ]
  },
  {
   "cell_type": "code",
   "execution_count": null,
   "id": "included-footage",
   "metadata": {},
   "outputs": [],
   "source": [
    "m2i = m1i.merge(right=min_wg, how='left', on=['state_code', 'state_full'])\n",
    "print(m2i.shape)\n",
    "\n",
    "m2o = m1o.merge(right=min_wg, how='left', on=['state_code', 'state_full'])\n",
    "print(m2o.shape)"
   ]
  },
  {
   "cell_type": "markdown",
   "id": "humanitarian-forwarding",
   "metadata": {},
   "source": [
    "### Merge 3"
   ]
  },
  {
   "cell_type": "code",
   "execution_count": null,
   "id": "blessed-trunk",
   "metadata": {},
   "outputs": [],
   "source": [
    "print(prp_taxes.shape)\n",
    "prp_taxes.head(2)"
   ]
  },
  {
   "cell_type": "code",
   "execution_count": null,
   "id": "naughty-passage",
   "metadata": {},
   "outputs": [],
   "source": [
    "m3i = m2i.merge(right=prp_taxes, how='left', on=['state_code', 'state_full'])\n",
    "print(m3i.shape)\n",
    "\n",
    "m3o = m2o.merge(right=prp_taxes, how='left', on=['state_code', 'state_full'])\n",
    "print(m3o.shape)"
   ]
  },
  {
   "cell_type": "code",
   "execution_count": null,
   "id": "packed-edward",
   "metadata": {},
   "outputs": [],
   "source": [
    "m3i.head(2)"
   ]
  },
  {
   "cell_type": "code",
   "execution_count": null,
   "id": "difficult-morocco",
   "metadata": {},
   "outputs": [],
   "source": [
    "m3i.tail(2)"
   ]
  },
  {
   "cell_type": "markdown",
   "id": "relevant-impact",
   "metadata": {},
   "source": [
    "### Merge 4 <- Might stop at Merge 3"
   ]
  },
  {
   "cell_type": "code",
   "execution_count": null,
   "id": "introductory-relay",
   "metadata": {},
   "outputs": [],
   "source": [
    "dis.head(2)"
   ]
  },
  {
   "cell_type": "code",
   "execution_count": null,
   "id": "instructional-speaker",
   "metadata": {},
   "outputs": [],
   "source": [
    "m4i = m3i.merge(right=dis, how='left', on=['loc_full', 'state_full'])\n",
    "print(m4i.shape)\n",
    "\n",
    "m4o = m3i.merge(right=dis, how='left', on=['loc_full', 'state_full'])\n",
    "print(m4o.shape)"
   ]
  },
  {
   "cell_type": "code",
   "execution_count": null,
   "id": "rocky-society",
   "metadata": {},
   "outputs": [],
   "source": [
    "m4i.head()"
   ]
  },
  {
   "cell_type": "code",
   "execution_count": null,
   "id": "recognized-conversation",
   "metadata": {},
   "outputs": [],
   "source": [
    "m4i.info()"
   ]
  },
  {
   "cell_type": "code",
   "execution_count": null,
   "id": "careful-scope",
   "metadata": {},
   "outputs": [],
   "source": [
    "m4o.info()"
   ]
  },
  {
   "cell_type": "code",
   "execution_count": null,
   "id": "affiliated-glenn",
   "metadata": {},
   "outputs": [],
   "source": [
    "outer = m4o"
   ]
  },
  {
   "cell_type": "code",
   "execution_count": null,
   "id": "eleven-assessment",
   "metadata": {},
   "outputs": [],
   "source": [
    "to_drop = []\n",
    "for i in range(len(outer.columns)):\n",
    "    if outer[str(outer.columns[i])].notna().sum() == 0:\n",
    "        to_drop.append(str(outer.columns[i]))"
   ]
  },
  {
   "cell_type": "code",
   "execution_count": null,
   "id": "accepted-slovenia",
   "metadata": {},
   "outputs": [],
   "source": [
    "outer = outer.drop(to_drop, axis=1)"
   ]
  },
  {
   "cell_type": "code",
   "execution_count": null,
   "id": "traditional-printer",
   "metadata": {},
   "outputs": [],
   "source": [
    "outer.head()"
   ]
  },
  {
   "cell_type": "code",
   "execution_count": null,
   "id": "rational-paste",
   "metadata": {},
   "outputs": [],
   "source": [
    "outer.to_csv('outer_merge.csv')"
   ]
  },
  {
   "cell_type": "code",
   "execution_count": null,
   "id": "split-showcase",
   "metadata": {},
   "outputs": [],
   "source": [
    "inner = m3i"
   ]
  },
  {
   "cell_type": "code",
   "execution_count": null,
   "id": "distant-london",
   "metadata": {},
   "outputs": [],
   "source": [
    "inner.to_csv('inner_merge.csv')"
   ]
  },
  {
   "cell_type": "code",
   "execution_count": null,
   "id": "rough-mumbai",
   "metadata": {},
   "outputs": [],
   "source": []
  }
 ],
 "metadata": {
  "kernelspec": {
   "display_name": "vrb-know",
   "language": "python",
   "name": "vrb-know"
  },
  "language_info": {
   "codemirror_mode": {
    "name": "ipython",
    "version": 3
   },
   "file_extension": ".py",
   "mimetype": "text/x-python",
   "name": "python",
   "nbconvert_exporter": "python",
   "pygments_lexer": "ipython3",
   "version": "3.8.1"
  }
 },
 "nbformat": 4,
 "nbformat_minor": 5
}
