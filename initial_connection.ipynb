{
 "cells": [
  {
   "cell_type": "code",
   "execution_count": 1,
   "metadata": {},
   "outputs": [],
   "source": [
    "import os\n",
    "from dotenv import load_dotenv\n",
    "import requests\n",
    "import json"
   ]
  },
  {
   "cell_type": "code",
   "execution_count": 2,
   "metadata": {},
   "outputs": [],
   "source": [
    "# Load API Key\n",
    "load_dotenv()\n",
    "AIRDNA_TOKEN = os.getenv(\"AIRDNA_TOKEN\")"
   ]
  },
  {
   "cell_type": "code",
   "execution_count": 3,
   "metadata": {},
   "outputs": [],
   "source": [
    "# Same for All API Calls\n",
    "HEADERS = {\"access_token\": AIRDNA_TOKEN}\n",
    "HOST = \"https://api.airdna.co/client/v1/\""
   ]
  },
  {
   "cell_type": "code",
   "execution_count": 5,
   "metadata": {},
   "outputs": [],
   "source": [
    "# MARKET SEARCH\n",
    "# {{HOST}}/client/{{VERSION_CLIENT}}/market/search?\n",
    "# access_token={{CLIENT_TOKEN}}&term='https://www.airbnb.com/rooms/15807599'\n",
    "# Country\n",
    "# City\n",
    "# Neighbourhood\n",
    "# State (US Only)\n",
    "# Metropolitan Statistical Area (US Only)\n",
    "# Zip Code (US Only)"
   ]
  },
  {
   "cell_type": "code",
   "execution_count": 23,
   "metadata": {},
   "outputs": [],
   "source": [
    "# Test Connection HERE <- Search Calls are Free\n",
    "# API CALL - Market Search - Find Gatlinburg Market ID\n",
    "endpoint = \"market/search\"\n",
    "url = HOST + endpoint\n",
    "\n",
    "params = {\n",
    "    \"access_token\": AIRDNA_TOKEN,\n",
    "    \"term\": \"gatlinburg\"\n",
    "}\n",
    "\n",
    "\n",
    "response = requests.request(\"GET\", url,  \n",
    "                            params=params)"
   ]
  },
  {
   "cell_type": "code",
   "execution_count": 24,
   "metadata": {},
   "outputs": [],
   "source": [
    "# Get Market ID\n",
    "gatlinburg_id = json['items'][0]['city']['id']\n",
    "\n",
    "# Other information Available from This Response:\n",
    "# - name, country, region, state, type, zipcode"
   ]
  },
  {
   "cell_type": "code",
   "execution_count": 25,
   "metadata": {},
   "outputs": [
    {
     "data": {
      "text/plain": [
       "79116"
      ]
     },
     "execution_count": 25,
     "metadata": {},
     "output_type": "execute_result"
    }
   ],
   "source": [
    "gatlinburg_id"
   ]
  },
  {
   "cell_type": "code",
   "execution_count": 4,
   "metadata": {},
   "outputs": [],
   "source": [
    "# MARKET SUMMARY\n",
    "# {{HOST}}/client/{{VERSION}}/market/summary?\n",
    "# access_token={{CLIENT_TOKEN}}&city_id=59380&region_id=12341&currency=usd\n",
    "\n",
    "# PARAMS\n",
    "# city_id\n",
    "# region_id\n",
    "# currency"
   ]
  },
  {
   "cell_type": "code",
   "execution_count": 28,
   "metadata": {},
   "outputs": [],
   "source": [
    "# API CALL - Market Summary - Get Info on Gatlinburg\n",
    "endpoint = \"market/summary\"\n",
    "url = HOST + endpoint\n",
    "\n",
    "params = {\n",
    "    \"access_token\": AIRDNA_TOKEN,\n",
    "    \"city_id\": gatlinburg_id\n",
    "}\n",
    "\n",
    "\n",
    "response = requests.request(\"GET\", url,  \n",
    "                            params=params)"
   ]
  },
  {
   "cell_type": "code",
   "execution_count": 45,
   "metadata": {},
   "outputs": [],
   "source": [
    "json = response.json()\n",
    "data = json['data']\n",
    "#data['host_info']\n",
    "#data['rental_activity']\n",
    "#data['calendar_months']\n",
    "#data['rental_counts']"
   ]
  },
  {
   "cell_type": "code",
   "execution_count": 46,
   "metadata": {},
   "outputs": [],
   "source": [
    "import pandas as pd\n",
    "host_info = pd.DataFrame(json['data']['host_info'])\n",
    "rental_activity = pd.DataFrame(json['data']['rental_activity'])\n",
    "calendar_months = pd.DataFrame(json['data']['calendar_months'])\n",
    "rental_counts = pd.DataFrame(json['data']['rental_counts'])"
   ]
  },
  {
   "cell_type": "code",
   "execution_count": 55,
   "metadata": {},
   "outputs": [],
   "source": [
    "def render_df(df):\n",
    "    print(df.shape)\n",
    "    return df.head()"
   ]
  },
  {
   "cell_type": "code",
   "execution_count": 56,
   "metadata": {},
   "outputs": [
    {
     "name": "stdout",
     "output_type": "stream",
     "text": [
      "Host Info\n",
      "(7, 2)\n"
     ]
    },
    {
     "data": {
      "text/html": [
       "<div>\n",
       "<style scoped>\n",
       "    .dataframe tbody tr th:only-of-type {\n",
       "        vertical-align: middle;\n",
       "    }\n",
       "\n",
       "    .dataframe tbody tr th {\n",
       "        vertical-align: top;\n",
       "    }\n",
       "\n",
       "    .dataframe thead th {\n",
       "        text-align: right;\n",
       "    }\n",
       "</style>\n",
       "<table border=\"1\" class=\"dataframe\">\n",
       "  <thead>\n",
       "    <tr style=\"text-align: right;\">\n",
       "      <th></th>\n",
       "      <th>hosts</th>\n",
       "      <th>host_properties</th>\n",
       "    </tr>\n",
       "  </thead>\n",
       "  <tbody>\n",
       "    <tr>\n",
       "      <th>total_hosts</th>\n",
       "      <td>642.0</td>\n",
       "      <td>NaN</td>\n",
       "    </tr>\n",
       "    <tr>\n",
       "      <th>superhosts</th>\n",
       "      <td>343.0</td>\n",
       "      <td>NaN</td>\n",
       "    </tr>\n",
       "    <tr>\n",
       "      <th>multi_unit_hosts</th>\n",
       "      <td>197.0</td>\n",
       "      <td>NaN</td>\n",
       "    </tr>\n",
       "    <tr>\n",
       "      <th>single_unit_hosts</th>\n",
       "      <td>445.0</td>\n",
       "      <td>NaN</td>\n",
       "    </tr>\n",
       "    <tr>\n",
       "      <th>multi_host_properties</th>\n",
       "      <td>NaN</td>\n",
       "      <td>3104.0</td>\n",
       "    </tr>\n",
       "  </tbody>\n",
       "</table>\n",
       "</div>"
      ],
      "text/plain": [
       "                       hosts  host_properties\n",
       "total_hosts            642.0              NaN\n",
       "superhosts             343.0              NaN\n",
       "multi_unit_hosts       197.0              NaN\n",
       "single_unit_hosts      445.0              NaN\n",
       "multi_host_properties    NaN           3104.0"
      ]
     },
     "execution_count": 56,
     "metadata": {},
     "output_type": "execute_result"
    }
   ],
   "source": [
    "print('- Host Info -')\n",
    "render_df(host_info)"
   ]
  },
  {
   "cell_type": "code",
   "execution_count": 57,
   "metadata": {},
   "outputs": [
    {
     "name": "stdout",
     "output_type": "stream",
     "text": [
      "- Rental Activity - \n",
      "(4, 2)\n"
     ]
    },
    {
     "data": {
      "text/html": [
       "<div>\n",
       "<style scoped>\n",
       "    .dataframe tbody tr th:only-of-type {\n",
       "        vertical-align: middle;\n",
       "    }\n",
       "\n",
       "    .dataframe tbody tr th {\n",
       "        vertical-align: top;\n",
       "    }\n",
       "\n",
       "    .dataframe thead th {\n",
       "        text-align: right;\n",
       "    }\n",
       "</style>\n",
       "<table border=\"1\" class=\"dataframe\">\n",
       "  <thead>\n",
       "    <tr style=\"text-align: right;\">\n",
       "      <th></th>\n",
       "      <th>available</th>\n",
       "      <th>booked</th>\n",
       "    </tr>\n",
       "  </thead>\n",
       "  <tbody>\n",
       "    <tr>\n",
       "      <th>10-12</th>\n",
       "      <td>2054</td>\n",
       "      <td>435</td>\n",
       "    </tr>\n",
       "    <tr>\n",
       "      <th>1-3</th>\n",
       "      <td>1066</td>\n",
       "      <td>1764</td>\n",
       "    </tr>\n",
       "    <tr>\n",
       "      <th>7-9</th>\n",
       "      <td>667</td>\n",
       "      <td>1230</td>\n",
       "    </tr>\n",
       "    <tr>\n",
       "      <th>4-6</th>\n",
       "      <td>816</td>\n",
       "      <td>1174</td>\n",
       "    </tr>\n",
       "  </tbody>\n",
       "</table>\n",
       "</div>"
      ],
      "text/plain": [
       "       available  booked\n",
       "10-12       2054     435\n",
       "1-3         1066    1764\n",
       "7-9          667    1230\n",
       "4-6          816    1174"
      ]
     },
     "execution_count": 57,
     "metadata": {},
     "output_type": "execute_result"
    }
   ],
   "source": [
    "print('- Rental Activity -')\n",
    "render_df(rental_activity)"
   ]
  },
  {
   "cell_type": "code",
   "execution_count": 58,
   "metadata": {},
   "outputs": [
    {
     "name": "stdout",
     "output_type": "stream",
     "text": [
      "- Calendar Months -\n",
      "(1, 3)\n"
     ]
    },
    {
     "data": {
      "text/html": [
       "<div>\n",
       "<style scoped>\n",
       "    .dataframe tbody tr th:only-of-type {\n",
       "        vertical-align: middle;\n",
       "    }\n",
       "\n",
       "    .dataframe tbody tr th {\n",
       "        vertical-align: top;\n",
       "    }\n",
       "\n",
       "    .dataframe thead th {\n",
       "        text-align: right;\n",
       "    }\n",
       "</style>\n",
       "<table border=\"1\" class=\"dataframe\">\n",
       "  <thead>\n",
       "    <tr style=\"text-align: right;\">\n",
       "      <th></th>\n",
       "      <th>year</th>\n",
       "      <th>room_type</th>\n",
       "      <th>month</th>\n",
       "    </tr>\n",
       "  </thead>\n",
       "  <tbody>\n",
       "    <tr>\n",
       "      <th>entire_place</th>\n",
       "      <td>2020</td>\n",
       "      <td>{'occ': {'50th_percentile': 0.741935483870968}...</td>\n",
       "      <td>12</td>\n",
       "    </tr>\n",
       "  </tbody>\n",
       "</table>\n",
       "</div>"
      ],
      "text/plain": [
       "              year                                          room_type  month\n",
       "entire_place  2020  {'occ': {'50th_percentile': 0.741935483870968}...     12"
      ]
     },
     "execution_count": 58,
     "metadata": {},
     "output_type": "execute_result"
    }
   ],
   "source": [
    "print('- Calendar Months -')\n",
    "render_df(calendar_months)"
   ]
  },
  {
   "cell_type": "code",
   "execution_count": 66,
   "metadata": {},
   "outputs": [
    {
     "data": {
      "text/html": [
       "<div>\n",
       "<style scoped>\n",
       "    .dataframe tbody tr th:only-of-type {\n",
       "        vertical-align: middle;\n",
       "    }\n",
       "\n",
       "    .dataframe tbody tr th {\n",
       "        vertical-align: top;\n",
       "    }\n",
       "\n",
       "    .dataframe thead th {\n",
       "        text-align: right;\n",
       "    }\n",
       "</style>\n",
       "<table border=\"1\" class=\"dataframe\">\n",
       "  <thead>\n",
       "    <tr style=\"text-align: right;\">\n",
       "      <th></th>\n",
       "      <th>occ</th>\n",
       "      <th>adr</th>\n",
       "      <th>revenue</th>\n",
       "    </tr>\n",
       "  </thead>\n",
       "  <tbody>\n",
       "    <tr>\n",
       "      <th>50th_percentile</th>\n",
       "      <td>0.741935</td>\n",
       "      <td>263.0</td>\n",
       "      <td>4745.0</td>\n",
       "    </tr>\n",
       "  </tbody>\n",
       "</table>\n",
       "</div>"
      ],
      "text/plain": [
       "                      occ    adr  revenue\n",
       "50th_percentile  0.741935  263.0   4745.0"
      ]
     },
     "execution_count": 66,
     "metadata": {},
     "output_type": "execute_result"
    }
   ],
   "source": [
    "pd.DataFrame(json['data']['calendar_months']['room_type']['entire_place'])"
   ]
  },
  {
   "cell_type": "code",
   "execution_count": 59,
   "metadata": {},
   "outputs": [
    {
     "name": "stdout",
     "output_type": "stream",
     "text": [
      "- Rental Counts -\n",
      "(5, 2)\n"
     ]
    },
    {
     "data": {
      "text/html": [
       "<div>\n",
       "<style scoped>\n",
       "    .dataframe tbody tr th:only-of-type {\n",
       "        vertical-align: middle;\n",
       "    }\n",
       "\n",
       "    .dataframe tbody tr th {\n",
       "        vertical-align: top;\n",
       "    }\n",
       "\n",
       "    .dataframe thead th {\n",
       "        text-align: right;\n",
       "    }\n",
       "</style>\n",
       "<table border=\"1\" class=\"dataframe\">\n",
       "  <thead>\n",
       "    <tr style=\"text-align: right;\">\n",
       "      <th></th>\n",
       "      <th>counts</th>\n",
       "      <th>average</th>\n",
       "    </tr>\n",
       "  </thead>\n",
       "  <tbody>\n",
       "    <tr>\n",
       "      <th>private_room</th>\n",
       "      <td>{'0': 14.0, '1': 73.0, '2': 15.0, '3': 2.0, 'a...</td>\n",
       "      <td>NaN</td>\n",
       "    </tr>\n",
       "    <tr>\n",
       "      <th>hotel_room</th>\n",
       "      <td>{'1': 1.0, 'all': 1.0}</td>\n",
       "      <td>NaN</td>\n",
       "    </tr>\n",
       "    <tr>\n",
       "      <th>entire_place</th>\n",
       "      <td>{'0': 112.0, '1': 815.0, '2': 1213.0, '3': 643...</td>\n",
       "      <td>NaN</td>\n",
       "    </tr>\n",
       "    <tr>\n",
       "      <th>bedrooms</th>\n",
       "      <td>NaN</td>\n",
       "      <td>2.5</td>\n",
       "    </tr>\n",
       "    <tr>\n",
       "      <th>accommodates</th>\n",
       "      <td>NaN</td>\n",
       "      <td>7.6</td>\n",
       "    </tr>\n",
       "  </tbody>\n",
       "</table>\n",
       "</div>"
      ],
      "text/plain": [
       "                                                         counts  average\n",
       "private_room  {'0': 14.0, '1': 73.0, '2': 15.0, '3': 2.0, 'a...      NaN\n",
       "hotel_room                               {'1': 1.0, 'all': 1.0}      NaN\n",
       "entire_place  {'0': 112.0, '1': 815.0, '2': 1213.0, '3': 643...      NaN\n",
       "bedrooms                                                    NaN      2.5\n",
       "accommodates                                                NaN      7.6"
      ]
     },
     "execution_count": 59,
     "metadata": {},
     "output_type": "execute_result"
    }
   ],
   "source": [
    "print('- Rental Counts -')\n",
    "render_df(rental_counts)"
   ]
  },
  {
   "cell_type": "code",
   "execution_count": 63,
   "metadata": {},
   "outputs": [
    {
     "data": {
      "text/plain": [
       "{'0': 112.0,\n",
       " '1': 815.0,\n",
       " '2': 1213.0,\n",
       " '3': 643.0,\n",
       " '4': 317.0,\n",
       " '5': 344.0,\n",
       " 'all': 3444.0}"
      ]
     },
     "execution_count": 63,
     "metadata": {},
     "output_type": "execute_result"
    }
   ],
   "source": [
    "# What is this?\n",
    "json['data']['rental_counts']['counts']['entire_place']"
   ]
  },
  {
   "cell_type": "code",
   "execution_count": null,
   "metadata": {},
   "outputs": [],
   "source": [
    "rental_counts = pd.DataFrame(json['data']['rental_counts'])"
   ]
  }
 ],
 "metadata": {
  "kernelspec": {
   "display_name": "vrb-know",
   "language": "python",
   "name": "vrb-know"
  },
  "language_info": {
   "codemirror_mode": {
    "name": "ipython",
    "version": 3
   },
   "file_extension": ".py",
   "mimetype": "text/x-python",
   "name": "python",
   "nbconvert_exporter": "python",
   "pygments_lexer": "ipython3",
   "version": "3.8.1"
  }
 },
 "nbformat": 4,
 "nbformat_minor": 4
}
